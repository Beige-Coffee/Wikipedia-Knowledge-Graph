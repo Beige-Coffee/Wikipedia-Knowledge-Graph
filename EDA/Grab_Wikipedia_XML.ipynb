{
 "cells": [
  {
   "cell_type": "code",
   "execution_count": 25,
   "metadata": {
    "ExecuteTime": {
     "end_time": "2018-08-22T01:01:34.117684Z",
     "start_time": "2018-08-22T01:01:31.147175Z"
    }
   },
   "outputs": [
    {
     "name": "stderr",
     "output_type": "stream",
     "text": [
      "/Users/austin/anaconda3/lib/python3.6/importlib/_bootstrap.py:219: RuntimeWarning: numpy.dtype size changed, may indicate binary incompatibility. Expected 96, got 88\n",
      "  return f(*args, **kwds)\n",
      "/Users/austin/anaconda3/lib/python3.6/importlib/_bootstrap.py:219: RuntimeWarning: numpy.dtype size changed, may indicate binary incompatibility. Expected 96, got 88\n",
      "  return f(*args, **kwds)\n"
     ]
    }
   ],
   "source": [
    "import lxml.etree\n",
    "import urllib\n",
    "import urllib.request\n",
    "import pandas as pd\n",
    "\n",
    "title = \"Watch the Throne\"\n",
    "params = { \"format\":\"xml\", \"action\":\"query\", \"prop\":\"revisions\", \"rvprop\":\"timestamp|user|comment|content\" }\n",
    "params[\"titles\"] = \"API|%s\" % urllib.parse.quote(title.encode(\"utf8\"))\n",
    "qs = \"&\".join(\"%s=%s\" % (k, v)  for k, v in params.items())\n",
    "url = \"http://en.wikipedia.org/w/api.php?%s\" % qs\n",
    "tree = lxml.etree.parse(urllib.request.urlopen(url))\n",
    "revs = tree.xpath('//rev')\n",
    "\n",
    "#print(\"The Wikipedia text for\", title, \"is\")\n",
    "#print(revs[-1].text)"
   ]
  },
  {
   "cell_type": "code",
   "execution_count": 28,
   "metadata": {
    "ExecuteTime": {
     "end_time": "2018-08-22T01:02:38.560133Z",
     "start_time": "2018-08-22T01:02:38.527502Z"
    }
   },
   "outputs": [],
   "source": [
    "popular_dataframe = pd.read_csv('../data/popular_categories.csv')"
   ]
  },
  {
   "cell_type": "code",
   "execution_count": 38,
   "metadata": {
    "ExecuteTime": {
     "end_time": "2018-08-22T01:03:53.339237Z",
     "start_time": "2018-08-22T01:03:53.315638Z"
    }
   },
   "outputs": [],
   "source": [
    "popular_dataframe = popular_dataframe.loc[:, ['Category', 'Page']]"
   ]
  },
  {
   "cell_type": "code",
   "execution_count": null,
   "metadata": {},
   "outputs": [],
   "source": []
  }
 ],
 "metadata": {
  "kernelspec": {
   "display_name": "Python 3",
   "language": "python",
   "name": "python3"
  },
  "language_info": {
   "codemirror_mode": {
    "name": "ipython",
    "version": 3
   },
   "file_extension": ".py",
   "mimetype": "text/x-python",
   "name": "python",
   "nbconvert_exporter": "python",
   "pygments_lexer": "ipython3",
   "version": "3.6.5"
  }
 },
 "nbformat": 4,
 "nbformat_minor": 2
}
