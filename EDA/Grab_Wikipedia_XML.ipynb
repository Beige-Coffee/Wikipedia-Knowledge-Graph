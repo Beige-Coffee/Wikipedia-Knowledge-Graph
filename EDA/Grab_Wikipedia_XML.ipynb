{
 "cells": [
  {
   "cell_type": "code",
   "execution_count": 158,
   "metadata": {
    "ExecuteTime": {
     "end_time": "2018-08-23T20:23:17.366776Z",
     "start_time": "2018-08-23T20:23:16.866328Z"
    }
   },
   "outputs": [],
   "source": [
    "import lxml.etree\n",
    "import urllib\n",
    "import urllib.request\n",
    "import pandas as pd\n",
    "import pickle\n",
    "import numpy as np\n",
    "import torch\n",
    "import string\n",
    "from nltk.corpus import stopwords\n",
    "from nltk.tokenize import word_tokenize\n",
    "from ast import literal_eval\n",
    "import matplotlib.pyplot as plt\n",
    "from textstat.textstat import textstat\n",
    "from gensim.corpora import wikicorpus\n",
    "from sklearn.metrics import accuracy_score\n",
    "from sklearn.model_selection import train_test_split\n",
    "from sklearn.metrics import mean_squared_error\n",
    "import nltk\n",
    "from sklearn.feature_extraction.text import HashingVectorizer\n",
    "from collections import defaultdict\n",
    "%matplotlib inline\n",
    "# Make it pretty\n",
    "plt.style.use('ggplot')\n",
    "hash_vec_rf_model = pickle.load(open(\"../src/hash_vec2_aug23.pkl\", \"rb\" ))\n",
    "rf_model = pickle.load(open(\"../src/random_forest_aug22.pkl\", \"rb\" ))\n",
    "hash_vec_fitter = pickle.load(open(\"../src/hash_vec_fitter.pkl\", \"rb\" ))\n",
    "\n",
    "def get_wiki_xml(title):\n",
    "    title = title\n",
    "    params = { \"format\":\"xml\", \"action\":\"query\", \"prop\":\"revisions\", \"rvprop\":\"timestamp|user|comment|content\" }\n",
    "    params[\"titles\"] = \"API|%s\" % urllib.parse.quote(title.encode(\"utf8\"))\n",
    "    qs = \"&\".join(\"%s=%s\" % (k, v)  for k, v in params.items())\n",
    "    url = \"http://en.wikipedia.org/w/api.php?%s\" % qs\n",
    "    tree = lxml.etree.parse(urllib.request.urlopen(url))\n",
    "    revs = tree.xpath('//rev')\n",
    "    return (revs[-1].text)"
   ]
  },
  {
   "cell_type": "code",
   "execution_count": 159,
   "metadata": {
    "ExecuteTime": {
     "end_time": "2018-08-23T20:23:18.023123Z",
     "start_time": "2018-08-23T20:23:17.950224Z"
    }
   },
   "outputs": [],
   "source": [
    "popular_dataframe = pd.read_csv('../data/popular_categories.csv')"
   ]
  },
  {
   "cell_type": "code",
   "execution_count": 160,
   "metadata": {
    "ExecuteTime": {
     "end_time": "2018-08-23T20:23:18.369165Z",
     "start_time": "2018-08-23T20:23:18.322246Z"
    }
   },
   "outputs": [],
   "source": [
    "popular_dataframe = popular_dataframe.loc[:, ['Category', 'Page']]"
   ]
  },
  {
   "cell_type": "code",
   "execution_count": 161,
   "metadata": {
    "ExecuteTime": {
     "end_time": "2018-08-23T20:23:18.700046Z",
     "start_time": "2018-08-23T20:23:18.658092Z"
    }
   },
   "outputs": [],
   "source": [
    "import pymongo"
   ]
  },
  {
   "cell_type": "code",
   "execution_count": 162,
   "metadata": {
    "ExecuteTime": {
     "end_time": "2018-08-23T20:23:19.022758Z",
     "start_time": "2018-08-23T20:23:18.979627Z"
    }
   },
   "outputs": [],
   "source": [
    "from pymongo import MongoClient"
   ]
  },
  {
   "cell_type": "code",
   "execution_count": 163,
   "metadata": {
    "ExecuteTime": {
     "end_time": "2018-08-23T20:23:19.354289Z",
     "start_time": "2018-08-23T20:23:19.297600Z"
    }
   },
   "outputs": [],
   "source": [
    "client = MongoClient('mongodb://localhost:27017/')"
   ]
  },
  {
   "cell_type": "code",
   "execution_count": 164,
   "metadata": {
    "ExecuteTime": {
     "end_time": "2018-08-23T20:23:19.715189Z",
     "start_time": "2018-08-23T20:23:19.668705Z"
    }
   },
   "outputs": [],
   "source": [
    "wiki_db = client['popular_wiki_database']"
   ]
  },
  {
   "cell_type": "code",
   "execution_count": 165,
   "metadata": {
    "ExecuteTime": {
     "end_time": "2018-08-23T20:23:20.192714Z",
     "start_time": "2018-08-23T20:23:20.143325Z"
    }
   },
   "outputs": [],
   "source": [
    "collection = wiki_db['popular_wiki_database']"
   ]
  },
  {
   "cell_type": "markdown",
   "metadata": {},
   "source": [
    "An important note about collections (and databases) in MongoDB is that they are created lazily - none of the above commands have actually performed any operations on the MongoDB server. Collections and databases are created when the first document is inserted into them."
   ]
  },
  {
   "cell_type": "code",
   "execution_count": 166,
   "metadata": {
    "ExecuteTime": {
     "end_time": "2018-08-23T20:23:24.067703Z",
     "start_time": "2018-08-23T20:23:24.020935Z"
    }
   },
   "outputs": [],
   "source": [
    "def get_wiki_xml(title):\n",
    "    title = title\n",
    "    params = { \"format\":\"xml\", \"action\":\"query\", \"prop\":\"revisions\", \"rvprop\":\"timestamp|user|comment|content\" }\n",
    "    params[\"titles\"] = \"API|%s\" % urllib.parse.quote(title.encode(\"utf8\"))\n",
    "    qs = \"&\".join(\"%s=%s\" % (k, v)  for k, v in params.items())\n",
    "    url = \"http://en.wikipedia.org/w/api.php?%s\" % qs\n",
    "    tree = lxml.etree.parse(urllib.request.urlopen(url))\n",
    "    revs = tree.xpath('//rev')\n",
    "    return (revs[-1].text)"
   ]
  },
  {
   "cell_type": "code",
   "execution_count": 187,
   "metadata": {
    "ExecuteTime": {
     "end_time": "2018-08-23T20:33:01.036658Z",
     "start_time": "2018-08-23T20:33:00.983239Z"
    }
   },
   "outputs": [],
   "source": [
    "pop = popular_dataframe.replace('\\xa0', ' ', regex=True)\n",
    "pop.drop_duplicates(subset='Page', inplace=True)\n",
    "pop.Page = pop.Page.astype(str, inplace=True)\n",
    "pop.dropna(inplace=True)\n",
    "pop['Page'] = pop['Page'].astype(str)"
   ]
  },
  {
   "cell_type": "code",
   "execution_count": 195,
   "metadata": {
    "ExecuteTime": {
     "end_time": "2018-08-23T23:15:15.794065Z",
     "start_time": "2018-08-23T23:12:12.451553Z"
    }
   },
   "outputs": [],
   "source": [
    "for category, title in zip(pop.Category, pop.Page):\n",
    "    wiki_xml = get_wiki_xml(title)\n",
    "    post = {'category': category,\n",
    "            'title': title,\n",
    "            'text': wiki_xml}\n",
    "    posts = wiki_db.posts\n",
    "    post_id = posts.insert_one(post).inserted_id"
   ]
  },
  {
   "cell_type": "code",
   "execution_count": 197,
   "metadata": {
    "ExecuteTime": {
     "end_time": "2018-08-23T23:16:38.425176Z",
     "start_time": "2018-08-23T23:16:27.741346Z"
    }
   },
   "outputs": [],
   "source": [
    "data = pd.DataFrame(list(posts.find()))"
   ]
  },
  {
   "cell_type": "code",
   "execution_count": 201,
   "metadata": {
    "ExecuteTime": {
     "end_time": "2018-08-23T23:24:44.300798Z",
     "start_time": "2018-08-23T23:20:24.768215Z"
    }
   },
   "outputs": [],
   "source": [
    "popular_dataframe['Page'] = popular_dataframe['Page'].astype(str, inplace=True)\n",
    "popular_dataframe['text'] = popular_dataframe['Page'].apply(get_wiki_xml)"
   ]
  },
  {
   "cell_type": "code",
   "execution_count": 203,
   "metadata": {
    "ExecuteTime": {
     "end_time": "2018-08-23T23:27:33.698469Z",
     "start_time": "2018-08-23T23:27:33.183773Z"
    }
   },
   "outputs": [],
   "source": [
    "popular_dataframe = popular_dataframe[popular_dataframe['text'] != \"\"]\n",
    "popular_dataframe = popular_dataframe[popular_dataframe['text'].str.contains(\"#redirect\") == False]\n",
    "popular_dataframe = popular_dataframe[popular_dataframe['text'].str.contains(\"may refer to:\\n\\n*\") == False]\n",
    "popular_dataframe = popular_dataframe[popular_dataframe['text'].str.contains(\"can refer to:\\n\") == False]\n",
    "popular_dataframe = popular_dataframe[popular_dataframe['text'].str.contains(\"could refer to:\\n\") == False]\n",
    "popular_dataframe = popular_dataframe[popular_dataframe['text'].str.contains(\"#REDIRECT\") == False]\n",
    "popular_dataframe = popular_dataframe[popular_dataframe['text'].str.contains(\"== Matches ==\\n:\") == False]\n",
    "popular_dataframe = popular_dataframe[popular_dataframe['text'].str.contains(\"{{underconstruction\") == False]"
   ]
  },
  {
   "cell_type": "code",
   "execution_count": 86,
   "metadata": {
    "ExecuteTime": {
     "end_time": "2018-08-23T15:21:29.948868Z",
     "start_time": "2018-08-23T15:21:29.889067Z"
    }
   },
   "outputs": [],
   "source": [
    "def create_engineered_features(raw_text):\n",
    "    cleaned_text = clean_wiki_markup(raw_text)\n",
    "    return {\n",
    "        'cleaned_text': cleaned_text,\n",
    "        'num_web_citations': find_num_web_citations(raw_text),\n",
    "        'num_book_citations': find_num_book_citations(raw_text),\n",
    "        'num_news_citations': find_num_news_citations(raw_text),\n",
    "        'num_quotes': find_num_quotes(raw_text),\n",
    "        'num_h3_headers': find_num_h3_headers(raw_text),\n",
    "        'num_internal_links': find_num_internal_links(raw_text),\n",
    "        'num_h2_headers': find_num_h2_headers(raw_text),\n",
    "        'has_infobox': find_infobox(raw_text),\n",
    "        'num_categories': find_num_categories(raw_text),\n",
    "        'num_images': find_num_images(raw_text),\n",
    "        'num_ISBN': find_num_ISBN(raw_text),\n",
    "        'num_references': find_num_references(raw_text),\n",
    "        'article_length': find_article_length(raw_text),\n",
    "        'num_difficult_words': find_num_difficult_words(cleaned_text),\n",
    "        'dale_chall_readability_score': find_dale_chall_readability_score(cleaned_text),\n",
    "        'readability_index': find_automated_readability_index(cleaned_text),\n",
    "        'linsear_write_formula': find_linsear_write_formula(cleaned_text),\n",
    "        'gunning_fog_index': find_gunning_fog_index(cleaned_text),\n",
    "        'smog_index': find_smog_index(cleaned_text),\n",
    "        'syllable_count': find_syllable_count(cleaned_text),\n",
    "        'lexicon_count': find_lexicon_count(cleaned_text),\n",
    "        'sentence_count': find_sentence_count(cleaned_text),\n",
    "        'num_footnotes': find_num_footnotes(raw_text),\n",
    "        'num_note_tags': find_num_note_tags(raw_text),\n",
    "        'num_underlines': find_num_underlines(raw_text),\n",
    "        'num_journal_citations': find_num_journal_citations(raw_text),\n",
    "        'num_about_links': find_num_about_links(raw_text),\n",
    "        'num_wikitables': find_num_wikitables(raw_text)}\n",
    "\n",
    "def get_engineered_dataframe_no_label(raw_dataframe):\n",
    "    engineered_df = pd.DataFrame(raw_dataframe['text'].apply(create_engineered_features).tolist())\n",
    "    return engineered_df"
   ]
  },
  {
   "cell_type": "code",
   "execution_count": 204,
   "metadata": {
    "ExecuteTime": {
     "end_time": "2018-08-23T23:34:29.135729Z",
     "start_time": "2018-08-23T23:28:35.400526Z"
    }
   },
   "outputs": [],
   "source": [
    "popular_dataframe['cleaned_text'] = popular_dataframe['text'].apply(clean_wiki_markup)\n",
    "popular_dataframe['num_web_citations'] = popular_dataframe['text'].apply(find_num_web_citations)\n",
    "popular_dataframe['num_book_citations'] = popular_dataframe['text'].apply(find_num_book_citations)\n",
    "popular_dataframe['num_news_citations'] = popular_dataframe['text'].apply(find_num_news_citations)\n",
    "popular_dataframe['num_quotes'] = popular_dataframe['text'].apply(find_num_quotes)\n",
    "popular_dataframe['num_h3_headers'] = popular_dataframe['text'].apply(find_num_h3_headers)\n",
    "popular_dataframe['num_internal_links'] = popular_dataframe['text'].apply(find_num_internal_links)\n",
    "popular_dataframe['num_h2_headers'] = popular_dataframe['text'].apply(find_num_h2_headers)\n",
    "popular_dataframe['has_infobox'] = popular_dataframe['text'].str.contains('{{Infobox').astype(int)\n",
    "popular_dataframe['num_categories'] = popular_dataframe['text'].apply(find_num_categories)\n",
    "popular_dataframe['num_images'] = popular_dataframe['text'].apply(find_num_images)\n",
    "popular_dataframe['num_ISBN'] = popular_dataframe['text'].apply(find_num_ISBN)\n",
    "popular_dataframe['num_references'] = popular_dataframe['text'].apply(find_num_references)\n",
    "popular_dataframe['article_length'] = popular_dataframe['text'].apply(find_article_length)\n",
    "popular_dataframe['num_difficult_words'] = popular_dataframe['cleaned_text'].apply(find_num_difficult_words)\n",
    "popular_dataframe['dale_chall_readability_score'] = popular_dataframe['cleaned_text'].apply(find_dale_chall_readability_score)\n",
    "popular_dataframe['readability_index'] = popular_dataframe['cleaned_text'].apply(find_automated_readability_index)\n",
    "popular_dataframe['linsear_write_formula'] = popular_dataframe['cleaned_text'].apply(find_linsear_write_formula)\n",
    "popular_dataframe['gunning_fog_index'] = popular_dataframe['cleaned_text'].apply(find_gunning_fog_index)\n",
    "popular_dataframe['smog_index'] = popular_dataframe['cleaned_text'].apply(find_smog_index)\n",
    "popular_dataframe['syllable_count'] = popular_dataframe['cleaned_text'].apply(find_syllable_count)\n",
    "popular_dataframe['lexicon_count'] = popular_dataframe['cleaned_text'].apply(find_lexicon_count)\n",
    "popular_dataframe['sentence_count'] = popular_dataframe['cleaned_text'].apply(find_sentence_count)\n",
    "popular_dataframe['num_footnotes'] = popular_dataframe['text'].apply(find_num_footnotes)\n",
    "popular_dataframe['num_note_tags'] = popular_dataframe['text'].apply(find_num_note_tags)\n",
    "popular_dataframe['num_underlines'] = popular_dataframe['text'].apply(find_num_underlines)\n",
    "popular_dataframe['num_journal_citations'] = popular_dataframe['text'].apply(find_num_journal_citations)\n",
    "popular_dataframe['num_about_links'] = popular_dataframe['text'].apply(find_num_about_links)\n",
    "popular_dataframe['num_wikitables'] = popular_dataframe['text'].apply(find_num_wikitables)"
   ]
  },
  {
   "cell_type": "code",
   "execution_count": 67,
   "metadata": {
    "ExecuteTime": {
     "end_time": "2018-08-22T23:38:54.387557Z",
     "start_time": "2018-08-22T23:38:54.264981Z"
    }
   },
   "outputs": [],
   "source": [
    "def clean_wiki_markup(raw_article):\n",
    "    semi_cleaned_article = wikicorpus.filter_wiki(raw_article)\n",
    "    cleaned_article = semi_cleaned_article.replace(\"\\n\", \"\").replace(\"\\'\", \"\").replace(\"()\", \"\").replace(\"=\", \"\").replace(\"|alt\",\"\").replace(\"\\xa0\",\"\")\n",
    "    return cleaned_article\n",
    "def find_num_categories(raw_article):\n",
    "    return raw_article.count(\"[[Category:\")\n",
    "def find_num_images(raw_article):\n",
    "    return raw_article.count(\"[[Image:\")\n",
    "def find_num_ISBN(raw_article):\n",
    "    return raw_article.count(\"ISBN\")\n",
    "def find_num_references(raw_article):\n",
    "    return raw_article.count(\"</ref>\")\n",
    "def find_article_length(cleaned_article):\n",
    "    return len(cleaned_article)\n",
    "def find_num_difficult_words(cleaned_article):\n",
    "    return textstat.difficult_words(cleaned_article)\n",
    "def find_dale_chall_readability_score(cleaned_article):\n",
    "    return textstat.dale_chall_readability_score(cleaned_article)\n",
    "def find_automated_readability_index(cleaned_article):\n",
    "    return textstat.automated_readability_index(cleaned_article)\n",
    "def find_linsear_write_formula(cleaned_article):\n",
    "    return textstat.linsear_write_formula(cleaned_article)\n",
    "def find_gunning_fog_index(cleaned_article):\n",
    "    return textstat.gunning_fog(cleaned_article)\n",
    "def find_syllable_count(cleaned_article):\n",
    "    return textstat.syllable_count(cleaned_article)\n",
    "def find_lexicon_count(cleaned_article):\n",
    "    return textstat.lexicon_count(cleaned_article, removepunct=True)\n",
    "def find_sentence_count(cleaned_article):\n",
    "    return textstat.sentence_count(cleaned_article)\n",
    "def find_smog_index(cleaned_article):\n",
    "    return textstat.smog_index(cleaned_article)\n",
    "def find_num_web_citations(raw_article):\n",
    "    return raw_article.count(\"{{cite web\")\n",
    "def find_num_book_citations(raw_article):\n",
    "    return raw_article.count(\"{{cite book\")\n",
    "def find_num_news_citations(raw_article):\n",
    "    return raw_article.count(\"{{cite news\")\n",
    "def find_num_quotes(raw_article):\n",
    "    return raw_article.count(\"quote=\")\n",
    "def find_num_h3_headers(raw_article):\n",
    "    return raw_article.count(\"\\n===\")\n",
    "def find_num_internal_links(raw_article):\n",
    "    return (raw_article.count(\"[[\") // 2)\n",
    "def find_num_h2_headers(raw_article):\n",
    "    return (raw_article.count(\"\\n==\") - find_num_h3_headers(raw_article))\n",
    "def find_num_note_tags(raw_article):\n",
    "    return raw_article.count(\"{{note\")\n",
    "def find_num_bullet_points(raw_article):\n",
    "    return (raw_article.count(\"*\"))\n",
    "def find_num_underlines(raw_article):\n",
    "    return (raw_article.count(\"<u>\"))\n",
    "def find_num_journal_citations(raw_article):\n",
    "    return (raw_article.count(\"{{cite journal\"))\n",
    "def find_num_about_links(raw_article):\n",
    "    return (raw_article.count(\"{{About\"))\n",
    "def find_num_wikitables(raw_article):\n",
    "    return (raw_article.count('class=\"wikitable'))\n",
    "def find_num_footnotes(raw_article):\n",
    "    return raw_article.count(\"{{\")\n",
    "def find_infobox(raw_article):\n",
    "    return int('{{Infobox' in raw_article)"
   ]
  },
  {
   "cell_type": "code",
   "execution_count": 94,
   "metadata": {
    "ExecuteTime": {
     "end_time": "2018-08-23T18:58:27.793328Z",
     "start_time": "2018-08-23T18:58:27.659423Z"
    }
   },
   "outputs": [
    {
     "data": {
      "text/plain": [
       "(2970, 32)"
      ]
     },
     "execution_count": 94,
     "metadata": {},
     "output_type": "execute_result"
    }
   ],
   "source": [
    "popular_dataframe.dropna(inplace=True)\n",
    "popular_dataframe.shape"
   ]
  },
  {
   "cell_type": "markdown",
   "metadata": {},
   "source": [
    "# Make backup dataframe"
   ]
  },
  {
   "cell_type": "code",
   "execution_count": 91,
   "metadata": {
    "ExecuteTime": {
     "end_time": "2018-08-23T17:51:42.859014Z",
     "start_time": "2018-08-23T17:51:42.728011Z"
    }
   },
   "outputs": [],
   "source": [
    "backup_data = data"
   ]
  },
  {
   "cell_type": "markdown",
   "metadata": {},
   "source": [
    "# Tranform data for Random Forest"
   ]
  },
  {
   "cell_type": "code",
   "execution_count": 205,
   "metadata": {
    "ExecuteTime": {
     "end_time": "2018-08-23T23:37:56.592807Z",
     "start_time": "2018-08-23T23:37:56.548498Z"
    }
   },
   "outputs": [],
   "source": [
    "rf_X = popular_dataframe.loc[:, ['has_infobox','num_categories','num_images','num_ISBN','num_references','article_length',\n",
    "                'num_difficult_words','dale_chall_readability_score','readability_index','linsear_write_formula',\n",
    "                'gunning_fog_index', 'num_web_citations','num_book_citations','num_news_citations',\n",
    "                'num_quotes','num_h3_headers','num_internal_links', 'num_h2_headers', 'syllable_count',\n",
    "                'lexicon_count', 'sentence_count','num_footnotes', 'num_note_tags', 'num_underlines', 'num_journal_citations',\n",
    "                'num_about_links', 'num_wikitables', 'smog_index']]"
   ]
  },
  {
   "cell_type": "code",
   "execution_count": 206,
   "metadata": {
    "ExecuteTime": {
     "end_time": "2018-08-23T23:38:08.516007Z",
     "start_time": "2018-08-23T23:38:07.753422Z"
    }
   },
   "outputs": [],
   "source": [
    "rf_preds = rf_model.predict(rf_X)"
   ]
  },
  {
   "cell_type": "code",
   "execution_count": 207,
   "metadata": {
    "ExecuteTime": {
     "end_time": "2018-08-23T23:38:52.790086Z",
     "start_time": "2018-08-23T23:38:52.743501Z"
    }
   },
   "outputs": [],
   "source": [
    "popular_dataframe['random_forest_preds'] = rf_preds"
   ]
  },
  {
   "cell_type": "code",
   "execution_count": 213,
   "metadata": {
    "ExecuteTime": {
     "end_time": "2018-08-23T23:39:53.996467Z",
     "start_time": "2018-08-23T23:39:53.947257Z"
    }
   },
   "outputs": [],
   "source": [
    "category_df = popular_dataframe.loc[:, ['Category','random_forest_preds']]"
   ]
  },
  {
   "cell_type": "code",
   "execution_count": 218,
   "metadata": {
    "ExecuteTime": {
     "end_time": "2018-08-24T00:33:14.923752Z",
     "start_time": "2018-08-24T00:33:14.883154Z"
    }
   },
   "outputs": [],
   "source": [
    "categories = category_df.groupby(by='Category').mean()"
   ]
  },
  {
   "cell_type": "code",
   "execution_count": 222,
   "metadata": {
    "ExecuteTime": {
     "end_time": "2018-08-24T00:34:35.244711Z",
     "start_time": "2018-08-24T00:34:35.196817Z"
    }
   },
   "outputs": [],
   "source": [
    "third_mil_pages = popular_dataframe[popular_dataframe['Category'] == '3rd-millennium people']"
   ]
  },
  {
   "cell_type": "code",
   "execution_count": 224,
   "metadata": {
    "ExecuteTime": {
     "end_time": "2018-08-24T00:35:10.684130Z",
     "start_time": "2018-08-24T00:35:10.638657Z"
    }
   },
   "outputs": [],
   "source": [
    "third_mil_pages = third_mil_pages.loc[:, ['Page','random_forest_preds']]"
   ]
  },
  {
   "cell_type": "code",
   "execution_count": 228,
   "metadata": {
    "ExecuteTime": {
     "end_time": "2018-08-24T00:36:27.074146Z",
     "start_time": "2018-08-24T00:36:27.032251Z"
    }
   },
   "outputs": [],
   "source": [
    "third_mil_pages['random_forest_preds'] = third_mil_pages['random_forest_preds'].apply(r)"
   ]
  },
  {
   "cell_type": "code",
   "execution_count": 227,
   "metadata": {
    "ExecuteTime": {
     "end_time": "2018-08-24T00:36:22.799233Z",
     "start_time": "2018-08-24T00:36:22.757850Z"
    }
   },
   "outputs": [],
   "source": [
    "def r(num):\n",
    "    return round(num,2)"
   ]
  },
  {
   "cell_type": "code",
   "execution_count": 229,
   "metadata": {
    "ExecuteTime": {
     "end_time": "2018-08-24T00:36:31.560401Z",
     "start_time": "2018-08-24T00:36:31.505753Z"
    }
   },
   "outputs": [
    {
     "data": {
      "text/html": [
       "<div>\n",
       "<style scoped>\n",
       "    .dataframe tbody tr th:only-of-type {\n",
       "        vertical-align: middle;\n",
       "    }\n",
       "\n",
       "    .dataframe tbody tr th {\n",
       "        vertical-align: top;\n",
       "    }\n",
       "\n",
       "    .dataframe thead th {\n",
       "        text-align: right;\n",
       "    }\n",
       "</style>\n",
       "<table border=\"1\" class=\"dataframe\">\n",
       "  <thead>\n",
       "    <tr style=\"text-align: right;\">\n",
       "      <th></th>\n",
       "      <th>Page</th>\n",
       "      <th>random_forest_preds</th>\n",
       "    </tr>\n",
       "  </thead>\n",
       "  <tbody>\n",
       "    <tr>\n",
       "      <th>384</th>\n",
       "      <td>Willow Smith</td>\n",
       "      <td>3.13</td>\n",
       "    </tr>\n",
       "    <tr>\n",
       "      <th>385</th>\n",
       "      <td>Maddie Ziegler</td>\n",
       "      <td>4.06</td>\n",
       "    </tr>\n",
       "    <tr>\n",
       "      <th>386</th>\n",
       "      <td>Millie Bobby Brown</td>\n",
       "      <td>3.07</td>\n",
       "    </tr>\n",
       "    <tr>\n",
       "      <th>387</th>\n",
       "      <td>Noah Cyrus</td>\n",
       "      <td>3.12</td>\n",
       "    </tr>\n",
       "    <tr>\n",
       "      <th>388</th>\n",
       "      <td>Prince George of Cambridge</td>\n",
       "      <td>3.05</td>\n",
       "    </tr>\n",
       "    <tr>\n",
       "      <th>389</th>\n",
       "      <td>Jackie Evancho</td>\n",
       "      <td>4.20</td>\n",
       "    </tr>\n",
       "    <tr>\n",
       "      <th>390</th>\n",
       "      <td>Lady Louise Windsor</td>\n",
       "      <td>1.83</td>\n",
       "    </tr>\n",
       "    <tr>\n",
       "      <th>391</th>\n",
       "      <td>Mackenzie Foy</td>\n",
       "      <td>2.78</td>\n",
       "    </tr>\n",
       "    <tr>\n",
       "      <th>392</th>\n",
       "      <td>Gaten Matarazzo</td>\n",
       "      <td>1.52</td>\n",
       "    </tr>\n",
       "    <tr>\n",
       "      <th>393</th>\n",
       "      <td>Finn Wolfhard</td>\n",
       "      <td>2.15</td>\n",
       "    </tr>\n",
       "    <tr>\n",
       "      <th>394</th>\n",
       "      <td>Princess Charlotte of Cambridge</td>\n",
       "      <td>2.01</td>\n",
       "    </tr>\n",
       "    <tr>\n",
       "      <th>395</th>\n",
       "      <td>James, Viscount Severn</td>\n",
       "      <td>1.70</td>\n",
       "    </tr>\n",
       "    <tr>\n",
       "      <th>396</th>\n",
       "      <td>Rowan Blanchard</td>\n",
       "      <td>1.69</td>\n",
       "    </tr>\n",
       "    <tr>\n",
       "      <th>397</th>\n",
       "      <td>Lil Pump</td>\n",
       "      <td>2.97</td>\n",
       "    </tr>\n",
       "    <tr>\n",
       "      <th>399</th>\n",
       "      <td>Skai Jackson</td>\n",
       "      <td>1.48</td>\n",
       "    </tr>\n",
       "    <tr>\n",
       "      <th>400</th>\n",
       "      <td>Jacob Tremblay</td>\n",
       "      <td>1.63</td>\n",
       "    </tr>\n",
       "    <tr>\n",
       "      <th>401</th>\n",
       "      <td>Quvenzhané Wallis</td>\n",
       "      <td>3.07</td>\n",
       "    </tr>\n",
       "    <tr>\n",
       "      <th>402</th>\n",
       "      <td>Madison De La Garza</td>\n",
       "      <td>1.80</td>\n",
       "    </tr>\n",
       "    <tr>\n",
       "      <th>403</th>\n",
       "      <td>Jazz Jennings</td>\n",
       "      <td>3.01</td>\n",
       "    </tr>\n",
       "    <tr>\n",
       "      <th>404</th>\n",
       "      <td>Dafne Keen</td>\n",
       "      <td>1.69</td>\n",
       "    </tr>\n",
       "    <tr>\n",
       "      <th>405</th>\n",
       "      <td>LaMelo Ball</td>\n",
       "      <td>3.72</td>\n",
       "    </tr>\n",
       "    <tr>\n",
       "      <th>406</th>\n",
       "      <td>Yara Shahidi</td>\n",
       "      <td>1.93</td>\n",
       "    </tr>\n",
       "    <tr>\n",
       "      <th>407</th>\n",
       "      <td>Connie Talbot</td>\n",
       "      <td>3.95</td>\n",
       "    </tr>\n",
       "    <tr>\n",
       "      <th>408</th>\n",
       "      <td>Zaira Wasim</td>\n",
       "      <td>2.55</td>\n",
       "    </tr>\n",
       "    <tr>\n",
       "      <th>409</th>\n",
       "      <td>Willow Shields</td>\n",
       "      <td>1.53</td>\n",
       "    </tr>\n",
       "    <tr>\n",
       "      <th>410</th>\n",
       "      <td>Harshaali Malhotra</td>\n",
       "      <td>1.60</td>\n",
       "    </tr>\n",
       "    <tr>\n",
       "      <th>411</th>\n",
       "      <td>Laurie Hernandez</td>\n",
       "      <td>2.55</td>\n",
       "    </tr>\n",
       "    <tr>\n",
       "      <th>412</th>\n",
       "      <td>Frankie Jonas</td>\n",
       "      <td>1.73</td>\n",
       "    </tr>\n",
       "    <tr>\n",
       "      <th>413</th>\n",
       "      <td>Jaeden Lieberher</td>\n",
       "      <td>1.82</td>\n",
       "    </tr>\n",
       "    <tr>\n",
       "      <th>414</th>\n",
       "      <td>Ty Simpkins</td>\n",
       "      <td>2.50</td>\n",
       "    </tr>\n",
       "    <tr>\n",
       "      <th>415</th>\n",
       "      <td>David Mazouz</td>\n",
       "      <td>1.75</td>\n",
       "    </tr>\n",
       "  </tbody>\n",
       "</table>\n",
       "</div>"
      ],
      "text/plain": [
       "                                Page  random_forest_preds\n",
       "384                     Willow Smith                 3.13\n",
       "385                   Maddie Ziegler                 4.06\n",
       "386               Millie Bobby Brown                 3.07\n",
       "387                       Noah Cyrus                 3.12\n",
       "388       Prince George of Cambridge                 3.05\n",
       "389                   Jackie Evancho                 4.20\n",
       "390              Lady Louise Windsor                 1.83\n",
       "391                    Mackenzie Foy                 2.78\n",
       "392                  Gaten Matarazzo                 1.52\n",
       "393                    Finn Wolfhard                 2.15\n",
       "394  Princess Charlotte of Cambridge                 2.01\n",
       "395           James, Viscount Severn                 1.70\n",
       "396                  Rowan Blanchard                 1.69\n",
       "397                         Lil Pump                 2.97\n",
       "399                     Skai Jackson                 1.48\n",
       "400                   Jacob Tremblay                 1.63\n",
       "401                Quvenzhané Wallis                 3.07\n",
       "402              Madison De La Garza                 1.80\n",
       "403                    Jazz Jennings                 3.01\n",
       "404                       Dafne Keen                 1.69\n",
       "405                      LaMelo Ball                 3.72\n",
       "406                     Yara Shahidi                 1.93\n",
       "407                    Connie Talbot                 3.95\n",
       "408                      Zaira Wasim                 2.55\n",
       "409                   Willow Shields                 1.53\n",
       "410               Harshaali Malhotra                 1.60\n",
       "411                 Laurie Hernandez                 2.55\n",
       "412                    Frankie Jonas                 1.73\n",
       "413                 Jaeden Lieberher                 1.82\n",
       "414                      Ty Simpkins                 2.50\n",
       "415                     David Mazouz                 1.75"
      ]
     },
     "execution_count": 229,
     "metadata": {},
     "output_type": "execute_result"
    }
   ],
   "source": [
    "third_mil_pages"
   ]
  },
  {
   "cell_type": "code",
   "execution_count": 230,
   "metadata": {
    "ExecuteTime": {
     "end_time": "2018-08-24T19:29:26.397320Z",
     "start_time": "2018-08-24T19:29:25.884992Z"
    }
   },
   "outputs": [],
   "source": [
    "def get_wiki_category(title):\n",
    "    title = title\n",
    "    params = { \"format\":\"xml\", \"action\":\"query\", \"prop\":\"revisions\", \"rvprop\":\"timestamp|user|comment|content\" }\n",
    "    params[\"titles\"] = \"API|%s\" % urllib.parse.quote(title.encode(\"utf8\"))\n",
    "    qs = \"&\".join(\"%s=%s\" % (k, v)  for k, v in params.items())\n",
    "    url = \"http://en.wikipedia.org/w/api.php?%s\" % qs\n",
    "    tree = lxml.etree.parse(urllib.request.urlopen(url))\n",
    "    revs = tree.xpath('//rev')\n",
    "    return (revs[-1].text)"
   ]
  },
  {
   "cell_type": "code",
   "execution_count": null,
   "metadata": {},
   "outputs": [],
   "source": []
  },
  {
   "cell_type": "code",
   "execution_count": 248,
   "metadata": {
    "ExecuteTime": {
     "end_time": "2018-08-24T19:38:48.590279Z",
     "start_time": "2018-08-24T19:38:48.099982Z"
    }
   },
   "outputs": [],
   "source": []
  },
  {
   "cell_type": "code",
   "execution_count": 249,
   "metadata": {
    "ExecuteTime": {
     "end_time": "2018-08-24T19:38:49.424072Z",
     "start_time": "2018-08-24T19:38:49.377822Z"
    }
   },
   "outputs": [
    {
     "data": {
      "text/plain": [
       "'http://en.wikipedia.org/w/api.php?format=xml&action=query&prop=revisions&rvprop=timestamp|user|comment|content&titles=API|Jazz'"
      ]
     },
     "execution_count": 249,
     "metadata": {},
     "output_type": "execute_result"
    }
   ],
   "source": []
  },
  {
   "cell_type": "code",
   "execution_count": null,
   "metadata": {},
   "outputs": [],
   "source": []
  }
 ],
 "metadata": {
  "kernelspec": {
   "display_name": "Python 3",
   "language": "python",
   "name": "python3"
  },
  "language_info": {
   "codemirror_mode": {
    "name": "ipython",
    "version": 3
   },
   "file_extension": ".py",
   "mimetype": "text/x-python",
   "name": "python",
   "nbconvert_exporter": "python",
   "pygments_lexer": "ipython3",
   "version": "3.6.5"
  }
 },
 "nbformat": 4,
 "nbformat_minor": 2
}
