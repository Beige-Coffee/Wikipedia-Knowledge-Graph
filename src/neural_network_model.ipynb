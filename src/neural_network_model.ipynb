{
 "cells": [
  {
   "cell_type": "code",
   "execution_count": 527,
   "metadata": {
    "ExecuteTime": {
     "end_time": "2018-08-22T20:23:25.338387Z",
     "start_time": "2018-08-22T20:23:24.694859Z"
    }
   },
   "outputs": [],
   "source": [
    "import pandas as pd\n",
    "import numpy as np\n",
    "import torch\n",
    "import string\n",
    "from nltk.corpus import stopwords\n",
    "from nltk.tokenize import word_tokenize\n",
    "from ast import literal_eval\n",
    "import matplotlib.pyplot as plt\n",
    "from textstat.textstat import textstat\n",
    "from gensim.corpora import wikicorpus\n",
    "from sklearn.metrics import accuracy_score\n",
    "from sklearn.model_selection import train_test_split\n",
    "import nltk\n",
    "from collections import defaultdict\n",
    "%matplotlib inline\n",
    "# Make it pretty\n",
    "plt.style.use('ggplot')"
   ]
  },
  {
   "cell_type": "code",
   "execution_count": 528,
   "metadata": {
    "ExecuteTime": {
     "end_time": "2018-08-22T20:23:44.530518Z",
     "start_time": "2018-08-22T20:23:25.402490Z"
    }
   },
   "outputs": [],
   "source": [
    "file = '../data/enwiki.observations.text_wp10.30k.tsv'\n",
    "raw_data = pd.read_csv(file, sep='\\t', header=None)\n",
    "data = pd.DataFrame(data=list(raw_data[0].apply(literal_eval)))"
   ]
  },
  {
   "cell_type": "code",
   "execution_count": 529,
   "metadata": {
    "ExecuteTime": {
     "end_time": "2018-08-22T20:23:48.850752Z",
     "start_time": "2018-08-22T20:23:44.532499Z"
    }
   },
   "outputs": [],
   "source": [
    "data = data[data['text'] != \"\"]\n",
    "data = data[data['text'].str.contains(\"#redirect\") == False]\n",
    "data = data[data['text'].str.contains(\"may refer to:\\n\\n*\") == False]\n",
    "data = data[data['text'].str.contains(\"can refer to:\\n\") == False]\n",
    "data = data[data['text'].str.contains(\"could refer to:\\n\") == False]\n",
    "data = data[data['text'].str.contains(\"#REDIRECT\") == False]\n",
    "data = data[data['text'].str.contains(\"== Matches ==\\n:\") == False]\n",
    "data = data[data['text'].str.contains(\"{{underconstruction\") == False]"
   ]
  },
  {
   "cell_type": "code",
   "execution_count": 530,
   "metadata": {
    "ExecuteTime": {
     "end_time": "2018-08-22T20:23:49.575314Z",
     "start_time": "2018-08-22T20:23:48.853756Z"
    }
   },
   "outputs": [],
   "source": [
    "classes = {\"stub\": 0, \"start\": 1, \"c\": 2, \"b\": 3, \"ga\": 4, \"fa\": 5} \n",
    "data[\"label\"] = data['label'].map(classes)"
   ]
  },
  {
   "cell_type": "code",
   "execution_count": 472,
   "metadata": {
    "ExecuteTime": {
     "end_time": "2018-08-22T19:43:22.357854Z",
     "start_time": "2018-08-22T19:43:22.312518Z"
    }
   },
   "outputs": [],
   "source": [
    "def truncated_5000_char_article(raw_article):\n",
    "    return(raw_article[:10000])\n",
    "#data['text'] = data['text'].apply(truncated_5000_char_article)"
   ]
  },
  {
   "cell_type": "code",
   "execution_count": 531,
   "metadata": {
    "ExecuteTime": {
     "end_time": "2018-08-22T20:23:49.656468Z",
     "start_time": "2018-08-22T20:23:49.577632Z"
    }
   },
   "outputs": [],
   "source": [
    "data = data[:15000].copy()"
   ]
  },
  {
   "cell_type": "markdown",
   "metadata": {
    "ExecuteTime": {
     "end_time": "2018-08-21T16:18:14.753281Z",
     "start_time": "2018-08-21T16:18:14.691697Z"
    }
   },
   "source": [
    "## Declare characters of interest and # of letters"
   ]
  },
  {
   "cell_type": "code",
   "execution_count": 532,
   "metadata": {
    "ExecuteTime": {
     "end_time": "2018-08-22T20:23:50.495112Z",
     "start_time": "2018-08-22T20:23:49.658398Z"
    }
   },
   "outputs": [],
   "source": [
    "from __future__ import unicode_literals, print_function, division\n",
    "from io import open\n",
    "import glob\n",
    "import os\n",
    "\n",
    "import unicodedata\n",
    "import string\n",
    "\n",
    "all_chars = string.ascii_letters + string.punctuation + ' '\n",
    "n_chars = len(all_chars)\n",
    "\n",
    "# Turn a Unicode string to plain ASCII, thanks to http://stackoverflow.com/a/518232/2809427\n",
    "def unicodeToAscii(s):\n",
    "    return ''.join(\n",
    "        c for c in unicodedata.normalize('NFD', s)\n",
    "        if unicodedata.category(c) != 'Mn'\n",
    "        and c in all_letters\n",
    "    )\n",
    "\n",
    "def create_labeled_docs_dict(database, empty_default_dict):\n",
    "    database = dict(database.T)\n",
    "    for i in database.items():\n",
    "        label = i[1][0]\n",
    "        text = i[1][3]\n",
    "        empty_default_dict[label].append(text)\n",
    "    return empty_default_dict\n",
    "\n",
    "# Build the category_lines dictionary, a list of names per language\n",
    "all_labels = [0,1,2,3,4,5]\n",
    "label_docs = defaultdict(list)\n",
    "label_docs = create_labeled_docs_dict(data, label_docs)"
   ]
  },
  {
   "cell_type": "markdown",
   "metadata": {
    "ExecuteTime": {
     "end_time": "2018-08-21T19:11:44.356711Z",
     "start_time": "2018-08-21T19:11:44.294346Z"
    }
   },
   "source": [
    "## Turning characters into vectors\n",
    "To represent a single letter, we use a “one-hot vector” of size ```<1 x n_letters>```. A one-hot vector is filled with 0s except for a 1 at index of the current letter. To make a word we join a bunch of those into a 2D matrix ```<line_length x 1 x n_letters>```."
   ]
  },
  {
   "cell_type": "code",
   "execution_count": 533,
   "metadata": {
    "ExecuteTime": {
     "end_time": "2018-08-22T20:23:50.535196Z",
     "start_time": "2018-08-22T20:23:50.497457Z"
    }
   },
   "outputs": [],
   "source": [
    "import torch\n",
    "\n",
    "# Find letter index from all_letters, e.g. \"a\" = 0\n",
    "def find_char_index(char):\n",
    "    return all_chars.find(char)\n",
    "\n",
    "# Just for demonstration, turn a letter into a <1 x n_letters> Tensor\n",
    "def char_to_tensor(char):\n",
    "    tensor = torch.zeros(1, n_chars)\n",
    "    tensor[0][find_char_index(char)] = 1\n",
    "    return tensor\n",
    "\n",
    "# Turn a line into a <line_length x 1 x n_letters>,\n",
    "# or an array of one-hot letter vectors\n",
    "def doc_to_tensor(word):\n",
    "    tensor = torch.zeros(len(word), 1, n_chars)\n",
    "    for idx, char in enumerate(word):\n",
    "        tensor[idx][0][find_char_index(char)] = 1\n",
    "    return tensor"
   ]
  },
  {
   "cell_type": "markdown",
   "metadata": {
    "ExecuteTime": {
     "end_time": "2018-08-21T19:23:17.260535Z",
     "start_time": "2018-08-21T19:23:17.210560Z"
    }
   },
   "source": [
    "# Building RNN"
   ]
  },
  {
   "cell_type": "code",
   "execution_count": 534,
   "metadata": {
    "ExecuteTime": {
     "end_time": "2018-08-22T20:23:50.580312Z",
     "start_time": "2018-08-22T20:23:50.537752Z"
    }
   },
   "outputs": [],
   "source": [
    "import torch.nn as nn\n",
    "\n",
    "class RNN(nn.Module):\n",
    "    def __init__(self, input_size, hidden_size, output_size):\n",
    "        super(RNN, self).__init__()\n",
    "\n",
    "        self.hidden_size = hidden_size\n",
    "\n",
    "        self.i2h = nn.Linear(input_size + hidden_size, hidden_size)\n",
    "        self.i2o = nn.Linear(input_size + hidden_size, output_size)\n",
    "        self.softmax = nn.LogSoftmax(dim=1)\n",
    "\n",
    "    def forward(self, input, hidden):\n",
    "        combined = torch.cat((input, hidden), 1)\n",
    "        hidden = self.i2h(combined)\n",
    "        output = self.i2o(combined)\n",
    "        output = self.softmax(output)\n",
    "        return output, hidden\n",
    "\n",
    "    def initHidden(self):\n",
    "        return torch.zeros(1, self.hidden_size)\n",
    "\n",
    "n_hidden = 128\n",
    "n_labels = 6\n",
    "\n",
    "rnn = RNN(n_chars, n_hidden, n_labels)"
   ]
  },
  {
   "cell_type": "markdown",
   "metadata": {
    "ExecuteTime": {
     "end_time": "2018-08-21T19:20:05.148553Z",
     "start_time": "2018-08-21T19:20:05.089973Z"
    }
   },
   "source": [
    "To run a step of this network we need to pass an input (in our case, the Tensor for the current letter) and a previous hidden state (which we initialize as zeros at first). We’ll get back the output (probability of each language) and a next hidden state (which we keep for the next step).\n",
    "\n",
    "For the sake of efficiency we don’t want to be creating a new Tensor for every step, so we will use ```doc_to_tensor``` instead of ```char_to_tensor``` and use slices. This could be further optimized by pre-computing batches of Tensors."
   ]
  },
  {
   "cell_type": "code",
   "execution_count": 535,
   "metadata": {
    "ExecuteTime": {
     "end_time": "2018-08-22T20:23:50.688624Z",
     "start_time": "2018-08-22T20:23:50.582719Z"
    }
   },
   "outputs": [
    {
     "name": "stdout",
     "output_type": "stream",
     "text": [
      "tensor([[-1.7854, -1.8454, -1.7734, -1.7237, -1.7844, -1.8435]],\n",
      "       grad_fn=<LogSoftmaxBackward>)\n"
     ]
    }
   ],
   "source": [
    "input = doc_to_tensor('Albert')\n",
    "hidden = torch.zeros(1, n_hidden)\n",
    "\n",
    "output, next_hidden = rnn(input[0], hidden)\n",
    "print(output)"
   ]
  },
  {
   "cell_type": "markdown",
   "metadata": {},
   "source": [
    "As you can see the output is a ```<1 x n_categories>``` Tensor, where every item is the likelihood of that category (higher is more likely)."
   ]
  },
  {
   "cell_type": "markdown",
   "metadata": {},
   "source": [
    "# Training our RNN\n",
    "Before going into training we should make a few helper functions. The first is to interpret the output of the network, which we know to be a likelihood of each category. We can use ```Tensor.topk``` to get the index of the greatest value:"
   ]
  },
  {
   "cell_type": "code",
   "execution_count": 536,
   "metadata": {
    "ExecuteTime": {
     "end_time": "2018-08-22T20:23:50.737124Z",
     "start_time": "2018-08-22T20:23:50.691570Z"
    }
   },
   "outputs": [
    {
     "name": "stdout",
     "output_type": "stream",
     "text": [
      "(3, 3)\n"
     ]
    }
   ],
   "source": [
    "def label_from_output(output):\n",
    "    top_n, top_i = output.topk(1)\n",
    "    label_i = top_i[0].item()\n",
    "    return all_labels[label_i], label_i\n",
    "\n",
    "print(label_from_output(output))"
   ]
  },
  {
   "cell_type": "markdown",
   "metadata": {
    "ExecuteTime": {
     "end_time": "2018-08-21T19:36:13.986436Z",
     "start_time": "2018-08-21T19:36:13.936054Z"
    }
   },
   "source": [
    "We will also want a quick way to get a training example (a doc and its label):"
   ]
  },
  {
   "cell_type": "code",
   "execution_count": 537,
   "metadata": {
    "ExecuteTime": {
     "end_time": "2018-08-22T20:23:50.796051Z",
     "start_time": "2018-08-22T20:23:50.739319Z"
    }
   },
   "outputs": [],
   "source": [
    "import random\n",
    "\n",
    "def randomChoice(l):\n",
    "    return l[random.randint(0, len(l) - 1)]\n",
    "\n",
    "def randomTrainingExample():\n",
    "    label = randomChoice(all_labels)\n",
    "    doc = randomChoice(label_docs[label])\n",
    "    label_tensor = torch.tensor([all_labels.index(label)], dtype=torch.long)\n",
    "    doc_tensor = doc_to_tensor(doc)\n",
    "    return label, doc, label_tensor, doc_tensor\n",
    "\n",
    "#for i in range(10):\n",
    "#    label, doc, label_tensor, doc_tensor = randomTrainingExample()\n",
    "#    print('category =', label, '/ doc =', doc)"
   ]
  },
  {
   "cell_type": "markdown",
   "metadata": {
    "ExecuteTime": {
     "end_time": "2018-08-21T20:04:04.107657Z",
     "start_time": "2018-08-21T20:04:04.055540Z"
    }
   },
   "source": [
    "Now all it takes to train this network is show it a bunch of examples, have it make guesses, and tell it if it’s wrong.\n",
    "\n",
    "For the loss function nn.NLLLoss is appropriate, since the last layer of the RNN is nn.LogSoftmax."
   ]
  },
  {
   "cell_type": "code",
   "execution_count": 538,
   "metadata": {
    "ExecuteTime": {
     "end_time": "2018-08-22T20:23:50.845768Z",
     "start_time": "2018-08-22T20:23:50.798233Z"
    }
   },
   "outputs": [],
   "source": [
    "criterion = nn.NLLLoss()"
   ]
  },
  {
   "cell_type": "markdown",
   "metadata": {
    "ExecuteTime": {
     "end_time": "2018-08-21T20:09:11.734353Z",
     "start_time": "2018-08-21T20:09:11.359220Z"
    }
   },
   "source": [
    "Each loop of training will:\n",
    "- Create input and target tensors\n",
    "- Create a zeroed initial hidden state\n",
    "- Read each letter in and\n",
    "- Keep hidden state for next letter\n",
    "- Compare final output to target\n",
    "- Back-propagate\n",
    "- Return the output and loss"
   ]
  },
  {
   "cell_type": "code",
   "execution_count": 539,
   "metadata": {
    "ExecuteTime": {
     "end_time": "2018-08-22T20:23:50.888519Z",
     "start_time": "2018-08-22T20:23:50.848049Z"
    }
   },
   "outputs": [],
   "source": [
    "learning_rate = 0.005 # If you set this too high, it might explode. If too low, it might not learn\n",
    "\n",
    "def train(label_tensor, doc_tensor):\n",
    "    hidden = rnn.initHidden()\n",
    "\n",
    "    rnn.zero_grad()\n",
    "\n",
    "    for i in range(doc_tensor.size()[0]):\n",
    "        output, hidden = rnn(doc_tensor[i], hidden)\n",
    "\n",
    "    loss = criterion(output, label_tensor)\n",
    "    loss.backward()\n",
    "\n",
    "    # Add parameters' gradients to their values, multiplied by learning rate\n",
    "    for p in rnn.parameters():\n",
    "        p.data.add_(-learning_rate, p.grad.data)\n",
    "\n",
    "    return output, loss.item()"
   ]
  },
  {
   "cell_type": "markdown",
   "metadata": {},
   "source": [
    "Now we just have to run that with a bunch of examples. Since the ```train``` function returns both the output and loss we can print its guesses and also keep track of loss for plotting. Since there are 1000s of examples we print only every ```print_every``` examples, and take an average of the loss."
   ]
  },
  {
   "cell_type": "code",
   "execution_count": 540,
   "metadata": {
    "ExecuteTime": {
     "end_time": "2018-08-22T22:05:18.531883Z",
     "start_time": "2018-08-22T20:23:50.890842Z"
    },
    "scrolled": false
   },
   "outputs": [
    {
     "name": "stdout",
     "output_type": "stream",
     "text": [
      "10,0m 26s, 1.7068, predicted: 3.62, label: 4 ✓\n",
      "20,0m 48s, 1.7034, predicted: 3.74, label: 4 ✓\n",
      "30,1m 26s, 1.8437, predicted: 3.84, label: 4 ✗ (5)\n",
      "40,1m 57s, 1.8002, predicted: 3.92, label: 4 ✗ (2)\n",
      "50,2m 32s, 1.8072, predicted: 4.03, label: 4 ✗ (2)\n",
      "60,2m 59s, 1.7475, predicted: 4.24, label: 4 ✗ (0)\n",
      "70,3m 26s, 1.8185, predicted: 4.11, label: 4 ✗ (0)\n",
      "80,3m 44s, 1.8246, predicted: 4.23, label: 4 ✗ (3)\n",
      "90,4m 8s, 1.7936, predicted: 4.19, label: 4 ✗ (5)\n",
      "100,4m 27s, 1.8421, predicted: 4.27, label: 4 ✗ (3)\n",
      "110,4m 44s, 1.8202, predicted: 4.2, label: 4 ✗ (0)\n",
      "120,5m 5s, 1.8062, predicted: 4.19, label: 4 ✗ (1)\n",
      "130,5m 29s, 1.7211, predicted: 0, label: 0 ✓\n",
      "140,5m 49s, 1.8572, predicted: 3.26, label: 4 ✗ (0)\n",
      "150,6m 5s, 1.7927, predicted: 1.33, label: 1 ✗ (2)\n",
      "160,6m 32s, 1.7844, predicted: 1.45, label: 1 ✗ (4)\n",
      "170,7m 7s, 1.7491, predicted: 1.78, label: 1 ✗ (2)\n",
      "180,7m 40s, 1.7446, predicted: 2.67, label: 2 ✓\n",
      "190,8m 12s, 1.7448, predicted: 1.35, label: 2 ✗ (1)\n",
      "200,8m 32s, 1.8072, predicted: 0, label: 0 ✗ (5)\n",
      "210,9m 6s, 1.7282, predicted: 1.87, label: 1 ✗ (4)\n",
      "220,9m 30s, 1.73, predicted: 1.65, label: 1 ✗ (4)\n",
      "230,10m 6s, 1.7495, predicted: 1.63, label: 1 ✗ (2)\n",
      "240,10m 37s, 1.7129, predicted: 0, label: 0 ✓\n",
      "250,11m 0s, 1.7231, predicted: 3.24, label: 4 ✗ (1)\n",
      "260,11m 26s, 1.7061, predicted: 3.44, label: 4 ✓\n",
      "270,11m 49s, 1.9292, predicted: 3.62, label: 4 ✗ (5)\n",
      "280,12m 18s, 1.9394, predicted: 3.61, label: 4 ✗ (0)\n",
      "290,12m 39s, 1.7386, predicted: 3.69, label: 4 ✗ (1)\n",
      "300,13m 2s, 1.7146, predicted: 3.85, label: 4 ✗ (1)\n",
      "310,13m 20s, 1.6857, predicted: 3.78, label: 4 ✓\n",
      "320,13m 41s, 1.7663, predicted: 3.84, label: 4 ✗ (2)\n",
      "330,13m 57s, 1.759, predicted: 3.96, label: 4 ✗ (2)\n",
      "340,14m 25s, 1.9265, predicted: 1.53, label: 1 ✗ (0)\n",
      "350,15m 7s, 1.8703, predicted: 1.34, label: 1 ✗ (5)\n",
      "360,15m 31s, 1.8142, predicted: 1.33, label: 1 ✗ (3)\n",
      "370,15m 59s, 1.9318, predicted: 1.29, label: 1 ✗ (0)\n",
      "380,16m 20s, 1.8232, predicted: 1.36, label: 1 ✗ (3)\n",
      "390,16m 29s, 1.7915, predicted: 1.18, label: 1 ✗ (3)\n",
      "400,17m 1s, 1.68, predicted: 1.28, label: 1 ✓\n",
      "410,17m 22s, 1.7996, predicted: 0, label: 0 ✗ (1)\n",
      "420,17m 58s, 1.7517, predicted: 1.26, label: 1 ✗ (4)\n",
      "430,18m 17s, 1.7772, predicted: 1.4, label: 1 ✗ (3)\n",
      "440,18m 57s, 1.7864, predicted: 1.37, label: 1 ✗ (2)\n",
      "450,19m 27s, 1.7444, predicted: 1.35, label: 1 ✗ (4)\n",
      "460,19m 55s, 1.749, predicted: 1.33, label: 1 ✗ (3)\n",
      "470,20m 16s, 1.9914, predicted: 1.33, label: 1 ✗ (0)\n",
      "480,20m 53s, 1.83, predicted: 1.28, label: 1 ✗ (2)\n",
      "490,21m 20s, 1.849, predicted: 1.5, label: 1 ✗ (5)\n",
      "500,22m 9s, 1.7422, predicted: 1.54, label: 1 ✗ (3)\n",
      "510,22m 48s, 1.7003, predicted: 1.6, label: 1 ✓\n",
      "520,23m 15s, 1.7527, predicted: 1.53, label: 1 ✗ (4)\n",
      "530,23m 51s, 1.693, predicted: 1.57, label: 1 ✓\n",
      "540,24m 2s, 1.7386, predicted: 1.45, label: 1 ✗ (3)\n",
      "550,24m 23s, 1.7896, predicted: 1.47, label: 1 ✗ (2)\n",
      "560,24m 49s, 2.013, predicted: 3.12, label: 3 ✗ (0)\n",
      "570,25m 29s, 1.7161, predicted: 1.49, label: 1 ✗ (3)\n",
      "580,25m 50s, 1.7201, predicted: 1.44, label: 1 ✗ (3)\n",
      "590,26m 12s, 1.8175, predicted: 3.13, label: 3 ✗ (5)\n",
      "600,26m 29s, 1.8308, predicted: 3.26, label: 3 ✗ (2)\n",
      "610,27m 3s, 1.7194, predicted: 1.44, label: 1 ✗ (3)\n",
      "620,27m 23s, 1.7169, predicted: 1.33, label: 1 ✗ (3)\n",
      "630,27m 56s, 1.8314, predicted: 3.04, label: 3 ✗ (2)\n",
      "640,28m 18s, 1.6681, predicted: 3.03, label: 3 ✓\n",
      "650,28m 43s, 1.6988, predicted: 3.01, label: 3 ✗ (1)\n",
      "660,29m 22s, 1.9546, predicted: 3.02, label: 3 ✗ (0)\n",
      "670,29m 58s, 1.8159, predicted: 2.99, label: 3 ✗ (4)\n",
      "680,30m 31s, 1.6328, predicted: 3.11, label: 3 ✓\n",
      "690,31m 2s, 1.6273, predicted: 3.14, label: 3 ✓\n",
      "700,31m 29s, 1.812, predicted: 3.08, label: 3 ✗ (4)\n",
      "710,32m 1s, 1.8454, predicted: 3.16, label: 3 ✗ (2)\n",
      "720,32m 44s, 1.95, predicted: 3.02, label: 3 ✗ (0)\n",
      "730,33m 31s, 1.4523, predicted: 0, label: 0 ✓\n",
      "740,33m 43s, 1.7551, predicted: 2.71, label: 3 ✗ (1)\n",
      "750,34m 23s, 1.6704, predicted: 2.65, label: 3 ✓\n",
      "760,34m 49s, 1.8486, predicted: 2.82, label: 3 ✗ (4)\n",
      "770,35m 33s, 1.645, predicted: 2.9, label: 3 ✓\n",
      "780,36m 11s, 1.6704, predicted: 2.81, label: 3 ✓\n",
      "790,36m 56s, 1.8194, predicted: 3.0, label: 3 ✗ (4)\n",
      "800,37m 15s, 1.8685, predicted: 2.87, label: 3 ✗ (0)\n",
      "810,37m 43s, 1.6608, predicted: 2.97, label: 3 ✓\n",
      "820,38m 6s, 1.7382, predicted: 2.9, label: 3 ✗ (1)\n",
      "830,39m 12s, 1.763, predicted: 2.98, label: 3 ✗ (1)\n",
      "840,39m 49s, 1.7548, predicted: 2.96, label: 3 ✗ (5)\n",
      "850,40m 34s, 1.7441, predicted: 2.95, label: 3 ✗ (1)\n",
      "860,41m 8s, 1.3868, predicted: 0, label: 0 ✓\n",
      "870,42m 6s, 1.6842, predicted: 2.92, label: 3 ✓\n",
      "880,42m 33s, 1.7005, predicted: 5, label: 5 ✗ (3)\n",
      "890,43m 4s, 1.7234, predicted: 2.86, label: 3 ✗ (1)\n",
      "900,43m 33s, 1.6976, predicted: 2.8, label: 3 ✓\n",
      "910,44m 12s, 1.7026, predicted: 1.29, label: 1 ✗ (3)\n",
      "920,44m 44s, 1.7174, predicted: 1.17, label: 1 ✗ (5)\n",
      "930,45m 17s, 1.8379, predicted: 1.26, label: 1 ✗ (2)\n",
      "940,45m 42s, 1.9258, predicted: 1.25, label: 1 ✗ (0)\n",
      "950,46m 54s, 1.686, predicted: 2.85, label: 3 ✓\n",
      "960,47m 23s, 1.697, predicted: 1.18, label: 1 ✗ (3)\n",
      "970,47m 49s, 1.3642, predicted: 0, label: 0 ✓\n",
      "980,48m 9s, 1.3359, predicted: 0, label: 0 ✓\n",
      "990,48m 30s, 1.6846, predicted: 1.09, label: 1 ✓\n",
      "1000,48m 55s, 1.8807, predicted: 1.11, label: 1 ✗ (4)\n",
      "1010,49m 55s, 1.8279, predicted: 1.24, label: 1 ✗ (2)\n",
      "1020,50m 19s, 1.8714, predicted: 2.84, label: 3 ✗ (4)\n",
      "1030,50m 57s, 1.8605, predicted: 2.8, label: 3 ✗ (4)\n",
      "1040,51m 20s, 1.8098, predicted: 1.24, label: 1 ✗ (2)\n",
      "1050,51m 54s, 1.7227, predicted: 1.29, label: 1 ✗ (3)\n",
      "1060,52m 46s, 1.9484, predicted: 2.76, label: 3 ✗ (0)\n",
      "1070,53m 8s, 1.6854, predicted: 1.28, label: 1 ✗ (3)\n",
      "1080,53m 42s, 1.6587, predicted: 1.17, label: 1 ✓\n",
      "1090,54m 20s, 1.7165, predicted: 1.17, label: 1 ✗ (3)\n",
      "1100,54m 43s, 1.291, predicted: 0, label: 0 ✓\n",
      "1110,55m 27s, 1.8123, predicted: 1.15, label: 1 ✗ (5)\n",
      "1120,55m 50s, 1.9006, predicted: 1.12, label: 1 ✗ (4)\n",
      "1130,56m 8s, 1.8499, predicted: 1.01, label: 1 ✗ (0)\n",
      "1140,56m 41s, 1.2541, predicted: 0, label: 0 ✓\n",
      "1150,57m 23s, 1.8575, predicted: 1.02, label: 1 ✗ (2)\n",
      "1160,57m 48s, 1.8495, predicted: 1.02, label: 1 ✗ (2)\n",
      "1170,58m 15s, 1.9308, predicted: 1.02, label: 1 ✗ (4)\n",
      "1180,58m 37s, 1.8617, predicted: 1.16, label: 1 ✗ (0)\n",
      "1190,59m 7s, 1.2181, predicted: 0, label: 0 ✓\n",
      "1200,59m 53s, 1.7684, predicted: 0.99, label: 1 ✗ (5)\n",
      "1210,60m 31s, 1.1987, predicted: 0, label: 0 ✓\n",
      "1220,60m 45s, 1.6964, predicted: 0.9, label: 1 ✓\n",
      "1230,61m 0s, 1.6516, predicted: 0.95, label: 1 ✓\n",
      "1240,61m 12s, 1.1794, predicted: 0, label: 0 ✓\n",
      "1250,61m 50s, 1.7526, predicted: 1.04, label: 1 ✗ (5)\n",
      "1260,62m 17s, 1.8329, predicted: 1.05, label: 1 ✗ (2)\n",
      "1270,62m 43s, 1.6307, predicted: 1.14, label: 1 ✓\n",
      "1280,64m 16s, 1.882, predicted: 1.19, label: 1 ✗ (4)\n",
      "1290,64m 45s, 1.8863, predicted: 1.17, label: 1 ✗ (4)\n",
      "1300,65m 40s, 1.8131, predicted: 1.27, label: 1 ✗ (2)\n",
      "1310,66m 20s, 1.7205, predicted: 1.46, label: 1 ✗ (5)\n",
      "1320,66m 40s, 1.7562, predicted: 1.37, label: 1 ✗ (3)\n",
      "1330,67m 27s, 1.8436, predicted: 1.35, label: 1 ✗ (4)\n",
      "1340,67m 50s, 2.0918, predicted: 0, label: 0 ✗ (2)\n",
      "1350,68m 24s, 1.7155, predicted: 1.45, label: 1 ✗ (5)\n",
      "1360,68m 42s, 1.734, predicted: 5, label: 5 ✗ (3)\n",
      "1370,69m 18s, 1.7111, predicted: 1.31, label: 1 ✗ (5)\n",
      "1380,69m 49s, 1.7344, predicted: 1.3, label: 1 ✗ (3)\n",
      "1390,70m 17s, 1.8768, predicted: 1.37, label: 1 ✗ (4)\n",
      "1400,70m 43s, 1.8587, predicted: 1.25, label: 1 ✗ (4)\n",
      "1410,71m 22s, 1.7086, predicted: 2.93, label: 3 ✗ (5)\n",
      "1420,72m 0s, 1.7459, predicted: 0, label: 0 ✗ (5)\n",
      "1430,72m 33s, 1.7405, predicted: 0, label: 0 ✗ (5)\n",
      "1440,73m 44s, 1.789, predicted: 1.38, label: 1 ✗ (4)\n",
      "1450,74m 11s, 2.072, predicted: 1.32, label: 1 ✗ (0)\n",
      "1460,74m 52s, 1.7069, predicted: 5, label: 5 ✗ (1)\n",
      "1470,75m 25s, 1.7029, predicted: 1.36, label: 1 ✓\n",
      "1480,75m 59s, 1.7167, predicted: 1.4, label: 1 ✗ (5)\n",
      "1490,76m 29s, 1.6441, predicted: 1.32, label: 1 ✓\n",
      "1500,77m 10s, 1.8073, predicted: 1.27, label: 1 ✗ (3)\n",
      "1510,77m 42s, 1.6701, predicted: 1.25, label: 1 ✗ (5)\n",
      "1520,78m 29s, 1.7661, predicted: 5, label: 5 ✗ (4)\n",
      "1530,79m 3s, 1.7758, predicted: 5, label: 5 ✗ (3)\n",
      "1540,79m 41s, 1.8828, predicted: 1.32, label: 1 ✗ (2)\n",
      "1550,80m 6s, 1.676, predicted: 5, label: 5 ✓\n",
      "1560,80m 37s, 1.7139, predicted: 4.28, label: 4 ✗ (5)\n",
      "1570,80m 59s, 1.8639, predicted: 1.42, label: 1 ✗ (2)\n",
      "1580,81m 26s, 1.6727, predicted: 1.48, label: 1 ✓\n",
      "1590,81m 52s, 1.6765, predicted: 1.47, label: 1 ✓\n",
      "1600,82m 12s, 1.7407, predicted: 1.54, label: 1 ✗ (4)\n"
     ]
    },
    {
     "name": "stdout",
     "output_type": "stream",
     "text": [
      "1610,82m 38s, 1.7311, predicted: 5, label: 5 ✗ (4)\n",
      "1620,83m 5s, 1.7067, predicted: 5, label: 5 ✗ (1)\n",
      "1630,83m 37s, 1.6721, predicted: 5, label: 5 ✓\n",
      "1640,83m 50s, 1.725, predicted: 5, label: 5 ✗ (4)\n",
      "1650,84m 4s, 1.7675, predicted: 1.37, label: 1 ✗ (3)\n",
      "1660,84m 23s, 1.7338, predicted: 4.4, label: 4 ✗ (3)\n",
      "1670,84m 51s, 1.7212, predicted: 5, label: 5 ✗ (4)\n",
      "1680,85m 5s, 1.7448, predicted: 1.38, label: 1 ✗ (5)\n",
      "1690,85m 28s, 1.7384, predicted: 5, label: 5 ✗ (4)\n",
      "1700,85m 47s, 1.8385, predicted: 5, label: 5 ✗ (2)\n",
      "1710,86m 20s, 1.7531, predicted: 5, label: 5 ✗ (3)\n",
      "1720,86m 45s, 1.7572, predicted: 5, label: 5 ✗ (3)\n",
      "1730,87m 16s, 1.9963, predicted: 0, label: 0 ✗ (1)\n",
      "1740,87m 39s, 1.8317, predicted: 5, label: 5 ✗ (2)\n",
      "1750,88m 15s, 1.7651, predicted: 5, label: 5 ✗ (3)\n",
      "1760,88m 38s, 1.7044, predicted: 5, label: 5 ✗ (4)\n",
      "1770,89m 10s, 1.6947, predicted: 5, label: 5 ✗ (4)\n",
      "1780,89m 47s, 1.6388, predicted: 5, label: 5 ✓\n",
      "1790,90m 55s, 1.8306, predicted: 5, label: 5 ✗ (1)\n",
      "1800,91m 26s, 1.8114, predicted: 5, label: 5 ✗ (1)\n",
      "1810,91m 43s, 1.8504, predicted: 5, label: 5 ✗ (2)\n",
      "1820,91m 58s, 1.79, predicted: 5, label: 5 ✗ (1)\n",
      "1830,92m 20s, 1.7692, predicted: 5, label: 5 ✗ (3)\n",
      "1840,92m 54s, 1.9983, predicted: 5, label: 5 ✗ (0)\n",
      "1850,93m 28s, 1.6469, predicted: 5, label: 5 ✓\n",
      "1860,93m 44s, 1.8174, predicted: 5, label: 5 ✗ (3)\n",
      "1870,94m 14s, 1.7799, predicted: 5, label: 5 ✗ (3)\n",
      "1880,94m 43s, 1.8313, predicted: 5, label: 5 ✗ (2)\n",
      "1890,95m 25s, 2.0577, predicted: 5, label: 5 ✗ (0)\n",
      "1900,95m 57s, 1.814, predicted: 5, label: 5 ✗ (1)\n",
      "1910,96m 15s, 1.8134, predicted: 5, label: 5 ✗ (2)\n",
      "1920,97m 9s, 1.666, predicted: 4.8, label: 4 ✓\n",
      "1930,97m 31s, 1.6681, predicted: 4.55, label: 4 ✓\n",
      "1940,97m 58s, 1.7157, predicted: 4.15, label: 4 ✗ (5)\n",
      "1950,98m 30s, 1.8133, predicted: 4.85, label: 4 ✗ (3)\n",
      "1960,99m 2s, 1.8491, predicted: 4.6, label: 4 ✗ (1)\n",
      "1970,99m 59s, 1.6843, predicted: 4.64, label: 4 ✗ (5)\n",
      "1980,100m 28s, 1.6843, predicted: 4.89, label: 4 ✓\n",
      "1990,100m 57s, 1.752, predicted: 4.91, label: 4 ✗ (2)\n",
      "2000,101m 27s, 1.7253, predicted: 5, label: 5 ✗ (2)\n"
     ]
    }
   ],
   "source": [
    "import time\n",
    "import math\n",
    "\n",
    "n_iters = 2000\n",
    "print_every = 10\n",
    "plot_every = 10\n",
    "\n",
    "\n",
    "\n",
    "# Keep track of losses for plotting\n",
    "current_loss = 0\n",
    "all_losses = []\n",
    "\n",
    "def timeSince(since):\n",
    "    now = time.time()\n",
    "    s = now - since\n",
    "    m = math.floor(s / 60)\n",
    "    s -= m * 60\n",
    "    return '%dm %ds' % (m, s)\n",
    "\n",
    "start = time.time()\n",
    "\n",
    "for iter in range(1, n_iters + 1):\n",
    "    label, doc, label_tensor, doc_tensor = randomTrainingExample()\n",
    "    output, loss = train(label_tensor, doc_tensor)\n",
    "    current_loss += loss\n",
    "\n",
    "    # Print iter number, loss, name and guess\n",
    "    if iter % print_every == 0:\n",
    "        guess, guess_i = label_from_output(output)\n",
    "        correct = '✓' if guess == label else '✗ (%s)' % label\n",
    "        #print('%d %d%% (%s) %.4f %s / %s %s' % (iter, iter / n_iters * 100, timeSince(start), loss, 'predicted -->', find_regressed_output(output), correct))\n",
    "        print(f\"{iter},{timeSince(start)}, {round(loss,4)}, predicted: {find_regressed_output(output)}, label: {int(output.topk(1,1, True)[1])} {correct}\")\n",
    "\n",
    "    # Add current loss avg to list of losses\n",
    "    if iter % plot_every == 0:\n",
    "        all_losses.append(current_loss / plot_every)\n",
    "        current_loss = 0"
   ]
  },
  {
   "cell_type": "code",
   "execution_count": 541,
   "metadata": {
    "ExecuteTime": {
     "end_time": "2018-08-22T22:08:07.376797Z",
     "start_time": "2018-08-22T22:08:04.860558Z"
    }
   },
   "outputs": [
    {
     "data": {
      "text/plain": [
       "[<matplotlib.lines.Line2D at 0x130b4fa90>]"
      ]
     },
     "execution_count": 541,
     "metadata": {},
     "output_type": "execute_result"
    },
    {
     "data": {
      "image/png": "[encoded data removed]",
      "text/plain": [
       "<Figure size 432x288 with 1 Axes>"
      ]
     },
     "metadata": {},
     "output_type": "display_data"
    }
   ],
   "source": [
    "import matplotlib.pyplot as plt\n",
    "import matplotlib.ticker as ticker\n",
    "\n",
    "plt.figure()\n",
    "plt.plot(all_losses)"
   ]
  },
  {
   "cell_type": "code",
   "execution_count": null,
   "metadata": {},
   "outputs": [],
   "source": [
    "import pickle\n",
    "# Save to file in the current working directory\n",
    "pkl_filename = \"RNN_aug22.pkl\"  \n",
    "with open(pkl_filename, 'wb') as file:  \n",
    "    pickle.dump(rf, file)\n",
    "print(mean_squared_error(y_test, predictions))"
   ]
  },
  {
   "cell_type": "code",
   "execution_count": 409,
   "metadata": {
    "ExecuteTime": {
     "end_time": "2018-08-22T16:50:26.355950Z",
     "start_time": "2018-08-22T16:49:40.421998Z"
    }
   },
   "outputs": [],
   "source": [
    "# Keep track of correct guesses in a confusion matrix\n",
    "confusion = torch.zeros(n_labels, n_labels)\n",
    "n_confusion = 100\n",
    "\n",
    "# Just return an output given a line\n",
    "def evaluate(doc_tensor):\n",
    "    hidden = rnn.initHidden()\n",
    "\n",
    "    for i in range(doc_tensor.size()[0]):\n",
    "        output, hidden = rnn(doc_tensor[i], hidden)\n",
    "\n",
    "    return output\n",
    "\n",
    "# Go through a bunch of examples and record which are correctly guessed\n",
    "for i in range(n_confusion):\n",
    "    label, doc, label_tensor, doc_tensor = randomTrainingExample()\n",
    "    output = evaluate(doc_tensor)\n",
    "    guess, guess_i = label_from_output(output)\n",
    "    label_i = all_labels.index(label)\n",
    "    confusion[label_i][guess_i] += 1\n",
    "\n",
    "# Normalize by dividing every row by its sum\n",
    "for i in range(n_labels):\n",
    "    confusion[i] = confusion[i] / confusion[i].sum()"
   ]
  },
  {
   "cell_type": "code",
   "execution_count": 410,
   "metadata": {
    "ExecuteTime": {
     "end_time": "2018-08-22T16:51:20.704387Z",
     "start_time": "2018-08-22T16:51:20.504705Z"
    }
   },
   "outputs": [
    {
     "data": {
      "image/png": "[encoded data removed]",
      "text/plain": [
       "<Figure size 576x576 with 2 Axes>"
      ]
     },
     "metadata": {},
     "output_type": "display_data"
    }
   ],
   "source": [
    "# Set up plot\n",
    "fig = plt.figure(figsize=(8,8))\n",
    "ax = fig.add_subplot(111)\n",
    "cax = ax.matshow(confusion.numpy())\n",
    "fig.colorbar(cax)\n",
    "\n",
    "# Set up axes\n",
    "ax.set_xticklabels([''] + all_labels, rotation=90)\n",
    "ax.set_yticklabels([''] + all_labels)\n",
    "\n",
    "# Force label at every tick\n",
    "ax.xaxis.set_major_locator(ticker.MultipleLocator(1))\n",
    "ax.yaxis.set_major_locator(ticker.MultipleLocator(1))\n",
    "\n",
    "# sphinx_gallery_thumbnail_number = 2\n",
    "plt.show()"
   ]
  },
  {
   "cell_type": "code",
   "execution_count": 411,
   "metadata": {
    "ExecuteTime": {
     "end_time": "2018-08-22T16:52:17.604375Z",
     "start_time": "2018-08-22T16:52:17.505722Z"
    }
   },
   "outputs": [],
   "source": [
    "def predict(input_doc, n_predictions=1):\n",
    "    print('\\n> %s' % 'doc predicted')\n",
    "    with torch.no_grad():\n",
    "        output = evaluate(doc_to_tensor(input_doc))\n",
    "\n",
    "        # Get top N categories\n",
    "        topv, topi = output.topk(n_predictions, 1, True)\n",
    "        predictions = []\n",
    "\n",
    "        for i in range(n_predictions):\n",
    "            value = topv[0][i].item()\n",
    "            label_index = topi[0][i].item()\n",
    "            print('(%.2f) %s' % (value, all_labels[label_index]))\n",
    "            predictions.append([value, all_labels[label_index]])\n"
   ]
  },
  {
   "cell_type": "code",
   "execution_count": 412,
   "metadata": {
    "ExecuteTime": {
     "end_time": "2018-08-22T16:52:19.988355Z",
     "start_time": "2018-08-22T16:52:19.942954Z"
    }
   },
   "outputs": [
    {
     "name": "stdout",
     "output_type": "stream",
     "text": [
      "\n",
      "> doc predicted\n",
      "(-1.45) 5\n"
     ]
    }
   ],
   "source": [
    "predict('asd')"
   ]
  },
  {
   "cell_type": "code",
   "execution_count": 413,
   "metadata": {
    "ExecuteTime": {
     "end_time": "2018-08-22T16:52:22.834330Z",
     "start_time": "2018-08-22T16:52:22.783488Z"
    }
   },
   "outputs": [],
   "source": [
    "import lxml.etree\n",
    "import urllib\n",
    "import urllib.request\n",
    "import pandas as pd\n",
    "\n",
    "\n",
    "def get_wiki_xml(title):\n",
    "    title = title\n",
    "    params = { \"format\":\"xml\", \"action\":\"query\", \"prop\":\"revisions\", \"rvprop\":\"timestamp|user|comment|content\" }\n",
    "    params[\"titles\"] = \"API|%s\" % urllib.parse.quote(title.encode(\"utf8\"))\n",
    "    qs = \"&\".join(\"%s=%s\" % (k, v)  for k, v in params.items())\n",
    "    url = \"http://en.wikipedia.org/w/api.php?%s\" % qs\n",
    "    tree = lxml.etree.parse(urllib.request.urlopen(url))\n",
    "    revs = tree.xpath('//rev')\n",
    "    return (revs[-1].text)"
   ]
  },
  {
   "cell_type": "code",
   "execution_count": 414,
   "metadata": {
    "ExecuteTime": {
     "end_time": "2018-08-22T16:52:24.655965Z",
     "start_time": "2018-08-22T16:52:24.260084Z"
    }
   },
   "outputs": [],
   "source": [
    "tex = get_wiki_xml('George W. Woodruff School of Mechanical Engineering')"
   ]
  },
  {
   "cell_type": "code",
   "execution_count": 415,
   "metadata": {
    "ExecuteTime": {
     "end_time": "2018-08-22T16:52:25.648513Z",
     "start_time": "2018-08-22T16:52:25.232814Z"
    }
   },
   "outputs": [
    {
     "name": "stdout",
     "output_type": "stream",
     "text": [
      "\n",
      "> doc predicted\n",
      "(-0.76) 0\n"
     ]
    }
   ],
   "source": [
    "predict(tex)"
   ]
  },
  {
   "cell_type": "code",
   "execution_count": 421,
   "metadata": {
    "ExecuteTime": {
     "end_time": "2018-08-22T16:54:14.106595Z",
     "start_time": "2018-08-22T16:54:14.062405Z"
    }
   },
   "outputs": [
    {
     "data": {
      "text/plain": [
       "tensor(-1.3780, grad_fn=<SelectBackward>)"
      ]
     },
     "execution_count": 421,
     "metadata": {},
     "output_type": "execute_result"
    }
   ],
   "source": [
    "max(output[0])"
   ]
  },
  {
   "cell_type": "code",
   "execution_count": 423,
   "metadata": {
    "ExecuteTime": {
     "end_time": "2018-08-22T16:55:24.811836Z",
     "start_time": "2018-08-22T16:55:24.399340Z"
    }
   },
   "outputs": [
    {
     "name": "stdout",
     "output_type": "stream",
     "text": [
      "\n",
      "> doc predicted\n",
      "tensor([[-0.7589, -2.1116, -2.1895, -2.3534, -2.3259, -2.2439]])\n",
      "(-0.76) 0\n"
     ]
    }
   ],
   "source": [
    "n_predictions = 1\n",
    "print('\\n> %s' % 'doc predicted')\n",
    "with torch.no_grad():\n",
    "    output = evaluate(doc_to_tensor(tex))\n",
    "    print(output)\n",
    "\n",
    "# Get top N categories\n",
    "topv, topi = output.topk(n_predictions, 1, True)\n",
    "predictions = []\n",
    "\n",
    "for i in range(n_predictions):\n",
    "    value = topv[0][i].item()\n",
    "    label_index = topi[0][i].item()\n",
    "    print('(%.2f) %s' % (value, all_labels[label_index]))\n",
    "    predictions.append([value, all_labels[label_index]])\n"
   ]
  },
  {
   "cell_type": "code",
   "execution_count": 371,
   "metadata": {
    "ExecuteTime": {
     "end_time": "2018-08-22T12:00:24.578661Z",
     "start_time": "2018-08-22T12:00:24.537714Z"
    }
   },
   "outputs": [
    {
     "data": {
      "text/plain": [
       "tensor([[-0.8758, -0.8659, -2.6876, -2.9720, -3.8596, -3.7955]])"
      ]
     },
     "execution_count": 371,
     "metadata": {},
     "output_type": "execute_result"
    }
   ],
   "source": [
    "output"
   ]
  },
  {
   "cell_type": "code",
   "execution_count": null,
   "metadata": {},
   "outputs": [],
   "source": []
  },
  {
   "cell_type": "code",
   "execution_count": null,
   "metadata": {},
   "outputs": [],
   "source": []
  },
  {
   "cell_type": "code",
   "execution_count": null,
   "metadata": {},
   "outputs": [],
   "source": []
  },
  {
   "cell_type": "code",
   "execution_count": null,
   "metadata": {},
   "outputs": [],
   "source": []
  },
  {
   "cell_type": "code",
   "execution_count": 42,
   "metadata": {
    "ExecuteTime": {
     "end_time": "2018-08-21T20:24:08.345110Z",
     "start_time": "2018-08-21T20:24:04.290558Z"
    }
   },
   "outputs": [
    {
     "name": "stderr",
     "output_type": "stream",
     "text": [
      "/Users/austin/anaconda3/lib/python3.6/importlib/_bootstrap.py:219: RuntimeWarning: numpy.dtype size changed, may indicate binary incompatibility. Expected 96, got 88\n",
      "  return f(*args, **kwds)\n",
      "/Users/austin/anaconda3/lib/python3.6/site-packages/h5py/__init__.py:36: FutureWarning: Conversion of the second argument of issubdtype from `float` to `np.floating` is deprecated. In future, it will be treated as `np.float64 == np.dtype(float).type`.\n",
      "  from ._conv import register_converters as _register_converters\n",
      "Using TensorFlow backend.\n"
     ]
    },
    {
     "ename": "KeyboardInterrupt",
     "evalue": "",
     "output_type": "error",
     "traceback": [
      "\u001b[0;31m---------------------------------------------------------------------------\u001b[0m",
      "\u001b[0;31mKeyboardInterrupt\u001b[0m                         Traceback (most recent call last)",
      "\u001b[0;32m<ipython-input-42-9ae251979111>\u001b[0m in \u001b[0;36m<module>\u001b[0;34m()\u001b[0m\n\u001b[1;32m     16\u001b[0m \u001b[0;31m## Bi-Directional RNN\u001b[0m\u001b[0;34m\u001b[0m\u001b[0;34m\u001b[0m\u001b[0m\n\u001b[1;32m     17\u001b[0m \u001b[0;34m\u001b[0m\u001b[0m\n\u001b[0;32m---> 18\u001b[0;31m \u001b[0;32mfrom\u001b[0m \u001b[0mkeras\u001b[0m\u001b[0;34m.\u001b[0m\u001b[0mpreprocessing\u001b[0m \u001b[0;32mimport\u001b[0m \u001b[0msequence\u001b[0m\u001b[0;34m\u001b[0m\u001b[0m\n\u001b[0m\u001b[1;32m     19\u001b[0m \u001b[0;32mfrom\u001b[0m \u001b[0mkeras\u001b[0m\u001b[0;34m.\u001b[0m\u001b[0mmodels\u001b[0m \u001b[0;32mimport\u001b[0m \u001b[0mSequential\u001b[0m\u001b[0;34m\u001b[0m\u001b[0m\n\u001b[1;32m     20\u001b[0m \u001b[0;32mfrom\u001b[0m \u001b[0mkeras\u001b[0m\u001b[0;34m.\u001b[0m\u001b[0mlayers\u001b[0m \u001b[0;32mimport\u001b[0m \u001b[0mDense\u001b[0m\u001b[0;34m,\u001b[0m \u001b[0mDropout\u001b[0m\u001b[0;34m,\u001b[0m \u001b[0mEmbedding\u001b[0m\u001b[0;34m,\u001b[0m \u001b[0mLSTM\u001b[0m\u001b[0;34m,\u001b[0m \u001b[0mBidirectional\u001b[0m\u001b[0;34m\u001b[0m\u001b[0m\n",
      "\u001b[0;32m~/anaconda3/lib/python3.6/site-packages/keras/__init__.py\u001b[0m in \u001b[0;36m<module>\u001b[0;34m()\u001b[0m\n\u001b[1;32m      1\u001b[0m \u001b[0;32mfrom\u001b[0m \u001b[0m__future__\u001b[0m \u001b[0;32mimport\u001b[0m \u001b[0mabsolute_import\u001b[0m\u001b[0;34m\u001b[0m\u001b[0m\n\u001b[1;32m      2\u001b[0m \u001b[0;34m\u001b[0m\u001b[0m\n\u001b[0;32m----> 3\u001b[0;31m \u001b[0;32mfrom\u001b[0m \u001b[0;34m.\u001b[0m \u001b[0;32mimport\u001b[0m \u001b[0mutils\u001b[0m\u001b[0;34m\u001b[0m\u001b[0m\n\u001b[0m\u001b[1;32m      4\u001b[0m \u001b[0;32mfrom\u001b[0m \u001b[0;34m.\u001b[0m \u001b[0;32mimport\u001b[0m \u001b[0mactivations\u001b[0m\u001b[0;34m\u001b[0m\u001b[0m\n\u001b[1;32m      5\u001b[0m \u001b[0;32mfrom\u001b[0m \u001b[0;34m.\u001b[0m \u001b[0;32mimport\u001b[0m \u001b[0mapplications\u001b[0m\u001b[0;34m\u001b[0m\u001b[0m\n",
      "\u001b[0;32m~/anaconda3/lib/python3.6/site-packages/keras/utils/__init__.py\u001b[0m in \u001b[0;36m<module>\u001b[0;34m()\u001b[0m\n\u001b[1;32m      4\u001b[0m \u001b[0;32mfrom\u001b[0m \u001b[0;34m.\u001b[0m \u001b[0;32mimport\u001b[0m \u001b[0mdata_utils\u001b[0m\u001b[0;34m\u001b[0m\u001b[0m\n\u001b[1;32m      5\u001b[0m \u001b[0;32mfrom\u001b[0m \u001b[0;34m.\u001b[0m \u001b[0;32mimport\u001b[0m \u001b[0mio_utils\u001b[0m\u001b[0;34m\u001b[0m\u001b[0m\n\u001b[0;32m----> 6\u001b[0;31m \u001b[0;32mfrom\u001b[0m \u001b[0;34m.\u001b[0m \u001b[0;32mimport\u001b[0m \u001b[0mconv_utils\u001b[0m\u001b[0;34m\u001b[0m\u001b[0m\n\u001b[0m\u001b[1;32m      7\u001b[0m \u001b[0;34m\u001b[0m\u001b[0m\n\u001b[1;32m      8\u001b[0m \u001b[0;31m# Globally-importable utils.\u001b[0m\u001b[0;34m\u001b[0m\u001b[0;34m\u001b[0m\u001b[0m\n",
      "\u001b[0;32m~/anaconda3/lib/python3.6/site-packages/keras/utils/conv_utils.py\u001b[0m in \u001b[0;36m<module>\u001b[0;34m()\u001b[0m\n\u001b[1;32m      7\u001b[0m \u001b[0;32mfrom\u001b[0m \u001b[0msix\u001b[0m\u001b[0;34m.\u001b[0m\u001b[0mmoves\u001b[0m \u001b[0;32mimport\u001b[0m \u001b[0mrange\u001b[0m\u001b[0;34m\u001b[0m\u001b[0m\n\u001b[1;32m      8\u001b[0m \u001b[0;32mimport\u001b[0m \u001b[0mnumpy\u001b[0m \u001b[0;32mas\u001b[0m \u001b[0mnp\u001b[0m\u001b[0;34m\u001b[0m\u001b[0m\n\u001b[0;32m----> 9\u001b[0;31m \u001b[0;32mfrom\u001b[0m \u001b[0;34m.\u001b[0m\u001b[0;34m.\u001b[0m \u001b[0;32mimport\u001b[0m \u001b[0mbackend\u001b[0m \u001b[0;32mas\u001b[0m \u001b[0mK\u001b[0m\u001b[0;34m\u001b[0m\u001b[0m\n\u001b[0m\u001b[1;32m     10\u001b[0m \u001b[0;34m\u001b[0m\u001b[0m\n\u001b[1;32m     11\u001b[0m \u001b[0;34m\u001b[0m\u001b[0m\n",
      "\u001b[0;32m~/anaconda3/lib/python3.6/site-packages/keras/backend/__init__.py\u001b[0m in \u001b[0;36m<module>\u001b[0;34m()\u001b[0m\n\u001b[1;32m     85\u001b[0m \u001b[0;32melif\u001b[0m \u001b[0m_BACKEND\u001b[0m \u001b[0;34m==\u001b[0m \u001b[0;34m'tensorflow'\u001b[0m\u001b[0;34m:\u001b[0m\u001b[0;34m\u001b[0m\u001b[0m\n\u001b[1;32m     86\u001b[0m     \u001b[0msys\u001b[0m\u001b[0;34m.\u001b[0m\u001b[0mstderr\u001b[0m\u001b[0;34m.\u001b[0m\u001b[0mwrite\u001b[0m\u001b[0;34m(\u001b[0m\u001b[0;34m'Using TensorFlow backend.\\n'\u001b[0m\u001b[0;34m)\u001b[0m\u001b[0;34m\u001b[0m\u001b[0m\n\u001b[0;32m---> 87\u001b[0;31m     \u001b[0;32mfrom\u001b[0m \u001b[0;34m.\u001b[0m\u001b[0mtensorflow_backend\u001b[0m \u001b[0;32mimport\u001b[0m \u001b[0;34m*\u001b[0m\u001b[0;34m\u001b[0m\u001b[0m\n\u001b[0m\u001b[1;32m     88\u001b[0m \u001b[0;32melse\u001b[0m\u001b[0;34m:\u001b[0m\u001b[0;34m\u001b[0m\u001b[0m\n\u001b[1;32m     89\u001b[0m     \u001b[0;31m# Try and load external backend.\u001b[0m\u001b[0;34m\u001b[0m\u001b[0;34m\u001b[0m\u001b[0m\n",
      "\u001b[0;32m~/anaconda3/lib/python3.6/site-packages/keras/backend/tensorflow_backend.py\u001b[0m in \u001b[0;36m<module>\u001b[0;34m()\u001b[0m\n\u001b[1;32m      3\u001b[0m \u001b[0;32mfrom\u001b[0m \u001b[0m__future__\u001b[0m \u001b[0;32mimport\u001b[0m \u001b[0mprint_function\u001b[0m\u001b[0;34m\u001b[0m\u001b[0m\n\u001b[1;32m      4\u001b[0m \u001b[0;34m\u001b[0m\u001b[0m\n\u001b[0;32m----> 5\u001b[0;31m \u001b[0;32mimport\u001b[0m \u001b[0mtensorflow\u001b[0m \u001b[0;32mas\u001b[0m \u001b[0mtf\u001b[0m\u001b[0;34m\u001b[0m\u001b[0m\n\u001b[0m\u001b[1;32m      6\u001b[0m \u001b[0;32mfrom\u001b[0m \u001b[0mtensorflow\u001b[0m\u001b[0;34m.\u001b[0m\u001b[0mpython\u001b[0m\u001b[0;34m.\u001b[0m\u001b[0mframework\u001b[0m \u001b[0;32mimport\u001b[0m \u001b[0mops\u001b[0m \u001b[0;32mas\u001b[0m \u001b[0mtf_ops\u001b[0m\u001b[0;34m\u001b[0m\u001b[0m\n\u001b[1;32m      7\u001b[0m \u001b[0;32mfrom\u001b[0m \u001b[0mtensorflow\u001b[0m\u001b[0;34m.\u001b[0m\u001b[0mpython\u001b[0m\u001b[0;34m.\u001b[0m\u001b[0mtraining\u001b[0m \u001b[0;32mimport\u001b[0m \u001b[0mmoving_averages\u001b[0m\u001b[0;34m\u001b[0m\u001b[0m\n",
      "\u001b[0;32m~/anaconda3/lib/python3.6/site-packages/tensorflow/__init__.py\u001b[0m in \u001b[0;36m<module>\u001b[0;34m()\u001b[0m\n\u001b[1;32m     20\u001b[0m \u001b[0;34m\u001b[0m\u001b[0m\n\u001b[1;32m     21\u001b[0m \u001b[0;31m# pylint: disable=g-bad-import-order\u001b[0m\u001b[0;34m\u001b[0m\u001b[0;34m\u001b[0m\u001b[0m\n\u001b[0;32m---> 22\u001b[0;31m \u001b[0;32mfrom\u001b[0m \u001b[0mtensorflow\u001b[0m\u001b[0;34m.\u001b[0m\u001b[0mpython\u001b[0m \u001b[0;32mimport\u001b[0m \u001b[0mpywrap_tensorflow\u001b[0m  \u001b[0;31m# pylint: disable=unused-import\u001b[0m\u001b[0;34m\u001b[0m\u001b[0m\n\u001b[0m\u001b[1;32m     23\u001b[0m \u001b[0;32mfrom\u001b[0m \u001b[0;34m.\u001b[0m \u001b[0;32mimport\u001b[0m \u001b[0mapp\u001b[0m\u001b[0;34m\u001b[0m\u001b[0m\n\u001b[1;32m     24\u001b[0m \u001b[0;32mfrom\u001b[0m \u001b[0;34m.\u001b[0m \u001b[0;32mimport\u001b[0m \u001b[0mbitwise\u001b[0m\u001b[0;34m\u001b[0m\u001b[0m\n",
      "\u001b[0;32m~/anaconda3/lib/python3.6/site-packages/tensorflow/python/__init__.py\u001b[0m in \u001b[0;36m<module>\u001b[0;34m()\u001b[0m\n\u001b[1;32m     79\u001b[0m \u001b[0;31m# Bring in subpackages.\u001b[0m\u001b[0;34m\u001b[0m\u001b[0;34m\u001b[0m\u001b[0m\n\u001b[1;32m     80\u001b[0m \u001b[0;32mfrom\u001b[0m \u001b[0mtensorflow\u001b[0m\u001b[0;34m.\u001b[0m\u001b[0mpython\u001b[0m \u001b[0;32mimport\u001b[0m \u001b[0mdata\u001b[0m\u001b[0;34m\u001b[0m\u001b[0m\n\u001b[0;32m---> 81\u001b[0;31m \u001b[0;32mfrom\u001b[0m \u001b[0mtensorflow\u001b[0m\u001b[0;34m.\u001b[0m\u001b[0mpython\u001b[0m \u001b[0;32mimport\u001b[0m \u001b[0mkeras\u001b[0m\u001b[0;34m\u001b[0m\u001b[0m\n\u001b[0m\u001b[1;32m     82\u001b[0m \u001b[0;32mfrom\u001b[0m \u001b[0mtensorflow\u001b[0m\u001b[0;34m.\u001b[0m\u001b[0mpython\u001b[0m\u001b[0;34m.\u001b[0m\u001b[0mestimator\u001b[0m \u001b[0;32mimport\u001b[0m \u001b[0mestimator_lib\u001b[0m \u001b[0;32mas\u001b[0m \u001b[0mestimator\u001b[0m\u001b[0;34m\u001b[0m\u001b[0m\n\u001b[1;32m     83\u001b[0m \u001b[0;32mfrom\u001b[0m \u001b[0mtensorflow\u001b[0m\u001b[0;34m.\u001b[0m\u001b[0mpython\u001b[0m\u001b[0;34m.\u001b[0m\u001b[0mfeature_column\u001b[0m \u001b[0;32mimport\u001b[0m \u001b[0mfeature_column_lib\u001b[0m \u001b[0;32mas\u001b[0m \u001b[0mfeature_column\u001b[0m\u001b[0;34m\u001b[0m\u001b[0m\n",
      "\u001b[0;32m~/anaconda3/lib/python3.6/site-packages/tensorflow/python/keras/__init__.py\u001b[0m in \u001b[0;36m<module>\u001b[0;34m()\u001b[0m\n\u001b[1;32m     22\u001b[0m \u001b[0;32mfrom\u001b[0m \u001b[0m__future__\u001b[0m \u001b[0;32mimport\u001b[0m \u001b[0mprint_function\u001b[0m\u001b[0;34m\u001b[0m\u001b[0m\n\u001b[1;32m     23\u001b[0m \u001b[0;34m\u001b[0m\u001b[0m\n\u001b[0;32m---> 24\u001b[0;31m \u001b[0;32mfrom\u001b[0m \u001b[0mtensorflow\u001b[0m\u001b[0;34m.\u001b[0m\u001b[0mpython\u001b[0m\u001b[0;34m.\u001b[0m\u001b[0mkeras\u001b[0m \u001b[0;32mimport\u001b[0m \u001b[0mactivations\u001b[0m\u001b[0;34m\u001b[0m\u001b[0m\n\u001b[0m\u001b[1;32m     25\u001b[0m \u001b[0;32mfrom\u001b[0m \u001b[0mtensorflow\u001b[0m\u001b[0;34m.\u001b[0m\u001b[0mpython\u001b[0m\u001b[0;34m.\u001b[0m\u001b[0mkeras\u001b[0m \u001b[0;32mimport\u001b[0m \u001b[0mapplications\u001b[0m\u001b[0;34m\u001b[0m\u001b[0m\n\u001b[1;32m     26\u001b[0m \u001b[0;32mfrom\u001b[0m \u001b[0mtensorflow\u001b[0m\u001b[0;34m.\u001b[0m\u001b[0mpython\u001b[0m\u001b[0;34m.\u001b[0m\u001b[0mkeras\u001b[0m \u001b[0;32mimport\u001b[0m \u001b[0mbackend\u001b[0m\u001b[0;34m\u001b[0m\u001b[0m\n",
      "\u001b[0;32m~/anaconda3/lib/python3.6/site-packages/tensorflow/python/keras/activations.py\u001b[0m in \u001b[0;36m<module>\u001b[0;34m()\u001b[0m\n\u001b[1;32m     22\u001b[0m \u001b[0;34m\u001b[0m\u001b[0m\n\u001b[1;32m     23\u001b[0m \u001b[0;32mfrom\u001b[0m \u001b[0mtensorflow\u001b[0m\u001b[0;34m.\u001b[0m\u001b[0mpython\u001b[0m\u001b[0;34m.\u001b[0m\u001b[0mkeras\u001b[0m \u001b[0;32mimport\u001b[0m \u001b[0mbackend\u001b[0m \u001b[0;32mas\u001b[0m \u001b[0mK\u001b[0m\u001b[0;34m\u001b[0m\u001b[0m\n\u001b[0;32m---> 24\u001b[0;31m \u001b[0;32mfrom\u001b[0m \u001b[0mtensorflow\u001b[0m\u001b[0;34m.\u001b[0m\u001b[0mpython\u001b[0m\u001b[0;34m.\u001b[0m\u001b[0mkeras\u001b[0m\u001b[0;34m.\u001b[0m\u001b[0mutils\u001b[0m\u001b[0;34m.\u001b[0m\u001b[0mgeneric_utils\u001b[0m \u001b[0;32mimport\u001b[0m \u001b[0mdeserialize_keras_object\u001b[0m\u001b[0;34m\u001b[0m\u001b[0m\n\u001b[0m\u001b[1;32m     25\u001b[0m \u001b[0;32mfrom\u001b[0m \u001b[0mtensorflow\u001b[0m\u001b[0;34m.\u001b[0m\u001b[0mpython\u001b[0m\u001b[0;34m.\u001b[0m\u001b[0mops\u001b[0m \u001b[0;32mimport\u001b[0m \u001b[0mmath_ops\u001b[0m\u001b[0;34m\u001b[0m\u001b[0m\n\u001b[1;32m     26\u001b[0m \u001b[0;32mfrom\u001b[0m \u001b[0mtensorflow\u001b[0m\u001b[0;34m.\u001b[0m\u001b[0mpython\u001b[0m\u001b[0;34m.\u001b[0m\u001b[0mops\u001b[0m \u001b[0;32mimport\u001b[0m \u001b[0mnn\u001b[0m\u001b[0;34m\u001b[0m\u001b[0m\n",
      "\u001b[0;32m~/anaconda3/lib/python3.6/site-packages/tensorflow/python/keras/utils/__init__.py\u001b[0m in \u001b[0;36m<module>\u001b[0;34m()\u001b[0m\n\u001b[1;32m     32\u001b[0m \u001b[0;32mfrom\u001b[0m \u001b[0mtensorflow\u001b[0m\u001b[0;34m.\u001b[0m\u001b[0mpython\u001b[0m\u001b[0;34m.\u001b[0m\u001b[0mkeras\u001b[0m\u001b[0;34m.\u001b[0m\u001b[0mutils\u001b[0m\u001b[0;34m.\u001b[0m\u001b[0mio_utils\u001b[0m \u001b[0;32mimport\u001b[0m \u001b[0mHDF5Matrix\u001b[0m\u001b[0;34m\u001b[0m\u001b[0m\n\u001b[1;32m     33\u001b[0m \u001b[0;32mfrom\u001b[0m \u001b[0mtensorflow\u001b[0m\u001b[0;34m.\u001b[0m\u001b[0mpython\u001b[0m\u001b[0;34m.\u001b[0m\u001b[0mkeras\u001b[0m\u001b[0;34m.\u001b[0m\u001b[0mutils\u001b[0m\u001b[0;34m.\u001b[0m\u001b[0mlayer_utils\u001b[0m \u001b[0;32mimport\u001b[0m \u001b[0mconvert_all_kernels_in_model\u001b[0m\u001b[0;34m\u001b[0m\u001b[0m\n\u001b[0;32m---> 34\u001b[0;31m \u001b[0;32mfrom\u001b[0m \u001b[0mtensorflow\u001b[0m\u001b[0;34m.\u001b[0m\u001b[0mpython\u001b[0m\u001b[0;34m.\u001b[0m\u001b[0mkeras\u001b[0m\u001b[0;34m.\u001b[0m\u001b[0mutils\u001b[0m\u001b[0;34m.\u001b[0m\u001b[0mmulti_gpu_utils\u001b[0m \u001b[0;32mimport\u001b[0m \u001b[0mmulti_gpu_model\u001b[0m\u001b[0;34m\u001b[0m\u001b[0m\n\u001b[0m\u001b[1;32m     35\u001b[0m \u001b[0;32mfrom\u001b[0m \u001b[0mtensorflow\u001b[0m\u001b[0;34m.\u001b[0m\u001b[0mpython\u001b[0m\u001b[0;34m.\u001b[0m\u001b[0mkeras\u001b[0m\u001b[0;34m.\u001b[0m\u001b[0mutils\u001b[0m\u001b[0;34m.\u001b[0m\u001b[0mnp_utils\u001b[0m \u001b[0;32mimport\u001b[0m \u001b[0mnormalize\u001b[0m\u001b[0;34m\u001b[0m\u001b[0m\n\u001b[1;32m     36\u001b[0m \u001b[0;32mfrom\u001b[0m \u001b[0mtensorflow\u001b[0m\u001b[0;34m.\u001b[0m\u001b[0mpython\u001b[0m\u001b[0;34m.\u001b[0m\u001b[0mkeras\u001b[0m\u001b[0;34m.\u001b[0m\u001b[0mutils\u001b[0m\u001b[0;34m.\u001b[0m\u001b[0mnp_utils\u001b[0m \u001b[0;32mimport\u001b[0m \u001b[0mto_categorical\u001b[0m\u001b[0;34m\u001b[0m\u001b[0m\n",
      "\u001b[0;32m~/anaconda3/lib/python3.6/site-packages/tensorflow/python/keras/utils/multi_gpu_utils.py\u001b[0m in \u001b[0;36m<module>\u001b[0;34m()\u001b[0m\n\u001b[1;32m     20\u001b[0m \u001b[0;32mfrom\u001b[0m \u001b[0mtensorflow\u001b[0m\u001b[0;34m.\u001b[0m\u001b[0mpython\u001b[0m\u001b[0;34m.\u001b[0m\u001b[0mframework\u001b[0m \u001b[0;32mimport\u001b[0m \u001b[0mops\u001b[0m\u001b[0;34m\u001b[0m\u001b[0m\n\u001b[1;32m     21\u001b[0m \u001b[0;32mfrom\u001b[0m \u001b[0mtensorflow\u001b[0m\u001b[0;34m.\u001b[0m\u001b[0mpython\u001b[0m\u001b[0;34m.\u001b[0m\u001b[0mkeras\u001b[0m \u001b[0;32mimport\u001b[0m \u001b[0mbackend\u001b[0m \u001b[0;32mas\u001b[0m \u001b[0mK\u001b[0m\u001b[0;34m\u001b[0m\u001b[0m\n\u001b[0;32m---> 22\u001b[0;31m \u001b[0;32mfrom\u001b[0m \u001b[0mtensorflow\u001b[0m\u001b[0;34m.\u001b[0m\u001b[0mpython\u001b[0m\u001b[0;34m.\u001b[0m\u001b[0mkeras\u001b[0m\u001b[0;34m.\u001b[0m\u001b[0mengine\u001b[0m\u001b[0;34m.\u001b[0m\u001b[0mtraining\u001b[0m \u001b[0;32mimport\u001b[0m \u001b[0mModel\u001b[0m\u001b[0;34m\u001b[0m\u001b[0m\n\u001b[0m\u001b[1;32m     23\u001b[0m \u001b[0;32mfrom\u001b[0m \u001b[0mtensorflow\u001b[0m\u001b[0;34m.\u001b[0m\u001b[0mpython\u001b[0m\u001b[0;34m.\u001b[0m\u001b[0mops\u001b[0m \u001b[0;32mimport\u001b[0m \u001b[0marray_ops\u001b[0m\u001b[0;34m\u001b[0m\u001b[0m\n\u001b[1;32m     24\u001b[0m \u001b[0;32mfrom\u001b[0m \u001b[0mtensorflow\u001b[0m\u001b[0;34m.\u001b[0m\u001b[0mpython\u001b[0m\u001b[0;34m.\u001b[0m\u001b[0mutil\u001b[0m\u001b[0;34m.\u001b[0m\u001b[0mtf_export\u001b[0m \u001b[0;32mimport\u001b[0m \u001b[0mtf_export\u001b[0m\u001b[0;34m\u001b[0m\u001b[0m\n",
      "\u001b[0;32m~/anaconda3/lib/python3.6/site-packages/tensorflow/python/keras/engine/__init__.py\u001b[0m in \u001b[0;36m<module>\u001b[0;34m()\u001b[0m\n\u001b[1;32m     23\u001b[0m \u001b[0;32mfrom\u001b[0m \u001b[0mtensorflow\u001b[0m\u001b[0;34m.\u001b[0m\u001b[0mpython\u001b[0m\u001b[0;34m.\u001b[0m\u001b[0mkeras\u001b[0m\u001b[0;34m.\u001b[0m\u001b[0mengine\u001b[0m\u001b[0;34m.\u001b[0m\u001b[0minput_layer\u001b[0m \u001b[0;32mimport\u001b[0m \u001b[0mInput\u001b[0m\u001b[0;34m\u001b[0m\u001b[0m\n\u001b[1;32m     24\u001b[0m \u001b[0;32mfrom\u001b[0m \u001b[0mtensorflow\u001b[0m\u001b[0;34m.\u001b[0m\u001b[0mpython\u001b[0m\u001b[0;34m.\u001b[0m\u001b[0mkeras\u001b[0m\u001b[0;34m.\u001b[0m\u001b[0mengine\u001b[0m\u001b[0;34m.\u001b[0m\u001b[0minput_layer\u001b[0m \u001b[0;32mimport\u001b[0m \u001b[0mInputLayer\u001b[0m\u001b[0;34m\u001b[0m\u001b[0m\n\u001b[0;32m---> 25\u001b[0;31m \u001b[0;32mfrom\u001b[0m \u001b[0mtensorflow\u001b[0m\u001b[0;34m.\u001b[0m\u001b[0mpython\u001b[0m\u001b[0;34m.\u001b[0m\u001b[0mkeras\u001b[0m\u001b[0;34m.\u001b[0m\u001b[0mengine\u001b[0m\u001b[0;34m.\u001b[0m\u001b[0mnetwork\u001b[0m \u001b[0;32mimport\u001b[0m \u001b[0mget_source_inputs\u001b[0m\u001b[0;34m\u001b[0m\u001b[0m\n\u001b[0m\u001b[1;32m     26\u001b[0m \u001b[0;32mfrom\u001b[0m \u001b[0mtensorflow\u001b[0m\u001b[0;34m.\u001b[0m\u001b[0mpython\u001b[0m\u001b[0;34m.\u001b[0m\u001b[0mkeras\u001b[0m\u001b[0;34m.\u001b[0m\u001b[0mengine\u001b[0m\u001b[0;34m.\u001b[0m\u001b[0mnetwork\u001b[0m \u001b[0;32mimport\u001b[0m \u001b[0mNetwork\u001b[0m\u001b[0;34m\u001b[0m\u001b[0m\n\u001b[1;32m     27\u001b[0m \u001b[0;32mfrom\u001b[0m \u001b[0mtensorflow\u001b[0m\u001b[0;34m.\u001b[0m\u001b[0mpython\u001b[0m\u001b[0;34m.\u001b[0m\u001b[0mkeras\u001b[0m\u001b[0;34m.\u001b[0m\u001b[0mengine\u001b[0m\u001b[0;34m.\u001b[0m\u001b[0mtraining\u001b[0m \u001b[0;32mimport\u001b[0m \u001b[0mModel\u001b[0m\u001b[0;34m\u001b[0m\u001b[0m\n",
      "\u001b[0;32m~/anaconda3/lib/python3.6/site-packages/tensorflow/python/keras/engine/network.py\u001b[0m in \u001b[0;36m<module>\u001b[0;34m()\u001b[0m\n\u001b[1;32m     36\u001b[0m \u001b[0;32mfrom\u001b[0m \u001b[0mtensorflow\u001b[0m\u001b[0;34m.\u001b[0m\u001b[0mpython\u001b[0m\u001b[0;34m.\u001b[0m\u001b[0mkeras\u001b[0m \u001b[0;32mimport\u001b[0m \u001b[0mbackend\u001b[0m\u001b[0;34m\u001b[0m\u001b[0m\n\u001b[1;32m     37\u001b[0m \u001b[0;32mfrom\u001b[0m \u001b[0mtensorflow\u001b[0m\u001b[0;34m.\u001b[0m\u001b[0mpython\u001b[0m\u001b[0;34m.\u001b[0m\u001b[0mkeras\u001b[0m\u001b[0;34m.\u001b[0m\u001b[0mengine\u001b[0m \u001b[0;32mimport\u001b[0m \u001b[0mbase_layer\u001b[0m\u001b[0;34m\u001b[0m\u001b[0m\n\u001b[0;32m---> 38\u001b[0;31m \u001b[0;32mfrom\u001b[0m \u001b[0mtensorflow\u001b[0m\u001b[0;34m.\u001b[0m\u001b[0mpython\u001b[0m\u001b[0;34m.\u001b[0m\u001b[0mkeras\u001b[0m\u001b[0;34m.\u001b[0m\u001b[0mengine\u001b[0m \u001b[0;32mimport\u001b[0m \u001b[0msaving\u001b[0m\u001b[0;34m\u001b[0m\u001b[0m\n\u001b[0m\u001b[1;32m     39\u001b[0m \u001b[0;32mfrom\u001b[0m \u001b[0mtensorflow\u001b[0m\u001b[0;34m.\u001b[0m\u001b[0mpython\u001b[0m\u001b[0;34m.\u001b[0m\u001b[0mkeras\u001b[0m\u001b[0;34m.\u001b[0m\u001b[0mutils\u001b[0m \u001b[0;32mimport\u001b[0m \u001b[0mgeneric_utils\u001b[0m\u001b[0;34m\u001b[0m\u001b[0m\n\u001b[1;32m     40\u001b[0m \u001b[0;32mfrom\u001b[0m \u001b[0mtensorflow\u001b[0m\u001b[0;34m.\u001b[0m\u001b[0mpython\u001b[0m\u001b[0;34m.\u001b[0m\u001b[0mkeras\u001b[0m\u001b[0;34m.\u001b[0m\u001b[0mutils\u001b[0m \u001b[0;32mimport\u001b[0m \u001b[0mlayer_utils\u001b[0m\u001b[0;34m\u001b[0m\u001b[0m\n",
      "\u001b[0;32m~/anaconda3/lib/python3.6/site-packages/tensorflow/python/keras/engine/saving.py\u001b[0m in \u001b[0;36m<module>\u001b[0;34m()\u001b[0m\n\u001b[1;32m     27\u001b[0m \u001b[0;34m\u001b[0m\u001b[0m\n\u001b[1;32m     28\u001b[0m \u001b[0;32mfrom\u001b[0m \u001b[0mtensorflow\u001b[0m\u001b[0;34m.\u001b[0m\u001b[0mpython\u001b[0m\u001b[0;34m.\u001b[0m\u001b[0mkeras\u001b[0m \u001b[0;32mimport\u001b[0m \u001b[0mbackend\u001b[0m \u001b[0;32mas\u001b[0m \u001b[0mK\u001b[0m\u001b[0;34m\u001b[0m\u001b[0m\n\u001b[0;32m---> 29\u001b[0;31m \u001b[0;32mfrom\u001b[0m \u001b[0mtensorflow\u001b[0m\u001b[0;34m.\u001b[0m\u001b[0mpython\u001b[0m\u001b[0;34m.\u001b[0m\u001b[0mkeras\u001b[0m \u001b[0;32mimport\u001b[0m \u001b[0moptimizers\u001b[0m\u001b[0;34m\u001b[0m\u001b[0m\n\u001b[0m\u001b[1;32m     30\u001b[0m \u001b[0;32mfrom\u001b[0m \u001b[0mtensorflow\u001b[0m\u001b[0;34m.\u001b[0m\u001b[0mpython\u001b[0m\u001b[0;34m.\u001b[0m\u001b[0mkeras\u001b[0m\u001b[0;34m.\u001b[0m\u001b[0mutils\u001b[0m \u001b[0;32mimport\u001b[0m \u001b[0mconv_utils\u001b[0m\u001b[0;34m\u001b[0m\u001b[0m\n\u001b[1;32m     31\u001b[0m \u001b[0;32mfrom\u001b[0m \u001b[0mtensorflow\u001b[0m\u001b[0;34m.\u001b[0m\u001b[0mpython\u001b[0m\u001b[0;34m.\u001b[0m\u001b[0mkeras\u001b[0m\u001b[0;34m.\u001b[0m\u001b[0mutils\u001b[0m\u001b[0;34m.\u001b[0m\u001b[0mio_utils\u001b[0m \u001b[0;32mimport\u001b[0m \u001b[0mask_to_proceed_with_overwrite\u001b[0m\u001b[0;34m\u001b[0m\u001b[0m\n",
      "\u001b[0;32m~/anaconda3/lib/python3.6/site-packages/tensorflow/python/keras/optimizers.py\u001b[0m in \u001b[0;36m<module>\u001b[0;34m()\u001b[0m\n\u001b[1;32m     33\u001b[0m \u001b[0;32mfrom\u001b[0m \u001b[0mtensorflow\u001b[0m\u001b[0;34m.\u001b[0m\u001b[0mpython\u001b[0m\u001b[0;34m.\u001b[0m\u001b[0mops\u001b[0m \u001b[0;32mimport\u001b[0m \u001b[0mmath_ops\u001b[0m\u001b[0;34m\u001b[0m\u001b[0m\n\u001b[1;32m     34\u001b[0m \u001b[0;32mfrom\u001b[0m \u001b[0mtensorflow\u001b[0m\u001b[0;34m.\u001b[0m\u001b[0mpython\u001b[0m\u001b[0;34m.\u001b[0m\u001b[0mops\u001b[0m \u001b[0;32mimport\u001b[0m \u001b[0mstate_ops\u001b[0m\u001b[0;34m\u001b[0m\u001b[0m\n\u001b[0;32m---> 35\u001b[0;31m \u001b[0;32mfrom\u001b[0m \u001b[0mtensorflow\u001b[0m\u001b[0;34m.\u001b[0m\u001b[0mpython\u001b[0m\u001b[0;34m.\u001b[0m\u001b[0mtraining\u001b[0m \u001b[0;32mimport\u001b[0m \u001b[0mdistribute\u001b[0m \u001b[0;32mas\u001b[0m \u001b[0mdistribute_lib\u001b[0m\u001b[0;34m\u001b[0m\u001b[0m\n\u001b[0m\u001b[1;32m     36\u001b[0m \u001b[0;32mfrom\u001b[0m \u001b[0mtensorflow\u001b[0m\u001b[0;34m.\u001b[0m\u001b[0mpython\u001b[0m\u001b[0;34m.\u001b[0m\u001b[0mtraining\u001b[0m \u001b[0;32mimport\u001b[0m \u001b[0moptimizer\u001b[0m \u001b[0;32mas\u001b[0m \u001b[0mtf_optimizer_module\u001b[0m\u001b[0;34m\u001b[0m\u001b[0m\n\u001b[1;32m     37\u001b[0m \u001b[0;32mfrom\u001b[0m \u001b[0mtensorflow\u001b[0m\u001b[0;34m.\u001b[0m\u001b[0mpython\u001b[0m\u001b[0;34m.\u001b[0m\u001b[0mtraining\u001b[0m \u001b[0;32mimport\u001b[0m \u001b[0mtraining_util\u001b[0m\u001b[0;34m\u001b[0m\u001b[0m\n",
      "\u001b[0;32m~/anaconda3/lib/python3.6/site-packages/tensorflow/python/training/distribute.py\u001b[0m in \u001b[0;36m<module>\u001b[0;34m()\u001b[0m\n\u001b[1;32m     29\u001b[0m \u001b[0;32mfrom\u001b[0m \u001b[0mtensorflow\u001b[0m\u001b[0;34m.\u001b[0m\u001b[0mpython\u001b[0m\u001b[0;34m.\u001b[0m\u001b[0mops\u001b[0m \u001b[0;32mimport\u001b[0m \u001b[0mstate_ops\u001b[0m\u001b[0;34m\u001b[0m\u001b[0m\n\u001b[1;32m     30\u001b[0m \u001b[0;32mfrom\u001b[0m \u001b[0mtensorflow\u001b[0m\u001b[0;34m.\u001b[0m\u001b[0mpython\u001b[0m\u001b[0;34m.\u001b[0m\u001b[0mops\u001b[0m \u001b[0;32mimport\u001b[0m \u001b[0mvariable_scope\u001b[0m\u001b[0;34m\u001b[0m\u001b[0m\n\u001b[0;32m---> 31\u001b[0;31m \u001b[0;32mfrom\u001b[0m \u001b[0mtensorflow\u001b[0m\u001b[0;34m.\u001b[0m\u001b[0mpython\u001b[0m\u001b[0;34m.\u001b[0m\u001b[0mops\u001b[0m\u001b[0;34m.\u001b[0m\u001b[0mlosses\u001b[0m \u001b[0;32mimport\u001b[0m \u001b[0mlosses_impl\u001b[0m\u001b[0;34m\u001b[0m\u001b[0m\n\u001b[0m\u001b[1;32m     32\u001b[0m \u001b[0;32mfrom\u001b[0m \u001b[0mtensorflow\u001b[0m\u001b[0;34m.\u001b[0m\u001b[0mpython\u001b[0m\u001b[0;34m.\u001b[0m\u001b[0mplatform\u001b[0m \u001b[0;32mimport\u001b[0m \u001b[0mtf_logging\u001b[0m\u001b[0;34m\u001b[0m\u001b[0m\n\u001b[1;32m     33\u001b[0m \u001b[0;32mfrom\u001b[0m \u001b[0mtensorflow\u001b[0m\u001b[0;34m.\u001b[0m\u001b[0mpython\u001b[0m\u001b[0;34m.\u001b[0m\u001b[0mtraining\u001b[0m \u001b[0;32mimport\u001b[0m \u001b[0mdevice_util\u001b[0m\u001b[0;34m\u001b[0m\u001b[0m\n",
      "\u001b[0;32m~/anaconda3/lib/python3.6/site-packages/tensorflow/python/ops/losses/losses_impl.py\u001b[0m in \u001b[0;36m<module>\u001b[0;34m()\u001b[0m\n\u001b[1;32m     27\u001b[0m \u001b[0;32mfrom\u001b[0m \u001b[0mtensorflow\u001b[0m\u001b[0;34m.\u001b[0m\u001b[0mpython\u001b[0m\u001b[0;34m.\u001b[0m\u001b[0mops\u001b[0m \u001b[0;32mimport\u001b[0m \u001b[0mnn\u001b[0m\u001b[0;34m\u001b[0m\u001b[0m\n\u001b[1;32m     28\u001b[0m \u001b[0;32mfrom\u001b[0m \u001b[0mtensorflow\u001b[0m\u001b[0;34m.\u001b[0m\u001b[0mpython\u001b[0m\u001b[0;34m.\u001b[0m\u001b[0mops\u001b[0m \u001b[0;32mimport\u001b[0m \u001b[0mnn_ops\u001b[0m\u001b[0;34m\u001b[0m\u001b[0m\n\u001b[0;32m---> 29\u001b[0;31m \u001b[0;32mfrom\u001b[0m \u001b[0mtensorflow\u001b[0m\u001b[0;34m.\u001b[0m\u001b[0mpython\u001b[0m\u001b[0;34m.\u001b[0m\u001b[0mops\u001b[0m \u001b[0;32mimport\u001b[0m \u001b[0mweights_broadcast_ops\u001b[0m\u001b[0;34m\u001b[0m\u001b[0m\n\u001b[0m\u001b[1;32m     30\u001b[0m \u001b[0;32mfrom\u001b[0m \u001b[0mtensorflow\u001b[0m\u001b[0;34m.\u001b[0m\u001b[0mpython\u001b[0m\u001b[0;34m.\u001b[0m\u001b[0mops\u001b[0m\u001b[0;34m.\u001b[0m\u001b[0mlosses\u001b[0m \u001b[0;32mimport\u001b[0m \u001b[0mutil\u001b[0m\u001b[0;34m\u001b[0m\u001b[0m\n\u001b[1;32m     31\u001b[0m \u001b[0;32mfrom\u001b[0m \u001b[0mtensorflow\u001b[0m\u001b[0;34m.\u001b[0m\u001b[0mpython\u001b[0m\u001b[0;34m.\u001b[0m\u001b[0mutil\u001b[0m\u001b[0;34m.\u001b[0m\u001b[0mdeprecation\u001b[0m \u001b[0;32mimport\u001b[0m \u001b[0mdeprecated_args\u001b[0m\u001b[0;34m\u001b[0m\u001b[0m\n",
      "\u001b[0;32m~/anaconda3/lib/python3.6/site-packages/tensorflow/python/ops/weights_broadcast_ops.py\u001b[0m in \u001b[0;36m<module>\u001b[0;34m()\u001b[0m\n\u001b[1;32m     28\u001b[0m \u001b[0;32mfrom\u001b[0m \u001b[0mtensorflow\u001b[0m\u001b[0;34m.\u001b[0m\u001b[0mpython\u001b[0m\u001b[0;34m.\u001b[0m\u001b[0mops\u001b[0m \u001b[0;32mimport\u001b[0m \u001b[0mcontrol_flow_ops\u001b[0m\u001b[0;34m\u001b[0m\u001b[0m\n\u001b[1;32m     29\u001b[0m \u001b[0;32mfrom\u001b[0m \u001b[0mtensorflow\u001b[0m\u001b[0;34m.\u001b[0m\u001b[0mpython\u001b[0m\u001b[0;34m.\u001b[0m\u001b[0mops\u001b[0m \u001b[0;32mimport\u001b[0m \u001b[0mmath_ops\u001b[0m\u001b[0;34m\u001b[0m\u001b[0m\n\u001b[0;32m---> 30\u001b[0;31m \u001b[0;32mfrom\u001b[0m \u001b[0mtensorflow\u001b[0m\u001b[0;34m.\u001b[0m\u001b[0mpython\u001b[0m\u001b[0;34m.\u001b[0m\u001b[0mops\u001b[0m \u001b[0;32mimport\u001b[0m \u001b[0msets\u001b[0m\u001b[0;34m\u001b[0m\u001b[0m\n\u001b[0m\u001b[1;32m     31\u001b[0m \u001b[0;34m\u001b[0m\u001b[0m\n\u001b[1;32m     32\u001b[0m \u001b[0;34m\u001b[0m\u001b[0m\n",
      "\u001b[0;32m~/anaconda3/lib/python3.6/site-packages/tensorflow/python/ops/sets.py\u001b[0m in \u001b[0;36m<module>\u001b[0;34m()\u001b[0m\n\u001b[1;32m     21\u001b[0m \u001b[0;31m# go/tf-wildcard-import\u001b[0m\u001b[0;34m\u001b[0m\u001b[0;34m\u001b[0m\u001b[0m\n\u001b[1;32m     22\u001b[0m \u001b[0;31m# pylint: disable=wildcard-import\u001b[0m\u001b[0;34m\u001b[0m\u001b[0;34m\u001b[0m\u001b[0m\n\u001b[0;32m---> 23\u001b[0;31m \u001b[0;32mfrom\u001b[0m \u001b[0mtensorflow\u001b[0m\u001b[0;34m.\u001b[0m\u001b[0mpython\u001b[0m\u001b[0;34m.\u001b[0m\u001b[0mops\u001b[0m\u001b[0;34m.\u001b[0m\u001b[0msets_impl\u001b[0m \u001b[0;32mimport\u001b[0m \u001b[0;34m*\u001b[0m\u001b[0;34m\u001b[0m\u001b[0m\n\u001b[0m\u001b[1;32m     24\u001b[0m \u001b[0;31m# pylint: enable=wildcard-import\u001b[0m\u001b[0;34m\u001b[0m\u001b[0;34m\u001b[0m\u001b[0m\n",
      "\u001b[0;32m~/anaconda3/lib/python3.6/site-packages/tensorflow/python/ops/sets_impl.py\u001b[0m in \u001b[0;36m<module>\u001b[0;34m()\u001b[0m\n\u001b[1;32m     58\u001b[0m       a.indices, a.values, a.dense_shape, validate_indices)\n\u001b[1;32m     59\u001b[0m \u001b[0;34m\u001b[0m\u001b[0m\n\u001b[0;32m---> 60\u001b[0;31m \u001b[0mops\u001b[0m\u001b[0;34m.\u001b[0m\u001b[0mNotDifferentiable\u001b[0m\u001b[0;34m(\u001b[0m\u001b[0;34m\"SetSize\"\u001b[0m\u001b[0;34m)\u001b[0m\u001b[0;34m\u001b[0m\u001b[0m\n\u001b[0m\u001b[1;32m     61\u001b[0m \u001b[0;34m\u001b[0m\u001b[0m\n\u001b[1;32m     62\u001b[0m \u001b[0;34m\u001b[0m\u001b[0m\n",
      "\u001b[0;32m~/anaconda3/lib/python3.6/site-packages/tensorflow/python/framework/ops.py\u001b[0m in \u001b[0;36mNotDifferentiable\u001b[0;34m(op_type)\u001b[0m\n\u001b[1;32m   2476\u001b[0m   \u001b[0;32mif\u001b[0m \u001b[0;32mnot\u001b[0m \u001b[0misinstance\u001b[0m\u001b[0;34m(\u001b[0m\u001b[0mop_type\u001b[0m\u001b[0;34m,\u001b[0m \u001b[0msix\u001b[0m\u001b[0;34m.\u001b[0m\u001b[0mstring_types\u001b[0m\u001b[0;34m)\u001b[0m\u001b[0;34m:\u001b[0m\u001b[0;34m\u001b[0m\u001b[0m\n\u001b[1;32m   2477\u001b[0m     \u001b[0;32mraise\u001b[0m \u001b[0mTypeError\u001b[0m\u001b[0;34m(\u001b[0m\u001b[0;34m\"op_type must be a string\"\u001b[0m\u001b[0;34m)\u001b[0m\u001b[0;34m\u001b[0m\u001b[0m\n\u001b[0;32m-> 2478\u001b[0;31m   \u001b[0m_gradient_registry\u001b[0m\u001b[0;34m.\u001b[0m\u001b[0mregister\u001b[0m\u001b[0;34m(\u001b[0m\u001b[0;32mNone\u001b[0m\u001b[0;34m,\u001b[0m \u001b[0mop_type\u001b[0m\u001b[0;34m)\u001b[0m\u001b[0;34m\u001b[0m\u001b[0m\n\u001b[0m\u001b[1;32m   2479\u001b[0m \u001b[0;34m\u001b[0m\u001b[0m\n\u001b[1;32m   2480\u001b[0m \u001b[0;34m\u001b[0m\u001b[0m\n",
      "\u001b[0;32m~/anaconda3/lib/python3.6/site-packages/tensorflow/python/framework/registry.py\u001b[0m in \u001b[0;36mregister\u001b[0;34m(self, candidate, name)\u001b[0m\n\u001b[1;32m     65\u001b[0m     \u001b[0;31m# stack trace is [this_function, Register(), user_function,...]\u001b[0m\u001b[0;34m\u001b[0m\u001b[0;34m\u001b[0m\u001b[0m\n\u001b[1;32m     66\u001b[0m     \u001b[0;31m# so the user function is #2.\u001b[0m\u001b[0;34m\u001b[0m\u001b[0;34m\u001b[0m\u001b[0m\n\u001b[0;32m---> 67\u001b[0;31m     \u001b[0mstack\u001b[0m \u001b[0;34m=\u001b[0m \u001b[0mtraceback\u001b[0m\u001b[0;34m.\u001b[0m\u001b[0mextract_stack\u001b[0m\u001b[0;34m(\u001b[0m\u001b[0;34m)\u001b[0m\u001b[0;34m\u001b[0m\u001b[0m\n\u001b[0m\u001b[1;32m     68\u001b[0m     \u001b[0mself\u001b[0m\u001b[0;34m.\u001b[0m\u001b[0m_registry\u001b[0m\u001b[0;34m[\u001b[0m\u001b[0mname\u001b[0m\u001b[0;34m]\u001b[0m \u001b[0;34m=\u001b[0m \u001b[0;34m{\u001b[0m\u001b[0m_TYPE_TAG\u001b[0m\u001b[0;34m:\u001b[0m \u001b[0mcandidate\u001b[0m\u001b[0;34m,\u001b[0m \u001b[0m_LOCATION_TAG\u001b[0m\u001b[0;34m:\u001b[0m \u001b[0mstack\u001b[0m\u001b[0;34m[\u001b[0m\u001b[0;36m2\u001b[0m\u001b[0;34m]\u001b[0m\u001b[0;34m}\u001b[0m\u001b[0;34m\u001b[0m\u001b[0m\n\u001b[1;32m     69\u001b[0m \u001b[0;34m\u001b[0m\u001b[0m\n",
      "\u001b[0;32m~/anaconda3/lib/python3.6/traceback.py\u001b[0m in \u001b[0;36mextract_stack\u001b[0;34m(f, limit)\u001b[0m\n\u001b[1;32m    205\u001b[0m     \u001b[0;32mif\u001b[0m \u001b[0mf\u001b[0m \u001b[0;32mis\u001b[0m \u001b[0;32mNone\u001b[0m\u001b[0;34m:\u001b[0m\u001b[0;34m\u001b[0m\u001b[0m\n\u001b[1;32m    206\u001b[0m         \u001b[0mf\u001b[0m \u001b[0;34m=\u001b[0m \u001b[0msys\u001b[0m\u001b[0;34m.\u001b[0m\u001b[0m_getframe\u001b[0m\u001b[0;34m(\u001b[0m\u001b[0;34m)\u001b[0m\u001b[0;34m.\u001b[0m\u001b[0mf_back\u001b[0m\u001b[0;34m\u001b[0m\u001b[0m\n\u001b[0;32m--> 207\u001b[0;31m     \u001b[0mstack\u001b[0m \u001b[0;34m=\u001b[0m \u001b[0mStackSummary\u001b[0m\u001b[0;34m.\u001b[0m\u001b[0mextract\u001b[0m\u001b[0;34m(\u001b[0m\u001b[0mwalk_stack\u001b[0m\u001b[0;34m(\u001b[0m\u001b[0mf\u001b[0m\u001b[0;34m)\u001b[0m\u001b[0;34m,\u001b[0m \u001b[0mlimit\u001b[0m\u001b[0;34m=\u001b[0m\u001b[0mlimit\u001b[0m\u001b[0;34m)\u001b[0m\u001b[0;34m\u001b[0m\u001b[0m\n\u001b[0m\u001b[1;32m    208\u001b[0m     \u001b[0mstack\u001b[0m\u001b[0;34m.\u001b[0m\u001b[0mreverse\u001b[0m\u001b[0;34m(\u001b[0m\u001b[0;34m)\u001b[0m\u001b[0;34m\u001b[0m\u001b[0m\n\u001b[1;32m    209\u001b[0m     \u001b[0;32mreturn\u001b[0m \u001b[0mstack\u001b[0m\u001b[0;34m\u001b[0m\u001b[0m\n",
      "\u001b[0;32m~/anaconda3/lib/python3.6/traceback.py\u001b[0m in \u001b[0;36mextract\u001b[0;34m(klass, frame_gen, limit, lookup_lines, capture_locals)\u001b[0m\n\u001b[1;32m    356\u001b[0m         \u001b[0;32mif\u001b[0m \u001b[0mlookup_lines\u001b[0m\u001b[0;34m:\u001b[0m\u001b[0;34m\u001b[0m\u001b[0m\n\u001b[1;32m    357\u001b[0m             \u001b[0;32mfor\u001b[0m \u001b[0mf\u001b[0m \u001b[0;32min\u001b[0m \u001b[0mresult\u001b[0m\u001b[0;34m:\u001b[0m\u001b[0;34m\u001b[0m\u001b[0m\n\u001b[0;32m--> 358\u001b[0;31m                 \u001b[0mf\u001b[0m\u001b[0;34m.\u001b[0m\u001b[0mline\u001b[0m\u001b[0;34m\u001b[0m\u001b[0m\n\u001b[0m\u001b[1;32m    359\u001b[0m         \u001b[0;32mreturn\u001b[0m \u001b[0mresult\u001b[0m\u001b[0;34m\u001b[0m\u001b[0m\n\u001b[1;32m    360\u001b[0m \u001b[0;34m\u001b[0m\u001b[0m\n",
      "\u001b[0;32m~/anaconda3/lib/python3.6/traceback.py\u001b[0m in \u001b[0;36mline\u001b[0;34m(self)\u001b[0m\n\u001b[1;32m    280\u001b[0m     \u001b[0;32mdef\u001b[0m \u001b[0mline\u001b[0m\u001b[0;34m(\u001b[0m\u001b[0mself\u001b[0m\u001b[0;34m)\u001b[0m\u001b[0;34m:\u001b[0m\u001b[0;34m\u001b[0m\u001b[0m\n\u001b[1;32m    281\u001b[0m         \u001b[0;32mif\u001b[0m \u001b[0mself\u001b[0m\u001b[0;34m.\u001b[0m\u001b[0m_line\u001b[0m \u001b[0;32mis\u001b[0m \u001b[0;32mNone\u001b[0m\u001b[0;34m:\u001b[0m\u001b[0;34m\u001b[0m\u001b[0m\n\u001b[0;32m--> 282\u001b[0;31m             \u001b[0mself\u001b[0m\u001b[0;34m.\u001b[0m\u001b[0m_line\u001b[0m \u001b[0;34m=\u001b[0m \u001b[0mlinecache\u001b[0m\u001b[0;34m.\u001b[0m\u001b[0mgetline\u001b[0m\u001b[0;34m(\u001b[0m\u001b[0mself\u001b[0m\u001b[0;34m.\u001b[0m\u001b[0mfilename\u001b[0m\u001b[0;34m,\u001b[0m \u001b[0mself\u001b[0m\u001b[0;34m.\u001b[0m\u001b[0mlineno\u001b[0m\u001b[0;34m)\u001b[0m\u001b[0;34m.\u001b[0m\u001b[0mstrip\u001b[0m\u001b[0;34m(\u001b[0m\u001b[0;34m)\u001b[0m\u001b[0;34m\u001b[0m\u001b[0m\n\u001b[0m\u001b[1;32m    283\u001b[0m         \u001b[0;32mreturn\u001b[0m \u001b[0mself\u001b[0m\u001b[0;34m.\u001b[0m\u001b[0m_line\u001b[0m\u001b[0;34m\u001b[0m\u001b[0m\n\u001b[1;32m    284\u001b[0m \u001b[0;34m\u001b[0m\u001b[0m\n",
      "\u001b[0;32m~/anaconda3/lib/python3.6/linecache.py\u001b[0m in \u001b[0;36mgetline\u001b[0;34m(filename, lineno, module_globals)\u001b[0m\n\u001b[1;32m     14\u001b[0m \u001b[0;34m\u001b[0m\u001b[0m\n\u001b[1;32m     15\u001b[0m \u001b[0;32mdef\u001b[0m \u001b[0mgetline\u001b[0m\u001b[0;34m(\u001b[0m\u001b[0mfilename\u001b[0m\u001b[0;34m,\u001b[0m \u001b[0mlineno\u001b[0m\u001b[0;34m,\u001b[0m \u001b[0mmodule_globals\u001b[0m\u001b[0;34m=\u001b[0m\u001b[0;32mNone\u001b[0m\u001b[0;34m)\u001b[0m\u001b[0;34m:\u001b[0m\u001b[0;34m\u001b[0m\u001b[0m\n\u001b[0;32m---> 16\u001b[0;31m     \u001b[0mlines\u001b[0m \u001b[0;34m=\u001b[0m \u001b[0mgetlines\u001b[0m\u001b[0;34m(\u001b[0m\u001b[0mfilename\u001b[0m\u001b[0;34m,\u001b[0m \u001b[0mmodule_globals\u001b[0m\u001b[0;34m)\u001b[0m\u001b[0;34m\u001b[0m\u001b[0m\n\u001b[0m\u001b[1;32m     17\u001b[0m     \u001b[0;32mif\u001b[0m \u001b[0;36m1\u001b[0m \u001b[0;34m<=\u001b[0m \u001b[0mlineno\u001b[0m \u001b[0;34m<=\u001b[0m \u001b[0mlen\u001b[0m\u001b[0;34m(\u001b[0m\u001b[0mlines\u001b[0m\u001b[0;34m)\u001b[0m\u001b[0;34m:\u001b[0m\u001b[0;34m\u001b[0m\u001b[0m\n\u001b[1;32m     18\u001b[0m         \u001b[0;32mreturn\u001b[0m \u001b[0mlines\u001b[0m\u001b[0;34m[\u001b[0m\u001b[0mlineno\u001b[0m\u001b[0;34m-\u001b[0m\u001b[0;36m1\u001b[0m\u001b[0;34m]\u001b[0m\u001b[0;34m\u001b[0m\u001b[0m\n",
      "\u001b[0;32m~/anaconda3/lib/python3.6/linecache.py\u001b[0m in \u001b[0;36mgetlines\u001b[0;34m(filename, module_globals)\u001b[0m\n\u001b[1;32m     45\u001b[0m \u001b[0;34m\u001b[0m\u001b[0m\n\u001b[1;32m     46\u001b[0m     \u001b[0;32mtry\u001b[0m\u001b[0;34m:\u001b[0m\u001b[0;34m\u001b[0m\u001b[0m\n\u001b[0;32m---> 47\u001b[0;31m         \u001b[0;32mreturn\u001b[0m \u001b[0mupdatecache\u001b[0m\u001b[0;34m(\u001b[0m\u001b[0mfilename\u001b[0m\u001b[0;34m,\u001b[0m \u001b[0mmodule_globals\u001b[0m\u001b[0;34m)\u001b[0m\u001b[0;34m\u001b[0m\u001b[0m\n\u001b[0m\u001b[1;32m     48\u001b[0m     \u001b[0;32mexcept\u001b[0m \u001b[0mMemoryError\u001b[0m\u001b[0;34m:\u001b[0m\u001b[0;34m\u001b[0m\u001b[0m\n\u001b[1;32m     49\u001b[0m         \u001b[0mclearcache\u001b[0m\u001b[0;34m(\u001b[0m\u001b[0;34m)\u001b[0m\u001b[0;34m\u001b[0m\u001b[0m\n",
      "\u001b[0;32m~/anaconda3/lib/python3.6/linecache.py\u001b[0m in \u001b[0;36mupdatecache\u001b[0;34m(filename, module_globals)\u001b[0m\n\u001b[1;32m    134\u001b[0m             \u001b[0;32mreturn\u001b[0m \u001b[0;34m[\u001b[0m\u001b[0;34m]\u001b[0m\u001b[0;34m\u001b[0m\u001b[0m\n\u001b[1;32m    135\u001b[0m     \u001b[0;32mtry\u001b[0m\u001b[0;34m:\u001b[0m\u001b[0;34m\u001b[0m\u001b[0m\n\u001b[0;32m--> 136\u001b[0;31m         \u001b[0;32mwith\u001b[0m \u001b[0mtokenize\u001b[0m\u001b[0;34m.\u001b[0m\u001b[0mopen\u001b[0m\u001b[0;34m(\u001b[0m\u001b[0mfullname\u001b[0m\u001b[0;34m)\u001b[0m \u001b[0;32mas\u001b[0m \u001b[0mfp\u001b[0m\u001b[0;34m:\u001b[0m\u001b[0;34m\u001b[0m\u001b[0m\n\u001b[0m\u001b[1;32m    137\u001b[0m             \u001b[0mlines\u001b[0m \u001b[0;34m=\u001b[0m \u001b[0mfp\u001b[0m\u001b[0;34m.\u001b[0m\u001b[0mreadlines\u001b[0m\u001b[0;34m(\u001b[0m\u001b[0;34m)\u001b[0m\u001b[0;34m\u001b[0m\u001b[0m\n\u001b[1;32m    138\u001b[0m     \u001b[0;32mexcept\u001b[0m \u001b[0mOSError\u001b[0m\u001b[0;34m:\u001b[0m\u001b[0;34m\u001b[0m\u001b[0m\n",
      "\u001b[0;32m~/anaconda3/lib/python3.6/tokenize.py\u001b[0m in \u001b[0;36mopen\u001b[0;34m(filename)\u001b[0m\n\u001b[1;32m    450\u001b[0m     \u001b[0mdetect_encoding\u001b[0m\u001b[0;34m(\u001b[0m\u001b[0;34m)\u001b[0m\u001b[0;34m.\u001b[0m\u001b[0;34m\u001b[0m\u001b[0m\n\u001b[1;32m    451\u001b[0m     \"\"\"\n\u001b[0;32m--> 452\u001b[0;31m     \u001b[0mbuffer\u001b[0m \u001b[0;34m=\u001b[0m \u001b[0m_builtin_open\u001b[0m\u001b[0;34m(\u001b[0m\u001b[0mfilename\u001b[0m\u001b[0;34m,\u001b[0m \u001b[0;34m'rb'\u001b[0m\u001b[0;34m)\u001b[0m\u001b[0;34m\u001b[0m\u001b[0m\n\u001b[0m\u001b[1;32m    453\u001b[0m     \u001b[0;32mtry\u001b[0m\u001b[0;34m:\u001b[0m\u001b[0;34m\u001b[0m\u001b[0m\n\u001b[1;32m    454\u001b[0m         \u001b[0mencoding\u001b[0m\u001b[0;34m,\u001b[0m \u001b[0mlines\u001b[0m \u001b[0;34m=\u001b[0m \u001b[0mdetect_encoding\u001b[0m\u001b[0;34m(\u001b[0m\u001b[0mbuffer\u001b[0m\u001b[0;34m.\u001b[0m\u001b[0mreadline\u001b[0m\u001b[0;34m)\u001b[0m\u001b[0;34m\u001b[0m\u001b[0m\n",
      "\u001b[0;31mKeyboardInterrupt\u001b[0m: "
     ]
    }
   ],
   "source": [
    "#def doc2int_vec(raw_article):\n",
    "    markup_2_space = str.maketrans(\":|!,.=\", ' '*6)\n",
    "    article = (raw_article.translate(markup_2_space)).split()\n",
    "    dict_of_words = dict([(y,x+1) for x,y in enumerate(sorted(set(article)))])\n",
    "    return [dict_of_words[x] for x in article]\n",
    "\n",
    "data1000['doc2int'] = data1000['text'].apply(doc2int_vec)\n",
    "y = data1000.label.values\n",
    "\n",
    "## Train/Test Split\n",
    "\n",
    "X_train, X_test, y_train, y_test = train_test_split(data1000.doc2int.values, y, test_size=0.20, random_state=910)\n",
    "\n",
    "## Bi-Directional RNN\n",
    "\n",
    "from keras.preprocessing import sequence\n",
    "from keras.models import Sequential\n",
    "from keras.layers import Dense, Dropout, Embedding, LSTM, Bidirectional\n",
    "\n",
    "max_features = 20000\n",
    "maxlen = 12000\n",
    "batch_size = 32\n",
    "\n",
    "X_train = sequence.pad_sequences(X_train, maxlen=maxlen)\n",
    "X_test = sequence.pad_sequences(X_test, maxlen=maxlen)\n",
    "y_train = np.array(y_train)\n",
    "y_test = np.array(y_test)\n",
    "\n",
    "model = Sequential()\n",
    "model.add(Embedding(max_features, 64, input_length=maxlen))\n",
    "model.add(Bidirectional(LSTM(64)))\n",
    "model.add(Dropout(0.75))\n",
    "model.add(Dense(1, activation='sigmoid'))\n",
    "\n",
    "# try using different optimizers and different optimizer configs\n",
    "model.compile('adam', 'binary_crossentropy', metrics=['accuracy'])\n",
    "\n",
    "model.fit(X_train, y_train,\n",
    "          batch_size=batch_size,\n",
    "          epochs=4,\n",
    "          validation_data=[X_test, y_test])"
   ]
  },
  {
   "cell_type": "code",
   "execution_count": 348,
   "metadata": {
    "ExecuteTime": {
     "end_time": "2018-08-22T11:57:24.517949Z",
     "start_time": "2018-08-22T11:57:24.452675Z"
    }
   },
   "outputs": [],
   "source": [
    "def find_regressed_output(output):\n",
    "    _, top_i = output.topk(1)\n",
    "    if int(top_i[0]) in [1, 2, 3, 4]:\n",
    "        x = int(top_i)\n",
    "        dif_n_lower = round((float(output[0][x]) - float(output[0][x-1]))*10,2)\n",
    "        dif_n_higher = round((float(output[0][x]) - float(output[0][x+1]))*10,2)\n",
    "        predicted_label = round((x-1) + (2/(dif_n_lower + dif_n_higher)) * dif_n_lower,2)\n",
    "        return predicted_label\n",
    "    else:\n",
    "        return int(top_i[0])"
   ]
  },
  {
   "cell_type": "code",
   "execution_count": 434,
   "metadata": {
    "ExecuteTime": {
     "end_time": "2018-08-22T18:47:54.224121Z",
     "start_time": "2018-08-22T18:47:54.182003Z"
    }
   },
   "outputs": [
    {
     "data": {
      "text/plain": [
       "0"
      ]
     },
     "execution_count": 434,
     "metadata": {},
     "output_type": "execute_result"
    }
   ],
   "source": [
    "find_regressed_output(output)"
   ]
  },
  {
   "cell_type": "code",
   "execution_count": 445,
   "metadata": {
    "ExecuteTime": {
     "end_time": "2018-08-22T18:50:05.956642Z",
     "start_time": "2018-08-22T18:49:44.103154Z"
    }
   },
   "outputs": [],
   "source": [
    "label, doc, label_tensor, doc_tensor = randomTrainingExample()\n",
    "output, loss = train(label_tensor, doc_tensor)"
   ]
  },
  {
   "cell_type": "code",
   "execution_count": 456,
   "metadata": {
    "ExecuteTime": {
     "end_time": "2018-08-22T18:58:33.183445Z",
     "start_time": "2018-08-22T18:58:33.142431Z"
    }
   },
   "outputs": [
    {
     "data": {
      "text/plain": [
       "4.68"
      ]
     },
     "execution_count": 456,
     "metadata": {},
     "output_type": "execute_result"
    }
   ],
   "source": [
    "find_regressed_output(output)"
   ]
  },
  {
   "cell_type": "code",
   "execution_count": 447,
   "metadata": {
    "ExecuteTime": {
     "end_time": "2018-08-22T18:50:18.321261Z",
     "start_time": "2018-08-22T18:50:06.017749Z"
    }
   },
   "outputs": [
    {
     "data": {
      "text/plain": [
       "tensor([[-1.7401, -1.8783, -1.7822, -1.8116, -1.7463, -1.7984]],\n",
       "       grad_fn=<LogSoftmaxBackward>)"
      ]
     },
     "execution_count": 447,
     "metadata": {},
     "output_type": "execute_result"
    }
   ],
   "source": [
    "evaluate(doc_tensor)"
   ]
  },
  {
   "cell_type": "code",
   "execution_count": null,
   "metadata": {},
   "outputs": [],
   "source": []
  }
 ],
 "metadata": {
  "kernelspec": {
   "display_name": "Python 3",
   "language": "python",
   "name": "python3"
  },
  "language_info": {
   "codemirror_mode": {
    "name": "ipython",
    "version": 3
   },
   "file_extension": ".py",
   "mimetype": "text/x-python",
   "name": "python",
   "nbconvert_exporter": "python",
   "pygments_lexer": "ipython3",
   "version": "3.6.5"
  }
 },
 "nbformat": 4,
 "nbformat_minor": 2
}
