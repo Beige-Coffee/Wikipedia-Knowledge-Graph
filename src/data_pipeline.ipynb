{
 "cells": [
  {
   "cell_type": "markdown",
   "metadata": {},
   "source": [
    "# Imports"
   ]
  },
  {
   "cell_type": "code",
   "execution_count": 65,
   "metadata": {
    "ExecuteTime": {
     "end_time": "2018-08-23T20:53:58.366071Z",
     "start_time": "2018-08-23T20:53:58.312750Z"
    }
   },
   "outputs": [],
   "source": [
    "import pandas as pd\n",
    "import numpy as np\n",
    "import torch\n",
    "import string\n",
    "from nltk.corpus import stopwords\n",
    "from nltk.tokenize import word_tokenize\n",
    "from ast import literal_eval\n",
    "import matplotlib.pyplot as plt\n",
    "from textstat.textstat import textstat\n",
    "from gensim.corpora import wikicorpus\n",
    "from sklearn.metrics import accuracy_score\n",
    "from sklearn.model_selection import train_test_split\n",
    "from sklearn.metrics import mean_squared_error\n",
    "import nltk\n",
    "from collections import defaultdict\n",
    "from sklearn.ensemble import RandomForestRegressor\n",
    "from sklearn.feature_extraction.text import HashingVectorizer\n",
    "%matplotlib inline\n",
    "# Make it pretty\n",
    "plt.style.use('ggplot')"
   ]
  },
  {
   "cell_type": "markdown",
   "metadata": {
    "ExecuteTime": {
     "end_time": "2018-08-23T16:00:31.720257Z",
     "start_time": "2018-08-23T16:00:31.666055Z"
    }
   },
   "source": [
    "# Import file"
   ]
  },
  {
   "cell_type": "code",
   "execution_count": 3,
   "metadata": {
    "ExecuteTime": {
     "end_time": "2018-08-23T16:00:13.573420Z",
     "start_time": "2018-08-23T15:59:51.942300Z"
    }
   },
   "outputs": [],
   "source": [
    "file = '../data/enwiki.observations.text_wp10.30k.tsv'\n",
    "raw_data = pd.read_csv(file, sep='\\t', header=None)\n",
    "data = pd.DataFrame(data=list(raw_data[0].apply(literal_eval)))"
   ]
  },
  {
   "cell_type": "markdown",
   "metadata": {},
   "source": [
    "# Drop all rows with incorrect labels"
   ]
  },
  {
   "cell_type": "code",
   "execution_count": 5,
   "metadata": {
    "ExecuteTime": {
     "end_time": "2018-08-23T16:01:14.496807Z",
     "start_time": "2018-08-23T16:01:08.445756Z"
    }
   },
   "outputs": [],
   "source": [
    "data = data[data['text'] != \"\"]\n",
    "data = data[data['text'].str.contains(\"#redirect\") == False]\n",
    "data = data[data['text'].str.contains(\"may refer to:\\n\\n*\") == False]\n",
    "data = data[data['text'].str.contains(\"can refer to:\\n\") == False]\n",
    "data = data[data['text'].str.contains(\"could refer to:\\n\") == False]\n",
    "data = data[data['text'].str.contains(\"#REDIRECT\") == False]\n",
    "data = data[data['text'].str.contains(\"== Matches ==\\n:\") == False]\n",
    "data = data[data['text'].str.contains(\"{{underconstruction\") == False]"
   ]
  },
  {
   "cell_type": "markdown",
   "metadata": {},
   "source": [
    "# Make y's numeric"
   ]
  },
  {
   "cell_type": "code",
   "execution_count": 6,
   "metadata": {
    "ExecuteTime": {
     "end_time": "2018-08-23T16:02:28.020258Z",
     "start_time": "2018-08-23T16:02:27.520013Z"
    }
   },
   "outputs": [],
   "source": [
    "classes = {\"stub\": 0, \"start\": 1, \"c\": 2, \"b\": 3, \"ga\": 4, \"fa\": 5} \n",
    "data[\"label\"] = data['label'].map(classes)"
   ]
  },
  {
   "cell_type": "markdown",
   "metadata": {},
   "source": [
    "# Feature Engineering Functions"
   ]
  },
  {
   "cell_type": "code",
   "execution_count": 7,
   "metadata": {
    "ExecuteTime": {
     "end_time": "2018-08-23T16:03:13.677363Z",
     "start_time": "2018-08-23T16:03:13.618731Z"
    }
   },
   "outputs": [],
   "source": [
    "def clean_wiki_markup(raw_article):\n",
    "    semi_cleaned_article = wikicorpus.filter_wiki(raw_article)\n",
    "    cleaned_article = semi_cleaned_article.replace(\"\\n\", \"\").replace(\"\\'\", \"\").replace(\"()\", \"\").replace(\"=\", \"\").replace(\"|alt\",\"\").replace(\"\\xa0\",\"\")\n",
    "    return cleaned_article\n",
    "def find_num_categories(raw_article):\n",
    "    return raw_article.count(\"[[Category:\")\n",
    "def find_num_images(raw_article):\n",
    "    return raw_article.count(\"[[Image:\")\n",
    "def find_num_ISBN(raw_article):\n",
    "    return raw_article.count(\"ISBN\")\n",
    "def find_num_references(raw_article):\n",
    "    return raw_article.count(\"</ref>\")\n",
    "def find_article_length(cleaned_article):\n",
    "    return len(cleaned_article)\n",
    "def find_num_difficult_words(cleaned_article):\n",
    "    return textstat.difficult_words(cleaned_article)\n",
    "def find_dale_chall_readability_score(cleaned_article):\n",
    "    return textstat.dale_chall_readability_score(cleaned_article)\n",
    "def find_automated_readability_index(cleaned_article):\n",
    "    return textstat.automated_readability_index(cleaned_article)\n",
    "def find_linsear_write_formula(cleaned_article):\n",
    "    return textstat.linsear_write_formula(cleaned_article)\n",
    "def find_gunning_fog_index(cleaned_article):\n",
    "    return textstat.gunning_fog(cleaned_article)\n",
    "def find_syllable_count(cleaned_article):\n",
    "    return textstat.syllable_count(cleaned_article)\n",
    "def find_lexicon_count(cleaned_article):\n",
    "    return textstat.lexicon_count(cleaned_article, removepunct=True)\n",
    "def find_sentence_count(cleaned_article):\n",
    "    return textstat.sentence_count(cleaned_article)\n",
    "def find_smog_index(cleaned_article):\n",
    "    return textstat.smog_index(cleaned_article)\n",
    "def find_num_web_citations(raw_article):\n",
    "    return raw_article.count(\"{{cite web\")\n",
    "def find_num_book_citations(raw_article):\n",
    "    return raw_article.count(\"{{cite book\")\n",
    "def find_num_news_citations(raw_article):\n",
    "    return raw_article.count(\"{{cite news\")\n",
    "def find_num_quotes(raw_article):\n",
    "    return raw_article.count(\"quote=\")\n",
    "def find_num_h3_headers(raw_article):\n",
    "    return raw_article.count(\"\\n===\")\n",
    "def find_num_internal_links(raw_article):\n",
    "    return (raw_article.count(\"[[\") // 2)\n",
    "def find_num_h2_headers(raw_article):\n",
    "    return (raw_article.count(\"\\n==\") - find_num_h3_headers(raw_article))\n",
    "def find_num_note_tags(raw_article):\n",
    "    return raw_article.count(\"{{note\")\n",
    "def find_num_bullet_points(raw_article):\n",
    "    return (raw_article.count(\"*\"))\n",
    "def find_num_underlines(raw_article):\n",
    "    return (raw_article.count(\"<u>\"))\n",
    "def find_num_journal_citations(raw_article):\n",
    "    return (raw_article.count(\"{{cite journal\"))\n",
    "def find_num_about_links(raw_article):\n",
    "    return (raw_article.count(\"{{About\"))\n",
    "def find_num_wikitables(raw_article):\n",
    "    return (raw_article.count('class=\"wikitable'))\n",
    "def find_num_footnotes(raw_article):\n",
    "    return raw_article.count(\"{{\")\n",
    "def find_infobox(raw_article):\n",
    "    return int('{{Infobox' in raw_article)"
   ]
  },
  {
   "cell_type": "code",
   "execution_count": 8,
   "metadata": {
    "ExecuteTime": {
     "end_time": "2018-08-23T17:37:09.353053Z",
     "start_time": "2018-08-23T16:04:15.871725Z"
    }
   },
   "outputs": [
    {
     "name": "stdout",
     "output_type": "stream",
     "text": [
      "Error(DCRS): Word Count is zero cannot divide\n",
      "Error(DCRS): Word Count is zero cannot divide\n",
      "Error(DCRS): Word Count is zero cannot divide\n",
      "Error(DCRS): Word Count is zero cannot divide\n",
      "Error(DCRS): Word Count is zero cannot divide\n",
      "Error(DCRS): Word Count is zero cannot divide\n",
      "Error(DCRS): Word Count is zero cannot divide\n",
      "Error(DCRS): Word Count is zero cannot divide\n",
      "Error(DCRS): Word Count is zero cannot divide\n",
      "Error(ARI) : Sentence count is zero, cannot divide\n",
      "Error(ARI) : Sentence count is zero, cannot divide\n",
      "Error(ARI) : Sentence count is zero, cannot divide\n",
      "Error(ARI) : Sentence count is zero, cannot divide\n",
      "Error(ARI) : Sentence count is zero, cannot divide\n",
      "Error(ARI) : Sentence count is zero, cannot divide\n",
      "Error(ARI) : Sentence count is zero, cannot divide\n",
      "Error(ARI) : Sentence count is zero, cannot divide\n",
      "Error(ARI) : Sentence count is zero, cannot divide\n",
      "Error(GF): Word Count is Zero, cannot divide\n",
      "Error(GF): Word Count is Zero, cannot divide\n",
      "Error(GF): Word Count is Zero, cannot divide\n",
      "Error(GF): Word Count is Zero, cannot divide\n",
      "Error(GF): Word Count is Zero, cannot divide\n",
      "Error(GF): Word Count is Zero, cannot divide\n",
      "Error(GF): Word Count is Zero, cannot divide\n",
      "Error(GF): Word Count is Zero, cannot divide\n",
      "Error(GF): Word Count is Zero, cannot divide\n"
     ]
    }
   ],
   "source": [
    "data['cleaned_text'] = data['text'].apply(clean_wiki_markup)\n",
    "data['num_web_citations'] = data['text'].apply(find_num_web_citations)\n",
    "data['num_book_citations'] = data['text'].apply(find_num_book_citations)\n",
    "data['num_news_citations'] = data['text'].apply(find_num_news_citations)\n",
    "data['num_quotes'] = data['text'].apply(find_num_quotes)\n",
    "data['num_h3_headers'] = data['text'].apply(find_num_h3_headers)\n",
    "data['num_internal_links'] = data['text'].apply(find_num_internal_links)\n",
    "data['num_h2_headers'] = data['text'].apply(find_num_h2_headers)\n",
    "data['has_infobox'] = data['text'].str.contains('{{Infobox').astype(int)\n",
    "data['num_categories'] = data['text'].apply(find_num_categories)\n",
    "data['num_images'] = data['text'].apply(find_num_images)\n",
    "data['num_ISBN'] = data['text'].apply(find_num_ISBN)\n",
    "data['num_references'] = data['text'].apply(find_num_references)\n",
    "data['article_length'] = data['text'].apply(find_article_length)\n",
    "data['num_difficult_words'] = data['cleaned_text'].apply(find_num_difficult_words)\n",
    "data['dale_chall_readability_score'] = data['cleaned_text'].apply(find_dale_chall_readability_score)\n",
    "data['readability_index'] = data['cleaned_text'].apply(find_automated_readability_index)\n",
    "data['linsear_write_formula'] = data['cleaned_text'].apply(find_linsear_write_formula)\n",
    "data['gunning_fog_index'] = data['cleaned_text'].apply(find_gunning_fog_index)\n",
    "data['smog_index'] = data['cleaned_text'].apply(find_smog_index)\n",
    "data['syllable_count'] = data['cleaned_text'].apply(find_syllable_count)\n",
    "data['lexicon_count'] = data['cleaned_text'].apply(find_lexicon_count)\n",
    "data['sentence_count'] = data['cleaned_text'].apply(find_sentence_count)\n",
    "data['num_footnotes'] = data['text'].apply(find_num_footnotes)\n",
    "data['num_note_tags'] = data['text'].apply(find_num_note_tags)\n",
    "data['num_underlines'] = data['text'].apply(find_num_underlines)\n",
    "data['num_journal_citations'] = data['text'].apply(find_num_journal_citations)\n",
    "data['num_about_links'] = data['text'].apply(find_num_about_links)\n",
    "data['num_wikitables'] = data['text'].apply(find_num_wikitables)"
   ]
  },
  {
   "cell_type": "markdown",
   "metadata": {},
   "source": [
    "# Save DataFrame"
   ]
  },
  {
   "cell_type": "code",
   "execution_count": null,
   "metadata": {
    "ExecuteTime": {
     "end_time": "2018-08-23T17:41:03.237609Z",
     "start_time": "2018-08-23T17:41:03.028268Z"
    }
   },
   "outputs": [],
   "source": [
    "data.to_csv('wiki_train.tsv', sep='\\t')"
   ]
  },
  {
   "cell_type": "code",
   "execution_count": 161,
   "metadata": {
    "ExecuteTime": {
     "end_time": "2018-08-25T16:56:56.908269Z",
     "start_time": "2018-08-25T16:56:56.863003Z"
    }
   },
   "outputs": [],
   "source": [
    "backup_data = data"
   ]
  },
  {
   "cell_type": "code",
   "execution_count": 162,
   "metadata": {
    "ExecuteTime": {
     "end_time": "2018-08-25T16:56:57.851266Z",
     "start_time": "2018-08-25T16:56:57.729793Z"
    }
   },
   "outputs": [],
   "source": [
    "backup_data.dropna(inplace=True)"
   ]
  },
  {
   "cell_type": "code",
   "execution_count": 165,
   "metadata": {
    "ExecuteTime": {
     "end_time": "2018-08-25T16:57:52.113334Z",
     "start_time": "2018-08-25T16:57:52.047449Z"
    }
   },
   "outputs": [],
   "source": [
    "random_forest_data = backup_data.loc[:, ['label', 'has_infobox','num_categories','num_images','num_ISBN','num_references','article_length',\n",
    "                'num_difficult_words','dale_chall_readability_score','readability_index','linsear_write_formula',\n",
    "                'gunning_fog_index', 'num_web_citations','num_book_citations','num_news_citations',\n",
    "                'num_quotes','num_h3_headers','num_internal_links', 'num_h2_headers', 'syllable_count',\n",
    "                'lexicon_count', 'sentence_count','num_footnotes', 'num_note_tags', 'num_underlines', 'num_journal_citations',\n",
    "                'num_about_links', 'num_wikitables', 'smog_index']]"
   ]
  },
  {
   "cell_type": "code",
   "execution_count": 166,
   "metadata": {
    "ExecuteTime": {
     "end_time": "2018-08-25T16:58:01.063176Z",
     "start_time": "2018-08-25T16:58:00.241440Z"
    }
   },
   "outputs": [],
   "source": [
    "random_forest_data.to_csv('random_forest_data.csv')"
   ]
  },
  {
   "cell_type": "markdown",
   "metadata": {
    "ExecuteTime": {
     "end_time": "2018-08-23T20:34:14.564528Z",
     "start_time": "2018-08-23T20:34:14.144532Z"
    }
   },
   "source": [
    "# Train first two models"
   ]
  },
  {
   "cell_type": "code",
   "execution_count": 35,
   "metadata": {
    "ExecuteTime": {
     "end_time": "2018-08-23T20:35:41.408853Z",
     "start_time": "2018-08-23T20:35:41.070855Z"
    }
   },
   "outputs": [],
   "source": [
    "import pickle"
   ]
  },
  {
   "cell_type": "code",
   "execution_count": 164,
   "metadata": {
    "ExecuteTime": {
     "end_time": "2018-08-25T16:57:38.464075Z",
     "start_time": "2018-08-25T16:57:38.419132Z"
    }
   },
   "outputs": [
    {
     "name": "stdout",
     "output_type": "stream",
     "text": [
      "(29344, 34)\n",
      "(29344, 34)\n"
     ]
    }
   ],
   "source": [
    "print(data.shape)\n",
    "print(backup_data.shape)"
   ]
  },
  {
   "cell_type": "markdown",
   "metadata": {},
   "source": [
    "# Train / Test split"
   ]
  },
  {
   "cell_type": "code",
   "execution_count": 167,
   "metadata": {
    "ExecuteTime": {
     "end_time": "2018-08-25T16:58:54.666099Z",
     "start_time": "2018-08-25T16:58:54.597536Z"
    }
   },
   "outputs": [],
   "source": [
    "feature_engineered_X = backup_data.loc[:, ['has_infobox','num_categories','num_images','num_ISBN','num_references','article_length',\n",
    "                'num_difficult_words','dale_chall_readability_score','readability_index','linsear_write_formula',\n",
    "                'gunning_fog_index', 'num_web_citations','num_book_citations','num_news_citations',\n",
    "                'num_quotes','num_h3_headers','num_internal_links', 'num_h2_headers', 'syllable_count',\n",
    "                'lexicon_count', 'sentence_count','num_footnotes', 'num_note_tags', 'num_underlines', 'num_journal_citations',\n",
    "                'num_about_links', 'num_wikitables', 'smog_index']].values\n",
    "y = backup_data['label'].values"
   ]
  },
  {
   "cell_type": "code",
   "execution_count": 169,
   "metadata": {
    "ExecuteTime": {
     "end_time": "2018-08-25T16:59:11.444425Z",
     "start_time": "2018-08-25T16:59:11.398663Z"
    }
   },
   "outputs": [
    {
     "data": {
      "text/plain": [
       "(29344,)"
      ]
     },
     "execution_count": 169,
     "metadata": {},
     "output_type": "execute_result"
    }
   ],
   "source": []
  },
  {
   "cell_type": "markdown",
   "metadata": {},
   "source": [
    "# 1) Random Forest w/ hand engineered features"
   ]
  },
  {
   "cell_type": "code",
   "execution_count": 170,
   "metadata": {
    "ExecuteTime": {
     "end_time": "2018-08-25T16:59:41.167845Z",
     "start_time": "2018-08-25T16:59:41.097954Z"
    }
   },
   "outputs": [],
   "source": [
    "X_train, X_test, y_train, y_test = train_test_split(feature_engineered_X, y, test_size=0.20, random_state=910)"
   ]
  },
  {
   "cell_type": "markdown",
   "metadata": {},
   "source": [
    "Using Scikit-Learn’s RandomizedSearchCV method, we can define a grid of hyperparameter ranges, and randomly sample from the grid, performing K-Fold CV with each combination of values.\n",
    "\n",
    "The most important settings are the number of trees in the forest **(n_estimators)** and the number of features considered for splitting at each leaf node **(max_features)**.\n",
    "\n",
    "We will try adjusting the following set of hyperparameters:\n",
    "- n_estimators = number of trees in the foreset\n",
    "- max_features = max number of features considered for splitting a node\n",
    "- max_depth = max number of levels in each decision tree\n",
    "- min_samples_split = min number of data points placed in a node before the node is split\n",
    "- min_samples_leaf = min number of data points allowed in a leaf node\n",
    "- bootstrap = method for sampling data points (with or without replacement)"
   ]
  },
  {
   "cell_type": "code",
   "execution_count": 171,
   "metadata": {
    "ExecuteTime": {
     "end_time": "2018-08-25T17:12:09.466183Z",
     "start_time": "2018-08-25T17:12:09.233569Z"
    }
   },
   "outputs": [],
   "source": [
    "from sklearn.model_selection import RandomizedSearchCV\n",
    "\n",
    "# Number of trees in random forest\n",
    "n_estimators = [int(x) for x in np.linspace(start = 20, stop = 100, num = 10)]\n",
    "# Number of features to consider at every split\n",
    "max_features = ['auto', 'sqrt']\n",
    "# Maximum number of levels in tree\n",
    "max_depth = [int(x) for x in np.linspace(10, 50, num = 5)]\n",
    "max_depth.append(None)\n",
    "# Minimum number of samples required to split a node\n",
    "min_samples_split = [10, 50, 100]\n",
    "# Minimum number of samples required at each leaf node\n",
    "min_samples_leaf = [1, 2, 4]\n",
    "# Method of selecting samples for training each tree\n",
    "bootstrap = [True, False]\n",
    "# Create the random grid\n",
    "random_grid = {'n_estimators': n_estimators,\n",
    "               'max_features': max_features,\n",
    "               'max_depth': max_depth,\n",
    "               'min_samples_split': min_samples_split,\n",
    "               'min_samples_leaf': min_samples_leaf,\n",
    "               'bootstrap': bootstrap}"
   ]
  },
  {
   "cell_type": "code",
   "execution_count": 177,
   "metadata": {
    "ExecuteTime": {
     "end_time": "2018-08-25T18:05:50.942456Z",
     "start_time": "2018-08-25T17:24:33.932322Z"
    }
   },
   "outputs": [
    {
     "data": {
      "text/plain": [
       "RandomizedSearchCV(cv=10, error_score='raise',\n",
       "          estimator=RandomForestRegressor(bootstrap=True, criterion='mse', max_depth=None,\n",
       "           max_features='auto', max_leaf_nodes=None,\n",
       "           min_impurity_decrease=0.0, min_impurity_split=None,\n",
       "           min_samples_leaf=1, min_samples_split=2,\n",
       "           min_weight_fraction_leaf=0.0, n_estimators=10, n_jobs=1,\n",
       "           oob_score=False, random_state=None, verbose=0, warm_start=False),\n",
       "          fit_params=None, iid=True, n_iter=100, n_jobs=-1,\n",
       "          param_distributions={'n_estimators': [20, 28, 37, 46, 55, 64, 73, 82, 91, 100], 'max_features': ['auto', 'sqrt'], 'max_depth': [10, 20, 30, 40, 50, None], 'min_samples_split': [10, 50, 100], 'min_samples_leaf': [1, 2, 4], 'bootstrap': [True, False]},\n",
       "          pre_dispatch='2*n_jobs', random_state=42, refit=True,\n",
       "          return_train_score='warn', scoring=None, verbose=0)"
      ]
     },
     "execution_count": 177,
     "metadata": {},
     "output_type": "execute_result"
    }
   ],
   "source": [
    "# Use the random grid to search for best hyperparameters\n",
    "# First create the base model to tune\n",
    "rf = RandomForestRegressor()\n",
    "# Random search of parameters, using 3 fold cross validation, \n",
    "# search across 100 different combinations, and use all available cores\n",
    "rf_random = RandomizedSearchCV(estimator = rf, param_distributions = random_grid, n_iter = 100, cv = 10, verbose=0, random_state=42, n_jobs = -1)\n",
    "# Fit the random search model\n",
    "rf_random.fit(X_train, y_train)"
   ]
  },
  {
   "cell_type": "code",
   "execution_count": 178,
   "metadata": {
    "ExecuteTime": {
     "end_time": "2018-08-25T18:06:31.225701Z",
     "start_time": "2018-08-25T18:06:28.087642Z"
    }
   },
   "outputs": [
    {
     "name": "stderr",
     "output_type": "stream",
     "text": [
      "/Users/austin/anaconda3/lib/python3.6/site-packages/ipykernel_launcher.py:4: RuntimeWarning: divide by zero encountered in true_divide\n",
      "  after removing the cwd from sys.path.\n",
      "/Users/austin/anaconda3/lib/python3.6/site-packages/ipykernel_launcher.py:4: RuntimeWarning: invalid value encountered in true_divide\n",
      "  after removing the cwd from sys.path.\n"
     ]
    },
    {
     "name": "stdout",
     "output_type": "stream",
     "text": [
      "Model Performance\n",
      "Average Error: 0.2539 degrees.\n",
      "Accuracy = nan%.\n",
      "Model Performance\n",
      "Average Error: 0.2106 degrees.\n",
      "Accuracy = nan%.\n",
      "Improvement of nan%.\n"
     ]
    }
   ],
   "source": [
    "def evaluate(model, test_features, test_labels):\n",
    "    predictions = model.predict(test_features)\n",
    "    errors = abs(predictions - test_labels)\n",
    "    mape = 100 * np.mean(errors / test_labels)\n",
    "    accuracy = 100 - mape\n",
    "    print('Model Performance')\n",
    "    print('Average Error: {:0.4f} degrees.'.format(np.mean(errors)))\n",
    "    print('Accuracy = {:0.2f}%.'.format(accuracy))\n",
    "    \n",
    "    return accuracy\n",
    "base_model = RandomForestRegressor(n_estimators = 10, random_state = 910)\n",
    "base_model.fit(X_train, y_train)\n",
    "base_accuracy = evaluate(base_model, X_train, y_train)\n",
    "\n",
    "best_random = rf_random.best_estimator_\n",
    "random_accuracy = evaluate(best_random, X_train, y_train)\n",
    "\n",
    "print('Improvement of {:0.2f}%.'.format( 100 * (random_accuracy - base_accuracy) / base_accuracy))"
   ]
  },
  {
   "cell_type": "markdown",
   "metadata": {},
   "source": [
    "# Save Random Forest!!!!"
   ]
  },
  {
   "cell_type": "code",
   "execution_count": 183,
   "metadata": {
    "ExecuteTime": {
     "end_time": "2018-08-25T21:52:38.650743Z",
     "start_time": "2018-08-25T21:52:38.176638Z"
    }
   },
   "outputs": [],
   "source": [
    "filename = 'random_forest_model.sav'\n",
    "pickle.dump(best_random, open(filename, 'wb'))"
   ]
  },
  {
   "cell_type": "code",
   "execution_count": 182,
   "metadata": {
    "ExecuteTime": {
     "end_time": "2018-08-25T21:51:59.620184Z",
     "start_time": "2018-08-25T21:51:59.318034Z"
    }
   },
   "outputs": [
    {
     "data": {
      "text/plain": [
       "sklearn.ensemble.forest.RandomForestRegressor"
      ]
     },
     "execution_count": 182,
     "metadata": {},
     "output_type": "execute_result"
    }
   ],
   "source": [
    "type(best_random)"
   ]
  },
  {
   "cell_type": "code",
   "execution_count": 181,
   "metadata": {
    "ExecuteTime": {
     "end_time": "2018-08-25T18:07:41.250639Z",
     "start_time": "2018-08-25T18:07:41.202950Z"
    }
   },
   "outputs": [
    {
     "name": "stdout",
     "output_type": "stream",
     "text": [
      "0.6744901996151536\n"
     ]
    }
   ],
   "source": [
    "print(mean_squared_error(y_test, preds))"
   ]
  },
  {
   "cell_type": "markdown",
   "metadata": {},
   "source": [
    "# 2) Random Forest w/ hash vectors"
   ]
  },
  {
   "cell_type": "code",
   "execution_count": 66,
   "metadata": {
    "ExecuteTime": {
     "end_time": "2018-08-23T20:54:03.563718Z",
     "start_time": "2018-08-23T20:54:03.516557Z"
    }
   },
   "outputs": [],
   "source": [
    "hash_vectorizer = HashingVectorizer(n_features=5000)"
   ]
  },
  {
   "cell_type": "code",
   "execution_count": 67,
   "metadata": {
    "ExecuteTime": {
     "end_time": "2018-08-23T20:54:44.450711Z",
     "start_time": "2018-08-23T20:54:44.411140Z"
    }
   },
   "outputs": [],
   "source": [
    "hash_X_train, hash_X_test, hash_y_train, hash_y_test = train_test_split(hash_vec_X, y, test_size=0.20, random_state=910)"
   ]
  },
  {
   "cell_type": "code",
   "execution_count": 68,
   "metadata": {
    "ExecuteTime": {
     "end_time": "2018-08-23T20:55:04.947252Z",
     "start_time": "2018-08-23T20:55:04.898281Z"
    }
   },
   "outputs": [
    {
     "data": {
      "text/plain": [
       "HashingVectorizer(alternate_sign=True, analyzer='word', binary=False,\n",
       "         decode_error='strict', dtype=<class 'numpy.float64'>,\n",
       "         encoding='utf-8', input='content', lowercase=True,\n",
       "         n_features=5000, ngram_range=(1, 1), non_negative=False,\n",
       "         norm='l2', preprocessor=None, stop_words=None, strip_accents=None,\n",
       "         token_pattern='(?u)\\\\b\\\\w\\\\w+\\\\b', tokenizer=None)"
      ]
     },
     "execution_count": 68,
     "metadata": {},
     "output_type": "execute_result"
    }
   ],
   "source": [
    "hash_vectorizer.fit(hash_X_train)"
   ]
  },
  {
   "cell_type": "code",
   "execution_count": 72,
   "metadata": {
    "ExecuteTime": {
     "end_time": "2018-08-23T21:00:43.489868Z",
     "start_time": "2018-08-23T21:00:22.582111Z"
    }
   },
   "outputs": [],
   "source": [
    "hash_X_transformed = hash_vectorizer.transform(hash_X_train.ravel())"
   ]
  },
  {
   "cell_type": "code",
   "execution_count": 73,
   "metadata": {
    "ExecuteTime": {
     "end_time": "2018-08-23T21:08:49.976131Z",
     "start_time": "2018-08-23T21:08:49.926366Z"
    }
   },
   "outputs": [],
   "source": [
    "hash_rf = RandomForestRegressor(bootstrap=True, max_depth=20,\n",
    "           max_features='auto', max_leaf_nodes=None,\n",
    "           min_impurity_decrease=0.0, min_impurity_split=None,\n",
    "           min_samples_leaf=1, min_samples_split=2,\n",
    "           min_weight_fraction_leaf=0.0, n_estimators=35,\n",
    "           oob_score=False, random_state=910, verbose=0, warm_start=False)"
   ]
  },
  {
   "cell_type": "code",
   "execution_count": 74,
   "metadata": {
    "ExecuteTime": {
     "end_time": "2018-08-23T21:29:42.218889Z",
     "start_time": "2018-08-23T21:09:18.564172Z"
    }
   },
   "outputs": [
    {
     "data": {
      "text/plain": [
       "RandomForestRegressor(bootstrap=True, criterion='mse', max_depth=20,\n",
       "           max_features='auto', max_leaf_nodes=None,\n",
       "           min_impurity_decrease=0.0, min_impurity_split=None,\n",
       "           min_samples_leaf=1, min_samples_split=2,\n",
       "           min_weight_fraction_leaf=0.0, n_estimators=35, n_jobs=1,\n",
       "           oob_score=False, random_state=910, verbose=0, warm_start=False)"
      ]
     },
     "execution_count": 74,
     "metadata": {},
     "output_type": "execute_result"
    }
   ],
   "source": [
    "hash_rf.fit(hash_X_transformed, hash_y_train)"
   ]
  },
  {
   "cell_type": "code",
   "execution_count": 76,
   "metadata": {
    "ExecuteTime": {
     "end_time": "2018-08-23T21:30:14.592244Z",
     "start_time": "2018-08-23T21:30:09.656004Z"
    }
   },
   "outputs": [],
   "source": [
    "hash_X_test_transformed = hash_vectorizer.transform(hash_X_test.ravel())"
   ]
  },
  {
   "cell_type": "code",
   "execution_count": 77,
   "metadata": {
    "ExecuteTime": {
     "end_time": "2018-08-23T21:30:14.772822Z",
     "start_time": "2018-08-23T21:30:14.594748Z"
    }
   },
   "outputs": [],
   "source": [
    "hash_predictions = hash_rf.predict(hash_X_test_transformed)"
   ]
  },
  {
   "cell_type": "code",
   "execution_count": 78,
   "metadata": {
    "ExecuteTime": {
     "end_time": "2018-08-23T21:30:14.822468Z",
     "start_time": "2018-08-23T21:30:14.775060Z"
    }
   },
   "outputs": [
    {
     "name": "stdout",
     "output_type": "stream",
     "text": [
      "0.9546654979190564\n"
     ]
    }
   ],
   "source": [
    "print(mean_squared_error(hash_y_test, hash_predictions))"
   ]
  },
  {
   "cell_type": "markdown",
   "metadata": {},
   "source": [
    "# Ensemble Model"
   ]
  },
  {
   "cell_type": "code",
   "execution_count": 79,
   "metadata": {
    "ExecuteTime": {
     "end_time": "2018-08-23T21:34:12.611845Z",
     "start_time": "2018-08-23T21:34:12.565825Z"
    }
   },
   "outputs": [],
   "source": [
    "ensemble_data = data[14672:]"
   ]
  },
  {
   "cell_type": "code",
   "execution_count": 80,
   "metadata": {
    "ExecuteTime": {
     "end_time": "2018-08-23T21:35:02.372552Z",
     "start_time": "2018-08-23T21:35:02.060758Z"
    }
   },
   "outputs": [],
   "source": [
    "feature_engineered_X = ensemble_data.loc[:, ['has_infobox','num_categories','num_images','num_ISBN','num_references','article_length',\n",
    "                'num_difficult_words','dale_chall_readability_score','readability_index','linsear_write_formula',\n",
    "                'gunning_fog_index', 'num_web_citations','num_book_citations','num_news_citations',\n",
    "                'num_quotes','num_h3_headers','num_internal_links', 'num_h2_headers', 'syllable_count',\n",
    "                'lexicon_count', 'sentence_count','num_footnotes', 'num_note_tags', 'num_underlines', 'num_journal_citations',\n",
    "                'num_about_links', 'num_wikitables', 'smog_index']].values\n",
    "hash_vec_X = ensemble_data.loc[:, ['cleaned_text']].values\n",
    "y = ensemble_data['label'].values"
   ]
  },
  {
   "cell_type": "markdown",
   "metadata": {},
   "source": [
    "## Find Article Features Random Forest For All Predictions"
   ]
  },
  {
   "cell_type": "code",
   "execution_count": 82,
   "metadata": {
    "ExecuteTime": {
     "end_time": "2018-08-23T21:37:11.321479Z",
     "start_time": "2018-08-23T21:37:11.177524Z"
    }
   },
   "outputs": [],
   "source": [
    "article_features_rf_preds = article_features_rf.predict(feature_engineered_X)"
   ]
  },
  {
   "cell_type": "markdown",
   "metadata": {},
   "source": [
    "## Find Hash Random Forest For All Predictions"
   ]
  },
  {
   "cell_type": "code",
   "execution_count": 85,
   "metadata": {
    "ExecuteTime": {
     "end_time": "2018-08-23T21:41:57.676772Z",
     "start_time": "2018-08-23T21:41:38.426454Z"
    }
   },
   "outputs": [],
   "source": [
    "hash_ensemble_transformed = hash_vectorizer.transform(hash_vec_X.ravel())"
   ]
  },
  {
   "cell_type": "code",
   "execution_count": 86,
   "metadata": {
    "ExecuteTime": {
     "end_time": "2018-08-23T21:42:05.109558Z",
     "start_time": "2018-08-23T21:42:04.365065Z"
    }
   },
   "outputs": [],
   "source": [
    "hash_ensembe_predictions = hash_rf.predict(hash_ensemble_transformed)"
   ]
  },
  {
   "cell_type": "code",
   "execution_count": 92,
   "metadata": {
    "ExecuteTime": {
     "end_time": "2018-08-23T21:43:52.456254Z",
     "start_time": "2018-08-23T21:43:52.347138Z"
    }
   },
   "outputs": [
    {
     "name": "stderr",
     "output_type": "stream",
     "text": [
      "/Users/austin/anaconda3/lib/python3.6/site-packages/ipykernel_launcher.py:1: SettingWithCopyWarning: \n",
      "A value is trying to be set on a copy of a slice from a DataFrame.\n",
      "Try using .loc[row_indexer,col_indexer] = value instead\n",
      "\n",
      "See the caveats in the documentation: http://pandas.pydata.org/pandas-docs/stable/indexing.html#indexing-view-versus-copy\n",
      "  \"\"\"Entry point for launching an IPython kernel.\n"
     ]
    }
   ],
   "source": [
    "ensemble_data['feature_rf_preds'] = article_features_rf_preds"
   ]
  },
  {
   "cell_type": "code",
   "execution_count": 90,
   "metadata": {
    "ExecuteTime": {
     "end_time": "2018-08-23T21:43:43.683872Z",
     "start_time": "2018-08-23T21:43:43.575797Z"
    }
   },
   "outputs": [
    {
     "name": "stderr",
     "output_type": "stream",
     "text": [
      "/Users/austin/anaconda3/lib/python3.6/site-packages/ipykernel_launcher.py:1: SettingWithCopyWarning: \n",
      "A value is trying to be set on a copy of a slice from a DataFrame.\n",
      "Try using .loc[row_indexer,col_indexer] = value instead\n",
      "\n",
      "See the caveats in the documentation: http://pandas.pydata.org/pandas-docs/stable/indexing.html#indexing-view-versus-copy\n",
      "  \"\"\"Entry point for launching an IPython kernel.\n"
     ]
    }
   ],
   "source": [
    "ensemble_data['hash_rf_preds'] = hash_ensembe_predictions"
   ]
  },
  {
   "cell_type": "code",
   "execution_count": 97,
   "metadata": {
    "ExecuteTime": {
     "end_time": "2018-08-23T21:45:17.420633Z",
     "start_time": "2018-08-23T21:45:17.379570Z"
    }
   },
   "outputs": [],
   "source": [
    "ensemble_X = ensemble_data.loc[:, ['feature_rf_preds', 'hash_rf_preds']].values"
   ]
  },
  {
   "cell_type": "code",
   "execution_count": 101,
   "metadata": {
    "ExecuteTime": {
     "end_time": "2018-08-23T21:45:42.754570Z",
     "start_time": "2018-08-23T21:45:42.716660Z"
    }
   },
   "outputs": [],
   "source": [
    "ensemble_y = ensemble_data['label'].values"
   ]
  },
  {
   "cell_type": "markdown",
   "metadata": {},
   "source": [
    "# Ensemble Model: Linear Regression"
   ]
  },
  {
   "cell_type": "markdown",
   "metadata": {
    "ExecuteTime": {
     "end_time": "2018-08-23T21:45:44.798587Z",
     "start_time": "2018-08-23T21:45:44.758238Z"
    }
   },
   "source": [
    "## Train / Test Split"
   ]
  },
  {
   "cell_type": "code",
   "execution_count": 103,
   "metadata": {
    "ExecuteTime": {
     "end_time": "2018-08-23T21:51:15.211242Z",
     "start_time": "2018-08-23T21:51:15.053154Z"
    }
   },
   "outputs": [],
   "source": [
    "ensemble_X_train, ensemble_X_test, ensemble_y_train, ensemble_y_test = train_test_split(ensemble_X, ensemble_y, test_size=0.20, random_state=910)"
   ]
  },
  {
   "cell_type": "code",
   "execution_count": 104,
   "metadata": {
    "ExecuteTime": {
     "end_time": "2018-08-23T21:53:41.369886Z",
     "start_time": "2018-08-23T21:53:41.208548Z"
    }
   },
   "outputs": [],
   "source": [
    "from sklearn import linear_model"
   ]
  },
  {
   "cell_type": "code",
   "execution_count": 105,
   "metadata": {
    "ExecuteTime": {
     "end_time": "2018-08-23T21:54:18.277963Z",
     "start_time": "2018-08-23T21:54:18.236908Z"
    }
   },
   "outputs": [],
   "source": [
    "ensemble_linear_model = linear_model.LinearRegression()"
   ]
  },
  {
   "cell_type": "code",
   "execution_count": 106,
   "metadata": {
    "ExecuteTime": {
     "end_time": "2018-08-23T21:55:49.132427Z",
     "start_time": "2018-08-23T21:55:49.021872Z"
    }
   },
   "outputs": [
    {
     "data": {
      "text/plain": [
       "LinearRegression(copy_X=True, fit_intercept=True, n_jobs=1, normalize=False)"
      ]
     },
     "execution_count": 106,
     "metadata": {},
     "output_type": "execute_result"
    }
   ],
   "source": [
    "ensemble_linear_model.fit(ensemble_X_train, ensemble_y_train)"
   ]
  },
  {
   "cell_type": "code",
   "execution_count": 107,
   "metadata": {
    "ExecuteTime": {
     "end_time": "2018-08-23T21:56:25.995105Z",
     "start_time": "2018-08-23T21:56:25.952699Z"
    }
   },
   "outputs": [],
   "source": [
    "ensemble_preds = ensemble_linear_model.predict(ensemble_X_test)"
   ]
  },
  {
   "cell_type": "code",
   "execution_count": 159,
   "metadata": {
    "ExecuteTime": {
     "end_time": "2018-08-24T17:48:11.056317Z",
     "start_time": "2018-08-24T17:48:11.006315Z"
    }
   },
   "outputs": [
    {
     "name": "stdout",
     "output_type": "stream",
     "text": [
      "0.7605524886016601\n",
      "0.9627956012855443\n"
     ]
    }
   ],
   "source": [
    "print(mean_squared_error(ensemble_X_train[:, 0], ensemble_y_train))\n",
    "print(mean_squared_error(ensemble_X_train[:, 1], ensemble_y_train))"
   ]
  },
  {
   "cell_type": "code",
   "execution_count": 156,
   "metadata": {
    "ExecuteTime": {
     "end_time": "2018-08-24T17:47:35.329302Z",
     "start_time": "2018-08-24T17:47:35.264290Z"
    }
   },
   "outputs": [
    {
     "data": {
      "text/plain": [
       "(11737, 2)"
      ]
     },
     "execution_count": 156,
     "metadata": {},
     "output_type": "execute_result"
    }
   ],
   "source": [
    "ensemble_X_train.shape"
   ]
  },
  {
   "cell_type": "code",
   "execution_count": 152,
   "metadata": {
    "ExecuteTime": {
     "end_time": "2018-08-24T17:45:31.288058Z",
     "start_time": "2018-08-24T17:45:30.713042Z"
    }
   },
   "outputs": [],
   "source": [
    "ensemble_preds_train = ensemble_linear_model.predict(ensemble_X_train)"
   ]
  },
  {
   "cell_type": "code",
   "execution_count": 153,
   "metadata": {
    "ExecuteTime": {
     "end_time": "2018-08-24T17:45:42.097458Z",
     "start_time": "2018-08-24T17:45:42.032784Z"
    }
   },
   "outputs": [
    {
     "name": "stdout",
     "output_type": "stream",
     "text": [
      "0.7467782399791958\n"
     ]
    }
   ],
   "source": [
    "print(mean_squared_error(ensemble_y_train, ensemble_preds_train))"
   ]
  },
  {
   "cell_type": "code",
   "execution_count": 108,
   "metadata": {
    "ExecuteTime": {
     "end_time": "2018-08-23T21:56:54.715295Z",
     "start_time": "2018-08-23T21:56:54.673007Z"
    }
   },
   "outputs": [
    {
     "name": "stdout",
     "output_type": "stream",
     "text": [
      "0.8041753967782823\n"
     ]
    }
   ],
   "source": [
    "print(mean_squared_error(ensemble_y_test, ensemble_preds))"
   ]
  },
  {
   "cell_type": "code",
   "execution_count": 112,
   "metadata": {
    "ExecuteTime": {
     "end_time": "2018-08-23T21:58:43.676502Z",
     "start_time": "2018-08-23T21:58:43.321769Z"
    }
   },
   "outputs": [
    {
     "name": "stderr",
     "output_type": "stream",
     "text": [
      "/Users/austin/anaconda3/lib/python3.6/site-packages/ipykernel_launcher.py:1: SettingWithCopyWarning: \n",
      "A value is trying to be set on a copy of a slice from a DataFrame.\n",
      "Try using .loc[row_indexer,col_indexer] = value instead\n",
      "\n",
      "See the caveats in the documentation: http://pandas.pydata.org/pandas-docs/stable/indexing.html#indexing-view-versus-copy\n",
      "  \"\"\"Entry point for launching an IPython kernel.\n"
     ]
    }
   ],
   "source": [
    "ensemble_data['acv_preds'] = ((ensemble_data['feature_rf_preds'] + ensemble_data['hash_rf_preds']) / 2)"
   ]
  },
  {
   "cell_type": "code",
   "execution_count": 114,
   "metadata": {
    "ExecuteTime": {
     "end_time": "2018-08-23T21:59:36.156097Z",
     "start_time": "2018-08-23T21:59:36.116071Z"
    }
   },
   "outputs": [
    {
     "name": "stdout",
     "output_type": "stream",
     "text": [
      "0.7911875856457949\n"
     ]
    }
   ],
   "source": [
    "print(mean_squared_error(ensemble_data['label'].values, ensemble_data['acv_preds'].values))"
   ]
  },
  {
   "cell_type": "code",
   "execution_count": 117,
   "metadata": {
    "ExecuteTime": {
     "end_time": "2018-08-23T22:03:21.147393Z",
     "start_time": "2018-08-23T22:03:21.096091Z"
    }
   },
   "outputs": [],
   "source": [
    "why = ensemble_data.loc[:, ['label','feature_rf_preds', 'hash_rf_preds']]"
   ]
  },
  {
   "cell_type": "code",
   "execution_count": 118,
   "metadata": {
    "ExecuteTime": {
     "end_time": "2018-08-23T22:03:21.406905Z",
     "start_time": "2018-08-23T22:03:21.349529Z"
    }
   },
   "outputs": [
    {
     "data": {
      "text/html": [
       "<div>\n",
       "<style scoped>\n",
       "    .dataframe tbody tr th:only-of-type {\n",
       "        vertical-align: middle;\n",
       "    }\n",
       "\n",
       "    .dataframe tbody tr th {\n",
       "        vertical-align: top;\n",
       "    }\n",
       "\n",
       "    .dataframe thead th {\n",
       "        text-align: right;\n",
       "    }\n",
       "</style>\n",
       "<table border=\"1\" class=\"dataframe\">\n",
       "  <thead>\n",
       "    <tr style=\"text-align: right;\">\n",
       "      <th></th>\n",
       "      <th>label</th>\n",
       "      <th>feature_rf_preds</th>\n",
       "      <th>hash_rf_preds</th>\n",
       "    </tr>\n",
       "  </thead>\n",
       "  <tbody>\n",
       "    <tr>\n",
       "      <th>14738</th>\n",
       "      <td>2</td>\n",
       "      <td>1.755046</td>\n",
       "      <td>2.147767</td>\n",
       "    </tr>\n",
       "    <tr>\n",
       "      <th>14739</th>\n",
       "      <td>4</td>\n",
       "      <td>3.399567</td>\n",
       "      <td>3.525983</td>\n",
       "    </tr>\n",
       "    <tr>\n",
       "      <th>14740</th>\n",
       "      <td>5</td>\n",
       "      <td>4.270000</td>\n",
       "      <td>2.804943</td>\n",
       "    </tr>\n",
       "    <tr>\n",
       "      <th>14741</th>\n",
       "      <td>5</td>\n",
       "      <td>4.302981</td>\n",
       "      <td>3.752219</td>\n",
       "    </tr>\n",
       "    <tr>\n",
       "      <th>14742</th>\n",
       "      <td>4</td>\n",
       "      <td>2.714286</td>\n",
       "      <td>3.157665</td>\n",
       "    </tr>\n",
       "    <tr>\n",
       "      <th>14743</th>\n",
       "      <td>1</td>\n",
       "      <td>1.423449</td>\n",
       "      <td>1.003858</td>\n",
       "    </tr>\n",
       "    <tr>\n",
       "      <th>14744</th>\n",
       "      <td>5</td>\n",
       "      <td>4.609352</td>\n",
       "      <td>3.303246</td>\n",
       "    </tr>\n",
       "    <tr>\n",
       "      <th>14745</th>\n",
       "      <td>2</td>\n",
       "      <td>3.662006</td>\n",
       "      <td>3.350708</td>\n",
       "    </tr>\n",
       "    <tr>\n",
       "      <th>14746</th>\n",
       "      <td>4</td>\n",
       "      <td>3.646154</td>\n",
       "      <td>3.706150</td>\n",
       "    </tr>\n",
       "    <tr>\n",
       "      <th>14747</th>\n",
       "      <td>5</td>\n",
       "      <td>3.400000</td>\n",
       "      <td>3.586730</td>\n",
       "    </tr>\n",
       "    <tr>\n",
       "      <th>14748</th>\n",
       "      <td>0</td>\n",
       "      <td>0.151391</td>\n",
       "      <td>0.054573</td>\n",
       "    </tr>\n",
       "    <tr>\n",
       "      <th>14749</th>\n",
       "      <td>0</td>\n",
       "      <td>0.145335</td>\n",
       "      <td>0.539115</td>\n",
       "    </tr>\n",
       "    <tr>\n",
       "      <th>14750</th>\n",
       "      <td>1</td>\n",
       "      <td>2.214286</td>\n",
       "      <td>2.192645</td>\n",
       "    </tr>\n",
       "    <tr>\n",
       "      <th>14751</th>\n",
       "      <td>1</td>\n",
       "      <td>1.252325</td>\n",
       "      <td>2.106281</td>\n",
       "    </tr>\n",
       "    <tr>\n",
       "      <th>14752</th>\n",
       "      <td>2</td>\n",
       "      <td>1.025173</td>\n",
       "      <td>1.589198</td>\n",
       "    </tr>\n",
       "    <tr>\n",
       "      <th>14753</th>\n",
       "      <td>3</td>\n",
       "      <td>2.876190</td>\n",
       "      <td>3.091998</td>\n",
       "    </tr>\n",
       "    <tr>\n",
       "      <th>14754</th>\n",
       "      <td>5</td>\n",
       "      <td>3.971429</td>\n",
       "      <td>3.704601</td>\n",
       "    </tr>\n",
       "    <tr>\n",
       "      <th>14755</th>\n",
       "      <td>0</td>\n",
       "      <td>0.738960</td>\n",
       "      <td>1.261410</td>\n",
       "    </tr>\n",
       "    <tr>\n",
       "      <th>14756</th>\n",
       "      <td>1</td>\n",
       "      <td>1.763486</td>\n",
       "      <td>2.488035</td>\n",
       "    </tr>\n",
       "    <tr>\n",
       "      <th>14757</th>\n",
       "      <td>3</td>\n",
       "      <td>2.220857</td>\n",
       "      <td>1.734592</td>\n",
       "    </tr>\n",
       "    <tr>\n",
       "      <th>14758</th>\n",
       "      <td>5</td>\n",
       "      <td>4.456531</td>\n",
       "      <td>4.551238</td>\n",
       "    </tr>\n",
       "    <tr>\n",
       "      <th>14759</th>\n",
       "      <td>2</td>\n",
       "      <td>2.946375</td>\n",
       "      <td>2.454637</td>\n",
       "    </tr>\n",
       "    <tr>\n",
       "      <th>14760</th>\n",
       "      <td>2</td>\n",
       "      <td>2.652500</td>\n",
       "      <td>3.291782</td>\n",
       "    </tr>\n",
       "    <tr>\n",
       "      <th>14761</th>\n",
       "      <td>0</td>\n",
       "      <td>0.912315</td>\n",
       "      <td>0.324916</td>\n",
       "    </tr>\n",
       "    <tr>\n",
       "      <th>14762</th>\n",
       "      <td>3</td>\n",
       "      <td>2.735659</td>\n",
       "      <td>2.197029</td>\n",
       "    </tr>\n",
       "    <tr>\n",
       "      <th>14763</th>\n",
       "      <td>1</td>\n",
       "      <td>1.722439</td>\n",
       "      <td>1.600884</td>\n",
       "    </tr>\n",
       "    <tr>\n",
       "      <th>14764</th>\n",
       "      <td>4</td>\n",
       "      <td>3.571429</td>\n",
       "      <td>2.219619</td>\n",
       "    </tr>\n",
       "    <tr>\n",
       "      <th>14765</th>\n",
       "      <td>1</td>\n",
       "      <td>0.856490</td>\n",
       "      <td>1.030830</td>\n",
       "    </tr>\n",
       "    <tr>\n",
       "      <th>14766</th>\n",
       "      <td>1</td>\n",
       "      <td>2.361442</td>\n",
       "      <td>2.064362</td>\n",
       "    </tr>\n",
       "    <tr>\n",
       "      <th>14767</th>\n",
       "      <td>2</td>\n",
       "      <td>2.255771</td>\n",
       "      <td>0.660969</td>\n",
       "    </tr>\n",
       "    <tr>\n",
       "      <th>...</th>\n",
       "      <td>...</td>\n",
       "      <td>...</td>\n",
       "      <td>...</td>\n",
       "    </tr>\n",
       "    <tr>\n",
       "      <th>29438</th>\n",
       "      <td>3</td>\n",
       "      <td>3.114286</td>\n",
       "      <td>2.947063</td>\n",
       "    </tr>\n",
       "    <tr>\n",
       "      <th>29439</th>\n",
       "      <td>2</td>\n",
       "      <td>3.028571</td>\n",
       "      <td>2.342743</td>\n",
       "    </tr>\n",
       "    <tr>\n",
       "      <th>29440</th>\n",
       "      <td>2</td>\n",
       "      <td>3.628571</td>\n",
       "      <td>2.460702</td>\n",
       "    </tr>\n",
       "    <tr>\n",
       "      <th>29441</th>\n",
       "      <td>2</td>\n",
       "      <td>2.583261</td>\n",
       "      <td>1.966912</td>\n",
       "    </tr>\n",
       "    <tr>\n",
       "      <th>29442</th>\n",
       "      <td>5</td>\n",
       "      <td>3.462154</td>\n",
       "      <td>3.885714</td>\n",
       "    </tr>\n",
       "    <tr>\n",
       "      <th>29443</th>\n",
       "      <td>0</td>\n",
       "      <td>0.004179</td>\n",
       "      <td>0.052355</td>\n",
       "    </tr>\n",
       "    <tr>\n",
       "      <th>29444</th>\n",
       "      <td>5</td>\n",
       "      <td>4.679130</td>\n",
       "      <td>3.849976</td>\n",
       "    </tr>\n",
       "    <tr>\n",
       "      <th>29445</th>\n",
       "      <td>1</td>\n",
       "      <td>2.422201</td>\n",
       "      <td>2.031646</td>\n",
       "    </tr>\n",
       "    <tr>\n",
       "      <th>29446</th>\n",
       "      <td>4</td>\n",
       "      <td>3.070588</td>\n",
       "      <td>3.690907</td>\n",
       "    </tr>\n",
       "    <tr>\n",
       "      <th>29447</th>\n",
       "      <td>5</td>\n",
       "      <td>4.476385</td>\n",
       "      <td>4.240420</td>\n",
       "    </tr>\n",
       "    <tr>\n",
       "      <th>29448</th>\n",
       "      <td>4</td>\n",
       "      <td>3.364333</td>\n",
       "      <td>3.248241</td>\n",
       "    </tr>\n",
       "    <tr>\n",
       "      <th>29449</th>\n",
       "      <td>1</td>\n",
       "      <td>1.657143</td>\n",
       "      <td>2.628464</td>\n",
       "    </tr>\n",
       "    <tr>\n",
       "      <th>29450</th>\n",
       "      <td>4</td>\n",
       "      <td>3.738121</td>\n",
       "      <td>2.866217</td>\n",
       "    </tr>\n",
       "    <tr>\n",
       "      <th>29451</th>\n",
       "      <td>5</td>\n",
       "      <td>4.227885</td>\n",
       "      <td>4.211567</td>\n",
       "    </tr>\n",
       "    <tr>\n",
       "      <th>29452</th>\n",
       "      <td>0</td>\n",
       "      <td>0.061318</td>\n",
       "      <td>0.050901</td>\n",
       "    </tr>\n",
       "    <tr>\n",
       "      <th>29453</th>\n",
       "      <td>1</td>\n",
       "      <td>2.603052</td>\n",
       "      <td>2.766475</td>\n",
       "    </tr>\n",
       "    <tr>\n",
       "      <th>29454</th>\n",
       "      <td>4</td>\n",
       "      <td>3.360999</td>\n",
       "      <td>3.346746</td>\n",
       "    </tr>\n",
       "    <tr>\n",
       "      <th>29455</th>\n",
       "      <td>5</td>\n",
       "      <td>4.685714</td>\n",
       "      <td>3.700031</td>\n",
       "    </tr>\n",
       "    <tr>\n",
       "      <th>29456</th>\n",
       "      <td>2</td>\n",
       "      <td>2.258242</td>\n",
       "      <td>1.284124</td>\n",
       "    </tr>\n",
       "    <tr>\n",
       "      <th>29457</th>\n",
       "      <td>0</td>\n",
       "      <td>0.409840</td>\n",
       "      <td>0.245386</td>\n",
       "    </tr>\n",
       "    <tr>\n",
       "      <th>29458</th>\n",
       "      <td>2</td>\n",
       "      <td>2.376757</td>\n",
       "      <td>1.309078</td>\n",
       "    </tr>\n",
       "    <tr>\n",
       "      <th>29459</th>\n",
       "      <td>0</td>\n",
       "      <td>0.005378</td>\n",
       "      <td>0.052355</td>\n",
       "    </tr>\n",
       "    <tr>\n",
       "      <th>29460</th>\n",
       "      <td>5</td>\n",
       "      <td>4.671029</td>\n",
       "      <td>4.769510</td>\n",
       "    </tr>\n",
       "    <tr>\n",
       "      <th>29461</th>\n",
       "      <td>5</td>\n",
       "      <td>4.570746</td>\n",
       "      <td>3.872685</td>\n",
       "    </tr>\n",
       "    <tr>\n",
       "      <th>29462</th>\n",
       "      <td>5</td>\n",
       "      <td>4.588347</td>\n",
       "      <td>3.527560</td>\n",
       "    </tr>\n",
       "    <tr>\n",
       "      <th>29463</th>\n",
       "      <td>0</td>\n",
       "      <td>0.295826</td>\n",
       "      <td>0.609674</td>\n",
       "    </tr>\n",
       "    <tr>\n",
       "      <th>29464</th>\n",
       "      <td>1</td>\n",
       "      <td>1.266123</td>\n",
       "      <td>1.996027</td>\n",
       "    </tr>\n",
       "    <tr>\n",
       "      <th>29465</th>\n",
       "      <td>2</td>\n",
       "      <td>3.154316</td>\n",
       "      <td>2.715381</td>\n",
       "    </tr>\n",
       "    <tr>\n",
       "      <th>29466</th>\n",
       "      <td>1</td>\n",
       "      <td>1.771429</td>\n",
       "      <td>1.700264</td>\n",
       "    </tr>\n",
       "    <tr>\n",
       "      <th>29467</th>\n",
       "      <td>5</td>\n",
       "      <td>3.885714</td>\n",
       "      <td>3.571582</td>\n",
       "    </tr>\n",
       "  </tbody>\n",
       "</table>\n",
       "<p>14672 rows × 3 columns</p>\n",
       "</div>"
      ],
      "text/plain": [
       "       label  feature_rf_preds  hash_rf_preds\n",
       "14738      2          1.755046       2.147767\n",
       "14739      4          3.399567       3.525983\n",
       "14740      5          4.270000       2.804943\n",
       "14741      5          4.302981       3.752219\n",
       "14742      4          2.714286       3.157665\n",
       "14743      1          1.423449       1.003858\n",
       "14744      5          4.609352       3.303246\n",
       "14745      2          3.662006       3.350708\n",
       "14746      4          3.646154       3.706150\n",
       "14747      5          3.400000       3.586730\n",
       "14748      0          0.151391       0.054573\n",
       "14749      0          0.145335       0.539115\n",
       "14750      1          2.214286       2.192645\n",
       "14751      1          1.252325       2.106281\n",
       "14752      2          1.025173       1.589198\n",
       "14753      3          2.876190       3.091998\n",
       "14754      5          3.971429       3.704601\n",
       "14755      0          0.738960       1.261410\n",
       "14756      1          1.763486       2.488035\n",
       "14757      3          2.220857       1.734592\n",
       "14758      5          4.456531       4.551238\n",
       "14759      2          2.946375       2.454637\n",
       "14760      2          2.652500       3.291782\n",
       "14761      0          0.912315       0.324916\n",
       "14762      3          2.735659       2.197029\n",
       "14763      1          1.722439       1.600884\n",
       "14764      4          3.571429       2.219619\n",
       "14765      1          0.856490       1.030830\n",
       "14766      1          2.361442       2.064362\n",
       "14767      2          2.255771       0.660969\n",
       "...      ...               ...            ...\n",
       "29438      3          3.114286       2.947063\n",
       "29439      2          3.028571       2.342743\n",
       "29440      2          3.628571       2.460702\n",
       "29441      2          2.583261       1.966912\n",
       "29442      5          3.462154       3.885714\n",
       "29443      0          0.004179       0.052355\n",
       "29444      5          4.679130       3.849976\n",
       "29445      1          2.422201       2.031646\n",
       "29446      4          3.070588       3.690907\n",
       "29447      5          4.476385       4.240420\n",
       "29448      4          3.364333       3.248241\n",
       "29449      1          1.657143       2.628464\n",
       "29450      4          3.738121       2.866217\n",
       "29451      5          4.227885       4.211567\n",
       "29452      0          0.061318       0.050901\n",
       "29453      1          2.603052       2.766475\n",
       "29454      4          3.360999       3.346746\n",
       "29455      5          4.685714       3.700031\n",
       "29456      2          2.258242       1.284124\n",
       "29457      0          0.409840       0.245386\n",
       "29458      2          2.376757       1.309078\n",
       "29459      0          0.005378       0.052355\n",
       "29460      5          4.671029       4.769510\n",
       "29461      5          4.570746       3.872685\n",
       "29462      5          4.588347       3.527560\n",
       "29463      0          0.295826       0.609674\n",
       "29464      1          1.266123       1.996027\n",
       "29465      2          3.154316       2.715381\n",
       "29466      1          1.771429       1.700264\n",
       "29467      5          3.885714       3.571582\n",
       "\n",
       "[14672 rows x 3 columns]"
      ]
     },
     "execution_count": 118,
     "metadata": {},
     "output_type": "execute_result"
    }
   ],
   "source": [
    "why"
   ]
  },
  {
   "cell_type": "code",
   "execution_count": 119,
   "metadata": {
    "ExecuteTime": {
     "end_time": "2018-08-23T23:42:16.314270Z",
     "start_time": "2018-08-23T23:42:15.942926Z"
    }
   },
   "outputs": [
    {
     "data": {
      "text/plain": [
       "array([0.8153928 , 0.21688293])"
      ]
     },
     "execution_count": 119,
     "metadata": {},
     "output_type": "execute_result"
    }
   ],
   "source": [
    "ensemble_linear_model.coef_"
   ]
  },
  {
   "cell_type": "code",
   "execution_count": 123,
   "metadata": {
    "ExecuteTime": {
     "end_time": "2018-08-24T00:12:19.087605Z",
     "start_time": "2018-08-24T00:12:19.037447Z"
    }
   },
   "outputs": [
    {
     "name": "stdout",
     "output_type": "stream",
     "text": [
      "[[Image:GD-FR-Paris-Louvre-Sculptures034.JPG|320px|thumb|Tomb of Philippe Pot, governor of [[Burgundy (region)|Burgundy]]  under [[Louis XI]]|alt=A large sculpture of six life-sized black-cloaked men, their faces obscured by their hoods, carrying a slab upon which lies the supine effigy of a knight, with hands folded together in prayer. His head rests on a pillow, and his feet on a small reclining lion.]]\n",
      "[[File:Sejong tomb 1.jpg|thumb|320px|Korean tomb mound of King [[Sejong the Great]], d. 1450]]\n",
      "[[Image:Istanbul - Süleymaniye camii - Türbe di Roxellana - Foto G. Dall'Orto 28-5-2006.jpg|thumb|320px|[[Türbe]] of [[Roxelana]] (d. 1558), [[Süleymaniye Mosque]], [[Istanbul]]]]\n",
      "'''Funerary art''' is any work of [[art]] forming, or placed in, a repository for the remains of the [[death|dead]]. [[Tomb]] is a general term for the repository, while [[grave goods]] are objects—other than the primary human remains—which have been placed inside.<ref>Hammond, 58–9 characterizes [[Dismemberment|disarticulated]] human skeletal remains packed in body bags and incorporated into [[Formative stage|Pre-Classic]] [[Mesoamerica]]n [[mass burial]]s (along with a set of primary remains) at Cuello, [[Belize]] as \"human grave goods\".</ref> Such objects may include the personal possessions of the deceased, objects specially created for the burial, or miniature versions of things believed to be needed in an [[afterlife]].  Knowledge of many non-literate cultures is drawn largely from these sources.\n",
      "\n",
      "Funerary art can serve many cultural functions.  It can play a role in burial rites, serve as an article for use by the dead in the afterlife, and celebrate the life and accomplishments of the dead, whether as part of kinship-centered practices of [[ancestor veneration]] or as a publicly directed [[Dynasty|dynastic]] display.  It can also function as a reminder of the mortality of humankind, as an expression of cultural values and roles, and help to propitiate the spirits of the dead, maintaining their benevolence and preventing their unwelcome intrusion into the affairs of the living.  \n",
      "\n",
      "The deposit of objects with an apparent aesthetic intention may go back to the [[Neanderthal]]s over 50,000 years ago,<ref>Depending on the interpretation of sites like the [[Shanidar Cave]] in Iraq. Bogucki, 64–66 summarizes the debate.  Gargett takes a hostile view but accepts (p. 29 etc.) that many or most scholars do not. See also Pettitt.</ref> and is found in almost all subsequent cultures—the [[Hinduism|Hindu]] culture, which has little, is a notable exception.<ref>\"[Hindu] disposal of their dead by cremation and a belief in reincarnation tended to obviate an inherent interest in permanent markers\". Groseclose, 23</ref> Many of the best-known artistic creations of past cultures—from the [[Egyptian pyramids]] and the [[KV62|Tutankhamun treasure]] to the [[Terracotta Army]] surrounding the tomb of the [[Qin Shi Huang|Qin Emperor]], the [[Mausoleum of Halicarnassus]], the [[Sutton Hoo]] ship burial and the [[Taj Mahal]]—are tombs or objects found in and around them.  In most instances, specialized funeral art was produced for the powerful and wealthy, although the burials of ordinary people might include simple monuments and grave goods, usually from their possessions.\n",
      "\n",
      "An important factor in the development of traditions of funerary art is the division between what was intended to be visible to visitors or the public after completion of the [[funeral]] ceremonies.<ref>See for example the chapter \"Tombs for the Living and the Dead\", Insoll 176–87</ref>  The [[Tutankhamun]] treasure, for example, though exceptionally lavish, was never intended to be seen again by humans after it was deposited, while the exterior of the Pyramids were a permanent and highly effective demonstration of the power of their creators.  A similar division can be seen in grand East Asian tombs. In other cultures nearly all the art connected with the burial, except for limited grave goods, was intended to remain visible to the public, or at least those admitted by the custodians.  In these cultures traditions such as the sculpted  [[sarcophagus]] and [[tomb monument]]s of the Greek and Roman empires, and later the Christian world, have flourished. The [[mausoleum]] intended for visiting was the grandest type of tomb in the classical world, and later common in [[Islam]]ic culture.\n",
      "\n",
      "==Common terms==\n",
      "A [[tumulus]], mound, [[kurgan]], or [[long barrow]] covered important [[burial]]s in many cultures, and the body may be placed in a sarcophagus, usually of stone, or a [[coffin]], usually of wood.  A mausoleum is a building erected mainly as a tomb, taking its name from the Mausoleum of Mausolus at [[Halicarnassus]].  [[Stele]] is a term for erect stones that are often what are now called [[gravestone]]s.  [[Ship burial]]s are mostly found in coastal Europe, while [[chariot burial]]s are found widely across [[Eurasia]]. [[Catacombs]], of which the most famous examples are those in [[Catacombs of Rome|Rome]] and [[Catacombs of Kom el Shoqafa|Alexandria]], are underground cemeteries connected by tunnelled passages.  A large group of burials with traces remaining above ground can be called a [[necropolis]]; if there are no such visible structures, it is a [[grave field]].  A [[cenotaph]] is a memorial without a burial.<ref>See any well-regarded survey of the [[history of art]] or of [[history of architecture|architecture]], such as ''[[Gardner's Art Through the Ages]]'' or the most recent edition of Sir [[Banister Fletcher]]'s ''A History of Architecture.''</ref>\n",
      "\n",
      "Related genres of commemorative art for the dead take many forms, such as the ''[[moai]]'' figures of [[Easter Island]], apparently a type of sculpted [[ancestor portrait]], though hardly individualized.<ref>[http://www.britishmuseum.org/explore/highlights/highlight_objects/aoa/h/hoa_hakananaia.aspx Hoa Hakananai'a] British Museum, accessed 26 April, 2010</ref>  These are common in cultures as diverse as Ancient Rome and China, in both of which they are kept in the houses of the descendants, rather than being buried.<ref>Toynbee, 47–48, on Ancient Rome. Stewart and Rawski's book is entirely devoted to Chinese ancestor portraits. See Chapter 1 etc.</ref>  Many cultures have [[psychopomp]] figures, such as the Greek [[Hermes]] and Etruscan [[Charun]], who help conduct the spirits of the dead into the afterlife.\n",
      "\n",
      "== Pre-history==\n",
      "{{Main|Megalith}}\n",
      "[[Image:paulnabrone.jpg|thumb|left|The [[Poulnabrone dolmen]] in Ireland covered at least 22 bodies of the [[Neolithic]] period]]\n",
      "\n",
      "Most of humanity's oldest known archaeological constructions are tombs.<ref>Although the purpose of megalithic structures is not always clear, and of the very oldest, while [[Nevali Cori]] in Turkey contains burials, [[Göbekli Tepe]] appears not to.</ref> Mostly [[megalith]]ic, the earliest instances date to within a few centuries of each other, yet show a wide diversity of form and purpose. Tombs in the [[Iberian peninsula]] have been dated through [[thermoluminescence]] to c. 4510 BCE, and some burials at the [[Carnac stones]] in [[Brittany]] also date back to the fifth millennium BCE.<ref>Mohen, 70</ref> The commemorative value of such burial sites are indicated by the fact that, at some stage, they became elevated, and that the constructs, almost from the earliest, sought to be monumental. This effect was often achieved by encapsulating a single corpse in a basic pit, surrounded by an elaborate ditch and drain. Over-ground commemoration is thought to be tied to the concept of collective memory, and these early tombs were likely intended as a form of [[ancestor-worship]], a development available only to communities that had advanced to the stage of settled livestock and formed social roles and relationships and specialized sectors of activity.<ref>Mohen, 87</ref>\n",
      "\n",
      "In [[Neolithic]] and [[Bronze Age]] societies, a great variety of tombs are found, with tumulus mounds, megaliths and pottery as recurrent elements. In Eurasia, a [[dolmen]] is the exposed stone framework for a [[chamber tomb]] originally covered by earth to make a mound which no longer exists.  Stones may be carved with geometric patterns ([[petroglyph]]s), for example [[cup and ring mark]]s.  Group tombs were made, the social context of which is hard to decipher. [[Urn]] burials, where bones are buried in a pottery container, either in a more elaborate tomb, or by themselves, are widespread, by no means restricted to the [[Urnfield culture]] which is named after them, or even to Eurasia.  [[Menhir]]s, or \"[[standing stone]]s\", seem often to mark graves or serve as memorials,<ref>Kipfer, \"Menhir\", 348</ref> while the later [[runestone]]s and [[image stone]]s often are [[cenotaph]]s, or memorials apart from the grave itself; these continue into the Christian period. The [[Senegambian stone circles]] are a later African form of tomb markers.<ref>[http://whc.unesco.org/en/list/1226 Stone Circles of Senegambia – UNESCO World Heritage Centre], accessed April 28, 2010</ref>\n",
      "\n",
      "== Ancient Egypt and Nubia==\n",
      "{{main|Art of ancient Egypt}}\n",
      "[[Image:Egypte louvre 239 masque.jpg|thumb|Egyptian ceramic coffin mask|alt=An oversized, shallow mask depicting a large face. The face is roughly oval-shaped, but the top of the mask is a horizontal line just above the eyebrows, leaving the entire mask roughly triangular. The entire face is flattened, but the bulbous nose protrudes away from the face. The eyes are large and almond shaped, and both the eyes and braided eyebrows are disproportionally large in comparison with the mouth, which has full lips. The front of the face is clean-shaven, but below the chin, there is a long, narrow, pointed, braided false beard that was characteristic of ancient Egyptian royalty.]]\n",
      "\n",
      "Egyptian funerary art was inseparably connected to the [[Ancient Egyptian religion|religious belief]] that life continued after death – even more, it expressed a belief that \"death is a mere phase of life\".<ref>Groenewegen-Frankfort, 80</ref> Aesthetic objects and images connected with this belief were partially intended to preserve material goods, wealth and status for the journey between this life and the next,<ref>Stone, 37</ref> and to \"commemorate the life of the tomb owner ... depict performance of the burial rites, and in general present an environment that would be conducive to the tomb owner's rebirth.\"<ref>Kampen&nbsp;et&nbsp;al, 31</ref> In this context, Egyptian [[mummy|mummies]] encased in one or more layers of decorated coffin, are famous; [[canopic jar]]s preserved the internal organs. A special category of [[Ancient Egyptian funerary texts]] clarify the purposes of the burial customs.  The early [[mastaba]] type of tomb had a sealed underground burial chamber but an offering-chamber on the ground level for visits by the living, a pattern repeated in later types of tomb. An effigy of the deceased might be walled up in a ''[[serdab]]'' connected to the offering chamber by vents that allowed the smell of [[incense]] to reach the effigy.<ref>Maspero, 111—127, with ''serdabs'' 124—125</ref>   The walls of important tomb-chambers and offering chambers were heavily decorated with [[relief]]s in stone or sometimes wood, or paintings, depicting religious scenes, portraits of the deceased, and at some periods vivid images of everyday life, depicting the afterlife. The chamber decoration usually centred on a \"false door\", through which only the soul of the deceased could pass, to received the offerings left by the living.<ref>Robins, 51–55, 66–71, 218–219, and see index for other periods. Tomb styles changed considerably over the course of Egyptian history.</ref> \n",
      "\n",
      "[[Representation (arts)|Representational art]], such as individual portraiture of the deceased, is found extremely early on and continues into the Roman period in the [[Encaustic painting|encaustic]] [[Faiyum mummy portraits|Faiyum funerary portraits]] applied to coffins. However, it is still hotly debated whether there was realistic [[portraiture in Ancient Egypt]].<ref>Spanel, 23</ref>  The purpose of the life-sized [[reserve head]]s found in burial shafts or tombs of nobles of the [[Fourth dynasty of Egypt|Fourth dynasty]] is not well understood; they may have been a discreet method of eliding an edict by [[Khufu]] forbidding nobles from creating statues of themselves, or may have protected the deceased's spirit from harm or magically eliminated any evil in it, or perhaps functioned as alternate containers for the spirit if the body should be harmed in any way.<ref>Atiya & El Shawahy, 73</ref> \n",
      " \n",
      "Architectural works such as the massive [[Great Pyramid of Giza|Great Pyramid]] and two smaller ones built during the [[Old Kingdom]] in the [[Giza Necropolis]] and (much later, from about 1500&nbsp;BCE) the tombs in the [[Valley of the Kings]] were built for royalty and the elite. The [[Theban Necropolis]] was later an important site for [[mortuary temple]]s and mastaba tombs.  The [[Kushite]] kings who conquered Egypt and ruled as pharaohs during the [[Twenty-fifth dynasty of Egypt|Twenty-fifth dynasty]] were greatly influenced by Egyptian funerary customs, employing mummification, canopic jars and ''[[ushabti]]'' funerary figurines. They also built the [[Nubian pyramids]], which in both size and design more closely resemble the smaller [[Seventeenth dynasty of Egypt|Seventeenth dynasty]] pyramids at Thebes than those of the Old Kingdom near Memphis.<ref>Boardman, Edwards ''et al'', 688–9</ref>\n",
      "\n",
      "Lower-class citizens used common forms of funerary art—including ''[[shabti]]'' figurines (to perform any labor that might be required of the dead person in the afterlife), [[Dung beetle#Scarab in Ancient Egypt|models of the scarab beetle]] and books of the dead—which they believed would protect them in the afterlife.<ref>James, 122</ref> During the [[Middle Kingdom of Egypt|Middle Kingdom]], miniature wooden or clay models depicting scenes from everyday life became popular additions to tombs. In an attempt to duplicate the activities of the living in the afterlife, these models show laborers, houses, boats and even military formations which are scale representations of the ideal ancient Egyptian afterlife.<ref>Robins, 74</ref>\n",
      "\n",
      "==Ancient Greece==\n",
      "[[Image:NAMA Hermès & Myrrhinè.jpg|thumb|left|200px|Relief from a carved funerary ''[[lekythos]]'' at the [[National Archaeological Museum of Athens]]: [[Hermes]] conducts the deceased, ''Myrrhine'', to [[Hades]], c. 430–420 BCE|alt=A carving of a noble robed man and woman apparently leading a demure, robed woman. The man's robe is open, exposing his penis. He holds the hand of the woman.]]\n",
      "\n",
      "The ancient Greeks did not generally leave elaborate grave goods, except for a [[Charon's obol|coin to pay Charon]], the [[Charon (mythology)|ferryman to Hades]], and pottery; however the ''epitaphios'' or [[Funeral oration (ancient Greece)|funeral oration]]&nbsp;from which the word [[epitaph]] comes&nbsp;was regarded as of great importance, and [[animal sacrifice]]s were made.   Those who could afford them erected stone monuments, which was one of the functions of ''[[kouros]]'' statues in the [[Archaic period in Greece|Archaic period]] before about 500&nbsp;BCE.  These were not intended as portraits, but during the [[Hellenistic art|Hellenistic period]], realistic portraiture of the deceased was introduced and family groups were often depicted in [[bas-relief]] on monuments, usually surrounded by an architectural frame.<ref>Boardman, 212, 15</ref>  The walls of tomb chambers were often painted in [[fresco]], although few examples have survived in as good condition as the [[Tomb of the Diver]] from southern Italy or the tombs at [[Vergina]] in Macedon.  Almost the only surviving painted portraits in the classical Greek tradition are found in Egypt rather than Greece. The [[Fayum mummy portraits]], from the very end of the classical period, were portrait faces, in a [[Greco-Roman world|Graeco-Roman]] style, attached to mummies.<ref>Oakes & Gahlin, 236</ref>\n",
      "\n",
      "Early Greek burials were frequently marked above ground by a large piece of [[Pottery of ancient Greece|pottery]], and remains were also buried in urns.  Pottery continued to be used extensively inside tombs and graves throughout the classical period.<ref>Boardman, 26 and passim</ref>   The ''[[Larnax (Archaeology)|larnax]]'' is a small coffin or ash-chest, usually of decorated [[terracotta]]. The two-handled ''[[loutrophoros]]'' was primarily associated with weddings, as it was used to carry water for the [[nuptial]] bath. However, it was also placed in the tombs of the unmarried, \"presumably to make up in some way for what they had missed in life.\"<ref>Richter, 57</ref> The one-handled ''[[lekythos]]'' had many household uses, but outside the household, its principal use was the decoration of tombs.<ref>Henderson, 135</ref> Scenes of a [[descent to the underworld]] of [[Hades]] were often painted on these, with the dead depicted beside [[Hermes]], Charon or both—though usually only with Charon.<ref>Wright, 391</ref> Small pottery figurines are often found, though it is hard to decide if these were made especially for placement in tombs; in the case of the [[Hellenistic]] [[Tanagra figurines]], this seems probably not the case.<ref>Boardman, 212–13</ref> But silverware is more often found around the fringes of the Greek world, as in the royal [[Macedon]]ian tombs of [[Vergina]], or in the neighbouring cultures such as those of [[Thrace]] or the [[Scythians]].<ref>Boardman, 149–50</ref>\n",
      "\n",
      "The extension of the Greek world after the conquests of [[Alexander the Great]] brought peoples with different tomb-making traditions into the [[Hellenistic]] sphere, resulting in new formats for art in Greek styles.<ref>Boardman, 151–154, and throughout the section on the period</ref>  A generation before Alexander, Mausolus was a Hellenized [[satrap]] or semi-independent ruler under the [[Persian Empire]], whose enormous tomb (begun 353 BCE) was wholly exceptional in the Greek world – together with the Pyramids it was the only tomb to be be included in the [[Seven Wonders of the Ancient World]].  The exact form of the [[Mausoleum of Halicarnassus]], which gave the name to the form, is now unclear, and there are several alternative reconstructions that seek to reconcile the archaeological evidence with descriptions in literature.<ref>Boardman, 126–127. Apart from those at the [[Mausoleum of Halicarnassus]] article, there are several from Lethaby's 1908 work [http://penelope.uchicago.edu/Thayer/E/Gazetteer/Places/Europe/Turkey/_Periods/Greek/_Texts/LETGKB/Mausoleum*.html here], and one illustrated in Boardman.</ref>  It had the size and some elements of the design of the [[Greek temple]], but was much more vertical, with a square base and a pyramidal roof.  There were quantities of large sculpture.<ref>Boardman, 126–127</ref>  Other local rulers adapted the high-relief temple [[frieze]] for very large sarcophagi, starting a tradition which was to exert a great influence on Western art up to 18th century [[Neo-Classicism]].  The late 4th century [[Alexander Sarcophagus]] was in fact made for another Hellenized Eastern ruler, one of a number of important sarcophagi found at [[Sidon]] in the modern [[Lebanon]].  The two long sides show Alexander's great victory at the [[Battle of Issus]] and a lion hunt; such violent scenes were common on ostentatious classical sarcophagi from this period onwards, with a particular revival in Roman art of the 2nd century.  More peaceful mythological scenes were popular on smaller sarcophagi, especially of [[Bacchus]].<ref>Boardman, 172–173, 339–344</ref>\n",
      "\n",
      "==Etruscan==\n",
      "[[Image:Banditaccia Sarcofago Degli Sposi.jpg|thumb|The [[Etruscan civilization|Etruscan]] \"[[Sarcophagus of the Spouses]]\", at the [[National Etruscan Museum]] in Italy.|alt=A sculpture of a woman and man reclining together on a couch, their upper bodies to the right and their legs to the left. There is a marked contrast between the high relief busts of their upper bodies and the very flattened lower bodies and legs. They have almond shaped eyes and long braided hair, and are smiling widely. The man has a beard that is bobbed. The woman's hands are gesticulating in front of her as if she was holding something that is no longer there, or perhaps gesturing while speaking. The man has his right arm draped around the woman's shoulders in an intimate pose, and his right hand on her shoulder also appears to once have held some item. His left hand rests palm up in the crook of the woman's left elbow.\n",
      "]]\n",
      "\n",
      "Objects connected with death, in particular [[sarcophagus|sarcophagi]] and [[cinerary urn]]s, form the basis of much of current knowledge of the ancient [[Etruscan civilization]] and [[Etruscan art|its art]], which once competed with the [[culture of ancient Rome]], but was eventually absorbed into it.<ref>Holiday, 73</ref> The sarcophagi and the lids of the urns often incorporate a reclining image of the deceased. The reclining figures in some Etruscan funerary art are shown using the ''[[mano cornuta]]'' to protect the grave.<ref>de&nbsp;Grummond 1997, 359</ref>\n",
      "\n",
      "The motif of the funerary art of the 7th and 6th centuries&nbsp;BCE was typically a feasting scene, sometimes with dancers and musicians, or athletic competitions. Household bowls, cups, and pitchers are sometimes found in the graves, along with food such as eggs, pomegranates, honey, grapes and olives for use in the afterlife.<ref>de&nbsp;Grummond 2006, 231</ref><ref>de&nbsp;Grummond&nbsp;1997,&nbsp;93</ref> From the 5th century, the mood changed to more somber and gruesome scenes of parting, where the deceased are shown leaving their loved ones,<ref>Johnston,&nbsp;489</ref> often surrounded by underworld demons, and psychopomps, such as [[Charun]] or the winged female [[Vanth]]. The underworld figures are sometimes depicted as gesturing impatiently for a human to be taken away.<ref name=\"D1985\">Davies, 632</ref> The handshake was another common motif, as the dead took leave of the living.<ref name=\"D1985\" /> This often took place in front of or near a closed double doorway, presumably the portal to the underworld. Evidence in some art, however, suggests that the \"handshake took place at the other end of the journey, and represents the dead being greeted in the Underworld\".<ref name=\"D1985\" />\n",
      "\n",
      "== Ancient Rome ==\n",
      "[[File:Stele warrior BM GR1905.10-23.1.jpg|thumb|200px|left|Warrior with [[cuirass]] and helmet leaning on his spear in front of a funerary stele; the snake symbolizes the soul of the dead. Marble, Roman artwork from the 1st century BC imitating the Greek classical style of the 5th century BC. From [[Rhodes]].]] \n",
      "\n",
      "The burial customs of the [[Ancient Rome|ancient Romans]] were influenced by both of the first significant cultures whose territories they conquered as their state expanded, namely the Greeks of [[Magna Graecia]] and the Etruscans.<ref>Toynbee, Chapter I</ref>  The original Roman custom was [[cremation]], after which the burnt remains were kept in a pot, ash-chest or urn, often in a ''[[columbarium]]''; pre-Roman burials around Rome often used hut-urns—little pottery houses.<ref>Hall, 15</ref>  From about the second century&nbsp;CE, [[inhumation]] (burial of unburnt remains) in sarcophagi, often elaborately carved, became more fashionable for those who could afford it.<ref>Toynbee, 39–40</ref>  Greek-style medallion portrait sculptures on a ''stela'', or small mausoleum for the rich, housing either an urn or sarcophagus, were often placed in a location such as a roadside, where it would be very visible to the living and perpetuate the memory of the dead.  Often a couple are shown, signifying a longing for reunion in the afterlife rather than a double burial.<ref>Toynbee, Chapter IV; Hall, 53</ref> \n",
      "\n",
      "In later periods, life-size sculptures of the deceased reclining as though at a meal or social gathering are found, a common Etruscan style.  Family tombs for the grandest late Roman families, like the [[Tomb of the Scipios]], were large mausoleums with facilities for visits by the living, including kitchens and bedrooms.  The [[Castel Sant'Angelo]], built for [[Hadrian]], was later converted into a fortress.  Compared to the Etruscans, though, there was less emphasis on provision of a lifestyle for the deceased, although paintings of useful objects or pleasant activities, like hunting, are seen.<ref>Toynbee, 38</ref>  Ancestor portraits, usually in the form of wax masks, were kept in the home, apparently often in little cupboards,<ref>Toynbee, 31&nbsp;(illustration)</ref> although grand patrician families kept theirs on display in the ''[[Domus|atrium]]''.  They were worn in the funeral processions of members of the family by persons wearing appropriate costume for the figure represented, as described by [[Pliny the Elder]] and [[Polybius]].  Pliny also describes the custom of having a bust-portrait of an ancestor painted on a round bronze shield (''[[clipeus]]''), and having it hung in a temple or other public place.  No examples of either type have survived.<ref>Hall, 15, 35, 78</ref> \n",
      "\n",
      "By the late [[Roman Republic|Republic]] there was considerable competition among wealthy Romans for the best locations for tombs, which lined all the approach roads to the city up to the walls, and a variety of exotic and unusual designs sought to catch the attention of the passer-by and so perpetuate the memory of the deceased and increase the prestige of their family.  Examples include the [[Tomb of Eurysaces the Baker]], a [[freedman]], the [[Pyramid of Cestius]], and the Mausoleum of [[Caecilia Metella (daughter of Metellus Creticus)|Caecilia Metella]], all built within a few decades of the start of the [[Common Era]].<ref>Petersen, 95—105; see also Boardman, 240—241 on Eurysaces' tomb.</ref>    \n",
      "\n",
      "In Italy, sarcophagi were mostly intended to be set against the wall of the tomb, and only decorated on three sides, in contrast to the free-standing styles of Greece and the Eastern Empire. The relief scenes of Hellenistic art became even more densely crowded in later Roman sarcophagi, as for example in the 2nd century [[Portonaccio sarcophagus]], and various styles and forms emerged, such as the columnar type with an \"architectural background of columns and niches for its figures\".<ref>Boardman, 339</ref>  A well-known Early Christian example is the [[Sarcophagus of Junius Bassus]], used for an important new convert who died in 359. Many sarcophagi from leading centres were exported around the Empire.<ref>Boardman, 339–344; Hall, 78–80</ref>  The Romans had already developed the expression of religious and philosophical ideas in narrative scenes from [[Greek mythology]], treated [[allegorically]];<ref>Hall, 54–61</ref> they later transferred this habit to Christian ideas, using Biblical scenes.<ref>Hall, 77–82</ref>\n",
      "\n",
      "==China==\n",
      "[[File:SAM Art Ladder military guardian.jpg|thumb|\"Military Guardian\", Chinese funerary statue. Seattle Art Museum, Seattle, Washington.]]\n",
      "Funerary art varied greatly across Chinese history. Tombs of early rulers rival the ancient Egyptians for complexity and value of grave goods, and have been similarly pillaged over the centuries by [[tomb robber]]s.  For a long time, literary references to [[jade burial suit]]s were regarded by scholars as fanciful myths, but a number of examples were excavated in the 20th century, and it is now believed that they were relatively common among early rulers.  Knowledge of pre-dynastic Chinese culture has been expanded by spectacular discoveries at [[Sanxingdui]] and other sites.  Very large tumuli could be erected, and later, mausoleums.  Several special large shapes of [[Shang dynasty]] bronze ritual vessels may have been made for burial only; the [[Tomb of Fu Hao]] (c BCE 1200) is one of the few undisturbed royal tombs of the period to have been excavated—most funerary art has appeared on the art market without archaeological context.<ref>See for example  Merriman, 297</ref> \n",
      "\n",
      "The discovery in 1974 of the [[Terracotta army]] located the tomb of the [[First Qin Emperor]] (died 210 BCE), but the main tumulus, of which literary descriptions survive,  has not been excavated.  Remains surviving above ground from several imperial tombs of the [[Han dynasty]] show traditions maintained until the end of imperial rule.  The tomb itself is an \"underground palace\" beneath a sealed tumulus surrounded by a wall, with several buildings set at some distance away down avenues for the observation of rites of veneration, and the accomodation of both permanent staff and those visiting to perform rites, as well as gateways, towers and other buildings.  This complex is approached by a \"spirit road\", sometimes several kilometres long, lined by statues of guardian figures, based on both humans and animals, and [[Bixi (tortoise)|''bixi'']] or stelae mounted on tortoises. In Han tombs the guardian figures are mainly of \"lions\" and \"[[chimera]]s\"; in later periods they are much more varied.<ref>Sickman & Soper, 57-66; see also [http://books.google.co.uk/books?id=4gNk5HzIIKgC&pg=PA31&dq=Han+cemetery+marker+que&lr=&ei=LeLfS_P-NYvONd_D-M8K&cd=4#v=onepage&q&f=false the diagram here]</ref>  A looted tomb with fine paintings is the [[Empress Dowager Wenming tomb]] of the 5th century CE, and the many tombs of the 7th century [[Tang dynasty]] [[Qianling Mausoleum]] group are an early example of a generally well-preserved ensemble.<ref>Sickman & Soper, 155</ref>  The [[complex of Goguryeo Tombs]], from a kingdom of the 5th to 7th centuries which included modern [[Korea]], are especially rich in paintings.  Only one of the [[Imperial Tombs of the Ming and Qing Dynasties]] has been excavated, in 1956, with such [[Ming Dynasty Tombs|disastrous results]] for the conservation of the thousands of objects found, that the current policy is to leave them undisturbed.<ref>Evasdottir, 158—160</ref>   \n",
      "\n",
      "The [[Lei Cheng Uk Han Tomb Museum]] in Hong Kong displays a far humbler middle-class Han dynasty tomb, and the mid-2nd century Wu Family tombs of [[Jiaxiang County]], [[Shandong]] are the most important group of commoner tombs for funerary stones.  The walls of both the offering and burial chambers of tombs of commoners from the Han period may be decorated with stone slabs carved or engraved in very low relief with crowded and varied scenes, which are now the main indication of the style of the lost palace frescos of the period.  A cheaper option was to use large clay tiles which were carved or impressed before firing.<ref>Sickman & Soper, 77-84</ref>  After the introduction of Buddhism, carved \"funerary couches\" featured similar scenes, now mostly religious.<ref>Sickman & Soper, 120-121</ref> During the Han Dynasty, [[Science_and_technology_of_the_Han_Dynasty#Ceramic_model_buildings|miniature ceramic models]] of buildings were often made to accompany the deceased in the graves; to them is owed much of what is known of ancient Chinese architecture. Later, during the [[Six Dynasties]], sculptural miniatures depicting buildings, monuments, people and animals adorned the tops of the ''[[hunping]]'' funerary vessels.<ref name=dien>Dien, 214–215</ref>  The outsides of tombs often featured monumental brick or stone-carved pillar-gates (que 闕); an example from 121 CE appears to be the earliest surviving Chinese architectural structure standing above ground.<ref>Sickman & Soper, 376 (illustrated)</ref> \n",
      "\n",
      "Early burial customs show a strong belief in an afterlife and a spirit path to it that needed facilitating.  Funerals and memorials were also an opportunity to reaffirm such important cultural values as [[filial piety]] and \"the honor and respect due to seniors, the duties incumbent on juniors\"<ref>Thorp &amp;  Vinograd, 144</ref> The common Chinese funerary symbol of a woman in the door may represent a \"basic male fantasy of an elysian afterlife with no restrictions: in all the doorways of the houses stand available women looking for newcomers to welcome into their chambers\"<ref>Goldin, 548</ref> Han Dynasty inscriptions often describe the filial mourning for their subjects,<ref>Brown, 44</ref> for example text from a funeral [[stele]] for the daughter of a [[scholar-official]] of the dynasty, which described the \"hurt and grief\" of her two sons:<ref>Brown, 77</ref>\n",
      "\n",
      "{| class=\"wikitable\" style=\"margin: 0em auto 0em auto\"\n",
      "|-\n",
      "| 不享遐年|| She did not enjoy old age\n",
      "|-\n",
      "| 以永春秋|| With long years\n",
      "|-\n",
      "| 往而不返|| She is gone and will not return,\n",
      "|-\n",
      "| 濳淪天幽|| She has sunken deep into the great darkness.\n",
      "|-\n",
      "| 嗚呼哀哉|| Alas, sorrowful indeed!\n",
      "|-\n",
      "| 凡席虛設|| Tables and mats are set but unused,\n",
      "|-\n",
      "| 幃帳空陳|| The curtains and canopies have been put out in vain.\n",
      "|-\n",
      "| 品物猶在|| Her things are still there,\n",
      "|-\n",
      "| 不見其人|| We do not see her person.\n",
      "|-\n",
      "| 魂氣飄飄|| Her ghost drifts about.\n",
      "|-\n",
      "| 焉所安神|| How could we pacify her spirit?\n",
      "|}\n",
      "\n",
      "==Korea==\n",
      "[[File:Goguryeo_tomb_mural.jpg|thumb|left|250px|Hunting scene from the North wall of the main chamber of the Muyongchong Tomb (Tomb of the Dancers), (5th c. ce), [[Ji'an, Jilin|Ji’an]].]]\n",
      "Murals painted on the walls of the [[Complex of Goguryeo Tombs|Goguryeo Tombs]] are examples of Korean painting from its [[Three Kingdoms of Korea|Three Kingdoms]] era. Although thousands of these tombs have been found, only about 100 have murals.<ref>UNESCO, ''Preservation of the Koguryo Kingdom Tombs'', 24</ref> These tombs are often named for the dominating theme of the murals – these include the Tomb of the Dancers, the Tomb of the Hunters, the Tomb of the Four Spirits, and the Tomb of the Wrestlers.<ref>Lee, 64</ref> Heavenly bodies are a common motif, as are depictions of events from the lives of the royalty and nobles whose bodies had been entombed. The former include the sun, represented as a [[three-legged bird]] inside a wheel,<ref>UNESCO, ''Preservation of the Koguryo Kingdom Tombs'', 4</ref> and the various constellations, including especially the [[Four Symbols (Chinese constellation)|Four directional constellations]]: the [[Azure Dragon]] of the East, the [[Vermilion Bird]] of the South, the [[White Tiger (Chinese constellation)|White Tiger]]  of the West, and the [[Black Tortoise]] of the North.<ref>Park 33–4</ref>\n",
      "\n",
      "The [[Royal Tombs of the Joseon Dynasty]] in [[Korea]], built between 1408 and 1966, reflect a combination of Chinese and Japanese traditions, with a tomb mound, often surrounded by a screen wall of stone blocks, and sometimes with stone animal figures above ground, not unlike the Japanese ''haniwa'' figures (see below).  There is usually one or more T-shaped shrine buildings some distance in front of the tomb, which is set in extensive grounds, usually with a hill behind them, and facing a view towards water and distant hills.  They are still a focus for [[ancestor worship]] rituals.  From the 15th century, they became more simple, while retaining a large landscape setting.<ref>[http://whc.unesco.org/en/list/1319/ Unesco] Royal Tombs of the Joseon Dynasty.</ref>\n",
      "\n",
      "==Japan==\n",
      "[[Image:HaniwaHorse.JPG|thumb|220px|6th century Japanese ''[[haniwa]]'' clay figure; these were buried with the dead in the [[Kofun]] period (3rd to 6th century CE).]]\n",
      "The [[Kofun period]] of Japanese history, from the 3rd to 6th centuries CE, is named after ''[[kofun]]'', the often enormous keyhole-shaped Imperial mound-tomb, often on a moated island.  None of these have ever been allowed to be excavated, so their possibly spectacular contents remain unknown.<ref>Paine and Soper, 287–289</ref>   Late examples which have been investigated, such as the [[Kitora Tomb]], had been robbed of most of their contents, but the [[Takamatsuzuka Tomb]] retains mural paintings.  Lower down the social scale in the same period, [[terracotta]] ''haniwa'' figures, as much as a metre high, were deposited on top of aristocratic tombs as grave markers, with others left inside, apparently representing possessions such as horses and houses for use in the afterlife.<ref>Paine and Soper, 24–26, 280–282</ref>  Both ''kofun'' mounds and ''haniwa'' figures appear to have been discontinued as Buddhism became the dominant Japanese religion.<ref>Paine and Soper, 289. See also [[List of National Treasures of Japan (archaeological materials)]]</ref>  \n",
      "\n",
      "Since then, Japanese tombs have been typically marked by elegant but simple rectangular vertical gravestones with inscriptions.  Funerals are one of the areas in Japanese life where Buddhist customs are followed even by those who followed other traditions, such as [[Shinto]].  The ''[[bodaiji]]'' is a special and very common type of temple whose main purpose is as a venue for rites of ancestor worship, though it is often not the actual burial site.  This was originally a custom of the feudal lords, but was adopted by other classes from about the 16th century. Each family would use a particular ''bodaiji'' over generations, and it might contain a second \"grave\" if the actual burial were elsewhere.  Many later emperors, from the 13th to 19th centuries, are buried simply at the Imperial ''bodaiji'', the [[Tsuki no wa no misasagi]] mausoleum in the [[Sennyū-ji]] temple at [[Kyoto]].<ref>Hall, John Whitney, 381–386</ref>\n",
      "\n",
      "==The Americas==\n",
      "[[Image:Shaft tomb culture village scene.jpg|left|thumb|225px|A [[Western Mexico shaft tomb tradition|\"shaft tomb\"]] tableau from [[Nayarit]], Mexico, 300 BC to AD 600<ref>Smithsonian.</ref>|alt=A ring of twelve dancing figures, arms interlocked around each others' shoulders. They surround one musician in the center of the ring, and a second musician stands behind them.]]\n",
      "Unlike many Western cultures, that of [[Mesoamerica]] is generally lacking in [[sarcophagi]], with a few notable exceptions such as that of [[Pacal the Great]] or the now-lost sarcophagus from the [[Olmec]] site of [[La Venta]].  Instead, most Mesoamerican funerary art takes the form of grave goods and, in [[Oaxaca]], funerary urns. Two well-known examples of Mesoamerican grave goods are those from [[Jaina Island]], a [[Maya civilization|Maya]] site off the coast of [[Campeche]], and those associated with the [[Western Mexico shaft tomb tradition]].<!-- read te FAC before putting a {{fact}} tag here -->  The tombs of Mayan rulers can only normally be identified by inferences drawn from the lavishness of the grave goods and, with the possible exception of vessels made from stone rather than pottery, these appear to contain no objects specially made for the burial.<ref>Chase and Chase, Chapter 3, especially p. 34</ref>\n",
      "\n",
      "The Jaina Island graves are noted for their abundance of clay figurines.  Human remains within the roughly 1,000 excavated graves on the island (out of 20,000 total)<ref>Muren.</ref> were found to be accompanied by glassware, slateware, or pottery, as well as one or more ceramic figurines, usually resting on the occupant's chest or held in their hands.  The function of these figurines is not known: due to gender and age mismatches, they are unlikely to be portraits of the grave occupants, although the later figurines are known to be representations of goddesses.<ref>Kubler, 266</ref>\n",
      "\n",
      "The so-called shaft tomb tradition of western Mexico is known almost exclusively from grave goods, which include hollow ceramic figures, obsidian and shell jewelry, pottery, and other items (see [http://www.flickr.com/photos/petwerewolf/85154232/ this Flickr photo] for a reconstruction).  Of particular note are the various ceramic tableaux including village scenes, for example, players engaged in a [[Mesoamerican ballgame]].  Although these tableaux may merely depict village life, it has been proposed that they instead (or also) depict the underworld.<ref>See Taylor for discussion.</ref> Ceramic dogs are also widely known from looted tombs, and are thought by some to represent [[psychopomp]]s (soul guides),<ref>Coe et al., 103–104, or Mason, 182. In Richardson, 48–9 (\"The dog, among the Maya, was considered to be connected with death, and to be the messenger to prepare the way to the hereafter.\")</ref> although it should also be noted that dogs were often the major source of protein in ancient Mesoamerica.<ref>Coe, 45 (\"The only domestic animals were dogs—the principal source of meat for much of Preclassic Mesoamerica—and turkeys—understandably rare because that familiar bird consumes very large quantities of corn and is thus expensive to raise\".)</ref>\n",
      "[[Image:Funerary Urn from Oaxaca.jpg|right|thumb|225px|A funerary urn in the shape of a \"bat god\" or a jaguar, from Oaxaca, dated to AD 300–650.  Height: 9.5 in (23 cm). \"The Bat God was one of the important deities of the Maya, many elements of whose religion were shared also by the [[Zapotec civilization|Zapotec]]. The Bat God in particular is known to have been revered also by the Zapotec... He was especially associated…with the underworld.\"<ref>Mason, 182. In Richardson, 48–9</ref>|alt=A fearsome mythical creature that may be either a bat or a jaguar. The head and face appear like that of a bat with a shortened snout, ridged eyebrows and very large round ears. Its mouth is open, showing pointed teeth and a protruding tongue. It wears a necklace made of two braided ropes, with an amulet in the front shaped the head of a double axe (or a bow tie). However, its body is not bat-like. It squats on four legs each with four clawed toes, with a perfectly round belly.]]\n",
      "The [[Zapotec civilization]] of Oaxaca is particularly known for its clay funerary urns, such as the \"bat god\" shown at right.  Numerous types of urns have been identified.<ref>Kubler, 163</ref> While some show deities and other supernatural beings, others seem to be portraits.  Art historian [[George Kubler]] is particularly enthusiastic about the craftsmanship of this tradition:\n",
      "\n",
      "<blockquote>No other American potters ever explored so completely the plastic conditions of wet clay or retained its forms so completely after firing…[they] used its wet and ductile nature for fundamental geometric modelling and cut the material, when half-dry, into smooth planes with sharp edges of an unmatched brilliance and suggestiveness of form.<ref>Kubler, 164</ref></blockquote>\n",
      "\n",
      "The Maya [[Naj Tunich]] cave tombs and other sites contain paintings, carved stelae, and grave goods in pottery, [[jade]] and metal, including [[death mask]]s. In dry areas, many ancient textiles have been found in graves from South America's [[Paracas culture]], which wrapped its mummies tightly in several layers of elaborately patterned cloth.  Elite [[Moche]] graves, containing especially fine pottery, were incorporated into large [[adobe]] structures also used for [[human sacrifice]]s, such as the [[Huaca de la Luna]].  [[Cultural periods of Peru|Andean cultures]] such as the [[Sican Culture|Sican]] often practiced mummification and left grave goods in precious metals with jewels, including [[tumi]] ritual knives and gold funerary masks, as well as pottery.\n",
      "\n",
      "The Mimbres of the [[Mogollon culture]] buried their dead with bowls on top of their heads and ceremonially \"killed\" each bowl with a small hole in the center so that the deceased's spirit could rise to another world. Mimbres [[Mogollon culture#Mimbres pottery|funerary bowls]] show scenes of hunting, gambling, planting crops, fishing, making love and giving birth.<ref>Giammattei  and Reichert, 3. Cited in the Introduction to ''The Mimbres of the Mogollon culture: A people of mystery'' by Andrew Gulliford</ref><!-- Wooden grave-markers topped by animals have survived in small numbers from various locations from [[Florida]] to the Pacific North-West.-->\n",
      "\n",
      "Some of the [[Mound builder (people)|North American mounds]], such as [[Grave Creek Mound]] (c. 250–150 BCE) in [[West Virginia]], functioned as burial sites, while others had different purposes.<ref>[http://www.wvculture.org/history/mounds.html Mounds & Mound Builders]Accessed April 25, 2010</ref>\n",
      "\n",
      "==Traditional societies==\n",
      "[[Image:Burial Site 2.jpg|thumb|left|A stone-carved [[Toraja]] cliff burial site. ''Tau tau'' (effigies of the deceased) look out over the land.]]\n",
      "There is an enormous diversity of funeral art from traditional societies across the world, much of it in perishable materials, and some is mentioned elsewhere in the article.  In traditional African societies, [[African traditional masks|masks]] often have a specific association with death, and some types may be worn mainly or exclusively for funeral ceremonies.<ref>[http://books.google.co.uk/books?id=qmvR2YVCtLEC&pg=PA133&dq=African+death+dance+mask&as_brr=3&ei=rG3PS5b2Jo3KzgSs-9WEAw&cd=3#v=onepage&q=African%20death%20dance%20mask&f=false Masks in West African Traditional Societies], Bonnefoy, pp. 133–137</ref> The funeral ceremonies of the [[Indigenous Australians]] typically feature [[body painting]]; the [[Yolngu]] and [[Tiwi people|Tiwi]] people create carved ''[[pukumani]]'' burial poles from [[ironwood]] trunks,<ref>{{cite news|url=http://www.telegraph.co.uk/culture/tvandradio/3622670/Viewfinder-Aboriginal-burial-poles.html|title=Viewfinder: Aboriginal burial poles|last=Davies|first=Serena|date=23 August 2004|work=Telegraph.co.uk|accessdate=21 April 2010}}</ref> while elaborately carved [[burial tree]]s have been used in south-eastern Australia.<ref>Oxenham.</ref>  The [[Toraja]] people of central [[Sulawesi]] are famous for [[Toraja#Funeral_rites|their burial practices]], which include the setting-up of effigies of the dead on cliffs.  The 19th and 20th century royal [[Kasubi Tombs]] in [[Uganda]], destroyed by fire in 2010, were a circular compound of thatched buildings similar to those inhabited by the earlier [[Kabaka of Buganda|Kabaka]]s when alive, but with special characteristics.<ref>[http://www.kasubitombs.org/en/description/index.php Kasubi tombs website]</ref>\n",
      "\n",
      "In several cultures, goods for use in the afterlife are still interred or cremated, for example [[Hell bank note]]s (and now credit cards) in Chinese communities.  In parts of Africa, elaborate figurative coffins in the shape of cars, boats or animals are made of [[papier-mache]] or other materials.<ref>[http://www.britishmuseum.org/explore/highlights/highlight_objects/aoa/c/eagle_shaped_coffin.aspx British Museum: Modern coffin in the shape of an eagle], from [[Ghana]].  Accessed March 22, 2010</ref>\n",
      "\n",
      "==Funerary art and religion==\n",
      "===Buddhism===\n",
      "Buddhist tombs themselves are typically simple and modest, although they may be set within temples, sometimes large complexes, built for the purpose in the then-prevailing style.  According to tradition, the remains of the [[Buddha]]'s body after [[cremation]] were entirely divided up into relics (''[[cetiya]]''), which played an important part in early Buddhism.  The ''[[stupa]]'' developed as a monument enclosing deposits of relics of the Buddha from plain hemispherical mounds in the 3rd century BCE to elaborate structures such as those at [[Sanchi]] in India and [[Borobudur]] in [[Java]].  Regional variants such as the [[pagoda]] of China and Japan and the [[candi of Indonesia]] evolved from the Indian form.  However, none of these can strictly be called tombs.<ref>Le Phuoc, 140–142; 147–156 on Sanchi; 192–204, especially 196, on ''candi'' in Indonesia, and Borodudur (196–204)</ref> Some important [[Tibet]]an [[lama]]s are buried in relatively small ''chortens'' (Tibetan stupas), sometimes of precious metal, inside or outside monasteries, sometimes after mummification. There are examples at [[Kursha Monastery]] in [[Zanskar]] and [[Tashiding Monastery]] in [[Sikkim]], as well as the [[Potala Palace]] in [[Lhasa]] and many other monasteries.<ref>Dowman, 54–55 for the Potala, and see index for other locations.</ref>  However, most chortens do not function as tombs.\n",
      "\n",
      "=== Christianity ===\n",
      "[[Image:1054 - Roma, Museo d. civiltà Romana - Calco sarcofago Giunio Basso - Foto Giovanni Dall'Orto, 12-Apr-2008.jpg|thumb|left|Plaster cast of the [[Sarcophagus of Junius Bassus]]]]\n",
      "The [[Catacombs of Rome]] contain most of the surviving [[Christian art]] of the [[Early Christianity|Early Christian]] period, mainly in the form of [[fresco]]s and [[Early Christian sarcophagi|sculpted sarcophagi]]. They show a Christian [[iconography]] emerging, initially from Roman popular decorative art, but later borrowing from official imperial and pagan motifs.  Initially, Christians avoided iconic images of religious figures, and sarcophagi were decorated with ornaments, Christian symbols like the [[Chi Rho]] monogram and, later, narrative religious scenes.<ref>Syndicus, Chapter 1; Hall, 77–82</ref> The Early Christians' habit, after the end of their persecution, of building churches (most famously [[St Peter's, Rome]]) over the burial places of [[martyr]]s who had originally been buried discreetly or in a mass grave perhaps led to the most distinctive feature of Christian funerary art, the church monument, or tomb inside a church.<ref>Syndicus, 39, 72–90</ref> The beliefs of many cultures, including [[Tumah|Judaism]] and [[Hinduism]] as well as classical paganism, consider the dead [[Ritual purification|ritually impure]] and avoid mixing temples and cemeteries (though see above for Moche, and below for Islamic culture).<ref>Toynbee, 48–49. An exception in the Classical World were the [[Lycia]]ns of [[Anatolia]]. There are also the Egyptian mortuary-temples, where the object of worship was the deified royal person entombed, but Egyptian temples to the major gods contained no burials. For an extreme example, see [[Prohibition of death#In antiquity|ancient Delos]].</ref>  \n",
      "[[Image:Venezia - Chiesa dei SS. Giovanni e Paolo (S. Zanipolo) - Foto G. Dall'Orto 2 lug 2006 - 08.jpg|thumb|Medieval and Renaissance wall tombs in [[Santi Giovanni e Paolo, Venice]], including an [[equestrian statue]] at the left]]\n",
      "\n",
      "Christians believed in a bodily [[resurrection of the dead]] at the [[Second Coming of Christ]], and the Catholic Church only relaxed [[Cremation#Roman_Catholicism|its opposition to cremation]] in 1963.<ref>It was allowed in times of plague however. See [[Cremation in the Christian World]] for more details—the [[Orthodox church]]s still forbid cremation.</ref> Although mass [[ossuaries]] have also been used, burial has always been the preferred Christian tradition, at least until recent times. Burial was, for as long as there was room, usually in a graveyard adjacent to the church, with a gravestone or horizontal slab, or for the wealthy or important clergy, inside it. Wall tombs in churches strictly include the body itself, often in a sarcophagus, while often the body is buried in a [[crypt]] or under the church floor, with a monument on the wall. Persons of importance, especially monarchs, might be buried in a free-standing sarcophagus, perhaps surrounded by an elaborate enclosure using metalwork and sculpture; grandest of all were the [[shrine]]s of saints, which became the destinations of [[pilgrimage]]s. The monument to [[Maximilian I, Holy Roman Emperor]] in the [[Hofkirche, Innsbruck]] took decades to complete,<ref>Board of Trustees for The Hofkirche in Innsbruck.</ref> while the [[Arca di San Domenico|tomb of Saint Dominic]] in [[Bologna]] took several centuries to reach its final form.<ref>Welch, 26</ref>\n",
      "\n",
      "If only because its strong prejudice against free-standing and life-size sculpture, [[Eastern Orthodoxy]] could not have developed the tomb monument in the same way as the Western Church, and the burials of rich or important individuals continued the classical tradition of sarcophagi carved in relief, with the richness of the carving tending to diminish over the centuries, until just simple religious symbols were left.  [[Constantine I]] and most later [[Byzantine Emperor]]s up to 1028 were buried in the [[Church of the Holy Apostles]] in Constantinople, which was destroyed after the [[fall of Constantinople]] of 1453.  Some massive but mostly plain [[porphyry]] sarcophagi from the church are now placed outside the [[Istanbul Archaeology Museums]].<ref>Downey.</ref>\n",
      "\n",
      "The [[Tomb of Antipope John XXIII]] in [[Florence]] is a grand [[Early Renaissance]] wall tomb by [[Donatello]] and [[Michelozzo]]; although classical in style, it reflects the somewhat inharmonious stacking up of different elements typical of major Gothic tombs.  It has a life-size effigy lying on the sarcophagus, which was common from the Romanesque period through to the [[Baroque]] and beyond.<ref>Levey 1967, 57–59</ref>  Ruling dynasties were often buried together, usually in monasteries; the [[Chartreuse de Champmol]] was founded for that purpose by the [[House of Valois|Valois]] [[Duke of Burgundy|Dukes of Burgundy]] in 1383.  The [[Scaliger tombs]] in [[Verona]] are magnificent free-standing [[Gothic art|Gothic]] canopied tombs—they are outside the church in a special enclosure, and so are unrestricted in height.<ref>Though they are exceeded in scale by [[Gothic revival]] monuments like the [[Albert Memorial]] and the [[Scott Monument]], neither containing a tomb.</ref> Important churches like Saint Peter's in Rome, [[Saint Paul's Cathedral, London]], [[Santi Giovanni e Paolo, Venice]] (twenty-five [[Doge]]s), and the [[Basilica of Santa Croce, Florence]] contain large numbers of impressive monuments to the great and the good, created by the finest architects and sculptors available.  Local [[parish church]]es are also often full of monuments, which may include large and artistically significant ones for local landowners and notables.  Often a prominent family would add a special chapel for their use, including their tombs; in Catholic countries, bequests would pay for [[Catholic mass|masses]] to be said in perpetuity for their souls.  By the [[High Renaissance]], led by [[Michelangelo]]'s tombs, the effigies are often sitting up, and later may stand.  Often they turn towards the altar, or are kneeling facing it in profile.<ref>Hall, 325</ref>\n",
      "[[Image:MULO-Philippe Gueldre Death Mirror.jpg|thumb|left|\"The Mirror of Death\": Detail from a French [[Renaissance]] monument of 1547|alt=Close-up of a rectangular-shaped carving in stone. In the center of the rectangle is a circle representing a mirror, and within the circle is a grinning skull. The circle is framed by ram's horns.]]\n",
      "In the late Middle Ages, influenced by the [[Black Death]] and devotional writers, explicit ''[[memento mori]]'' imagery of death in the forms of skulls or skeletons, or even decomposing corpses overrun with worms in the ''[[transi]]'' tomb, became common in northern Europe, and may be found in some funerary art, as well as motifs like the [[Danse Macabre|Dance of Death]] and works like the ''[[Ars moriendi]]'', or \"Art of Dying\".<ref>Cohen throughout, see Introduction</ref>  It took until the Baroque period for such imagery to become popular in Italy, in works like the tomb of [[Pope Urban VIII]] by [[Bernini]] (1628–47), where a bronze winged skeleton inscribes the Pope's name on a tablet below his enthroned effigy.<ref>Hall, 324–26</ref>\n",
      "\n",
      "The church struggled to eliminate the pagan habits of leaving grave goods except for the clothing and usual jewellry of the powerful, especially rings.  Kings might be buried with a [[sceptre]], and bishops with a [[crozier]], their respective symbols of office.<ref>Piponnier & Mane, 112–113</ref>  The 7th century [[Stonyhurst Gospel]], with a unique [[Insular art|Insular]] original leather binding, was recovered from [[St Cuthbert's coffin]], itself a significant object; it was probably Cuthbert's personal copy, which he had very likely scribed himself.<ref>Bloxham, Jim & Rose, Krisine; [http://www.gbwny.org/news/2007/11/st-cuthbert-gospel-of-st-john-formerly-known-as-the-stonyhurst-gospel/ ''St. Cuthbert Gospel of St. John, Formerly Known as the Stonyhurst Gospel'']</ref>  The armour and sword of a knight might be hung over his tomb, as those of [[Edward, the Black Prince|the Black Prince]] still are in [[Canterbury Cathedral]]. The Early Christian Church, to the frustration of historians of costume, encouraged burial in a plain white [[winding-sheet]], as being all that would be required at the Second Coming.  For centuries, most except royalty followed this custom, which at least kept clothing, which was very expensive for rich and poor alike, available for the use of the living.  The use of a rich cloth [[Pall (funeral)|pall]] to cover the coffin during the funeral grew during the Middle Ages; initially these were brightly coloured and patterned, only later black.  They were usually then given to the Church to use for [[vestment]]s or other decorations.<ref>Piponnier & Mane, 34–35; 112–113</ref>   \n",
      "\n",
      "From the early 13th century to the 16th, a popular form of monument north of the Alps, especially for the smaller landowner and merchant classes, was the [[monumental brass]], a sheet of brass on which the image of the person or persons commemorated was engraved, often with inscriptions and an architectural surround.  They could be on the floor or wall inside a church. These provide valuable evidence as to changes in costume, especially for women.  Many bishops and even some German rulers were commemorated with brasses.<ref>\"Brasses, Monumental\"</ref>\n",
      " \n",
      "[[File:Pompe funebre for Katarzyna Opalińska.jpg|thumb|''[[Castrum doloris]]'' for a Queen of Poland, erected in [[Notre Dame de Paris]] in 1747]]\n",
      "The ''[[castrum doloris]]'' was a temporary [[catafalque]] erected around the coffin for the [[lying in state]] of important people, usually in a church, the funerary version of the elaborate temporary decorations for other court festivities, like [[royal entries]].  These began in the late Middle Ages, but reached their height of elaboration in the 18th century.<ref>The corpse was in fact not always present. Bagliani, 158–159</ref> A particular feature in Poland was the [[coffin portrait]], a bust-length painted portrait of the deceased, attached to the coffin, but removed before burial and often then hung in the church.  Elsewhere, death masks were used in similar fashion.  [[Hatchment]]s were a special lozenge-shaped painted [[coat of arms]] which was displayed on the house of the deceased for a mourning period, before usually being moved to hang in the church.  Like [[mourning|mourning clothes]], these fall outside a strict definition of art.<ref>Piponnier & Mane, 113 for the origins of mourning clothes.</ref>\n",
      "\n",
      "For some time after the [[Protestant Reformation]], [[English church monuments]] formed the majority of large-scale artworks added to Protestant churches, especially in sculpture.  The English upper classes ceased to commission altarpieces and other religious art for churches, but their tomb monuments continued to grow in size to fill the empty wall spaces; similar trends were seen in [[Lutheran]] countries, but [[Calvinism|Calvinists]] tended to be more disapproving of figure sculpture.<ref>See for example Michalski, xi. Here Michalski refers to this rejection of religious imagery within Calvinism as \"iconophobia\". See also Gäbler, 72,76–77 and Potter, 130–131 regarding the religious disputations in Zürich (1523) concerning (among other things) the removal of statues of saints and other icons. Participants included [[Leo Jud]] and [[Huldrych Zwingli]].</ref> Many portraits were painted after death, and sometimes dead family members were included along with the living; a variety of indications might be used to suggest the distinction.<ref>The [http://www.tate.org.uk/servlet/ViewWork?workid=3821 ''Saltonstall Family''] is a well-known example. The [[Arnolfini Portrait]] has been claimed to be such a work</ref> \n",
      "\n",
      "The large [[Baroque]] tomb monument continued likely to include a portrait of the deceased, and was more likely to include personified figures of Death, Time, Virtues or other figures than angels.  The late medieval [[transi]] tomb vocabulary of images of bodily decay, such as skulls and skeletons, was sometimes re-introduced, but in a less confrontational manner.<ref>Hall, 324–327</ref>  [[Neo-Classicism]], led by [[Antonio Canova]], revived the classical ''stela'', either with a portrait or a personification; in this style there was little or no difference between the demands of Catholic and Protestant patrons.<ref>Hall, 347–349; Berresford, 36–38</ref>  \n",
      "\n",
      "[[Image:Pere Lachaise Chemin Errazu.jpg|thumb|left|19th century [[bourgeois]] family tombs at [[Père Lachaise Cemetery]] in Paris|alt=A cobbled street stretches out from the foreground and bends to the left. The street is lined with above-ground tombs, and a number of trees appear in the background.]]\n",
      "\n",
      "By the 19th century, many [[Old World]] churchyards and church walls had completely run out of room for new monuments, and cemeteries on the outskirts of cities, towns or villages became the usual place for burials.<ref>\"Cemetery\"</ref>  The rich developed the classical styles of the ancient world for small family tombs, while the rest continued to use gravestones or what were now usually false sarcophagi, placed over a buried coffin.  The cemeteries of the large Italian cities are generally accepted to have outdone those of other nations in terms of extravagant statuary, especially the [[Monumental Cemetery of Staglieno]] in [[Genoa]], the [[Cimitero Monumentale di Milano]] and the [[Certosa di Bologna]].<ref>Berresford, throughout, and Prefaces</ref>  In Italy at least, funerary sculpture remained of equal status to other types during the 19th and early 20th centuries, and was made by the leading artists, often receiving reviews in the press, and being exhibited, perhaps in [[maquette]] form.<ref>Berresford, 13, and 58 on exhibitions</ref>  Monuments kept up with contemporary stylistic developments during the 19th century, embracing [[Symbolism]] enthusiatically, but then gradually became detached from the [[avant-garde]] after [[Art Nouveau]] and a few [[Art Deco]] examples.<ref>Berresford, 77–78 on \"Liberty\" (Italian term for \"Art Nouveau\") and 99–104 on Art Deco.</ref>  Where burials in church crypts or floors took place, memorial [[stained glass]] windows, mostly on normal religious subjects but with a commemorative panel, are often found.  [[War memorial]]s, other than on the site of a battle, were relatively unusual until the 19th century, but became increasingly common during it, and after [[World War I]] were erected even in villages of the main combatant nations.<ref>Mosse, Chapter 5</ref>\n",
      "\n",
      "=== Islam ===\n",
      "Islamic funerary art is dominated by [[architecture]].  Grave goods are discouraged to the point that their absence is frequently one recognition criterion of Muslim burials.<ref>Insoll, 172</ref> Royalty and important religious figures were typically buried in plain stone sarcophagi, perhaps with a religious inscription.  However, funerary architecture often offered a means of \"moving beyond the strictures of formal Muslim burial rites\" and expressing social dimensions such as status, piety, love for the deceased, and Muslim identity.<ref>Insoll, 177–180</ref> A number of distinct architectural traditions arose for expressing these social elements.  The Islamic tradition was slow in starting; the ''[[hadith]]'' \"condemn the building of tombs, and [[Muhammed]] himself set the example of requesting burial in an unmarked grave in one of the chambers of his house\" in [[Medina]],<ref>Ruggles, 103</ref> though by at least the 12th century, buildings of the vast [[Al-Masjid al-Nabawi]] complex already marked the site.  The earliest identified Muslim monumental tomb, in [[Samarra]] in Iraq, only dates from 862, and was commissioned by the Byzantine princess whose son was buried there.<ref>Ruggles, 103–104</ref>  At some point, the tradition incorporated the idea of a garden setting, perhaps following the Islamic concept of [[Paradise]], an association certainly made when the tradition was mature, although the difficulty of reconstructing gardens from archaeology makes the early stages of this process hard to trace.  At any rate, gardens surrounding tombs became established in Islamic tradition in many parts of the world, and existing pleasure gardens were sometimes appropriated for this purpose.  Versions of the formal Persian ''[[charbagh]]'' design were widely used in India, Persia and elsewhere.<ref>Ruggles, Chapter 9</ref>    \n",
      "\n",
      "{{multiple image\n",
      "|align = centre\n",
      "|direction = horizontal\n",
      "|header = \n",
      "|header_align = centre\n",
      "|header_background = \n",
      "|footer = \n",
      "|footer_align = \n",
      "|footer_background = \n",
      "|width = \n",
      "|image1 = Bukhara - Samanid Mausoleum.jpg\n",
      "|width1 = 170\n",
      "|alt1 = \n",
      "|caption1 = Brick [[Samanid Mausoleum]], c. 910, [[Bokhara]]\n",
      "|\n",
      "|image2 = Humayun's Tomb.jpg \n",
      "|width2 = 210\n",
      "|alt2 =\n",
      "|caption2 = [[Humayun's Tomb]] (1560s), [[Dehli]], in its garden setting\n",
      "|\n",
      "|image3 = DSC04799 Istanbul - Cimitero di Eyüp - Foto G. Dall'Orto 30-5-2006.jpg\n",
      "|width3 = 210\n",
      "|alt3 =\n",
      "|caption3 = Turkish gravestones, capped by a turban, in Istanbul\n",
      "}}\n",
      "\n",
      "Another influence may have been the octagonal [[Dome of the Rock]] in [[Jerusalem]], not a mausoleum itself, but \"the earliest Islamic model for centrally-planned commemorative buildings\", adapting the Byzantine form of the martyrium in a building standing alone, though on a stone platform rather than in a garden.<ref>Ruggles, 104</ref>  In the [[Persianate society|Persian sphere]], a tradition of relatively small mausoleums evolved, often in the shape of short hexagonal or octagonal [[dome]]d towers, usually containing a single chamber, like the [[Malek Tomb]].  These single-chambered tombs developed into larger buildings in the [[Timurid dynasty|Timurid]] and [[Mughal Empire|Mughal]] Empires,<ref name=\"Insoll, 177\">Insoll, 177</ref> like the [[Gur-e Amir]] tomb of [[Timur]] at [[Samarkand]] and the famous Mughal tombs of India, which culminated in the [[Taj Mahal]]. The Mughal tombs are mostly set in a large walled ''charbagh'' (''chahar-bagh'') or [[Mughal gardens]], often with [[Pavilion (structure)|pavilion]]s at the corners<ref name=\"Insoll, 177\"/> and a gatehouse. The Taj Mahal is atypically placed at the end of the garden, backing onto the river [[Yamuna]]; a central placing is usual.<ref>Ruggles, 112 and 122. Her Chapter 10 includes a detailed description of the Taj with special reference to its gardens.</ref>  They may have [[minaret]]s, although they do not normally function as [[mosque]]s.  The [[Tomb of Jahangir]] lacks any dome,<ref>An interesting contrast with the Taj Mahal, given they were both built by [[Shah Jahan]].</ref> while the [[Tomb of Akbar the Great]] has only small decorative ones.  Other Islamic Indian rulers built similar tombs, of which the [[Gol Gumbaz]] is perhaps the most remarkable.\n",
      "\n",
      "In all this tradition, the contemporary architectural style for mosques was adapted for a building with a smaller main room, and usually no courtyard.  Decoration was often tilework, and could include ''[[pietre dure|parchin kari]]'' inlays in semi-precious stone, painting, and decorative carving.  The sarcophagus might be in a small inner chamber, dimly visible through a grille of metal or stone, or might stand in the main room.  Money would be bequeathed to pay for continuous readings of the [[Qur'an]] in the mausoleum, and they were normally open for visitors to pay their respects. The [[Mausoleum of Khomeini]], still under construction in a [[Tehran]] cemetery, and intended to be the centre of a huge complex, continues these traditions.<ref name=\"NYT K\">The New York Times, [http://www.nytimes.com/1990/07/08/world/khomeini-s-tomb-attracts-pilgrims.html ''Khomeini's Tomb Attracts Pilgrims''], Philip Shenon, Published: July 8, 1990, accessed April 25, 2010.</ref>  \n",
      "\n",
      "The tradition evolved differently in the [[Ottoman Empire|Ottoman]] world, where smaller single-roomed ''[[türbe]]'' typically stand on the grounds of mosque complexes, often built by the deceased.  The sarcophagi (often purely symbolic, as the body is below the floor) may be draped in a rich pall, and surmounted by a real cloth or stone [[turban]], which is also traditional at the top of ordinary [[Turkish people|Turkish]] gravestones (usually in stylised form). Two of the most famous are in the [[Süleymaniye Mosque]] in [[Istanbul]]; the [[Yeşil Türbe]] (\"Green Tomb\") of 1421 is an unusually large example in [[Bursa]], and also unusual in having extensive tile work on the exterior, which is usually masonry, whereas the interiors are often decorated with brightly-colored tiles.<ref>Levey 1975, 29–33 on Bursa, 83–84 on Istanbul; all the leading Ottoman tombs are covered in the book.</ref>\n",
      "\n",
      "Other parts of the Islamic world reflected local techniques and traditions.  The 15th century royal [[Tomb of Askia]] in [[Mali]] used the local technique of mud-building to erect a 17 metre high pyramidal tomb set in a mosque complex.<ref>[http://whc.unesco.org/en/list/1139 Tomb of Askia], [[UNESCO]] page with aerial view.</ref>  At the other end of the Islamic world, [[Java]]nese royalty are mostly buried in royal graveyards such as those at [[Kota Gede]] and [[Imogiri]]. \n",
      "\n",
      "In the Arab world, mausoleums of rulers are more likely to be a side-room inside a mosque or form part of a larger complex containing perhaps a hospital, ''[[madrasa]]'' or library. Large domes, elaborately decorated inside, are common.  The tomb-mosque of Sultan [[Qaitbay]] (died 1496) is a famous example, one of many in [[Cairo]], though here the tomb chamber is unusually large compared to the whole.<ref>See Fletcher & Cruickshank, 596. The [[madrassa]] is labeled \"the ultimate achievement of architectural development in Cairo\" and its tomb chamber described as \"immense.\"</ref>\n",
      "\n",
      "==Modern period==\n",
      "[[Image:Rachel whitereadwien holocaust mahnmal wien judenplatz.jpg|thumb|The [[Judenplatz Holocaust Memorial]] to the 65,000 Austrian Jews killed in the [[Holocaust]], designed by [[Rachel Whiteread]] and completed in 2000.]]\n",
      "Funerary art tends to be conservative in style, and many grave markers in various cultures follow rather traditional patterns, while others reflect [[modernism]] or other recent styles.  Public monuments to the dead continue to be erected, especially [[war memorials]]. Some are fairly traditional, while those reflecting more contemporary styles include the [[Vietnam Veterans Memorial]], and several [[Holocaust memorials]], such as [[Yad Vashem]] in Jerusalem, the [[Vel%27_d%27Hiv_Roundup#Memorials_and_monuments_-_Paris|Vel d'Hiv Memorial]] in [[Paris]] (1994), the [[Memorial to the Murdered Jews of Europe]] in Berlin (2004), and the [[Judenplatz Holocaust Memorial]] in Vienna (2000). These are in notable contrast to the style of most war memorials to the military of World War II; earlier modernist memorials to the dead of World War I were sometimes removed after a time as inappropriate.<ref>Mosse, 103–106 on conservatism, and generally throughout Chapter 5 on war memorials.</ref>  Some war memorials, especially in countries like Germany, have had a turbulent political history, for example the much-rededicated [[Neue Wache]] in Berlin.<ref>Mosse, 97–98; Carrier, 201</ref> Several critics detect a crisis in public memorial style from 1945, when the traditional figurative symbolic language, and evocation of nationalist values, came to seem inadequate, especially in relation to [[genocide]], at least on the Western side of the [[Iron Curtain]].<ref>Carrier, 19–22; Benton throughout, especially p. 194.</ref> In the [[Communist]] East the established style of [[Socialist Realism]] was still considered appropriate, at least by the authorities.<ref>Benton throughout, especially Chapter 1 on Soviet War Memorials (pp. 12–13 on Socialist Realism), but also noting deviations in the Warsaw Pact satellites, as on p. 194, and Chapter 7 on West Germany.</ref> The generation of abstracted and [[Conceptual art|conceptual]] war and [[Holocaust]] memorials erected in the West from the 1990s onwards seems finally to have found a resolution for these issues.<ref>Carrier, throughout, especially Chapter 8.  See also the copious literature on the Washington Vietnam Veterans Memorial.</ref>     \n",
      "\n",
      "Many large mausoleums have been constructed for political leaders, including [[Lenin's Mausoleum]] and those for [[Anıtkabir|Atatürk]], [[Mazar-e-Quaid|Jinnah]], [[Kumsusan Memorial Palace|Kim Il-Sung]], [[Mausoleo Che Guevara|Che Guevara]] and several [[Presidential memorials in the United States]].  The Mausoleum of Khomeini is a grand mosque complex, as large as any medieval example, not least because it includes a 20,000 place parking lot.<ref name=\"NYT K\"/>\n",
      "\n",
      "==See also==\n",
      "*[[List of mausolea]]\n",
      "*[[List of extant papal tombs]]\n",
      "*[[Death in Norse paganism]]\n",
      "\n",
      "==Notes==\n",
      "{{Reflist|colwidth=25em}}\n",
      "\n",
      "==Bibliography==\n",
      "{{refbegin|2}}\n",
      "\n",
      "* Atiya, Farid & El-Shahawy, Abeer. ''The Egyptian Museum in Cairo: A Walk Through the Alleys of Ancient Egypt''. American University in Cairo Press, 2005. ISBN 9771721836\n",
      "* Bagliani, Agostino Paravicini. ''[http://books.google.co.uk/books?id=YrmHbBoO-a0C&pg=RA1-PA158&dq=Castrum+doloris&lr=&as_brr=3&ei=7fHaS5-sHoq2yQTbjpi-CQ&cd=9#v=onepage&q=Castrum%20doloris&f=false The Pope's Body]'' University of Chicago Press, 2000, ISBN 0226034372, 9780226034379A \n",
      "* Benton, Charlotte (ed). [http://books.google.co.uk/books?id=QjtehV6dFZ4C&pg=PA193&dq=%22!Henry+Moore%22+War+Memorial&as_brr=3&ei=I-bdS9qkBISuzASYhNX6Cw&cd=6#v=onepage&q=%22!Henry%20Moore%22%20War%20Memorial&f=false ''Figuration/Abstraction: Strategies for Public Sculpture in Europe, 1945–1968''], Ashgate Publishing, Ltd., 2004, ISBN 0754606937, 9780754606932\n",
      "* Berresford, Sandra, et al. [http://books.google.co.uk/books?id=QRMRKyDdNccC&pg=PA34&dq=Italian+cemetaries&as_brr=3&ei=77bYS97nCqe6yQTH2ZDQCQ&cd=3#v=onepage&q&f=false ''Italian Memorial Sculpture, 1820–1940: a Legacy of Love''], Frances Lincoln Ltd, 2004, ISBN 071122384X, 9780711223844\n",
      "* Board of Trustees for The Hofkirche in Innsbruck. \"[http://business.chello.at/hofkirche/english/max.htm The Memorial Tomb for Maximilian I]\", 2005.  Accessed March 22, 2010.\n",
      "* [[John Boardman (art historian)|Boardman, John]], ed. ''The Oxford History of Classical Art'', 1993. Oxford University Press. ISBN 0-1981-4386-9\n",
      "* Boardman, John; Edwards,  I. E. S.; Sollberger,  E. & N. G. L. Hammond, eds.  ''The Cambridge Ancient History, Volume 3, Part 2: The Assyrian and Babylonian Empires and Other States of the Near East, from the Eighth to the Sixth Centuries BC.'' Cambridge University Press; 2nd ed., 1992. ISBN 0521227178\n",
      "* Bogucki, Peter I. [http://books.google.co.uk/books?id=E_2ZHVg5-3QC&pg=PA65&dq=neanderthal+burial+customs&as_brr=3&ei=KY_cS_idFIjUzATNn82hCQ&cd=1#v=onepage&q&f=false ''The origins of human society''], Wiley-Blackwell, 1999, ISBN 1577181123, 9781577181125\n",
      "*Bonnefoy, Yves. ''American, African, and Old European mythologies'', University of Chicago Press, 1993, ISBN 0226064573, 9780226064574\n",
      "* \"[http://www.archive.org/stream/encyclopaediabri04chisrich#page/434/mode/2up/search/brasses Brasses, Monumental]\". ''Encyclopædia Britannica''. Volume IV (11th ed.). New York: Encyclopædia Britannica, 1911,  434.\n",
      "* Brown, Miranda. ''The Politics of Mourning in Early China''. State University of New York Press, 2007. ISBN 0-7914-7157-8\n",
      "* Carrier, Peter. [http://books.google.co.uk/books?id=bRshMk5sBxUC&pg=PA142&dq=war+memorial+controversy&lr=&as_brr=3&ei=-L3dS7yGNYTcygSPl-y4CQ&cd=16#v=onepage&q=war%20memorial%20controversy&f=false ''Holocaust monuments and national memory cultures in France and Germany since 1989: the origins and political function of the Vél' d'Hiv' in Paris and the Holocaust Monument in Berlin''], Berghahn Books, 2006, ISBN 184545295X, 9781845452957\n",
      "* \"Cemetery\". ''Merriam-Webster's Encyclopedia of World Religions''. Merriam-Webster, 1999, 191–2\n",
      "* Chase, Diane Z. & Chase, Arlen F., [http://books.google.co.uk/books?id=kwxl5jjQ-dUC&pg=PA38&dq=Mesoamerican+tombs&lr=&as_brr=3&ei=aKHcS8CoJpeuywSK2LySCQ&cd=1#v=onepage&q=Mesoamerican%20tombs&f=false ''Mesoamerican Elites: An Archaeological Assessment''], University of Oklahoma Press, 2003, ISBN 0806135425, 9780806135427\n",
      "* [[Michael D. Coe|Coe, Michael]], Snow, Dean and [[Elizabeth P. Benson|Benson, Elizabeth P]]. ''Atlas of Ancient America''; Facts on File, New York, 1986. ISBN 0816011990\n",
      "* Coe, Michael. ''Mexico, from the Olmecs to the Aztecs''. Thames and Hudson, 1994. ISBN 0-500-27722-2\n",
      "* Cohen, Kathleen. [http://books.google.co.uk/books?id=s9FPVKYPirYC&pg=PA4&dq=memento+mori+black+death&as_brr=3&ei=xarYS6W_GaruzQTlz93tCA&cd=2#v=onepage&q=memento%20mori%20black%20death&f=false ''Metamorphosis of a death symbol: the transi tomb in the late Middle Ages and the Renaissance''], University of California Press, 1973, ISBN 0520018443, 9780520018440\n",
      "* Davies, Glenys. \"The Significance of the Handshake Motif in Classical Funerary Art\". ''American Journal of Archaeology'', Volume 89, No. 4, 1985. 627–640\n",
      "* de&nbsp;Grummond, Nancy Thomson. ''Etruscan Italy today''. In Hall, John Franklin (ed.) ''Etruscan Italy: Etruscan Influences on the Civilizations of Italy from Antiquity to the Modern Era''. Indiana University Press, 1997. ISBN 0-8425-2334-0\n",
      "* de&nbsp;Grummond, Nancy Thomson. ''Etruscan Myth, Sacred History, And Legend''. University of Pennsylvania Museum Publication, 2006. ISBN 1931-7078-63\n",
      "* Dien, Albert E. ''Six dynasties civilization''. Early Chinese civilization series. Yale University Press, 2007. ISBN 0300074042\n",
      "* Dowman, [http://books.google.co.uk/books?id=5AwOAAAAQAAJ&pg=PA54&dq=jangchub+chorten&lr=&as_brr=3&ei=WmDYS42-JoXkzAT-wsnLBQ&cd=2#v=onepage&q=jangchub%20chorten&f=false ''The power-places of Central Tibet: the pilgrim's guide''], Routledge, 1988, ISBN\t0710213700, 9780710213709\n",
      "* Downey, Glanville. \"[http://www.jstor.org/stable/627920 The Tombs of the Byzantine Emperors at the Church of the Holy Apostles in Constantinople]\". ''The Journal of Hellenic Studies'', Volume 79, 1959. 27–51.\n",
      "* El-Shahawy, Abeer.  ''Funerary Art of Ancient Egypt''. American University in Cairo Press, 2005. ISBN 9771723537\n",
      "* Evasdottir, Erica E. S. [http://books.google.co.uk/books?id=H3is2aQpzl8C&pg=PA158&dq=Ding+Ling+tomb&lr=&as_brr=3&ei=-n_fS4ilB4SuzASYhNX6Cw&cd=18#v=onepage&q=Ding%20Ling%20tomb&f=false ''Obedient Autonomy: Chinese Intellectuals And The Achievement Of Orderly Life''], UBC Press, 2005, ISBN 0774809302, 9780774809306\n",
      "* Fletcher, Banister & Cruickshank, Dan. ''Sir Banister Fletcher's a history of architecture''. 20th ed. Oxford: Architectural Press, 1996. ISBN 0-7506-2267-9\n",
      "* Gäbler, Ulrich. ''Huldrych Zwingli: His Life and Work''. Philadelphia: Fortress Press, 1986. ISBN 0-8006-0761-9 \n",
      "* Gargett, Robert H. \"[http://www.freewebs.com/gargett/Gargett1999.pdf Middle Palaeolithic burial is not a dead issue: the view from Qafzeh, Saint-Césaire, Kebara, Amud, and Dederiyeh]\". ''Journal of Human Evolution'', Volume 37, 1999. 27–90 (accessed, April 6, 2010)\n",
      "* Giammattei, Victor Michael & Reichert, Nanci Greer. ''Art of a Vanished Race: The Mimbres Classic Black-On-White''. Silver City NM: High Lonesome Books, 1998. ISBN 0-9443-8321-1\n",
      "* Goldin, Paul R. \"The Motif of the Woman in the Doorway and Related Imagery in Traditional Chinese Funerary Art.\" ''Journal of the American Oriental Society'', Volume 121, No. 4, 2001.\n",
      "* Groenewegen-Frankfort, H. A.  ''Arrest and Movement: An Essay on Space and Time in the Representational Art of the Ancient Near East''. Belknap Press / Harvard University Press, 1987. ISBN 0674046560\n",
      "* Groseclose, Barbara. ''British Sculpture and the Company Raj: Church Monuments and Public Statuary in Madras, Calcutta, and Bombay to 1858'', University of Delaware Press, 1995. ISBN 0874134064.\n",
      "* Hall, James.  ''A History of Ideas and Images in Italian Art''. London: John Murray, 1983. ISBN 0-7195-3971-4\n",
      "* Hall, John Whitney ed. ''The Cambridge History of Japan: Early modern Japan'', Cambridge University Press, 1991. ISBN 0521223555\n",
      "* [[Norman Hammond|Hammond, Norman]]. ''[http://www.doaks.org/publications/doaks_online_publications/Social/social03.pdf Social Patterns in Pre-Classic Mesoamerica]''. Washington DC: [[Dumbarton Oaks Research Library and Collection]], 1999. 49–66. ISBN 0-8840-2252-8. Accessed March 22, 2010.\n",
      "* Henderson, Jeffrey. \"The Lekythos and Frogs 1200–1248\". ''Harvard Studies in Classical Philology'', Volume 76, 1972. 133–143\n",
      "* Holiday, Peter J. \"Processional Imagery in Late Etruscan Funerary Art.\" ''American Journal of Archaeology'', Volume 94, No. 1, 1990. 73–93\n",
      "* Insoll Timothy. ''The Archaeology of Islam''. Wiley-Blackwell, 1999. ISBN 0631201157\n",
      "* James, T.G.H., ''The British Museum Concise Introduction to Ancient Egypt''.  University of Michigan Press, 2005. ISBN 0-472-03137-6 \n",
      "* Johnston, Sarah Iles. ''Religions of the Ancient World: A Guide''.  Belknap Press (Harvard University Press Reference Library), 2004. ISBN 0-6740-1517-7.\n",
      "* Kampen, Nathalie Boymel; Bergman, Bettina; Cohen, Ada & Eva Steh. ''Sexuality in Ancient Art''. London: Cambridge University Press, 1996. ISBN 0-5214-7683-6\n",
      "* Kipfer, Barbara Ann. ''Encyclopedic dictionary of Archaeology'', Springer, 2000. ISBN\t0306461587, 9780306461583\n",
      "*[[George Kubler|Kubler, George]]. ''The Art and Architecture of Ancient America: The Mexican, Maya and Andean Peoples'', Pelican History of Art, Yale University Press, 1984. ISBN 0-3000-5325-8\n",
      "* Lee, Ki-Baik ''A New History of Korea''. Harvard University Press, 1984. ISBN 067461576X\n",
      "* [[Michael Levey|Levey, Michael]]. ''The World of Ottoman Art''. Thames & Hudson, 1975. ISBN 0500270651\n",
      "* Levey, Michael. ''Early Renaissance''. Penguin Books Ltd. 1991. ISBN 0140137564\n",
      "* [[J. Alden Mason|Mason, J. Alden]]. \"Zapotec Funerary Urns from Mexico\", ''The Museum Journal'', University of Pennsylvania, Volume 20, 1929. 176–201\n",
      "* [[Gaston Maspero|Maspero, Gaston]]. [http://books.google.co.uk/books?id=bir-2r24i5wC&pg=PA124&dq=serdab&hl=en&ei=piHfS_KtAYmQOIit1K8H&sa=X&oi=book_result&ct=result&resnum=1&ved=0CDQQ6AEwAA#v=onepage&q=serdab&f=false ''Manual of Egyptian Archaeology: A Guide to the Studies of Antiquities in Egypt''], first published 1887: 2009 reprint of later edition, ISBN 3861950960, 9783861950967\n",
      "* Merriman, Nick. ''Public Archaeology''. London: Routledge, 2004. ISBN 0-4152-5889-8\n",
      "* Michalski, Sergiusz. ''The Reformation and the Visual Arts: The Protestant Image Question in Western and Eastern Europe''. London: Routledge, 1993. ISBN 0-4150-6512-7\n",
      "* Mohen, Jean-Pierre. ''The World of Megalites''.  New York: Facts on File, 1990. ISBN 0-8610-2251-8\n",
      "* Mosse, ''Fallen Soldiers: Reshaping the Memory of the World Wars''. Oxford University Press US, 1991. ISBN 0195071395, 9780195071399\n",
      "* Muren, Gladys \"[http://umfa.verite.com/index.php?id=NDg1 Jaina Standing Lady]\", Utah Museum of Fine Arts. Accessed April 22, 2010.\n",
      "* Oakes, Lorna & Gahlin, Lucia. ''Ancient Egypt: An Illustrated Reference to the Myths, Religions, Pyramids and Temples of the Land of the Pharaohs''. Hermes House, 2002. ISBN 1-84477-008-7 \n",
      "* Oxenham, Marc F.; Tom Knight and Michael Westaway. \"Identification of Australian Aboriginal Mortuary Remains\". in Marc Oxenham. ''Forensic Approaches to Death, Disaster and Abuse''. Bowen Hills QLD: Australian Academic Press, 2008, pp. 37–54. ISBN 9781875378906\n",
      "* Paine, Robert Treat, and Soper Alexander. \"The Art and Architecture of Japan\", ''Pelican History of Art''. Penguin (now Yale History of Art), 3rd ed 1981. ISBN 0140561080\n",
      "* Park, Changbom. ''Astronomy: Traditional Korean Science''. Ewha Womans University Press, 2008. ISBN 8973007793\n",
      "* Petersen, Lauren Hackworth. [http://books.google.co.uk/books?id=rVoOq6k1ENwC&pg=PA99&dq=Funerary+art&lr=&as_brr=3&ei=IhreS83ZEJzayQTR6qCMCQ&cd=31#v=onepage&q=Funerary%20art&f=false ''The Freedman in Roman art and art history''], Cambridge University Press, 2006, ISBN 0521858895, 9780521858892\n",
      "* Pettitt, Paul. [http://www.britarch.ac.uk/ba/ba66/feat1.shtml ''When Burial Begins''], British Archaeology, Issue 66, August 2002.\n",
      "* Phuoc, Le Huu  ''[http://books.google.co.uk/books?id=9jb364g4BvoC&pg=PA136&dq=Buddhist+tombs&hl=en&ei=vVjQS47SDJHe-QaO8Z0O&sa=X&oi=book_result&ct=result&resnum=4&ved=0CEkQ6AEwAw#v=onepage&q=Buddhist%20tombs&f=false Buddhist Architecture], Grafikol, 2010, ISBN 0984404309, 9780984404308\n",
      "* Piponnier, Françoise & Mane, Perrine. ''Dress in the Middle Ages''; 151, Yale UP, 1997. ISBN 0-3000-6906-5\n",
      "* Potter, G. R. ''Zwingli''. Cambridge: Cambridge University Press, 1976. ISBN 0-521-20939-0\n",
      "* Richardson, E. P. \"Zapotec Pottery Sculpture\". ''Parnassus'', Volume 4, No. 3, 1932. 48–49\n",
      "* Richter, Gisela M. A. \"A Newly Acquired Loutrophoros\". ''The Metropolitan Museum of Art Bulletin'', Volume 23, No. 2, Part 1, 1928. 54–57\n",
      "* Robins, Gay. ''The Art of Ancient Egypt.'' Harvard University Press, 2000. ISBN 0-674-00376-4 \n",
      "* Ruggles, D. Fairchild. [http://books.google.co.uk/books?id=PgbjhGwfXBEC&pg=PA108&dq=Islamic+Mosque+tomb+complex&hl=en&ei=hqrUS7eQIIyoOOX8wdUN&sa=X&oi=book_result&ct=result&resnum=5&ved=0CE4Q6AEwBA#v=onepage&q=Islamic%20Mosque%20tomb%20complex&f=false ''Islamic gardens and landscapes''], University of Pennsylvania Press, 2008, ISBN 0812240251, 9780812240252\n",
      "* Sickman, Laurence & Soper Alexander. \"The Art and Architecture of China\", Pelican History of Art, 3rd ed 1971, Penguin (now Yale History of Art), ISBN 0140561102\n",
      "* Smithsonian National Museum of the American Indian. ''Born of Clay: Ceramics from the National museum of the American Indian''. NMAI Editions, 2005. ISBN 1-9335-6501-2.\n",
      "* Spanel, Donald B. ''Through Ancient Eyes: Egyptian Portraiture''. 2nd. Birmingham, Alabama: Birmingham Museum of Art, 1988.\n",
      "* Stone, K. ''Image and Spirit: Finding Meaning in Visual Art''. Minneapolis, MN: Augsburg Books, 2003.\n",
      "* Stuart, Jan & Rawski, Evelyn Sakakida. [http://books.google.co.uk/books?id=W2aaAAAAIAAJ&printsec=frontcover&dq=Chinese+Ancestor+portraits&ei=HgjVS-eMJ5G2yASY9dCACQ&cd=1#v=onepage&q=Chinese%20Ancestor%20portraits&f=false ''Worshiping the ancestors: Chinese commemorative portraits''], Stanford University Press, 2001, ISBN 0804742634, 9780804742634\n",
      "*Syndicus, Eduard; ''Early Christian Art''; Burns & Oates, London, 1962\n",
      "* Taylor, R. E. \"The Shaft Tombs of Western Mexico: Problems in the Interpretation of Religious Function in Nonhistoric Archaeological Contexts.\" ''American Antiquity'', Volume 35, No. 2, 1970. 160–169  \n",
      "* Thorp, Robert L. & Vinograd, Richard Ellis. ''Chinese Art and Culture''. Prentice Hall, 2003. ISBN 0-1318-3364-2\n",
      "* Toynbee, Jocelyn M. C. [http://books.google.co.uk/books?id=rHd1MDlV-eUC&pg=PA14&dq=Funerary+art&lr=&as_brr=3&ei=mfHeS-XqKYniywT0nb3_CA&cd=21#v=onepage&q=Funerary%20art&f=false ''Death and Burial in the Roman World''], JHU Press. 1996. ISBN 0801855071\n",
      "* [[UNESCO]], ''[http://whc.unesco.org/uploads/activities/documents/activity-275-1.pdf Preservation of the Koguryo Kingdom Tombs]'', 2005. (PDF)\n",
      "* Welch, Evelyn. ''Art in Renaissance Italy, 1350–1500''. Oxford: Oxford University Press, 2000. ISBN 0-1928-4279-X\n",
      "* Wright, John Henry. \"Unpublished White Lekythoi from Attika.\" ''The American Journal of Archaeology and of the History of the Fine Arts'', Volume 2, No. 4, 1886. 385–407\n",
      "{{refend}}\n",
      "\n",
      "==External links==\n",
      "*[http://www.usna.edu/Users/humss/bwheeler/index_tombs.html Islamic tombs and shrines, from the United States Naval academy]\n",
      "*[http://www.minervaconservation.com/articles/monument_handbook.pdf Handbook for identification and repair of monuments]\n",
      "\n",
      "{{DEFAULTSORT:Funerary Art}}\n",
      "{{featured article}}\n",
      "[[Category:Death customs]]\n",
      "[[Category:Art genres]]\n",
      "[[Category:Burial monuments and structures]]\n",
      "\n",
      "[[fr:Art funéraire]]\n",
      "[[pt:Arte tumular]]\n",
      "[[th:ศิลปะเกี่ยวกับความตาย]]\n"
     ]
    }
   ],
   "source": [
    "print(backup_data['text'][0])"
   ]
  },
  {
   "cell_type": "code",
   "execution_count": 136,
   "metadata": {
    "ExecuteTime": {
     "end_time": "2018-08-24T15:58:09.537629Z",
     "start_time": "2018-08-24T15:57:25.852571Z"
    },
    "scrolled": true
   },
   "outputs": [
    {
     "name": "stdout",
     "output_type": "stream",
     "text": [
      "Automatic pdb calling has been turned ON\n"
     ]
    },
    {
     "ename": "UnicodeEncodeError",
     "evalue": "'utf-8' codec can't encode characters in position 67334-67353: surrogates not allowed",
     "output_type": "error",
     "traceback": [
      "\u001b[0;31m---------------------------------------------------------------------------\u001b[0m",
      "\u001b[0;31mUnicodeEncodeError\u001b[0m                        Traceback (most recent call last)",
      "\u001b[0;32m<ipython-input-136-edb47f479bdb>\u001b[0m in \u001b[0;36m<module>\u001b[0;34m()\u001b[0m\n\u001b[1;32m      1\u001b[0m \u001b[0mget_ipython\u001b[0m\u001b[0;34m(\u001b[0m\u001b[0;34m)\u001b[0m\u001b[0;34m.\u001b[0m\u001b[0mrun_line_magic\u001b[0m\u001b[0;34m(\u001b[0m\u001b[0;34m'pdb'\u001b[0m\u001b[0;34m,\u001b[0m \u001b[0;34m''\u001b[0m\u001b[0;34m)\u001b[0m\u001b[0;34m\u001b[0m\u001b[0m\n\u001b[1;32m      2\u001b[0m \u001b[0;32mfor\u001b[0m \u001b[0mi\u001b[0m \u001b[0;32min\u001b[0m \u001b[0mrange\u001b[0m\u001b[0;34m(\u001b[0m\u001b[0mlen\u001b[0m\u001b[0;34m(\u001b[0m\u001b[0mbackup_data\u001b[0m\u001b[0;34m)\u001b[0m\u001b[0;34m)\u001b[0m\u001b[0;34m:\u001b[0m\u001b[0;34m\u001b[0m\u001b[0m\n\u001b[0;32m----> 3\u001b[0;31m     \u001b[0mbackup_data\u001b[0m\u001b[0;34m.\u001b[0m\u001b[0mloc\u001b[0m\u001b[0;34m[\u001b[0m\u001b[0mi\u001b[0m\u001b[0;34m,\u001b[0m\u001b[0;34m:\u001b[0m\u001b[0;34m]\u001b[0m\u001b[0;34m.\u001b[0m\u001b[0mto_csv\u001b[0m\u001b[0;34m(\u001b[0m\u001b[0;34m'wiki_train.tsv'\u001b[0m\u001b[0;34m,\u001b[0m \u001b[0msep\u001b[0m\u001b[0;34m=\u001b[0m\u001b[0;34m'\\t'\u001b[0m\u001b[0;34m,\u001b[0m \u001b[0mencoding\u001b[0m\u001b[0;34m=\u001b[0m\u001b[0;34m'utf-8'\u001b[0m\u001b[0;34m)\u001b[0m\u001b[0;34m\u001b[0m\u001b[0m\n\u001b[0m",
      "\u001b[0;32m~/anaconda3/lib/python3.6/site-packages/pandas/core/series.py\u001b[0m in \u001b[0;36mto_csv\u001b[0;34m(self, path, index, sep, na_rep, float_format, header, index_label, mode, encoding, compression, date_format, decimal)\u001b[0m\n\u001b[1;32m   3779\u001b[0m                            \u001b[0mindex_label\u001b[0m\u001b[0;34m=\u001b[0m\u001b[0mindex_label\u001b[0m\u001b[0;34m,\u001b[0m \u001b[0mmode\u001b[0m\u001b[0;34m=\u001b[0m\u001b[0mmode\u001b[0m\u001b[0;34m,\u001b[0m\u001b[0;34m\u001b[0m\u001b[0m\n\u001b[1;32m   3780\u001b[0m                            \u001b[0mencoding\u001b[0m\u001b[0;34m=\u001b[0m\u001b[0mencoding\u001b[0m\u001b[0;34m,\u001b[0m \u001b[0mcompression\u001b[0m\u001b[0;34m=\u001b[0m\u001b[0mcompression\u001b[0m\u001b[0;34m,\u001b[0m\u001b[0;34m\u001b[0m\u001b[0m\n\u001b[0;32m-> 3781\u001b[0;31m                            date_format=date_format, decimal=decimal)\n\u001b[0m\u001b[1;32m   3782\u001b[0m         \u001b[0;32mif\u001b[0m \u001b[0mpath\u001b[0m \u001b[0;32mis\u001b[0m \u001b[0;32mNone\u001b[0m\u001b[0;34m:\u001b[0m\u001b[0;34m\u001b[0m\u001b[0m\n\u001b[1;32m   3783\u001b[0m             \u001b[0;32mreturn\u001b[0m \u001b[0mresult\u001b[0m\u001b[0;34m\u001b[0m\u001b[0m\n",
      "\u001b[0;32m~/anaconda3/lib/python3.6/site-packages/pandas/core/frame.py\u001b[0m in \u001b[0;36mto_csv\u001b[0;34m(self, path_or_buf, sep, na_rep, float_format, columns, header, index, index_label, mode, encoding, compression, quoting, quotechar, line_terminator, chunksize, tupleize_cols, date_format, doublequote, escapechar, decimal)\u001b[0m\n\u001b[1;32m   1743\u001b[0m                                  \u001b[0mdoublequote\u001b[0m\u001b[0;34m=\u001b[0m\u001b[0mdoublequote\u001b[0m\u001b[0;34m,\u001b[0m\u001b[0;34m\u001b[0m\u001b[0m\n\u001b[1;32m   1744\u001b[0m                                  escapechar=escapechar, decimal=decimal)\n\u001b[0;32m-> 1745\u001b[0;31m         \u001b[0mformatter\u001b[0m\u001b[0;34m.\u001b[0m\u001b[0msave\u001b[0m\u001b[0;34m(\u001b[0m\u001b[0;34m)\u001b[0m\u001b[0;34m\u001b[0m\u001b[0m\n\u001b[0m\u001b[1;32m   1746\u001b[0m \u001b[0;34m\u001b[0m\u001b[0m\n\u001b[1;32m   1747\u001b[0m         \u001b[0;32mif\u001b[0m \u001b[0mpath_or_buf\u001b[0m \u001b[0;32mis\u001b[0m \u001b[0;32mNone\u001b[0m\u001b[0;34m:\u001b[0m\u001b[0;34m\u001b[0m\u001b[0m\n",
      "\u001b[0;32m~/anaconda3/lib/python3.6/site-packages/pandas/io/formats/csvs.py\u001b[0m in \u001b[0;36msave\u001b[0;34m(self)\u001b[0m\n\u001b[1;32m    169\u001b[0m                 \u001b[0mself\u001b[0m\u001b[0;34m.\u001b[0m\u001b[0mwriter\u001b[0m \u001b[0;34m=\u001b[0m \u001b[0mUnicodeWriter\u001b[0m\u001b[0;34m(\u001b[0m\u001b[0mf\u001b[0m\u001b[0;34m,\u001b[0m \u001b[0;34m**\u001b[0m\u001b[0mwriter_kwargs\u001b[0m\u001b[0;34m)\u001b[0m\u001b[0;34m\u001b[0m\u001b[0m\n\u001b[1;32m    170\u001b[0m \u001b[0;34m\u001b[0m\u001b[0m\n\u001b[0;32m--> 171\u001b[0;31m             \u001b[0mself\u001b[0m\u001b[0;34m.\u001b[0m\u001b[0m_save\u001b[0m\u001b[0;34m(\u001b[0m\u001b[0;34m)\u001b[0m\u001b[0;34m\u001b[0m\u001b[0m\n\u001b[0m\u001b[1;32m    172\u001b[0m \u001b[0;34m\u001b[0m\u001b[0m\n\u001b[1;32m    173\u001b[0m         \u001b[0;32mfinally\u001b[0m\u001b[0;34m:\u001b[0m\u001b[0;34m\u001b[0m\u001b[0m\n",
      "\u001b[0;32m~/anaconda3/lib/python3.6/site-packages/pandas/io/formats/csvs.py\u001b[0m in \u001b[0;36m_save\u001b[0;34m(self)\u001b[0m\n\u001b[1;32m    284\u001b[0m                 \u001b[0;32mbreak\u001b[0m\u001b[0;34m\u001b[0m\u001b[0m\n\u001b[1;32m    285\u001b[0m \u001b[0;34m\u001b[0m\u001b[0m\n\u001b[0;32m--> 286\u001b[0;31m             \u001b[0mself\u001b[0m\u001b[0;34m.\u001b[0m\u001b[0m_save_chunk\u001b[0m\u001b[0;34m(\u001b[0m\u001b[0mstart_i\u001b[0m\u001b[0;34m,\u001b[0m \u001b[0mend_i\u001b[0m\u001b[0;34m)\u001b[0m\u001b[0;34m\u001b[0m\u001b[0m\n\u001b[0m\u001b[1;32m    287\u001b[0m \u001b[0;34m\u001b[0m\u001b[0m\n\u001b[1;32m    288\u001b[0m     \u001b[0;32mdef\u001b[0m \u001b[0m_save_chunk\u001b[0m\u001b[0;34m(\u001b[0m\u001b[0mself\u001b[0m\u001b[0;34m,\u001b[0m \u001b[0mstart_i\u001b[0m\u001b[0;34m,\u001b[0m \u001b[0mend_i\u001b[0m\u001b[0;34m)\u001b[0m\u001b[0;34m:\u001b[0m\u001b[0;34m\u001b[0m\u001b[0m\n",
      "\u001b[0;32m~/anaconda3/lib/python3.6/site-packages/pandas/io/formats/csvs.py\u001b[0m in \u001b[0;36m_save_chunk\u001b[0;34m(self, start_i, end_i)\u001b[0m\n\u001b[1;32m    311\u001b[0m \u001b[0;34m\u001b[0m\u001b[0m\n\u001b[1;32m    312\u001b[0m         libwriters.write_csv_rows(self.data, ix, self.nlevels,\n\u001b[0;32m--> 313\u001b[0;31m                                   self.cols, self.writer)\n\u001b[0m",
      "\u001b[0;32mpandas/_libs/writers.pyx\u001b[0m in \u001b[0;36mpandas._libs.writers.write_csv_rows\u001b[0;34m()\u001b[0m\n",
      "\u001b[0;31mUnicodeEncodeError\u001b[0m: 'utf-8' codec can't encode characters in position 67334-67353: surrogates not allowed"
     ]
    },
    {
     "name": "stdout",
     "output_type": "stream",
     "text": [
      "> \u001b[0;32m/Users/austin/Documents/Galvanize/Capstone/Wikipedia_Knowledge_Graph/src/pandas/_libs/writers.pyx\u001b[0m(84)\u001b[0;36mpandas._libs.writers.write_csv_rows\u001b[0;34m()\u001b[0m\n",
      "\n",
      "ipdb> u\n",
      "> \u001b[0;32m/Users/austin/anaconda3/lib/python3.6/site-packages/pandas/io/formats/csvs.py\u001b[0m(313)\u001b[0;36m_save_chunk\u001b[0;34m()\u001b[0m\n",
      "\u001b[0;32m    309 \u001b[0;31m                                        \u001b[0mdate_format\u001b[0m\u001b[0;34m=\u001b[0m\u001b[0mself\u001b[0m\u001b[0;34m.\u001b[0m\u001b[0mdate_format\u001b[0m\u001b[0;34m,\u001b[0m\u001b[0;34m\u001b[0m\u001b[0m\n",
      "\u001b[0m\u001b[0;32m    310 \u001b[0;31m                                        quoting=self.quoting)\n",
      "\u001b[0m\u001b[0;32m    311 \u001b[0;31m\u001b[0;34m\u001b[0m\u001b[0m\n",
      "\u001b[0m\u001b[0;32m    312 \u001b[0;31m        libwriters.write_csv_rows(self.data, ix, self.nlevels,\n",
      "\u001b[0m\u001b[0;32m--> 313 \u001b[0;31m                                  self.cols, self.writer)\n",
      "\u001b[0m\n",
      "ipdb> u\n",
      "> \u001b[0;32m/Users/austin/anaconda3/lib/python3.6/site-packages/pandas/io/formats/csvs.py\u001b[0m(286)\u001b[0;36m_save\u001b[0;34m()\u001b[0m\n",
      "\u001b[0;32m    284 \u001b[0;31m                \u001b[0;32mbreak\u001b[0m\u001b[0;34m\u001b[0m\u001b[0m\n",
      "\u001b[0m\u001b[0;32m    285 \u001b[0;31m\u001b[0;34m\u001b[0m\u001b[0m\n",
      "\u001b[0m\u001b[0;32m--> 286 \u001b[0;31m            \u001b[0mself\u001b[0m\u001b[0;34m.\u001b[0m\u001b[0m_save_chunk\u001b[0m\u001b[0;34m(\u001b[0m\u001b[0mstart_i\u001b[0m\u001b[0;34m,\u001b[0m \u001b[0mend_i\u001b[0m\u001b[0;34m)\u001b[0m\u001b[0;34m\u001b[0m\u001b[0m\n",
      "\u001b[0m\u001b[0;32m    287 \u001b[0;31m\u001b[0;34m\u001b[0m\u001b[0m\n",
      "\u001b[0m\u001b[0;32m    288 \u001b[0;31m    \u001b[0;32mdef\u001b[0m \u001b[0m_save_chunk\u001b[0m\u001b[0;34m(\u001b[0m\u001b[0mself\u001b[0m\u001b[0;34m,\u001b[0m \u001b[0mstart_i\u001b[0m\u001b[0;34m,\u001b[0m \u001b[0mend_i\u001b[0m\u001b[0;34m)\u001b[0m\u001b[0;34m:\u001b[0m\u001b[0;34m\u001b[0m\u001b[0m\n",
      "\u001b[0m\n",
      "ipdb> u\n",
      "> \u001b[0;32m/Users/austin/anaconda3/lib/python3.6/site-packages/pandas/io/formats/csvs.py\u001b[0m(188)\u001b[0;36msave\u001b[0;34m()\u001b[0m\n",
      "\u001b[0;32m    186 \u001b[0;31m                \u001b[0mf\u001b[0m\u001b[0;34m.\u001b[0m\u001b[0mclose\u001b[0m\u001b[0;34m(\u001b[0m\u001b[0;34m)\u001b[0m\u001b[0;34m\u001b[0m\u001b[0m\n",
      "\u001b[0m\u001b[0;32m    187 \u001b[0;31m                \u001b[0;32mfor\u001b[0m \u001b[0m_fh\u001b[0m \u001b[0;32min\u001b[0m \u001b[0mhandles\u001b[0m\u001b[0;34m:\u001b[0m\u001b[0;34m\u001b[0m\u001b[0m\n",
      "\u001b[0m\u001b[0;32m--> 188 \u001b[0;31m                    \u001b[0m_fh\u001b[0m\u001b[0;34m.\u001b[0m\u001b[0mclose\u001b[0m\u001b[0;34m(\u001b[0m\u001b[0;34m)\u001b[0m\u001b[0;34m\u001b[0m\u001b[0m\n",
      "\u001b[0m\u001b[0;32m    189 \u001b[0;31m\u001b[0;34m\u001b[0m\u001b[0m\n",
      "\u001b[0m\u001b[0;32m    190 \u001b[0;31m    \u001b[0;32mdef\u001b[0m \u001b[0m_save_header\u001b[0m\u001b[0;34m(\u001b[0m\u001b[0mself\u001b[0m\u001b[0;34m)\u001b[0m\u001b[0;34m:\u001b[0m\u001b[0;34m\u001b[0m\u001b[0m\n",
      "\u001b[0m\n",
      "ipdb> u\n",
      "> \u001b[0;32m/Users/austin/anaconda3/lib/python3.6/site-packages/pandas/core/frame.py\u001b[0m(1745)\u001b[0;36mto_csv\u001b[0;34m()\u001b[0m\n",
      "\u001b[0;32m   1743 \u001b[0;31m                                 \u001b[0mdoublequote\u001b[0m\u001b[0;34m=\u001b[0m\u001b[0mdoublequote\u001b[0m\u001b[0;34m,\u001b[0m\u001b[0;34m\u001b[0m\u001b[0m\n",
      "\u001b[0m\u001b[0;32m   1744 \u001b[0;31m                                 escapechar=escapechar, decimal=decimal)\n",
      "\u001b[0m\u001b[0;32m-> 1745 \u001b[0;31m        \u001b[0mformatter\u001b[0m\u001b[0;34m.\u001b[0m\u001b[0msave\u001b[0m\u001b[0;34m(\u001b[0m\u001b[0;34m)\u001b[0m\u001b[0;34m\u001b[0m\u001b[0m\n",
      "\u001b[0m\u001b[0;32m   1746 \u001b[0;31m\u001b[0;34m\u001b[0m\u001b[0m\n",
      "\u001b[0m\u001b[0;32m   1747 \u001b[0;31m        \u001b[0;32mif\u001b[0m \u001b[0mpath_or_buf\u001b[0m \u001b[0;32mis\u001b[0m \u001b[0;32mNone\u001b[0m\u001b[0;34m:\u001b[0m\u001b[0;34m\u001b[0m\u001b[0m\n",
      "\u001b[0m\n",
      "ipdb> u\n",
      "> \u001b[0;32m/Users/austin/anaconda3/lib/python3.6/site-packages/pandas/core/series.py\u001b[0m(3781)\u001b[0;36mto_csv\u001b[0;34m()\u001b[0m\n",
      "\u001b[0;32m   3779 \u001b[0;31m                           \u001b[0mindex_label\u001b[0m\u001b[0;34m=\u001b[0m\u001b[0mindex_label\u001b[0m\u001b[0;34m,\u001b[0m \u001b[0mmode\u001b[0m\u001b[0;34m=\u001b[0m\u001b[0mmode\u001b[0m\u001b[0;34m,\u001b[0m\u001b[0;34m\u001b[0m\u001b[0m\n",
      "\u001b[0m\u001b[0;32m   3780 \u001b[0;31m                           \u001b[0mencoding\u001b[0m\u001b[0;34m=\u001b[0m\u001b[0mencoding\u001b[0m\u001b[0;34m,\u001b[0m \u001b[0mcompression\u001b[0m\u001b[0;34m=\u001b[0m\u001b[0mcompression\u001b[0m\u001b[0;34m,\u001b[0m\u001b[0;34m\u001b[0m\u001b[0m\n",
      "\u001b[0m\u001b[0;32m-> 3781 \u001b[0;31m                           date_format=date_format, decimal=decimal)\n",
      "\u001b[0m\u001b[0;32m   3782 \u001b[0;31m        \u001b[0;32mif\u001b[0m \u001b[0mpath\u001b[0m \u001b[0;32mis\u001b[0m \u001b[0;32mNone\u001b[0m\u001b[0;34m:\u001b[0m\u001b[0;34m\u001b[0m\u001b[0m\n",
      "\u001b[0m\u001b[0;32m   3783 \u001b[0;31m            \u001b[0;32mreturn\u001b[0m \u001b[0mresult\u001b[0m\u001b[0;34m\u001b[0m\u001b[0m\n",
      "\u001b[0m\n",
      "ipdb> u\n",
      "> \u001b[0;32m<ipython-input-136-edb47f479bdb>\u001b[0m(3)\u001b[0;36m<module>\u001b[0;34m()\u001b[0m\n",
      "\u001b[0;32m      1 \u001b[0;31m\u001b[0mget_ipython\u001b[0m\u001b[0;34m(\u001b[0m\u001b[0;34m)\u001b[0m\u001b[0;34m.\u001b[0m\u001b[0mrun_line_magic\u001b[0m\u001b[0;34m(\u001b[0m\u001b[0;34m'pdb'\u001b[0m\u001b[0;34m,\u001b[0m \u001b[0;34m''\u001b[0m\u001b[0;34m)\u001b[0m\u001b[0;34m\u001b[0m\u001b[0m\n",
      "\u001b[0m\u001b[0;32m      2 \u001b[0;31m\u001b[0;32mfor\u001b[0m \u001b[0mi\u001b[0m \u001b[0;32min\u001b[0m \u001b[0mrange\u001b[0m\u001b[0;34m(\u001b[0m\u001b[0mlen\u001b[0m\u001b[0;34m(\u001b[0m\u001b[0mbackup_data\u001b[0m\u001b[0;34m)\u001b[0m\u001b[0;34m)\u001b[0m\u001b[0;34m:\u001b[0m\u001b[0;34m\u001b[0m\u001b[0m\n",
      "\u001b[0m\u001b[0;32m----> 3 \u001b[0;31m    \u001b[0mbackup_data\u001b[0m\u001b[0;34m.\u001b[0m\u001b[0mloc\u001b[0m\u001b[0;34m[\u001b[0m\u001b[0mi\u001b[0m\u001b[0;34m,\u001b[0m\u001b[0;34m:\u001b[0m\u001b[0;34m]\u001b[0m\u001b[0;34m.\u001b[0m\u001b[0mto_csv\u001b[0m\u001b[0;34m(\u001b[0m\u001b[0;34m'wiki_train.tsv'\u001b[0m\u001b[0;34m,\u001b[0m \u001b[0msep\u001b[0m\u001b[0;34m=\u001b[0m\u001b[0;34m'\\t'\u001b[0m\u001b[0;34m,\u001b[0m \u001b[0mencoding\u001b[0m\u001b[0;34m=\u001b[0m\u001b[0;34m'utf-8'\u001b[0m\u001b[0;34m)\u001b[0m\u001b[0;34m\u001b[0m\u001b[0m\n",
      "\u001b[0m\n",
      "ipdb> i\n",
      "82\n",
      "ipdb> q\n"
     ]
    }
   ],
   "source": [
    "%pdb\n",
    "for i in range(len(backup_data)):\n",
    "    backup_data.loc[i,:].to_csv('wiki_train.tsv', sep='\\t', encoding='utf-8')"
   ]
  },
  {
   "cell_type": "code",
   "execution_count": 142,
   "metadata": {
    "ExecuteTime": {
     "end_time": "2018-08-24T16:03:18.210510Z",
     "start_time": "2018-08-24T16:03:18.164337Z"
    }
   },
   "outputs": [
    {
     "data": {
      "text/plain": [
       "''"
      ]
     },
     "execution_count": 142,
     "metadata": {},
     "output_type": "execute_result"
    }
   ],
   "source": [
    "backup_data.loc[82,'cleaned_text'][67334:67353]"
   ]
  },
  {
   "cell_type": "code",
   "execution_count": 139,
   "metadata": {
    "ExecuteTime": {
     "end_time": "2018-08-24T15:59:47.403108Z",
     "start_time": "2018-08-24T15:59:47.357223Z"
    }
   },
   "outputs": [
    {
     "data": {
      "text/plain": [
       "b'\\xd7\\x99'"
      ]
     },
     "execution_count": 139,
     "metadata": {},
     "output_type": "execute_result"
    }
   ],
   "source": [
    "'י'.encode()"
   ]
  },
  {
   "cell_type": "code",
   "execution_count": 144,
   "metadata": {
    "ExecuteTime": {
     "end_time": "2018-08-24T16:05:24.110363Z",
     "start_time": "2018-08-24T16:05:02.702816Z"
    }
   },
   "outputs": [],
   "source": [
    "backup_data.to_pickle('backup_data.pkl')"
   ]
  },
  {
   "cell_type": "code",
   "execution_count": 150,
   "metadata": {
    "ExecuteTime": {
     "end_time": "2018-08-24T16:13:29.725422Z",
     "start_time": "2018-08-24T16:12:21.400025Z"
    }
   },
   "outputs": [
    {
     "ename": "RuntimeError",
     "evalue": "Compression 'snappy' not available.  Options: ['GZIP', 'UNCOMPRESSED']",
     "output_type": "error",
     "traceback": [
      "\u001b[0;31m---------------------------------------------------------------------------\u001b[0m",
      "\u001b[0;31mRuntimeError\u001b[0m                              Traceback (most recent call last)",
      "\u001b[0;32m<ipython-input-150-2133ec0bd0b5>\u001b[0m in \u001b[0;36m<module>\u001b[0;34m()\u001b[0m\n\u001b[0;32m----> 1\u001b[0;31m \u001b[0mbackup_data\u001b[0m\u001b[0;34m.\u001b[0m\u001b[0mto_parquet\u001b[0m\u001b[0;34m(\u001b[0m\u001b[0;34m'backup_data.parq'\u001b[0m\u001b[0;34m)\u001b[0m\u001b[0;34m\u001b[0m\u001b[0m\n\u001b[0m",
      "\u001b[0;32m~/anaconda3/lib/python3.6/site-packages/pandas/core/frame.py\u001b[0m in \u001b[0;36mto_parquet\u001b[0;34m(self, fname, engine, compression, **kwargs)\u001b[0m\n\u001b[1;32m   1943\u001b[0m         \u001b[0;32mfrom\u001b[0m \u001b[0mpandas\u001b[0m\u001b[0;34m.\u001b[0m\u001b[0mio\u001b[0m\u001b[0;34m.\u001b[0m\u001b[0mparquet\u001b[0m \u001b[0;32mimport\u001b[0m \u001b[0mto_parquet\u001b[0m\u001b[0;34m\u001b[0m\u001b[0m\n\u001b[1;32m   1944\u001b[0m         to_parquet(self, fname, engine,\n\u001b[0;32m-> 1945\u001b[0;31m                    compression=compression, **kwargs)\n\u001b[0m\u001b[1;32m   1946\u001b[0m \u001b[0;34m\u001b[0m\u001b[0m\n\u001b[1;32m   1947\u001b[0m     @Substitution(header='Write out the column names. If a list of strings '\n",
      "\u001b[0;32m~/anaconda3/lib/python3.6/site-packages/pandas/io/parquet.py\u001b[0m in \u001b[0;36mto_parquet\u001b[0;34m(df, path, engine, compression, **kwargs)\u001b[0m\n\u001b[1;32m    255\u001b[0m     \"\"\"\n\u001b[1;32m    256\u001b[0m     \u001b[0mimpl\u001b[0m \u001b[0;34m=\u001b[0m \u001b[0mget_engine\u001b[0m\u001b[0;34m(\u001b[0m\u001b[0mengine\u001b[0m\u001b[0;34m)\u001b[0m\u001b[0;34m\u001b[0m\u001b[0m\n\u001b[0;32m--> 257\u001b[0;31m     \u001b[0;32mreturn\u001b[0m \u001b[0mimpl\u001b[0m\u001b[0;34m.\u001b[0m\u001b[0mwrite\u001b[0m\u001b[0;34m(\u001b[0m\u001b[0mdf\u001b[0m\u001b[0;34m,\u001b[0m \u001b[0mpath\u001b[0m\u001b[0;34m,\u001b[0m \u001b[0mcompression\u001b[0m\u001b[0;34m=\u001b[0m\u001b[0mcompression\u001b[0m\u001b[0;34m,\u001b[0m \u001b[0;34m**\u001b[0m\u001b[0mkwargs\u001b[0m\u001b[0;34m)\u001b[0m\u001b[0;34m\u001b[0m\u001b[0m\n\u001b[0m\u001b[1;32m    258\u001b[0m \u001b[0;34m\u001b[0m\u001b[0m\n\u001b[1;32m    259\u001b[0m \u001b[0;34m\u001b[0m\u001b[0m\n",
      "\u001b[0;32m~/anaconda3/lib/python3.6/site-packages/pandas/io/parquet.py\u001b[0m in \u001b[0;36mwrite\u001b[0;34m(self, df, path, compression, **kwargs)\u001b[0m\n\u001b[1;32m    216\u001b[0m         \u001b[0;32mwith\u001b[0m \u001b[0mcatch_warnings\u001b[0m\u001b[0;34m(\u001b[0m\u001b[0mrecord\u001b[0m\u001b[0;34m=\u001b[0m\u001b[0;32mTrue\u001b[0m\u001b[0;34m)\u001b[0m\u001b[0;34m:\u001b[0m\u001b[0;34m\u001b[0m\u001b[0m\n\u001b[1;32m    217\u001b[0m             self.api.write(path, df,\n\u001b[0;32m--> 218\u001b[0;31m                            compression=compression, **kwargs)\n\u001b[0m\u001b[1;32m    219\u001b[0m \u001b[0;34m\u001b[0m\u001b[0m\n\u001b[1;32m    220\u001b[0m     \u001b[0;32mdef\u001b[0m \u001b[0mread\u001b[0m\u001b[0;34m(\u001b[0m\u001b[0mself\u001b[0m\u001b[0;34m,\u001b[0m \u001b[0mpath\u001b[0m\u001b[0;34m,\u001b[0m \u001b[0mcolumns\u001b[0m\u001b[0;34m=\u001b[0m\u001b[0;32mNone\u001b[0m\u001b[0;34m,\u001b[0m \u001b[0;34m**\u001b[0m\u001b[0mkwargs\u001b[0m\u001b[0;34m)\u001b[0m\u001b[0;34m:\u001b[0m\u001b[0;34m\u001b[0m\u001b[0m\n",
      "\u001b[0;32m~/anaconda3/lib/python3.6/site-packages/fastparquet/writer.py\u001b[0m in \u001b[0;36mwrite\u001b[0;34m(filename, data, row_group_offsets, compression, file_scheme, open_with, mkdirs, has_nulls, write_index, partition_on, fixed_text, append, object_encoding, times)\u001b[0m\n\u001b[1;32m    846\u001b[0m     \u001b[0;32mif\u001b[0m \u001b[0mfile_scheme\u001b[0m \u001b[0;34m==\u001b[0m \u001b[0;34m'simple'\u001b[0m\u001b[0;34m:\u001b[0m\u001b[0;34m\u001b[0m\u001b[0m\n\u001b[1;32m    847\u001b[0m         write_simple(filename, data, fmd, row_group_offsets,\n\u001b[0;32m--> 848\u001b[0;31m                      compression, open_with, has_nulls, append)\n\u001b[0m\u001b[1;32m    849\u001b[0m     \u001b[0;32melif\u001b[0m \u001b[0mfile_scheme\u001b[0m \u001b[0;32min\u001b[0m \u001b[0;34m[\u001b[0m\u001b[0;34m'hive'\u001b[0m\u001b[0;34m,\u001b[0m \u001b[0;34m'drill'\u001b[0m\u001b[0;34m]\u001b[0m\u001b[0;34m:\u001b[0m\u001b[0;34m\u001b[0m\u001b[0m\n\u001b[1;32m    850\u001b[0m         \u001b[0;32mif\u001b[0m \u001b[0mappend\u001b[0m\u001b[0;34m:\u001b[0m\u001b[0;34m\u001b[0m\u001b[0m\n",
      "\u001b[0;32m~/anaconda3/lib/python3.6/site-packages/fastparquet/writer.py\u001b[0m in \u001b[0;36mwrite_simple\u001b[0;34m(fn, data, fmd, row_group_offsets, compression, open_with, has_nulls, append)\u001b[0m\n\u001b[1;32m    715\u001b[0m                    else None)\n\u001b[1;32m    716\u001b[0m             rg = make_row_group(f, data[start:end], fmd.schema,\n\u001b[0;32m--> 717\u001b[0;31m                                 compression=compression)\n\u001b[0m\u001b[1;32m    718\u001b[0m             \u001b[0;32mif\u001b[0m \u001b[0mrg\u001b[0m \u001b[0;32mis\u001b[0m \u001b[0;32mnot\u001b[0m \u001b[0;32mNone\u001b[0m\u001b[0;34m:\u001b[0m\u001b[0;34m\u001b[0m\u001b[0m\n\u001b[1;32m    719\u001b[0m                 \u001b[0mfmd\u001b[0m\u001b[0;34m.\u001b[0m\u001b[0mrow_groups\u001b[0m\u001b[0;34m.\u001b[0m\u001b[0mappend\u001b[0m\u001b[0;34m(\u001b[0m\u001b[0mrg\u001b[0m\u001b[0;34m)\u001b[0m\u001b[0;34m\u001b[0m\u001b[0m\n",
      "\u001b[0;32m~/anaconda3/lib/python3.6/site-packages/fastparquet/writer.py\u001b[0m in \u001b[0;36mmake_row_group\u001b[0;34m(f, data, schema, compression)\u001b[0m\n\u001b[1;32m    612\u001b[0m                 \u001b[0mcomp\u001b[0m \u001b[0;34m=\u001b[0m \u001b[0mcompression\u001b[0m\u001b[0;34m\u001b[0m\u001b[0m\n\u001b[1;32m    613\u001b[0m             chunk = write_column(f, data[column.name], column,\n\u001b[0;32m--> 614\u001b[0;31m                                  compression=comp)\n\u001b[0m\u001b[1;32m    615\u001b[0m             \u001b[0mrg\u001b[0m\u001b[0;34m.\u001b[0m\u001b[0mcolumns\u001b[0m\u001b[0;34m.\u001b[0m\u001b[0mappend\u001b[0m\u001b[0;34m(\u001b[0m\u001b[0mchunk\u001b[0m\u001b[0;34m)\u001b[0m\u001b[0;34m\u001b[0m\u001b[0m\n\u001b[1;32m    616\u001b[0m     rg.total_byte_size = sum([c.meta_data.total_uncompressed_size for c in\n",
      "\u001b[0;32m~/anaconda3/lib/python3.6/site-packages/fastparquet/writer.py\u001b[0m in \u001b[0;36mwrite_column\u001b[0;34m(f, data, selement, compression)\u001b[0m\n\u001b[1;32m    534\u001b[0m \u001b[0;34m\u001b[0m\u001b[0m\n\u001b[1;32m    535\u001b[0m     \u001b[0;32mif\u001b[0m \u001b[0mcompression\u001b[0m\u001b[0;34m:\u001b[0m\u001b[0;34m\u001b[0m\u001b[0m\n\u001b[0;32m--> 536\u001b[0;31m         \u001b[0mbdata\u001b[0m \u001b[0;34m=\u001b[0m \u001b[0mcompress_data\u001b[0m\u001b[0;34m(\u001b[0m\u001b[0mbdata\u001b[0m\u001b[0;34m,\u001b[0m \u001b[0mcompression\u001b[0m\u001b[0;34m)\u001b[0m\u001b[0;34m\u001b[0m\u001b[0m\n\u001b[0m\u001b[1;32m    537\u001b[0m         \u001b[0ml1\u001b[0m \u001b[0;34m=\u001b[0m \u001b[0mlen\u001b[0m\u001b[0;34m(\u001b[0m\u001b[0mbdata\u001b[0m\u001b[0;34m)\u001b[0m\u001b[0;34m\u001b[0m\u001b[0m\n\u001b[1;32m    538\u001b[0m     \u001b[0;32melse\u001b[0m\u001b[0;34m:\u001b[0m\u001b[0;34m\u001b[0m\u001b[0m\n",
      "\u001b[0;32m~/anaconda3/lib/python3.6/site-packages/fastparquet/compression.py\u001b[0m in \u001b[0;36mcompress_data\u001b[0;34m(data, compression)\u001b[0m\n\u001b[1;32m    129\u001b[0m     \u001b[0;32mif\u001b[0m \u001b[0malgorithm\u001b[0m\u001b[0;34m.\u001b[0m\u001b[0mupper\u001b[0m\u001b[0;34m(\u001b[0m\u001b[0;34m)\u001b[0m \u001b[0;32mnot\u001b[0m \u001b[0;32min\u001b[0m \u001b[0mcompressions\u001b[0m\u001b[0;34m:\u001b[0m\u001b[0;34m\u001b[0m\u001b[0m\n\u001b[1;32m    130\u001b[0m         raise RuntimeError(\"Compression '%s' not available.  Options: %s\" %\n\u001b[0;32m--> 131\u001b[0;31m                 (algorithm, sorted(compressions)))\n\u001b[0m\u001b[1;32m    132\u001b[0m     \u001b[0;32mif\u001b[0m \u001b[0margs\u001b[0m \u001b[0;32mis\u001b[0m \u001b[0;32mNone\u001b[0m\u001b[0;34m:\u001b[0m\u001b[0;34m\u001b[0m\u001b[0m\n\u001b[1;32m    133\u001b[0m         \u001b[0;32mreturn\u001b[0m \u001b[0mcompressions\u001b[0m\u001b[0;34m[\u001b[0m\u001b[0malgorithm\u001b[0m\u001b[0;34m.\u001b[0m\u001b[0mupper\u001b[0m\u001b[0;34m(\u001b[0m\u001b[0;34m)\u001b[0m\u001b[0;34m]\u001b[0m\u001b[0;34m(\u001b[0m\u001b[0mdata\u001b[0m\u001b[0;34m)\u001b[0m\u001b[0;34m\u001b[0m\u001b[0m\n",
      "\u001b[0;31mRuntimeError\u001b[0m: Compression 'snappy' not available.  Options: ['GZIP', 'UNCOMPRESSED']"
     ]
    },
    {
     "name": "stdout",
     "output_type": "stream",
     "text": [
      "> \u001b[0;32m/Users/austin/anaconda3/lib/python3.6/site-packages/fastparquet/compression.py\u001b[0m(131)\u001b[0;36mcompress_data\u001b[0;34m()\u001b[0m\n",
      "\u001b[0;32m    129 \u001b[0;31m    \u001b[0;32mif\u001b[0m \u001b[0malgorithm\u001b[0m\u001b[0;34m.\u001b[0m\u001b[0mupper\u001b[0m\u001b[0;34m(\u001b[0m\u001b[0;34m)\u001b[0m \u001b[0;32mnot\u001b[0m \u001b[0;32min\u001b[0m \u001b[0mcompressions\u001b[0m\u001b[0;34m:\u001b[0m\u001b[0;34m\u001b[0m\u001b[0m\n",
      "\u001b[0m\u001b[0;32m    130 \u001b[0;31m        raise RuntimeError(\"Compression '%s' not available.  Options: %s\" %\n",
      "\u001b[0m\u001b[0;32m--> 131 \u001b[0;31m                (algorithm, sorted(compressions)))\n",
      "\u001b[0m\u001b[0;32m    132 \u001b[0;31m    \u001b[0;32mif\u001b[0m \u001b[0margs\u001b[0m \u001b[0;32mis\u001b[0m \u001b[0;32mNone\u001b[0m\u001b[0;34m:\u001b[0m\u001b[0;34m\u001b[0m\u001b[0m\n",
      "\u001b[0m\u001b[0;32m    133 \u001b[0;31m        \u001b[0;32mreturn\u001b[0m \u001b[0mcompressions\u001b[0m\u001b[0;34m[\u001b[0m\u001b[0malgorithm\u001b[0m\u001b[0;34m.\u001b[0m\u001b[0mupper\u001b[0m\u001b[0;34m(\u001b[0m\u001b[0;34m)\u001b[0m\u001b[0;34m]\u001b[0m\u001b[0;34m(\u001b[0m\u001b[0mdata\u001b[0m\u001b[0;34m)\u001b[0m\u001b[0;34m\u001b[0m\u001b[0m\n",
      "\u001b[0m\n",
      "ipdb> q\n"
     ]
    }
   ],
   "source": [
    "backup_data.to_parquet('backup_data.parq')"
   ]
  },
  {
   "cell_type": "code",
   "execution_count": 146,
   "metadata": {
    "ExecuteTime": {
     "end_time": "2018-08-24T16:07:48.691118Z",
     "start_time": "2018-08-24T16:07:33.211792Z"
    }
   },
   "outputs": [
    {
     "name": "stdout",
     "output_type": "stream",
     "text": [
      "Collecting fastparquet\n",
      "\u001b[?25l  Downloading https://files.pythonhosted.org/packages/46/b2/ad083ff3873384b86c180b0f88e3a8f6f097aba8f48a77cadbc24806b395/fastparquet-0.1.6-cp36-cp36m-macosx_10_7_x86_64.whl (174kB)\n",
      "\u001b[K    100% |████████████████████████████████| 184kB 2.7MB/s ta 0:00:01\n",
      "\u001b[?25hCollecting thrift>=0.11.0 (from fastparquet)\n",
      "\u001b[?25l  Downloading https://files.pythonhosted.org/packages/c6/b4/510617906f8e0c5660e7d96fbc5585113f83ad547a3989b80297ac72a74c/thrift-0.11.0.tar.gz (52kB)\n",
      "\u001b[K    100% |████████████████████████████████| 61kB 4.6MB/s ta 0:00:01\n",
      "\u001b[?25hRequirement already satisfied: numba>=0.28 in /Users/austin/anaconda3/lib/python3.6/site-packages (from fastparquet) (0.37.0)\n",
      "Requirement already satisfied: pandas>=0.19 in /Users/austin/anaconda3/lib/python3.6/site-packages (from fastparquet) (0.23.3)\n",
      "Requirement already satisfied: numpy>=1.11 in /Users/austin/anaconda3/lib/python3.6/site-packages (from fastparquet) (1.15.0)\n",
      "Collecting pytest-runner (from fastparquet)\n",
      "  Downloading https://files.pythonhosted.org/packages/72/a4/d7a5738a3096f22a98bec1609e237b250ebff04e5ea2930305d485337263/pytest_runner-4.2-py2.py3-none-any.whl\n",
      "Requirement already satisfied: six in /Users/austin/anaconda3/lib/python3.6/site-packages (from fastparquet) (1.10.0)\n",
      "Requirement already satisfied: llvmlite>=0.22.0.dev0 in /Users/austin/anaconda3/lib/python3.6/site-packages (from numba>=0.28->fastparquet) (0.22.0)\n",
      "Requirement already satisfied: pytz>=2011k in /Users/austin/anaconda3/lib/python3.6/site-packages (from pandas>=0.19->fastparquet) (2017.2)\n",
      "Requirement already satisfied: python-dateutil>=2.5.0 in /Users/austin/anaconda3/lib/python3.6/site-packages (from pandas>=0.19->fastparquet) (2.7.2)\n",
      "Building wheels for collected packages: thrift\n",
      "  Running setup.py bdist_wheel for thrift ... \u001b[?25ldone\n",
      "\u001b[?25h  Stored in directory: /Users/austin/Library/Caches/pip/wheels/be/36/81/0f93ba89a1cb7887c91937948519840a72c0ffdd57cac0ae8f\n",
      "Successfully built thrift\n",
      "Installing collected packages: thrift, pytest-runner, fastparquet\n",
      "Successfully installed fastparquet-0.1.6 pytest-runner-4.2 thrift-0.11.0\n"
     ]
    }
   ],
   "source": [
    "!pip install fastparquet"
   ]
  },
  {
   "cell_type": "code",
   "execution_count": 149,
   "metadata": {
    "ExecuteTime": {
     "end_time": "2018-08-24T16:12:17.802439Z",
     "start_time": "2018-08-24T16:10:00.823544Z"
    }
   },
   "outputs": [
    {
     "name": "stdout",
     "output_type": "stream",
     "text": [
      "Solving environment: done\n",
      "\n",
      "## Package Plan ##\n",
      "\n",
      "  environment location: /Users/austin/anaconda3\n",
      "\n",
      "  added / updated specs: \n",
      "    - python-snappy\n",
      "\n",
      "\n",
      "The following packages will be downloaded:\n",
      "\n",
      "    package                    |            build\n",
      "    ---------------------------|-----------------\n",
      "    conda-4.5.10               |           py36_0         1.0 MB\n",
      "    python-snappy-0.5.2        |   py36h0a44026_0          27 KB\n",
      "    openssl-1.0.2p             |       h1de35cc_0         3.4 MB\n",
      "    ca-certificates-2018.03.07 |                0         124 KB\n",
      "    certifi-2018.8.13          |           py36_0         138 KB\n",
      "    ------------------------------------------------------------\n",
      "                                           Total:         4.7 MB\n",
      "\n",
      "The following NEW packages will be INSTALLED:\n",
      "\n",
      "    python-snappy:   0.5.2-py36h0a44026_0         \n",
      "\n",
      "The following packages will be UPDATED:\n",
      "\n",
      "    ca-certificates: 2018.03.07-0         anaconda --> 2018.03.07-0     \n",
      "    certifi:         2018.8.13-py36_0     anaconda --> 2018.8.13-py36_0 \n",
      "    conda:           4.5.10-py36_0        anaconda --> 4.5.10-py36_0    \n",
      "    openssl:         1.0.2p-h1de35cc_0    anaconda --> 1.0.2p-h1de35cc_0\n",
      "\n",
      "Proceed ([y]/n)? \n",
      "\n",
      "Downloading and Extracting Packages\n",
      "conda-4.5.10         | 1.0 MB    | ##################################### | 100% \n",
      "python-snappy-0.5.2  | 27 KB     | ##################################### | 100% \n",
      "openssl-1.0.2p       | 3.4 MB    | ##################################### | 100% \n",
      "ca-certificates-2018 | 124 KB    | ##################################### | 100% \n",
      "certifi-2018.8.13    | 138 KB    | ##################################### | 100% \n",
      "Preparing transaction: done\n",
      "Verifying transaction: done\n",
      "Executing transaction: done\n",
      "^C\n"
     ]
    }
   ],
   "source": [
    "! yes | conda install python-snappy"
   ]
  },
  {
   "cell_type": "code",
   "execution_count": 151,
   "metadata": {
    "ExecuteTime": {
     "end_time": "2018-08-24T16:13:33.884436Z",
     "start_time": "2018-08-24T16:13:33.667825Z"
    }
   },
   "outputs": [
    {
     "name": "stdout",
     "output_type": "stream",
     "text": [
      "1035\tbackup_data.pkl\r\n"
     ]
    }
   ],
   "source": [
    "!du -m backup_data.pkl"
   ]
  },
  {
   "cell_type": "code",
   "execution_count": null,
   "metadata": {},
   "outputs": [],
   "source": []
  }
 ],
 "metadata": {
  "kernelspec": {
   "display_name": "Python 3",
   "language": "python",
   "name": "python3"
  },
  "language_info": {
   "codemirror_mode": {
    "name": "ipython",
    "version": 3
   },
   "file_extension": ".py",
   "mimetype": "text/x-python",
   "name": "python",
   "nbconvert_exporter": "python",
   "pygments_lexer": "ipython3",
   "version": "3.6.5"
  }
 },
 "nbformat": 4,
 "nbformat_minor": 2
}
