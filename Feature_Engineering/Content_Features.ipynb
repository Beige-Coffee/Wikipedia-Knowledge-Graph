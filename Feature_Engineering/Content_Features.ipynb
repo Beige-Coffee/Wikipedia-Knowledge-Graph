{
 "cells": [
  {
   "cell_type": "markdown",
   "metadata": {},
   "source": [
    "# Imports"
   ]
  },
  {
   "cell_type": "code",
   "execution_count": 127,
   "metadata": {
    "ExecuteTime": {
     "end_time": "2018-08-20T01:34:14.849063Z",
     "start_time": "2018-08-20T01:34:14.625378Z"
    }
   },
   "outputs": [],
   "source": [
    "import pandas as pd\n",
    "import numpy as np\n",
    "import json\n",
    "from ast import literal_eval\n",
    "import matplotlib.pyplot as plt\n",
    "from textstat.textstat import textstat\n",
    "from gensim.corpora import wikicorpus\n",
    "from gensim.models.doc2vec import Doc2Vec, TaggedDocument\n",
    "from sklearn.ensemble import RandomForestClassifier\n",
    "from sklearn.metrics import accuracy_score\n",
    "from sklearn.model_selection import train_test_split\n",
    "%matplotlib inline\n",
    "# Make it pretty\n",
    "plt.style.use('ggplot')"
   ]
  },
  {
   "cell_type": "markdown",
   "metadata": {},
   "source": [
    "# Read in data"
   ]
  },
  {
   "cell_type": "code",
   "execution_count": 128,
   "metadata": {
    "ExecuteTime": {
     "end_time": "2018-08-20T01:34:27.015560Z",
     "start_time": "2018-08-20T01:34:17.832438Z"
    }
   },
   "outputs": [],
   "source": [
    "file = '../data/enwiki.observations.text_wp10.30k.tsv'\n",
    "data = pd.read_csv(file, sep='\\t', header=None)"
   ]
  },
  {
   "cell_type": "code",
   "execution_count": 129,
   "metadata": {
    "ExecuteTime": {
     "end_time": "2018-08-20T01:34:36.149812Z",
     "start_time": "2018-08-20T01:34:27.020398Z"
    }
   },
   "outputs": [],
   "source": [
    "data = pd.DataFrame(data=list(data[0].apply(literal_eval)))"
   ]
  },
  {
   "cell_type": "code",
   "execution_count": 113,
   "metadata": {
    "ExecuteTime": {
     "end_time": "2018-08-20T01:08:50.418669Z",
     "start_time": "2018-08-20T01:08:50.191754Z"
    }
   },
   "outputs": [
    {
     "data": {
      "text/plain": [
       "label         0\n",
       "page_title    0\n",
       "project       0\n",
       "text          0\n",
       "timestamp     0\n",
       "dtype: int64"
      ]
     },
     "execution_count": 113,
     "metadata": {},
     "output_type": "execute_result"
    }
   ],
   "source": [
    "data.isnull().sum()"
   ]
  },
  {
   "cell_type": "markdown",
   "metadata": {
    "ExecuteTime": {
     "end_time": "2018-08-17T21:29:02.288443Z",
     "start_time": "2018-08-17T21:29:01.876660Z"
    }
   },
   "source": [
    "# Practice pipeline with part of data"
   ]
  },
  {
   "cell_type": "code",
   "execution_count": 130,
   "metadata": {
    "ExecuteTime": {
     "end_time": "2018-08-20T01:34:36.202655Z",
     "start_time": "2018-08-20T01:34:36.152008Z"
    }
   },
   "outputs": [],
   "source": [
    "data1000 = data[:3000]"
   ]
  },
  {
   "cell_type": "code",
   "execution_count": 87,
   "metadata": {
    "ExecuteTime": {
     "end_time": "2018-08-19T23:08:29.647058Z",
     "start_time": "2018-08-19T23:08:29.589373Z"
    }
   },
   "outputs": [
    {
     "data": {
      "text/html": [
       "<div>\n",
       "<style scoped>\n",
       "    .dataframe tbody tr th:only-of-type {\n",
       "        vertical-align: middle;\n",
       "    }\n",
       "\n",
       "    .dataframe tbody tr th {\n",
       "        vertical-align: top;\n",
       "    }\n",
       "\n",
       "    .dataframe thead th {\n",
       "        text-align: right;\n",
       "    }\n",
       "</style>\n",
       "<table border=\"1\" class=\"dataframe\">\n",
       "  <thead>\n",
       "    <tr style=\"text-align: right;\">\n",
       "      <th></th>\n",
       "      <th>label</th>\n",
       "      <th>page_title</th>\n",
       "      <th>project</th>\n",
       "      <th>text</th>\n",
       "      <th>timestamp</th>\n",
       "    </tr>\n",
       "  </thead>\n",
       "  <tbody>\n",
       "    <tr>\n",
       "      <th>0</th>\n",
       "      <td>fa</td>\n",
       "      <td>Funerary art</td>\n",
       "      <td>visual arts</td>\n",
       "      <td>[[Image:GD-FR-Paris-Louvre-Sculptures034.JPG|3...</td>\n",
       "      <td>20100504203659</td>\n",
       "    </tr>\n",
       "    <tr>\n",
       "      <th>1</th>\n",
       "      <td>fa</td>\n",
       "      <td>Battle of Warsaw (1920)</td>\n",
       "      <td>russia</td>\n",
       "      <td>{{Infobox Military Conflict\\n|conflict=Battle ...</td>\n",
       "      <td>20070111175847</td>\n",
       "    </tr>\n",
       "    <tr>\n",
       "      <th>2</th>\n",
       "      <td>c</td>\n",
       "      <td>Henry Digby (Royal Navy officer)</td>\n",
       "      <td>biography</td>\n",
       "      <td>{{Use British English|date=August 2011}}\\n{{Us...</td>\n",
       "      <td>20111205102850</td>\n",
       "    </tr>\n",
       "    <tr>\n",
       "      <th>3</th>\n",
       "      <td>c</td>\n",
       "      <td>Ottawa Redblacks</td>\n",
       "      <td>canadian football</td>\n",
       "      <td>{{Use mdy dates|date=May 2013}}\\n{{Infobox CFL...</td>\n",
       "      <td>20140513220942</td>\n",
       "    </tr>\n",
       "    <tr>\n",
       "      <th>4</th>\n",
       "      <td>c</td>\n",
       "      <td>Qimonda</td>\n",
       "      <td>germany</td>\n",
       "      <td>{{Infobox_Company |\\n  company_name   = Qimond...</td>\n",
       "      <td>20090315202104</td>\n",
       "    </tr>\n",
       "    <tr>\n",
       "      <th>5</th>\n",
       "      <td>start</td>\n",
       "      <td>Ocracoke, North Carolina</td>\n",
       "      <td>project north carolina</td>\n",
       "      <td>{{Infobox Settlement\\n|official_name          ...</td>\n",
       "      <td>20080911150022</td>\n",
       "    </tr>\n",
       "    <tr>\n",
       "      <th>6</th>\n",
       "      <td>c</td>\n",
       "      <td>Erik Wilhelm</td>\n",
       "      <td>biography</td>\n",
       "      <td>{{construction}}\\n\\n{{Infobox NFL player\\n| im...</td>\n",
       "      <td>20141125183748</td>\n",
       "    </tr>\n",
       "    <tr>\n",
       "      <th>7</th>\n",
       "      <td>stub</td>\n",
       "      <td>Kolibite</td>\n",
       "      <td>bulgaria</td>\n",
       "      <td>{{Infobox settlement \\n|official_name =Kolibit...</td>\n",
       "      <td>20120524063028</td>\n",
       "    </tr>\n",
       "    <tr>\n",
       "      <th>8</th>\n",
       "      <td>b</td>\n",
       "      <td>Edouard Borovansky</td>\n",
       "      <td>ballet</td>\n",
       "      <td>{{Infobox Person\\n| name   = Edouard Borovansk...</td>\n",
       "      <td>20110208153146</td>\n",
       "    </tr>\n",
       "    <tr>\n",
       "      <th>9</th>\n",
       "      <td>stub</td>\n",
       "      <td>Jacek Wiśniewski</td>\n",
       "      <td>poland</td>\n",
       "      <td>{{Football player infobox\\n| playername= Jacek...</td>\n",
       "      <td>20090105062145</td>\n",
       "    </tr>\n",
       "    <tr>\n",
       "      <th>10</th>\n",
       "      <td>ga</td>\n",
       "      <td>Ty Cobb</td>\n",
       "      <td>baseball-wikiproject</td>\n",
       "      <td>{{Infobox baseball player \\n| name=Cobb, Tyrus...</td>\n",
       "      <td>20070301084412</td>\n",
       "    </tr>\n",
       "    <tr>\n",
       "      <th>11</th>\n",
       "      <td>b</td>\n",
       "      <td>Balian of Ibelin</td>\n",
       "      <td>biography</td>\n",
       "      <td>[[Image:Balian of Ibelin seal.jpg|frame|Drawin...</td>\n",
       "      <td>20070227140745</td>\n",
       "    </tr>\n",
       "    <tr>\n",
       "      <th>12</th>\n",
       "      <td>start</td>\n",
       "      <td>Ian Keith Harris</td>\n",
       "      <td>composers</td>\n",
       "      <td>{{orphan|date=January 2010}}\\n\\n[[Image:Ian.Ha...</td>\n",
       "      <td>20100118120602</td>\n",
       "    </tr>\n",
       "    <tr>\n",
       "      <th>13</th>\n",
       "      <td>c</td>\n",
       "      <td>Hajnal Ban</td>\n",
       "      <td>australia</td>\n",
       "      <td>{{Use dmy dates|date=May 2011}}\\n{{Use Austral...</td>\n",
       "      <td>20121024020410</td>\n",
       "    </tr>\n",
       "    <tr>\n",
       "      <th>14</th>\n",
       "      <td>b</td>\n",
       "      <td>Rudra</td>\n",
       "      <td>india</td>\n",
       "      <td>{{otheruses}}\\n\\n{{For|the later development o...</td>\n",
       "      <td>20081220061041</td>\n",
       "    </tr>\n",
       "    <tr>\n",
       "      <th>15</th>\n",
       "      <td>ga</td>\n",
       "      <td>John Woodland Hastings</td>\n",
       "      <td>articles for creation</td>\n",
       "      <td>=='''Woody Hastings'''==\\n\\n{{Infobox_Scientis...</td>\n",
       "      <td>20100711161213</td>\n",
       "    </tr>\n",
       "    <tr>\n",
       "      <th>16</th>\n",
       "      <td>c</td>\n",
       "      <td>Naukabout Music Festival</td>\n",
       "      <td>massachusetts</td>\n",
       "      <td>{{Infobox music festival\\n| music_festival_nam...</td>\n",
       "      <td>20101105194510</td>\n",
       "    </tr>\n",
       "    <tr>\n",
       "      <th>17</th>\n",
       "      <td>ga</td>\n",
       "      <td>Amanita nothofagi</td>\n",
       "      <td>new zealand</td>\n",
       "      <td>{{Good article}}\\n{{fixBunching|beg}}\\n{{Taxob...</td>\n",
       "      <td>20110215033013</td>\n",
       "    </tr>\n",
       "    <tr>\n",
       "      <th>18</th>\n",
       "      <td>b</td>\n",
       "      <td>Taoist sexual practices</td>\n",
       "      <td>taoism</td>\n",
       "      <td>&lt;div class=\"floatright\"&gt;[[Image:Heqi.JPG|300px...</td>\n",
       "      <td>20061218195633</td>\n",
       "    </tr>\n",
       "    <tr>\n",
       "      <th>19</th>\n",
       "      <td>stub</td>\n",
       "      <td>Margarete Steiff</td>\n",
       "      <td>toys</td>\n",
       "      <td>[[Image:Steiffmargarete.jpg|thumb|Margarete St...</td>\n",
       "      <td>20120510192213</td>\n",
       "    </tr>\n",
       "    <tr>\n",
       "      <th>20</th>\n",
       "      <td>start</td>\n",
       "      <td>Adikavi Pampa</td>\n",
       "      <td>jainism</td>\n",
       "      <td>'''Pampa''' ([[Kannada]]: ಪಂಪ) born in [[902]]...</td>\n",
       "      <td>20070811185553</td>\n",
       "    </tr>\n",
       "    <tr>\n",
       "      <th>21</th>\n",
       "      <td>ga</td>\n",
       "      <td>Walden–Wallkill Rail Trail</td>\n",
       "      <td>hikingproject</td>\n",
       "      <td>{{good article}}{{Coord|41.57434|-74.1811|form...</td>\n",
       "      <td>20110107063719</td>\n",
       "    </tr>\n",
       "    <tr>\n",
       "      <th>22</th>\n",
       "      <td>stub</td>\n",
       "      <td>Agis I</td>\n",
       "      <td>biography</td>\n",
       "      <td>'''Agis I''' was a son of [[Eurysthenes]], fou...</td>\n",
       "      <td>20060818170515</td>\n",
       "    </tr>\n",
       "    <tr>\n",
       "      <th>23</th>\n",
       "      <td>b</td>\n",
       "      <td>Glucocorticoid receptor</td>\n",
       "      <td>mcb</td>\n",
       "      <td>&lt;!-- The PBB_Controls template provides contro...</td>\n",
       "      <td>20080318041107</td>\n",
       "    </tr>\n",
       "    <tr>\n",
       "      <th>24</th>\n",
       "      <td>c</td>\n",
       "      <td>Martha Christina Tiahahu</td>\n",
       "      <td>indonesia</td>\n",
       "      <td>{{Infobox person\\n| honorific_prefix          ...</td>\n",
       "      <td>20111227102907</td>\n",
       "    </tr>\n",
       "    <tr>\n",
       "      <th>25</th>\n",
       "      <td>c</td>\n",
       "      <td>St Peter's Church, Barton-upon-Humber</td>\n",
       "      <td>anglicanism</td>\n",
       "      <td>{{Infobox church\\n| name                   = S...</td>\n",
       "      <td>20110815093201</td>\n",
       "    </tr>\n",
       "    <tr>\n",
       "      <th>26</th>\n",
       "      <td>b</td>\n",
       "      <td>Line 4 Sheppard</td>\n",
       "      <td>trainswikiproject</td>\n",
       "      <td>{{Toronto_Subway_Lines}}\\nThe '''Sheppard Line...</td>\n",
       "      <td>20061004191702</td>\n",
       "    </tr>\n",
       "    <tr>\n",
       "      <th>27</th>\n",
       "      <td>c</td>\n",
       "      <td>Dukes of Acerenza</td>\n",
       "      <td>spain</td>\n",
       "      <td>{{one source|date=March 2010}}\\n{{Cleanup|date...</td>\n",
       "      <td>20100331013935</td>\n",
       "    </tr>\n",
       "    <tr>\n",
       "      <th>28</th>\n",
       "      <td>c</td>\n",
       "      <td>Morgellons</td>\n",
       "      <td>med</td>\n",
       "      <td>{{Infobox Disease\\n | Name           = Morgell...</td>\n",
       "      <td>20110106222845</td>\n",
       "    </tr>\n",
       "    <tr>\n",
       "      <th>29</th>\n",
       "      <td>stub</td>\n",
       "      <td>Deh Tang</td>\n",
       "      <td>geography</td>\n",
       "      <td>{{Infobox settlement\\n|official_name =Deh Tang...</td>\n",
       "      <td>20121214015812</td>\n",
       "    </tr>\n",
       "    <tr>\n",
       "      <th>...</th>\n",
       "      <td>...</td>\n",
       "      <td>...</td>\n",
       "      <td>...</td>\n",
       "      <td>...</td>\n",
       "      <td>...</td>\n",
       "    </tr>\n",
       "    <tr>\n",
       "      <th>2970</th>\n",
       "      <td>start</td>\n",
       "      <td>Swords and Ploughshares Museum</td>\n",
       "      <td>museums</td>\n",
       "      <td>{{infobox museum\\n|name=            '''The Swo...</td>\n",
       "      <td>20120727190141</td>\n",
       "    </tr>\n",
       "    <tr>\n",
       "      <th>2971</th>\n",
       "      <td>b</td>\n",
       "      <td>Roosevelt Room</td>\n",
       "      <td>dc</td>\n",
       "      <td>[[Image:ClintonRooseveltRoom.jpg|right|thumb|3...</td>\n",
       "      <td>20080830182911</td>\n",
       "    </tr>\n",
       "    <tr>\n",
       "      <th>2972</th>\n",
       "      <td>start</td>\n",
       "      <td>Nicole-Reine Lepaute</td>\n",
       "      <td>ws</td>\n",
       "      <td>{{Refimprove|date=December 2009}}\\n{{Expand Fr...</td>\n",
       "      <td>20121103171545</td>\n",
       "    </tr>\n",
       "    <tr>\n",
       "      <th>2973</th>\n",
       "      <td>start</td>\n",
       "      <td>Princess Mafalda of Savoy</td>\n",
       "      <td>biography</td>\n",
       "      <td>&lt;!-- Unsourced image removed: [[Image:1902 Maf...</td>\n",
       "      <td>20080317075429</td>\n",
       "    </tr>\n",
       "    <tr>\n",
       "      <th>2974</th>\n",
       "      <td>c</td>\n",
       "      <td>Peter Gill (playwright)</td>\n",
       "      <td>theatre</td>\n",
       "      <td>'''Peter Gill''', theatre director, playwright...</td>\n",
       "      <td>20110809225910</td>\n",
       "    </tr>\n",
       "    <tr>\n",
       "      <th>2975</th>\n",
       "      <td>stub</td>\n",
       "      <td>The Old Corral</td>\n",
       "      <td>film</td>\n",
       "      <td>{{Infobox Film\\n| name           =The Old Corr...</td>\n",
       "      <td>20090729160934</td>\n",
       "    </tr>\n",
       "    <tr>\n",
       "      <th>2976</th>\n",
       "      <td>start</td>\n",
       "      <td>Eldad ha-Dani</td>\n",
       "      <td>jewish history</td>\n",
       "      <td>'''Eldad ha-Dani''' or '''Eldad HaDani''' or '...</td>\n",
       "      <td>20130206102709</td>\n",
       "    </tr>\n",
       "    <tr>\n",
       "      <th>2977</th>\n",
       "      <td>start</td>\n",
       "      <td>Roker Park</td>\n",
       "      <td>nee</td>\n",
       "      <td>{{for|the park of the same name|Roker Park (pa...</td>\n",
       "      <td>20090105002948</td>\n",
       "    </tr>\n",
       "    <tr>\n",
       "      <th>2978</th>\n",
       "      <td>ga</td>\n",
       "      <td>Perth</td>\n",
       "      <td>releaseversion</td>\n",
       "      <td>{{Infobox Australian Place | type = city\\n| na...</td>\n",
       "      <td>20070329105438</td>\n",
       "    </tr>\n",
       "    <tr>\n",
       "      <th>2979</th>\n",
       "      <td>b</td>\n",
       "      <td>Jane Haining</td>\n",
       "      <td>biography</td>\n",
       "      <td>'''Jane Haining''' was a [[Church of Scotland]...</td>\n",
       "      <td>20070803234935</td>\n",
       "    </tr>\n",
       "    <tr>\n",
       "      <th>2980</th>\n",
       "      <td>fa</td>\n",
       "      <td>Madeline Montalban</td>\n",
       "      <td>religion</td>\n",
       "      <td>{{featured article}}\\n{{Infobox person\\n| name...</td>\n",
       "      <td>20140729152442</td>\n",
       "    </tr>\n",
       "    <tr>\n",
       "      <th>2981</th>\n",
       "      <td>ga</td>\n",
       "      <td>Coandă-1910</td>\n",
       "      <td>aviation</td>\n",
       "      <td>{{Use British English|date=November 2010}}\\n{{...</td>\n",
       "      <td>20110210053803</td>\n",
       "    </tr>\n",
       "    <tr>\n",
       "      <th>2982</th>\n",
       "      <td>b</td>\n",
       "      <td>Lambeth Homilies</td>\n",
       "      <td>england</td>\n",
       "      <td>The '''Lambeth Homilies''' are a collection of...</td>\n",
       "      <td>20120911090242</td>\n",
       "    </tr>\n",
       "    <tr>\n",
       "      <th>2983</th>\n",
       "      <td>fa</td>\n",
       "      <td>Order of the Garter</td>\n",
       "      <td>v0.5</td>\n",
       "      <td>{{featured article}}\\n[[Image:garter.JPG|thumb...</td>\n",
       "      <td>20060722182153</td>\n",
       "    </tr>\n",
       "    <tr>\n",
       "      <th>2984</th>\n",
       "      <td>stub</td>\n",
       "      <td>Annick Thoumazeau</td>\n",
       "      <td>bio</td>\n",
       "      <td>'''Annick Thoumazeau''' (born in [[Fréjus]] in...</td>\n",
       "      <td>20131212160426</td>\n",
       "    </tr>\n",
       "    <tr>\n",
       "      <th>2985</th>\n",
       "      <td>start</td>\n",
       "      <td>Ferdinand von Richthofen</td>\n",
       "      <td>germany</td>\n",
       "      <td>{{Infobox Scientist\\n|name              = Ferd...</td>\n",
       "      <td>20100130005046</td>\n",
       "    </tr>\n",
       "    <tr>\n",
       "      <th>2986</th>\n",
       "      <td>ga</td>\n",
       "      <td>Spotlight (Madonna song)</td>\n",
       "      <td>songs</td>\n",
       "      <td>{{Infobox Single |\\n| Name           = Spotlig...</td>\n",
       "      <td>20100609063809</td>\n",
       "    </tr>\n",
       "    <tr>\n",
       "      <th>2987</th>\n",
       "      <td>start</td>\n",
       "      <td>Theodor Leutwein</td>\n",
       "      <td>biography</td>\n",
       "      <td>[[Image:Leutwein.png|right|thumb|350px|Theodor...</td>\n",
       "      <td>20080201230951</td>\n",
       "    </tr>\n",
       "    <tr>\n",
       "      <th>2988</th>\n",
       "      <td>c</td>\n",
       "      <td>Nutbourne Windmill</td>\n",
       "      <td>mills</td>\n",
       "      <td>{{Infobox Windmill\\n|name               = Nutb...</td>\n",
       "      <td>20090624212403</td>\n",
       "    </tr>\n",
       "    <tr>\n",
       "      <th>2989</th>\n",
       "      <td>start</td>\n",
       "      <td>SkyCable</td>\n",
       "      <td>philippines</td>\n",
       "      <td>{{Copyedit|date=December 2007}}\\n\\n{{Infobox C...</td>\n",
       "      <td>20071208151701</td>\n",
       "    </tr>\n",
       "    <tr>\n",
       "      <th>2990</th>\n",
       "      <td>fa</td>\n",
       "      <td>Howie Morenz</td>\n",
       "      <td>chicagowikiproject</td>\n",
       "      <td>{{Infobox Ice Hockey Player\\n| image= Morenz19...</td>\n",
       "      <td>20091028024300</td>\n",
       "    </tr>\n",
       "    <tr>\n",
       "      <th>2991</th>\n",
       "      <td>stub</td>\n",
       "      <td>Room Service (song)</td>\n",
       "      <td>rock</td>\n",
       "      <td>{{Infobox Single &lt;!-- See Wikipedia:WikiProjec...</td>\n",
       "      <td>20081019100604</td>\n",
       "    </tr>\n",
       "    <tr>\n",
       "      <th>2992</th>\n",
       "      <td>stub</td>\n",
       "      <td>Kataharamachi Station (Toyama)</td>\n",
       "      <td>japan</td>\n",
       "      <td>The {{nihongo|'''Katahara-machi Station'''|片原町...</td>\n",
       "      <td>20070921213823</td>\n",
       "    </tr>\n",
       "    <tr>\n",
       "      <th>2993</th>\n",
       "      <td>b</td>\n",
       "      <td>Gene Taylor (Mississippi politician)</td>\n",
       "      <td>mississippi</td>\n",
       "      <td>{{otheruses|Gene Taylor (disambiguation)}}\\n{{...</td>\n",
       "      <td>20090602075038</td>\n",
       "    </tr>\n",
       "    <tr>\n",
       "      <th>2994</th>\n",
       "      <td>fa</td>\n",
       "      <td>Hurricane Kate (1985)</td>\n",
       "      <td>hurricane</td>\n",
       "      <td>{{featured article}}\\n{{Infobox Hurricane\\n| n...</td>\n",
       "      <td>20140624175001</td>\n",
       "    </tr>\n",
       "    <tr>\n",
       "      <th>2995</th>\n",
       "      <td>fa</td>\n",
       "      <td>William Garrow</td>\n",
       "      <td>biography</td>\n",
       "      <td>{{Infobox Judge\\n|image =  Urn-3 HLS.LIBR 9699...</td>\n",
       "      <td>20100113041036</td>\n",
       "    </tr>\n",
       "    <tr>\n",
       "      <th>2996</th>\n",
       "      <td>c</td>\n",
       "      <td>Anuradhapura</td>\n",
       "      <td>sinhalese monarchy</td>\n",
       "      <td>{{About|the city in Sri Lanka|the administrati...</td>\n",
       "      <td>20140904100840</td>\n",
       "    </tr>\n",
       "    <tr>\n",
       "      <th>2997</th>\n",
       "      <td>b</td>\n",
       "      <td>Al Costello</td>\n",
       "      <td>pro-wrestling</td>\n",
       "      <td>{{Infobox Wrestler\\n|name=Giacamo Costa {{flag...</td>\n",
       "      <td>20070805202412</td>\n",
       "    </tr>\n",
       "    <tr>\n",
       "      <th>2998</th>\n",
       "      <td>c</td>\n",
       "      <td>Dreams Come True (CANT album)</td>\n",
       "      <td>album</td>\n",
       "      <td>{{Infobox album\\n| Name = Dreams Come True\\n| ...</td>\n",
       "      <td>20141125200616</td>\n",
       "    </tr>\n",
       "    <tr>\n",
       "      <th>2999</th>\n",
       "      <td>start</td>\n",
       "      <td>On Your Way, Riley</td>\n",
       "      <td>television</td>\n",
       "      <td>[[Image:murphy-lucan-riley.jpg|thumb|right|[[B...</td>\n",
       "      <td>20130608052638</td>\n",
       "    </tr>\n",
       "  </tbody>\n",
       "</table>\n",
       "<p>3000 rows × 5 columns</p>\n",
       "</div>"
      ],
      "text/plain": [
       "      label                             page_title                 project  \\\n",
       "0        fa                           Funerary art             visual arts   \n",
       "1        fa                Battle of Warsaw (1920)                  russia   \n",
       "2         c       Henry Digby (Royal Navy officer)               biography   \n",
       "3         c                       Ottawa Redblacks       canadian football   \n",
       "4         c                                Qimonda                 germany   \n",
       "5     start               Ocracoke, North Carolina  project north carolina   \n",
       "6         c                           Erik Wilhelm               biography   \n",
       "7      stub                               Kolibite                bulgaria   \n",
       "8         b                     Edouard Borovansky                  ballet   \n",
       "9      stub                       Jacek Wiśniewski                  poland   \n",
       "10       ga                                Ty Cobb    baseball-wikiproject   \n",
       "11        b                       Balian of Ibelin               biography   \n",
       "12    start                       Ian Keith Harris               composers   \n",
       "13        c                             Hajnal Ban               australia   \n",
       "14        b                                  Rudra                   india   \n",
       "15       ga                 John Woodland Hastings   articles for creation   \n",
       "16        c               Naukabout Music Festival           massachusetts   \n",
       "17       ga                      Amanita nothofagi             new zealand   \n",
       "18        b                Taoist sexual practices                  taoism   \n",
       "19     stub                       Margarete Steiff                    toys   \n",
       "20    start                          Adikavi Pampa                 jainism   \n",
       "21       ga             Walden–Wallkill Rail Trail           hikingproject   \n",
       "22     stub                                 Agis I               biography   \n",
       "23        b                Glucocorticoid receptor                     mcb   \n",
       "24        c               Martha Christina Tiahahu               indonesia   \n",
       "25        c  St Peter's Church, Barton-upon-Humber             anglicanism   \n",
       "26        b                        Line 4 Sheppard       trainswikiproject   \n",
       "27        c                      Dukes of Acerenza                   spain   \n",
       "28        c                             Morgellons                     med   \n",
       "29     stub                               Deh Tang               geography   \n",
       "...     ...                                    ...                     ...   \n",
       "2970  start         Swords and Ploughshares Museum                 museums   \n",
       "2971      b                         Roosevelt Room                      dc   \n",
       "2972  start                   Nicole-Reine Lepaute                      ws   \n",
       "2973  start              Princess Mafalda of Savoy               biography   \n",
       "2974      c                Peter Gill (playwright)                 theatre   \n",
       "2975   stub                         The Old Corral                    film   \n",
       "2976  start                          Eldad ha-Dani          jewish history   \n",
       "2977  start                             Roker Park                     nee   \n",
       "2978     ga                                  Perth          releaseversion   \n",
       "2979      b                           Jane Haining               biography   \n",
       "2980     fa                     Madeline Montalban                religion   \n",
       "2981     ga                            Coandă-1910                aviation   \n",
       "2982      b                       Lambeth Homilies                 england   \n",
       "2983     fa                    Order of the Garter                    v0.5   \n",
       "2984   stub                      Annick Thoumazeau                     bio   \n",
       "2985  start               Ferdinand von Richthofen                 germany   \n",
       "2986     ga               Spotlight (Madonna song)                   songs   \n",
       "2987  start                       Theodor Leutwein               biography   \n",
       "2988      c                     Nutbourne Windmill                   mills   \n",
       "2989  start                               SkyCable             philippines   \n",
       "2990     fa                           Howie Morenz      chicagowikiproject   \n",
       "2991   stub                    Room Service (song)                    rock   \n",
       "2992   stub         Kataharamachi Station (Toyama)                   japan   \n",
       "2993      b   Gene Taylor (Mississippi politician)             mississippi   \n",
       "2994     fa                  Hurricane Kate (1985)               hurricane   \n",
       "2995     fa                         William Garrow               biography   \n",
       "2996      c                           Anuradhapura      sinhalese monarchy   \n",
       "2997      b                            Al Costello           pro-wrestling   \n",
       "2998      c          Dreams Come True (CANT album)                   album   \n",
       "2999  start                     On Your Way, Riley              television   \n",
       "\n",
       "                                                   text       timestamp  \n",
       "0     [[Image:GD-FR-Paris-Louvre-Sculptures034.JPG|3...  20100504203659  \n",
       "1     {{Infobox Military Conflict\\n|conflict=Battle ...  20070111175847  \n",
       "2     {{Use British English|date=August 2011}}\\n{{Us...  20111205102850  \n",
       "3     {{Use mdy dates|date=May 2013}}\\n{{Infobox CFL...  20140513220942  \n",
       "4     {{Infobox_Company |\\n  company_name   = Qimond...  20090315202104  \n",
       "5     {{Infobox Settlement\\n|official_name          ...  20080911150022  \n",
       "6     {{construction}}\\n\\n{{Infobox NFL player\\n| im...  20141125183748  \n",
       "7     {{Infobox settlement \\n|official_name =Kolibit...  20120524063028  \n",
       "8     {{Infobox Person\\n| name   = Edouard Borovansk...  20110208153146  \n",
       "9     {{Football player infobox\\n| playername= Jacek...  20090105062145  \n",
       "10    {{Infobox baseball player \\n| name=Cobb, Tyrus...  20070301084412  \n",
       "11    [[Image:Balian of Ibelin seal.jpg|frame|Drawin...  20070227140745  \n",
       "12    {{orphan|date=January 2010}}\\n\\n[[Image:Ian.Ha...  20100118120602  \n",
       "13    {{Use dmy dates|date=May 2011}}\\n{{Use Austral...  20121024020410  \n",
       "14    {{otheruses}}\\n\\n{{For|the later development o...  20081220061041  \n",
       "15    =='''Woody Hastings'''==\\n\\n{{Infobox_Scientis...  20100711161213  \n",
       "16    {{Infobox music festival\\n| music_festival_nam...  20101105194510  \n",
       "17    {{Good article}}\\n{{fixBunching|beg}}\\n{{Taxob...  20110215033013  \n",
       "18    <div class=\"floatright\">[[Image:Heqi.JPG|300px...  20061218195633  \n",
       "19    [[Image:Steiffmargarete.jpg|thumb|Margarete St...  20120510192213  \n",
       "20    '''Pampa''' ([[Kannada]]: ಪಂಪ) born in [[902]]...  20070811185553  \n",
       "21    {{good article}}{{Coord|41.57434|-74.1811|form...  20110107063719  \n",
       "22    '''Agis I''' was a son of [[Eurysthenes]], fou...  20060818170515  \n",
       "23    <!-- The PBB_Controls template provides contro...  20080318041107  \n",
       "24    {{Infobox person\\n| honorific_prefix          ...  20111227102907  \n",
       "25    {{Infobox church\\n| name                   = S...  20110815093201  \n",
       "26    {{Toronto_Subway_Lines}}\\nThe '''Sheppard Line...  20061004191702  \n",
       "27    {{one source|date=March 2010}}\\n{{Cleanup|date...  20100331013935  \n",
       "28    {{Infobox Disease\\n | Name           = Morgell...  20110106222845  \n",
       "29    {{Infobox settlement\\n|official_name =Deh Tang...  20121214015812  \n",
       "...                                                 ...             ...  \n",
       "2970  {{infobox museum\\n|name=            '''The Swo...  20120727190141  \n",
       "2971  [[Image:ClintonRooseveltRoom.jpg|right|thumb|3...  20080830182911  \n",
       "2972  {{Refimprove|date=December 2009}}\\n{{Expand Fr...  20121103171545  \n",
       "2973  <!-- Unsourced image removed: [[Image:1902 Maf...  20080317075429  \n",
       "2974  '''Peter Gill''', theatre director, playwright...  20110809225910  \n",
       "2975  {{Infobox Film\\n| name           =The Old Corr...  20090729160934  \n",
       "2976  '''Eldad ha-Dani''' or '''Eldad HaDani''' or '...  20130206102709  \n",
       "2977  {{for|the park of the same name|Roker Park (pa...  20090105002948  \n",
       "2978  {{Infobox Australian Place | type = city\\n| na...  20070329105438  \n",
       "2979  '''Jane Haining''' was a [[Church of Scotland]...  20070803234935  \n",
       "2980  {{featured article}}\\n{{Infobox person\\n| name...  20140729152442  \n",
       "2981  {{Use British English|date=November 2010}}\\n{{...  20110210053803  \n",
       "2982  The '''Lambeth Homilies''' are a collection of...  20120911090242  \n",
       "2983  {{featured article}}\\n[[Image:garter.JPG|thumb...  20060722182153  \n",
       "2984  '''Annick Thoumazeau''' (born in [[Fréjus]] in...  20131212160426  \n",
       "2985  {{Infobox Scientist\\n|name              = Ferd...  20100130005046  \n",
       "2986  {{Infobox Single |\\n| Name           = Spotlig...  20100609063809  \n",
       "2987  [[Image:Leutwein.png|right|thumb|350px|Theodor...  20080201230951  \n",
       "2988  {{Infobox Windmill\\n|name               = Nutb...  20090624212403  \n",
       "2989  {{Copyedit|date=December 2007}}\\n\\n{{Infobox C...  20071208151701  \n",
       "2990  {{Infobox Ice Hockey Player\\n| image= Morenz19...  20091028024300  \n",
       "2991  {{Infobox Single <!-- See Wikipedia:WikiProjec...  20081019100604  \n",
       "2992  The {{nihongo|'''Katahara-machi Station'''|片原町...  20070921213823  \n",
       "2993  {{otheruses|Gene Taylor (disambiguation)}}\\n{{...  20090602075038  \n",
       "2994  {{featured article}}\\n{{Infobox Hurricane\\n| n...  20140624175001  \n",
       "2995  {{Infobox Judge\\n|image =  Urn-3 HLS.LIBR 9699...  20100113041036  \n",
       "2996  {{About|the city in Sri Lanka|the administrati...  20140904100840  \n",
       "2997  {{Infobox Wrestler\\n|name=Giacamo Costa {{flag...  20070805202412  \n",
       "2998  {{Infobox album\\n| Name = Dreams Come True\\n| ...  20141125200616  \n",
       "2999  [[Image:murphy-lucan-riley.jpg|thumb|right|[[B...  20130608052638  \n",
       "\n",
       "[3000 rows x 5 columns]"
      ]
     },
     "execution_count": 87,
     "metadata": {},
     "output_type": "execute_result"
    }
   ],
   "source": [
    "data1000"
   ]
  },
  {
   "cell_type": "code",
   "execution_count": 19,
   "metadata": {
    "ExecuteTime": {
     "end_time": "2018-08-19T22:22:00.281647Z",
     "start_time": "2018-08-19T22:22:00.240012Z"
    }
   },
   "outputs": [
    {
     "data": {
      "text/plain": [
       "['{{Infobox baseball player ',\n",
       " '| name=Cobb, Tyrus Raymond ',\n",
       " '| image name=TyCobb.jpg',\n",
       " '| birthdate=[[December 18]], [[1886]]',\n",
       " '| birthplace=[[Narrows, Georgia]]',\n",
       " '| dead=dead',\n",
       " '| deathdate=[[July 17]], [[1961]]',\n",
       " '| deathplace=[[Atlanta, Georgia]]',\n",
       " '| debutdate=[[August 30]], [[1905]]',\n",
       " '| debutteam=[[Detroit Tigers]]',\n",
       " '| debutopponent=[[New York Yankees|New York Highlanders]] ',\n",
       " '| debutstadium=[[Bennett Park]] ',\n",
       " \"| teams='''As Player'''<BR>\",\n",
       " '[[Detroit Tigers]] ([[1905 in sports|1905]] - [[1926 in sports|1926]])<BR>',\n",
       " \"[[Oakland Athletics|Philadelphia A's]] ([[1927 in sports|1927]] - [[1928 in sports|1928]])<BR>\",\n",
       " \"'''As Manager'''<BR>\",\n",
       " '[[Detroit Tigers]] ([[1921 in sports|1921]] - [[1926 in sports|1926]])<BR>',\n",
       " '| HOFer=HOFer',\n",
       " '| inductiondate=[[1936 in sports|1936]]',\n",
       " '| careerhighlights=<br>',\n",
       " ';All-Time Records:',\n",
       " '* Career batting average (.367)',\n",
       " '* Career steals of home (54)',\n",
       " '* Career batting titles (11)',\n",
       " ';Notable Achievements',\n",
       " '* Batted over .320 for 22 straight seasons',\n",
       " '* 4,189 Career hits (2nd only to Pete Rose)',\n",
       " '* Batted over .400 three times ([[1911 in sports|1911]], [[1912 in sports|1912]] & [[1922 in sports|1922]])',\n",
       " '* Won the [[Triple crown (baseball)|Triple Crown]] in [[1909 in sports|1909]]',\n",
       " '* One of the inaugural members of the Hall of Fame',\n",
       " '}}',\n",
       " '',\n",
       " '\\'\\'\\'Tyrus Raymond \"Ty\" Cobb\\'\\'\\' ([[December 18]], [[1886]] – [[July 17]], [[1961]]), nicknamed \\'\\'\\'\"The Georgia Peach\"\\'\\'\\',<ref name=HallofFameOdell>{{cite web |url=http://www.baseballhalloffame.org/history/2002/021218_cobb_ty.htm  |title=Curator\\'s Corner: One Man\\'s Tool of the Trade |accessdate=2007-01-30 |last=Odell |first=John B. |publisher=National Baseball Hall of Fame and Museum, Inc }}</ref> was a [[Baseball Hall of Fame|Hall of Fame]] [[Major League Baseball]] (MLB) player.  When he retired in 1928, he was the holder of ninety MLB records.<ref name=Zacharias>{{cite journal |quotes=(Abstract Only) |last=Zacharias |first=Patricia |title=Ty Cobb, the greatest Tiger of them all |publisher=[[The Detroit News]] |url=http://info.detnews.com/history/story/index.cfm?id=92&category=sports |accessdate=2007-02-26 }}</ref><ref name=JamesPeachJEI>{{cite journal |quotes=(Abstract Only) |last=Peach |first=James |year=2004 |month=June |title=Thorstein Veblen, Ty Cobb, and the evolution of an institution |journal=Journal of Economic Issues |volume= |issue= |pages= |id= |url=http://goliath.ecnext.com/coms2/summary_0199-514151_ITM |accessdate=2007-01-30 }}</ref>  Cobb also received the most votes of any player on the 1936 inaugural [[Baseball Hall of Fame balloting, 1936|Hall of Fame Ballot]].<ref name=HallofFameVote1936>{{cite web |url=http://www.baseballhalloffame.org/history/hof_voting/year/1936.htm|title=History of BBWAA Hall of Fame Voting:1936 Election |accessdate=2007-01-30 |publisher=National Baseball Hall of Fame and Museum, Inc }}</ref>',\n",
       " '',\n",
       " \"Cobb currently holds the records for highest MLB [[Batting average#All-time leaders|career]] [[batting average]] with .366<ref name=BaseballRefBatAvg>{{cite web |url=http://www.baseball-reference.com/leaders/BA_career.shtml |title=Career Leaders for Batting Average |accessdate=2007-01-30 |publisher=Sports Reference, Inc }}</ref> and most career [[List of Major League Baseball batting champions|batting titles]] with 11.<ref name=BaseballRefBattingTitles>{{cite web |url=http://www.baseball-reference.com/leaders/BA_leagues.shtml |title=Year-by-Year League Leaders for Batting Average |accessdate=2007-01-30 |publisher=Sports Reference, Inc }}</ref> Cobb also held for decades the record for most career major league [[Hit (baseball)|hits]] that was broken by [[Pete Rose]] (4,189, long believed to be 4,191)<ref name=BaseballRefCareerHits>{{cite web |url=http://www.baseball-reference.com/leaders/H_career.shtml |title=Career Leaders for Hits |accessdate=2007-01-30 |publisher=Sports Reference, Inc }}</ref><ref name=OReilly>{{cite web | last =O'Reilly | first=Charles |date=[[October 6]], [[2001]] | url=http://mysite.verizon.net/charliesballparks/stadiums/royston.htm |title=Hometown Tribute to the Georgia Peach |accessdate=2007-01-30 }}</ref>, and the most career [[stolen base]]s with 892, later broken by [[Lou Brock]] and [[Rickey Henderson]].<ref name=BaseballRefCareerSB>{{cite web |url=http://www.baseball-reference.com/leaders/SB_career.shtml |title=Career Leaders for Stolen Bases |accessdate=2007-01-30 |publisher=Sports Reference, Inc }}</ref>\",\n",
       " '',\n",
       " 'The greatest of stars during his playing prime, Cobb\\'s legacy as an athlete has sometimes been overshadowed by his surly temperament, passionate racism<ref name=Boyle>{{cite book |last=Boyle |first=Kevin |title=Arc of Justice: A Saga of Race, Civil Rights, and Murder in the Jazz Age |origyear=2004 |publisher=Henry Holt and Company |location=New York |isbn=0-8050-7933-5 |pages=122 }}</ref> and aggressive reputation,<ref name=ESPNPage2>{{cite web | url=http://espn.go.com/page2/s/list/readers/dirtiest/players.html |title=Page 2 mailbag - Readers: Dirtiest pro players|accessdate=2007-01-30 |publisher=ESPN Internet Ventures }}</ref> which was described by the [[Detroit Free Press]] as \"daring to the point of dementia.\"<ref name=NGECobb>{{cite web |url=http://www.georgiaencyclopedia.org/nge/Article.jsp?id=h-733 |title=Ty Cobb (1886-1961) |accessdate=2007-01-30 |last=Hill |first=John Paul |date=[[November 18]], [[2002]] |publisher= [[New Georgia Encyclopedia]] }}</ref>',\n",
       " '',\n",
       " '==Early life and baseball career==',\n",
       " 'Ty Cobb was born in [[Narrows, Georgia|Narrows]], [[Georgia (U.S. state)|Georgia]], in 1886 as the first of three children to Amanda Chitwood Cobb and William Herschel Cobb.',\n",
       " '',\n",
       " 'Ty spent his first years in baseball as a member of the Royston Rompers, the [[semi-professional]] Royston Red, and the Augusta Tourists of the [[South Atlantic League|Sally League]].  However, the Tourists cut Cobb two days into the season. He then went to try out for the Anniston Steelers of the semi-pro Tennessee-Alabama League, with his father\\'s stern admonition still ringing in his ears: \"Don\\'t come home a failure\".<ref name=Kanfer>{{cite web |last=Kanfer|first=Stefan| url=http://www.time.com/time/magazine/article/0,9171,1050490-1,00.html |title=Failures Can\\'t Come Home |date=[[April 18]], [[2005]] |publisher=Time |accessdate=2007-02-26 }}</ref> Cobb promoted himself by sending several postcards to [[Grantland Rice]], the sports editor of the \\'\\'[[The Atlanta Journal-Constitution|Atlanta Journal]]\\'\\' under several different aliases. Eventually, Rice wrote a small note in the \\'\\'Journal\\'\\' that a \"young fellow named Cobb seems to be showing an unusual lot of talent.\"<ref name=KossuthMinors>{{cite web |last=Kossuth |first=James | url=http://wso.williams.edu/~jkossuth/cobb/minors.htm |title=Ty Cobb: The Minors |accessdate=2007-01-30 }}</ref>  After about three months, Ty returned to the Tourists.  He finished the season hitting .237 in 35 games.  ',\n",
       " '',\n",
       " \"In 1905, the Tourists' management sold Cobb to the [[American League]]'s [[Detroit Tigers]] for a sum between [[United States Dollar|US$]]500 and $750.<ref name=NYTObit>{{cite news |title=Ty Cobb, Baseball Great, Dies; Still Held 16 Big League Marks |publisher= [[New York Times]]|pages=1,21 |date=[[July 18]], [[1961]] }} </ref><ref name=NYTWoolf>{{cite news |first=S. J. |last=Woolf |title=Tyrus Cobb -- Then and Now; Once the scrappiest, wiliest figure in baseball, 'The Georgia Peach' views the game as played today with mellow disdain |publisher= [[New York Times]]|page=Page SM17 (Magazine section) |date=[[September 19]], [[1948]] }} </ref><ref name=BaseballRefCobbCareerStats>{{cite web |url=http://www.baseball-reference.com/c/cobbty01.shtml |title=Ty Cobb Career Statistics|accessdate=2007-01-30 |publisher=Sports Reference, Inc }}</ref>  On [[August 8]], [[1905]], Ty's father was shot to death by Ty's mother. William Cobb suspected his wife of infidelity, and was sneaking past his own bedroom window to catch her in the act. She only saw the [[silhouette]] of what she presumed to be an intruder, and, acting in self-defense, shot and killed her husband.<ref name=Kanfer/> Mrs. Cobb was charged with murder and then released on a $10,000 [[recognizance]] [[bail|bond]].<ref name=AmandCobbBond>{{cite court |litigants=State of Georgia vs. Amanda Cobb (bond hearing)  |vol=vol2 |reporter=1281p.478 |opinion=9 |court=Franklin County, Georgia, Superior Court |date= [[September 29]], [[1905]] |url=http://content.sos.state.ga.us/u?/adhoc,53}}</ref> She was [[acquittal|acquitted]] on [[March 31]], [[1906]].<ref name=AmandCobbVerdict>{{cite court |litigants=State of Georgia vs. Amanda Cobb (murder trial verdict) |vol=vol2 |reporter=1282p040 |opinion=1 |court=Franklin County, Georgia, Superior Court |date= [[March 31]], [[1906]] |url=http://content.sos.state.ga.us/u?/adhoc,54}}</ref>\",\n",
       " '',\n",
       " '==Major League career==',\n",
       " '===Early years===',\n",
       " '[[Image:Cobbsign.jpg|right|thumb|200px|Cobb signs a $5000 contract for 1908 after a bitter holdout.]]',\n",
       " \"Three weeks after his mother killed his father, Cobb played [[Center fielder|center field]] for the Detroit Tigers.  On [[August 30]], [[1905]], in his first major league at-bat, Cobb [[Double (baseball)|doubled]] off the [[New York Yankees|New York Highlanders]]'s [[Jack Chesbro]].  That season, Cobb managed to bat only [[Batting average|.240]] in [[Major League Baseball season|41 games]].  Nevertheless, he showed enough promise as a [[rookie]] for the Tigers to give him a lucrative $1,800 contract for 1906.<ref name=NYTWoolf/>\",\n",
       " '',\n",
       " 'Although rookie [[hazing]] was customary, Cobb could not endure it in good humor, and he soon became alienated from his teammates. He later attributed his hostile temperament to this experience: \"These old-timers turned me into a snarling wildcat.\"<ref name=NGECobb/>',\n",
       " '',\n",
       " \"The following year ([[1906 in sports|1906]]) he became the Tigers' [[Starting lineup|full-time]] center fielder and hit .316 in 98 games.  He would never hit below that mark again.<ref name=BaseballRefCobbCareerStats/> Cobb, firmly entrenched in center field, led the Tigers to three consecutive [[American League pennant winners 1901-68|American League Pennants]] from 1907 to 1909.  Detroit would lose each [[World Series]], however, with Cobb's [[World Series|post-season]] numbers being much below his career standard.\",\n",
       " '',\n",
       " \"In one notable game on [[September 2]], [[1907]], Cobb reached [[First baseman|first]], [[Stolen base|stole]] [[Second baseman|second]], stole [[Third baseman|third]], and then stole [[Baseball field#home_plate|home]] on consecutive attempts.<ref name=stolenbases>{{cite web | url=http://www.thebaseballpage.com/lists/SB_cycle.php |title=Stoled Second, Third and Home in the Same Game |accessdate=2007-02-26 |publisher=thebaseballpage.com}}</ref>  He finished that season with a league high .350 batting average and also led the league with 212 hits,  and 119 [[Run batted in|Runs batted in]] (RBI).<ref name=BaseballRefCobbCareerStats/> At age 20, Cobb became the youngest player to win a [[List of Major League Baseball batting champions|batting championship]] and held this record until 1955 when fellow Detroit Tiger [[Al Kaline]] won the batting title when he was one day younger than Cobb.<ref name=BaseballPageKaline>{{cite web | url=http://www.thebaseballpage.com/players/kalinal01.php |title=Al Kaline |accessdate=2007-02-27 |publisher=thebaseballpage.com}}</ref> Despite great success on the field, Cobb was no stranger to controversy off it. At [[spring training]] in 1907, he fought a black groundskeeper over the condition of the Tigers' field in [[Augusta, Georgia]]. Ty also ended up choking the man's wife when she intervened.<ref name=ESPNSchwartz>{{cite web |last=Schwartz|first=Larry | url=http://espn.go.com/sportscentury/features/00014142.html |title=He was a pain ... but a great pain |accessdate=2007-01-30 |publisher=ESPN Internet Ventures}}</ref>\",\n",
       " '{{Quote box|',\n",
       " 'width=48%',\n",
       " '|align=right',\n",
       " '|quote=I always find that a drink of Coca-Cola between the games refreshes me to such an extent that I can start the second game feeling as if I had not been exercising at all, in spite of my exertions in the first.',\n",
       " \"|source=Ty Cobb, <br>1907 ''[[Coca-Cola]]'' newspaper ad <ref name=HallofFameCoke>{{cite web |url=http://www.baseballhalloffame.org/history/2002/021218_cobb_ty.htm  |title=Ty Cobb Sold Me a Soda Pop: Hall of Fame Outfielder Ty Cobb and Coca-Cola |accessdate=2007-01-30 |last=Holmes |first=Dan |publisher=National Baseball Hall of Fame and Museum, Inc }}</ref>\",\n",
       " '|}}',\n",
       " 'In September 1907, Cobb began a relationship with [[The Coca-Cola Company]] that would last the remainder of his life.  By the time he died, he owned three [[Bottling company|bottling plants]], in [[Santa Maria, California|Santa Maria]], [[California]]; [[Twin Falls, Idaho|Twin Falls]], [[Idaho]]; and [[Bend, Oregon|Bend]], [[Oregon]]; and owned over 20,000 [[Share (finance)|shares of stock]].<ref name=HallofFameCoke/>  He was also a celebrity spokesman for the product.<ref name=HallofFameCoke/>',\n",
       " '',\n",
       " 'The following season, the Tigers bested the [[Chicago White Sox]] for the American League pennant.  Cobb again won the batting title, although he hit \"only\" .324 that year.  Despite another loss in the Series, Cobb had something to celebrate.  In August 1908, he married Charlotte \"Charlie\" Marion Lombard, the daughter of prominent [[Augusta, Georgia|Augustan]] Roswell Lombard. In the offseason, Cobb and his wife lived in his father-in-law\\'s Augusta estate, \\'\\'The Oaks\\'\\'. In November of 1913, the couple moved into their own house on Williams Street.<ref name=Price1996>{{cite web |url=http://chronicle.augusta.com/history/cobb.html |title=Aggressive play defined Ty Cobb  |accessdate=2007-02-07 |last=Price |first=Ed |authorlink= |coauthors= |date=[[June 21]], [[1996]] |publisher= [[The Augusta Chronicle]] }}</ref>',\n",
       " '',\n",
       " \"[[Image:Cobbstealing3rd.jpg|left|thumb|200px|[[Charles M. Conlon|Conlon]]'s famous picture of Cobb stealing third during the 1909 season.]]\",\n",
       " 'The Tigers won the American League pennant again in [[1909 in sports|1909]].  During the Series Cobb stole home in the second game, igniting a three-run rally, but that was the high point for Cobb.  He ended batting a lowly .231 in his last World Series, as the Tigers lost in seven games.  Although he performed poorly in the post-season, Cobb won the regular-season [[Triple crown (baseball)|Triple Crown]] by hitting .377 with 107 RBI and nine [[home run]]s - all [[inside-the-park home run|inside-the-park]].  Cobb thus became the only player of the modern era to lead his league in home runs in a given season without hitting a ball [[home run|over the fence]].',\n",
       " '',\n",
       " \"It was also in 1909 that [[Charles M. Conlon]] snapped his famous photograph of a grimacing Ty Cobb sliding into third base amid a cloud of dirt, which visually captured the grit and ferocity of Cobb's playing style.<ref name=conlon>{{cite web|url=http://www.sportingnews.com/archives/conlon/cobb/photo2.html |title=Ty Cobb |publisher=Times Mirror Co.|year=1998 |accessdate=2007-02-25}}</ref>\",\n",
       " '',\n",
       " '===1910 and the Chalmers Award controversy===',\n",
       " 'In [[1910 in sports|1910]], Cobb and [[Nap Lajoie]] were in competition for the American League batting title.  Cobb was ahead by a slight margin going into the last day of the season.  The prize for the winner of the title was a [[Chalmers Automobile]].  Cobb sat out the game to preserve his average.  Lajoie, whose team was playing the [[Baltimore Orioles|St. Louis Browns]], notched eight hits in a [[Doubleheader (baseball)|doubleheader]].  Six of those hits were [[Bunt (baseball)|bunt]] [[Single (baseball)|singles]] that fell in front of the third baseman.  It turned out that Browns manager, [[Jack O\\'Connor (catcher)|Jack O\\'Connor]], had ordered [[third baseman]] [[Red Corriden]] to play deep, on the outfield grass, so as to allow the popular Lajoie to win the title.  A seventh hit is credited despite a [[Error (baseball)|wild throw]] to [[first baseman|first base]].  The [[St. Louis Post-Dispatch|St. Louis Post]] was one of numerous newspapers to criticize the [[shenanigan]]s, writing, \"All St. Louis is up in arms over the deplorable spectacle, conceived in stupidity and executed in jealousy.\"<ref name=BaseballLibraryTyCobb>{{cite web |url=http://www.baseballlibrary.com/baseballlibrary/ballplayers/C/Cobb_Ty.stm  |title=Ty Cobb |accessdate=2007-01-30 |publisher=BaseballLibrary.com}}</ref> <!-- This quote is at the bottom of the cited article in the section entitled \"From the Baseball Chronology\" for Oct 9, 1910 -->',\n",
       " '',\n",
       " '[[Image:CobbLajoie.jpg|frame|right|Cobb and [[Nap Lajoie|Napoleon \"Nap\" Lajoie]]]]',\n",
       " 'After some wrangling, American League president [[Ban Johnson]] declared all batting averages official, with Cobb seemingly hanging on to win, .3850687 to .3840947.<ref name=BaseballLibraryTyCobb/><ref name=BaseballLibraryNapLajoie>{{cite web |url=http://www.baseballlibrary.com/baseballlibrary/ballplayers/L/Lajoie_Nap.stm  |title=Nap Lajoie|accessdate=2007-02-26 |publisher=BaseballLibrary.com}}</ref>  With the Browns deliberately helping an opponent to surpass a total which was unknowingly inaccurate, the ensuing mathematical mess was described by one writer, \"It could be said that 1910 produced two bogus leading batting averages, and one questionable champion.\"<ref name=BasbellDigestVass>{{cite journal |last=Vass |first=George |year=2005 |month=June |title=Baseball records: fact or fiction: some of the game\\'s historic marks may be inaccurate, but they continue to be a driving force in the popularity of statistics among fans |journal=Baseball Digest |volume= |issue= |pages= |id= |url=http://www.findarticles.com/p/articles/mi_m0FCI/is_4_64/ai_n13684071 |accessdate=2007-01-30 }}</ref> The Chalmers people, however, decided to award an automobile to both Cobb and Lajoie.<ref name=BaseballLibraryNapLajoie/>  The next year, the Chalmers Award was given to the player \"most valuable\" to his team, and the modern [[Major League Baseball Most Valuable Player Award |Most Valuable Player Award]] was born, with Cobb winning the American League version unanimously.',\n",
       " '',\n",
       " \"Muddying the waters further, it is the 1910 season which accounts for the statistical discrepancy in Cobb's career hit total, which was long reported as 4,191.  A Detroit Tigers [[box score ]]was mistakenly counted twice in the season-ending calculations, thus giving Cobb an additional two hits in three [[at bat]]s.  Beyond awarding him two nonexistent hits, it also raised Cobb's 1910 batting average from .383 to .385. Lajoie is credited with a .384 average for the 1910 season, and thus the downwardly revised figure would also cost Cobb one of his 12 batting titles.\",\n",
       " '',\n",
       " 'On [[April 11]], [[1981]], the office of baseball commissioner [[Bowie Kuhn]] released a three-page statement in which the Official Baseball Records Committee \"reaffirmed several important records and statistics, including the 1910 batting championship of Ty Cobb\".<ref name=NYTOnefortheBook>{{cite news |title=Sports World Specials: One for the Book |publisher= [[New York Times]]|page=C2 (Final Edition) |work=Sports Desk |date=[[April 13]], [[1981]] }},</ref>. Kuhn\\'s office futher explained that the reasoning behind reaffirming the record was for several reasons: Al President Ban Johnson had already ruled on the matter in 1910 in Cobb\\'s favor; the events were over 70 seasons ago and there should be some statute of limitations; and the Cobb-Lajoie statistics should not be changed without a thorough review of all statistics of that time and such a review would be impractical.<ref name=NYTOnefortheBook/> However, the game\\'s statisticians have ignored  the commissioner\\'s stance.<ref name=BaseballRefCobbCareerStats/><ref name=BaseballAlmanacCobbCareerStats>{{cite web |url=http://www.baseball-almanac.com/players/player.php?p=cobbty01|title=Ty Cobb Stats |accessdate=2007-02-27 |publisher=Baseball Almanac}}</ref><ref name=ESPNCobbCareerStats>{{cite web |url=http://sports.espn.go.com/mlbhist/alltime/playercard?playerId=2522 |title=Ty Cobb |accessdate=2007-02-27 |publisher=[[ESPN]]}}</ref>',\n",
       " '',\n",
       " '===1911 Season and onward===',\n",
       " '[[Image:Cobb Jackson.jpg|250px|thumb|right|Ty Cobb and Joe Jackson in Cleveland]]',\n",
       " 'Cobb was regarded not just as an athlete, but a psychological competitor. Cobb was having a typically fine year in [[1911 in sports|1911]], which included a 40-game [[hitting streak]]. Still, [[Shoeless Joe Jackson|”Shoeless” Joe Jackson]] had a .009 point lead on him in batting average. What happened next is discussed in Cobb\\'s autobiography. Near the end of the season, Cobb’s Tigers had a long series against Jackson and the [[Cleveland Indians|Cleveland Naps]]. Fellow Southerners, Cobb and Jackson were personally friendly both on and off the field. Cobb used that friendliness for his gain. However, Cobb suddenly ignored Jackson whenever Jackson said anything to him. When Jackson persisted, Cobb snapped angrily at Jackson, making him wonder what he could have done to enrage Cobb. As soon as the series was over, Cobb unexpectedly greeted Jackson and wished him well. Cobb felt that it was these mind games that caused Jackson to \"fall off\" to a final average of .408, while Cobb himself finished with a .420 average.<ref name=BaseballLibraryTyCobb/>',\n",
       " '',\n",
       " '{{Quote box|',\n",
       " 'width=40%',\n",
       " '|align=left',\n",
       " '|quote=I often tried plays that looked recklessly daring, maybe even silly. But I never tried anything foolish when a game was at stake, only when we were far ahead or far behind. I did it to study how the other team reacted, filing away in my mind any observations for future use.',\n",
       " '|source=Ty Cobb,<br>[[New York Times]] <ref name=NYTDaleyTribute>{{cite news |first=Arthur |last=Daley |authorlink= |coauthors= |title=Sports of The Times: In Belated Tribute |url= |page=32 (food fashions family furnishings section) |publisher=[[New York Times]] |date=[[August 15]], [[1961]] }} </ref>',\n",
       " '|}}',\n",
       " '',\n",
       " \"Cobb led the AL in numerous categories besides batting average, including 248 hits, 147 runs scored, 127 RBI, 83 stolen bases, 47 doubles, 24 triples, and a .621 slugging average. The only major offensive category in which Cobb did not finish first was home runs, where [[Frank Baker]] surpassed him 11-8. Cobb's dominance at the plate is suggested by this statistic: he [[Strikeout|struck out]] [[Baseball#Batting|swinging]] only twice during the entire 1911 season.<ref name=BaseballRefCobbCareerStats/> He was awarded another Chalmers, this time for being voted the AL MVP by the [[Baseball Writers Association of America]].\",\n",
       " '',\n",
       " \"The game that may best illustrate Cobb's unique combination of skills and attributes occurred on [[May 12]], [[1911]]. Playing against the [[New York Yankees]], Cobb scored a run from first base on a single to [[Right fielder|right field]], then scored another run from second base on a [[wild pitch]]. In the 7th [[innings|inning]], he tied the game with a 2-run double. The Yankee [[catcher]] began vociferously arguing the call with the [[Umpire (baseball)|umpire]], going on at such length that the other Yankee [[infielder]]s gathered nearby to watch. Realizing that no one on the Yankees had [[Time-out (sport)|called time]], Cobb strolled unobserved to third base, and then casually walked towards home plate as if to get a better view of the argument. He then suddenly slid into home plate for the game's winning run.<ref name=BaseballLibraryTyCobb/>\",\n",
       " '',\n",
       " 'On [[May 15]], [[1912]], Cobb assaulted Claude Lueker, a [[heckler]], in the stands in New York. Lueker and Cobb traded insults with each other throughout the first three innings, and the situation climaxed when Lueker called Cobb a \"half-[[nigger]].\" Cobb then climbed into the stands and attacked the handicapped Lueker, who due to an industrial accident had lost all of one hand and three fingers on his other hand. When onlookers shouted at Cobb to stop because the man had no hands, Cobb reportedly replied, \"I don\\'t care if he has no feet!\"<ref name=Kanfer/> The league suspended him, and his teammates, though not fond of Cobb, went on [[strike action|strike]] to protest the suspension prior to the [[May 18]], [[1912]], game in Philadelphia. For that one game, Detroit fielded a replacement team made up of college and sandlot ballplayers, plus two Detroit coaches, and lost, 24-2. Some of major league baseball\\'s all-time negative records were established in this game, notably the 26 hits allowed by [[Allan Travers]], who pitched the sport\\'s most unlikely [[complete game]]. The strike ended when Cobb urged his teammates to return to the field.<ref name=KossuthPartIII>{{cite web |last=Kossuth |first=James | url=http://wso.williams.edu/~jkossuth/cobb/race.htm |title=How Cobb Got Along With Others: Part 3: Ty and Those Outside Baseball |accessdate=2007-01-30}}</ref> ',\n",
       " '',\n",
       " 'During Cobb\\'s career he was involved in numerous fights, both on and off the field, and several profanity-laced shouting matches.  For example, Cobb and umpire [[Billy Evans]] arranged to settle their in-game differences with a fistfight, to be conducted under the grandstand after the game.  Members of both teams served as the spectators, and broke up the scuffle after Cobb had knocked Evans down, pinned him, and began choking him.  Cobb once slapped a black elevator operator for being \"uppity.\" When a black night watchman intervened, Cobb pulled out a knife and stabbed him (The matter was later settled out of court).\"<ref name=NGECobb/>',\n",
       " '',\n",
       " '===1915-1921===',\n",
       " '[[Image:Cobbruth.jpg|frame|left|Babe Ruth (left) and Ty Cobb]]',\n",
       " 'In 1915, Cobb set the single season steals record when he stole 96 bases.  That record stood until [[Maury Wills]] broke it in 1962.<ref name=BaseballRefSeasonSB>{{cite web |url=http://www.baseball-reference.com/leaders/SB_season.shtml |title=Single-Season Leaders for Stolen Bases |accessdate=2007-02-07 |publisher=Sports Reference, Inc }}</ref>  Cobb’s streak of five batting titles (believed at the time to be nine straight<ref name=BasbellDigestVass/>) ended the following year when he finished second with .371 to [[Tris Speaker]]’s .386.<ref name=BaseballRefBattingTitles/>',\n",
       " '',\n",
       " \"In 1917, Cobb hit in 35 consecutive games, and he remains the only player with two 35-game [[hitting streak]]s to his credit (Cobb had a 40-game hitting streak in 1911).<ref name=BaseballRefLongHitStreaks>{{cite web |url=http://www.baseball-reference.com/bullpen/Longest_Hitting_Streaks |title=Longest Hitting Streaks |accessdate=2007-02-07 |publisher=Sports Reference, Inc }}</ref>  Over his career, Cobb had six hitting streaks of at least 20 games, second only to [[Pete Rose]]'s seven.<ref name=BaseballPageRose>{{cite web |url=http://www.thebaseballpage.com/players/rosepe01.php |title=Player Pages: Pete Rose |accessdate=2007-02-07}}</ref> <!-- This reference says Rose had eight hitting streaks of 20 or more consecutive hits, not 7 -->\",\n",
       " '',\n",
       " 'Also in 1917, Cobb starred in the motion picture \\'\\'[[Somewhere in Georgia]]. \\'\\' Based on a story by sports columnist Grantland Rice, the film casts Cobb as \"himself\", a small-town Georgian bank clerk with a talent for baseball.<ref name=IMDB>{{cite web |url=http://www.imdb.com/title/tt0158971/ |title=Somewhere in Georgia |publisher=[[Internet Movie Database]] |accessdate=2007-02-07 }} </ref>',\n",
       " '',\n",
       " 'By [[1920 in baseball|1920]], [[Babe Ruth]] had established himself as a power hitter, something Cobb was not considered.  When Cobb and the Tigers showed up in New York to play the Yankees for the first time that season, writers billed it as a showdown between two stars of competing styles of play.  Ruth hit two homers and a triple during the series while Cobb got only one single in the entire series.',\n",
       " '',\n",
       " \"As Ruth's popularity grew, Cobb became increasingly hostile toward him.  Cobb saw Ruth not only as a threat to his style of play, but also to his style of life.  While Cobb preached ascetic self-denial, Ruth gorged on hot dogs, beer, and women.<ref name=Nation05082006>{{cite web |url=http://www.thenation.com/doc/20060522/zirin |last=Zirin |first=Dave |title=Bonding With the Babe |publisher=[[The Nation]] |date=[[May 8]], [[2006]] |accessdate=2007-03-01 }} </ref><ref name=MF112006>{{cite web |url=http://www.findarticles.com/p/articles/mi_m1608/is_9_20/ai_n6244977 |last=Kalish|first=Jacob |title=Fat phenoms: are hot dogs and beer part of your training regimen? Maybe they should be |publisher=[[Men's Fitness]] |month=October |year= 2004 |accessdate=2007-03-01 }} </ref><ref name=SPTimes>{{cite web |url=http://www.sptimes.com/2004/03/21/Floridian/Thanks__Babe.shtml |last=Klinkenberg |first=Jeff |title=Thanks, Babe |publisher=[[St. Petersburg Times]] |date= [[March 24]], [[2004]] |accessdate=2007-03-01 }} </ref> In spite of Ruth's total disregard for his physical condition and traditional baseball, he was still an overwhelming success and brought fans to the ballparks in record numbers to see him set his own records.\",\n",
       " '',\n",
       " 'After enduring several years of seeing his fame and notoriety usurped by Ruth, Cobb decided that he was going to show that swinging for the fences was no challenge for a top hitter.  On [[May 5]], [[1925]], Cobb began a two-game hitting spree better than any even Ruth had unleashed.  He was sitting in the [[Dugout (baseball)|dugout]] talking to a reporter and told him that, for the first time in his career, he was going to [[home run|swing for the fences]].  That day, Cobb went 6 for 6, with two singles, a double, and three home runs.<ref name=BaseballLibMay1925>{{cite web |url=http://www.baseballlibrary.com/baseballlibrary/chronology/1925MAY.stm |title=May 1925 |accessdate=2007-02-08 |publisher=Baseballlibrary.com}}</ref>  His 16 total bases set a new AL record.<ref name=BaseballLibMay1925/>  The next day he had three more hits, two of which were home runs.<ref name=BaseballLibMay1925/>  His single his first time up gave him 9 consecutive hits over three games.<ref name=BaseballLibMay1925/>  His five homers in two games tied the record set by [[Cap Anson]] of the old Chicago NL team in 1884.<ref name=BaseballLibMay1925/> Cobb wanted to show that he could hit home runs when he wanted, but simply chose not to do so.  At the end of the series, 38-year-old Cobb had gone 12 for 19 with 29 total bases, and then went happily back to bunting and hitting-and-running.  Ruth stated, \"I could have had a lifetime .600 average, but I would have had to hit them singles. The people were paying to see me hit home runs.\"<ref name=BaseballLibFrommer>{{cite web |last=Frommer |first=Harvey |date=[[July 13]], [[2004]]  |url=http://www.baseballlibrary.com/baseballlibrary/chronology/1925MAY.stm |title=The 90th Anniversary of Babe Ruth\\'s Major-League Debut  |accessdate=2007-02-10 |publisher=Baseballlibrary.com}}</ref> ',\n",
       " '',\n",
       " 'On [[August 19]], [[1921]], in the second game of a double header against [[Elmer Myers]] of the [[Boston Red Sox]], Cobb collected his 3,000th hit. Cobb still holds the distinction as of 2007 of being the youngest ballplayer, only 34, and the player with the fewest at-bats, 8,093, to reach the milestone.<ref name=SportingNews08061999>{{cite web |url=http://www.baseballhalloffame.org/exhibits/online_exhibits/3000_hit_club/cobb_ty.htm |title=The 3000 Hit Club: Ty Cobb |accessdate=2007-02-10 |publisher=National Baseball Hall of Fame and Museum, Inc }}</ref><ref name=HallofFameCobb3000>{{cite web |url=http://www.sportingnews.com/archives/sports2000/numbers/172730.html |date=[[August 6]], [[1999]] |title=Inside the numbers: 3,000 hits |accessdate=2007-02-10 |publisher=[[Sporting News]] }}</ref>',\n",
       " '',\n",
       " '===Cobb as player/manager===',\n",
       " '[[Frank Navin]], the Detroit Tigers owner, signed Cobb to take over for [[Hughie Jennings]] as manager for the [[1921 in sports|1921]] season.  Cobb signed the deal on his 34th birthday for $32,500.  Even though he was recognized as one of baseball\\'s legends, his fellow players were not fond of him.<ref name=OReilly/> As a coach, Cobb had high expectations for his team and felt most of his players fell below that standard.<ref name=ngeorgiacobb>{{cite web |url=http://ngeorgia.com/people/cobbt.html |title=Tyrus Raymond \"Ty\" Cobb: a North Georgia Notable |publisher=About North Georgia |accessdate=2007-02-27 }}</ref>',\n",
       " '',\n",
       " 'The closest he came to winning the pennant race was in [[1924 in sports|1924]] when the Tigers finished in third place, six games behind the pennant-winning [[Minnesota Twins|Washington Senators]].  The Tigers had finished second in [[1922 in sports|1922]] but were 16 games behind the Yankees.',\n",
       " '',\n",
       " 'Cobb blamed his lackluster managerial record (479 wins-444 losses) on the frugal Navin, who had passed up a number of quality players that Cobb wanted to add to the team.  In fact, Navin had saved money by hiring Cobb to manage the team.',\n",
       " '',\n",
       " 'Also in 1922, Cobb tied a batting record set by [[Willie Keeler|Wee Willie Keeler]], with four five-hit games.  This has since been matched by [[Stan Musial]], [[Tony Gwynn]] and [[Ichiro Suzuki]].',\n",
       " '',\n",
       " 'At the end of 1925 Cobb was once again embroiled in a batting title race, this time with one of his teammates and players, [[Harry Heilmann]].  In a doubleheader against the [[Baltimore Orioles|St. Louis Browns]] on [[October 4]], [[1925]], Heilmann got six hits, leading the Tigers to a sweep of the doubleheader and beating Cobb for the batting crown, .393 to .389.  Cobb and Browns manager [[George Sisler]] each pitched in the final game.  Cobb pitched a perfect inning.',\n",
       " '',\n",
       " '===Cobb moves to Philadelphia===',\n",
       " '[[Image:Ty_cobb.jpg|thumb|200px|right|Ty Cobb baseball card, American Tobacco Company, 1909-11]]',\n",
       " 'Cobb finally called it quits from a 22-year career as a Tiger in November [[1926 in sports|1926]] by announcing his retirement.<ref name=BaseballLibraryTyCobb/> Shortly thereafter, Tris Speaker also retired as player-manager of the Cleveland team.  The retirement of two great players at the same time sparked some interest, and it turned out that the two were coerced into retirement because of allegations of game-fixing brought about by [[Dutch Leonard (left-handed pitcher)|Dutch Leonard]], a former pitcher for Cobb.<ref name=BaseballLibraryDutchLeonard>{{cite web |url=http://www.baseballlibrary.com/baseballlibrary/ballplayers/L/Leonard_Dutch92.stm |title=Dutch Leonard ',\n",
       " '|accessdate=2007-03-01 |publisher=BaseballLibrary.com}}</ref>',\n",
       " '',\n",
       " \"Leonard accused Wood and Cobb of betting on a Tiger-Cleveland game played in Detroit on [[September 25]], [[1919]], in which they allegedly coerced a Detroit victory to win the bet. Leonard claimed proof existed in letters written to him by Cobb and Wood.<ref name=BaseballLibraryDutchLeonard/> [[Kenesaw Mountain Landis|Judge Kenesaw Mountain Landis]] held a secret hearing with Cobb and Speaker as well as former pitcher and outfielder [[Smokey Joe Wood|Joe Wood]].<ref name=BaseballLibraryDutchLeonard/>  A second secret meeting amongst the AL directors led to Cobb and Speaker resigning with no publicity; however, rumors of the scandal led Judge Landis to hold additional hearings.<ref name=BaseballLibraryDutchLeonard/> Leonard subsequently refused to appear at the hearings. Cobb and Wood admitted to writing the letters, but they claimed it was a horse racing bet, and that Leonard's accusations were the result of Cobb's earlier release of Leonard from the Tigers to the [[minor league baseball|minor leagues]].<ref name=BaseballLibraryDutchLeonard/> Speaker denied any wrongdoing.<ref name=BaseballLibraryDutchLeonard/>\",\n",
       " '',\n",
       " \"On [[January 27]], [[1927]], Judge Landis cleared Cobb and Speaker of any wrongdoing because of Leonard's refusal to appear at the hearings.<ref name=BaseballLibraryDutchLeonard/> Landis allowed both Cobb and Speaker to return to their original teams, and both became [[free agent]]s.<ref name=BaseballLibraryDutchLeonard/>  Speaker signed with the [[Minnesota Twins|Washington Senators]] for [[1927 in sports|1927]]; Cobb signed with the [[Oakland Athletics|Philadelphia Athletics]].  Speaker then joined Cobb in Philadelphia for the [[1928 in sports|1928]] season.  Cobb says he came back only to seek vindication and so that he could say he left baseball on his own terms. \",\n",
       " '',\n",
       " \"Cobb played regularly in 1927 for a young and talented team that finished second to one of the greatest teams of all time, the [[Murderers' Row|1927 Yankees]], which won 110 games.  He returned to Detroit to quite a welcome on [[May 11]], [[1927]].  Cobb doubled in his first at bat, to the cheers of Tiger fans.  On [[July 18]], [[1927]], Cobb became the first player to enter the [[4000 hit club]] when he doubled off former teammate [[Sam Gibson]] of the Detroit Tigers at [[Tiger Stadium (Detroit)|Navin Field]].<ref name=BaseballLibraryTyCobb/>\",\n",
       " '',\n",
       " \"The 1927 season was also the last of [[Minnesota Twins|Washington Senators]] pitcher [[Walter Johnson]]'s career.<ref name=BaseballRefJohnsonCareerStats>{{cite web |url=http://www.baseball-reference.com/j/johnswa01.shtml |title=Walter Johnson Career Statistics|accessdate=2007-02-27 |publisher=Sports Reference, Inc }}</ref>  With their careers largely overlapping, Ty Cobb faced Johnson many times. Cobb got the first hit allowed in Johnson's career on [[August 2]], [[1907]];<ref name=BaseballLibraryJohnson>{{cite web |url=http://www.baseballlibrary.com/baseballlibrary/ballplayers/J/Johnson_Walter.stm  |title=Walter Johnson |accessdate=2007-02-27 |publisher=BaseballLibrary.com}}</ref> however, Cobb had little success against Johnson over the next 8 years. That situation changed after Johnson hit Detroit's [[Ossie Vitt]] with a pitch on [[August 10]], [[1915]], seriously injuring him. After hitting Vitt, Johnson appeared shaken as he then allowed four runs in the first inning and another four through the 6th inning.<ref name=BaseballLibraryOssieVitt>{{cite web |url=http://www.baseballlibrary.com/baseballlibrary/ballplayers/V/Vitt_Ossie.stm  |title=Ossie Vitt |accessdate=2007-02-27 |publisher=BaseballLibrary.com}}</ref> Cobb's conclusion from this incident was that Johnson feared hitting opponents, and Cobb used this knowledge to his advantage by standing closer to [[Home plate#home plate|home plate]] when batting against Johnson.<ref name=BaseballLibraryOssieVitt/>\",\n",
       " 'From that point forward, Cobb averaged .435 against Johnson, a marked improvement over his previous season high of .222 in the preceding eight years.<ref name=BaseballLibraryOssieVitt/>. Over his entire career, Cobb faced Johnson in 67 games and averaged .335.<ref name=BaseballLibraryJohnson/>',\n",
       " '',\n",
       " \"Cobb returned again in 1928.  He played less frequently due to his age and the blossoming abilities of the young A's, who were again in a pennant race with the Yankees. On [[September 3]], [[1928]], Ty Cobb [[pinch hitter|pinch hit]] in the 9th inning of the first game of a double-header against the Senators and doubled off Bump Hadley for his last career hit.<ref name=BaseballLibraryTyCobb/> Against the Yankees on [[September 11]], [[1928]], Cobb had his last at bat, [[Types of batted balls in baseball|popping]] [[Out (baseball)|out]] against pitcher Hank Johnson to [[shortstop]] Mark Koenig as a pinch hitter in the 9th inning.<ref name=BaseballLibraryTyCobb/>   He then announced his retirement, effective at the end of the season.<ref name=BaseballLibraryTyCobb/> Cobb ended his career with 23 consecutive seasons batting .300 or better (the only season under .300 being his rookie season), a Major League record not likely to be broken.<ref name=BaseballRefCobbCareerStats/>\",\n",
       " '',\n",
       " '==Post professional career==',\n",
       " \"[[Image:Ty Cobb HOF plaque new.jpg|thumb|250px|left|Cobb's plaque in the Baseball Hall of Fame]]\",\n",
       " '',\n",
       " \"Cobb retired a very rich and successful man.<ref name=Time1937>{{cite journal |year= 1937 |month=May 10 |title=Champion |journal=Time |url=http://www.time.com/time/magazine/article/0,9171,757792,00.html |accessdate=2007-02-27 }}</ref> He toured Europe with his family, went to Scotland for some time then returned to his farm in Georgia.<ref name=Time1937/>  He spent his retirement pursuing his off-season activities of hunting, golfing, polo and fishing.<ref name=Time1937/> His other pastime was trading stocks and [[Bond (finance)|bonds]], increasing his immense personal wealth.<ref name=TyCobbMuseumPhilanthropy> {{cite web | url=http://www.tycobbmuseum.org/philanthropy.shtml.htm |title=Cobb's philanthropy |publisher= The Ty Cobb Museum |accessdate=2007-02-10}}</ref>\",\n",
       " '',\n",
       " \"In the winter of 1930, Cobb moved into a Spanish ranch estate on Spencer Lane in the millionaire's community of [[Atherton, California|Atherton]] outside [[San Francisco, California]].  At that same time, his wife Charlie filed the first of several divorce suits;<ref name=Time04271931>{{cite journal |year= 1931 |title=Milestones |month=April 27 |journal=Time |url=http://www.time.com/time/magazine/article/0,9171,741506-1,00.html |accessdate=2007-02-27 }}</ref> however, she withdrew that suit shortly thereafter.<ref name=Time05111931>{{cite journal |year= 1931 |title=Milestones |month=May 11 |journal=Time |url=http://www.time.com/time/magazine/article/0,9171,741673-1,00.html |accessdate=2007-02-27 }}</ref> Charlie finally divorced Cobb in 1947,<ref name=Time063019347>{{cite journal |year= 1947 |title=Milestones |month=June 30 |journal=Time |url=http://www.time.com/time/magazine/article/0,9171,854767,00.html |accessdate=2007-02-27 }}</ref> after 39 years of marriage, the last few of which she lived in nearby [[Menlo Park, California|Menlo Park]]. The couple had three sons and two daughters: Tyrus Ramond, Jr., Shirley Marion, Herschel Roswell, James Howell, and Beverly.<ref name=NYTWoolf/><ref name=Price1996/><ref name=CobbIMDB>{{cite web | url=http://www.imdb.com/name/nm0167821/bio |title= Biography for Ty Cobb  |accessdate=2007-02-10 |publisher=[[Internet Movie Database]]}}</ref>\",\n",
       " '',\n",
       " \"Cobb had never had an easy time being a father and husband.  His children had found him to be demanding, yet also capable of kindness and extreme warmth. Cobb had expected his boys to be exceptional athletes, especially baseball players.  Cobb, Jr. flunked out of [[Princeton University|Princeton]],<ref name=NYTIMES12021994>{{cite web |url=http://movies2.nytimes.com/mem/movies/review.html?title1=COBB%20(MOVIE)&title2=&reviewer=Janet%20Maslin&pdate=19941202&v_id= |title=FILM REVIEW; A Hero Who Was a Heel, Or, What Price Glory? |accessdate=2007-02-06 |publisher=[[New York Times]] |last=Maslin |first=Janet |date=[[December 2]], [[1994]] }}</ref> would have rather played [[tennis]] than baseball.<ref name=KossuthCobbHangsemup>{{cite web |last=Kossuth |first=James | url=http://wso.williams.edu/~jkossuth/cobb/race.htm |title=Cobb Hangs 'em Up ...eventually |accessdate=2007-02-06}}</ref> Cobb, Jr. became a physician and practiced in [[Dublin, Georgia]], until his death on [[September 9]], [[1952]], from a [[brain tumor]].<ref name=NYTJrObit>{{cite news |title=Ty Cobb's Son Dies at 42 |publisher= [[New York Times]]|pages=29 |date=[[September 10]], [[1952]] }} </ref>\",\n",
       " '',\n",
       " \"A personal achievement came in February 1936, when the first [[National Baseball Hall of Fame and Museum|Hall of Fame]] election results were announced.  Cobb had been named on 222 of 226 ballots, outdistancing Babe Ruth, [[Honus Wagner]], [[Christy Mathewson]] and [[Walter Johnson]], the only others to earn the necessary 75% of votes to be elected in that first year.  His 98.2 percentage stood as the record until [[Tom Seaver]] received 98.8% of the vote in 1992 ([[Nolan Ryan]] and [[Cal Ripken, Jr.]] have also  surpassed Cobb, with 98.79% and 98.53% of the votes, respectively). Those incredible results show that although many people disliked him personally, they respected the way he played and what he accomplished.  In 1998, [[Sporting News]] ranked him as third on the list of [[The Sporting News list of Baseball's Greatest Players|100 Greatest Baseball Players]].\",\n",
       " '',\n",
       " 'By then, Cobb drank and smoked heavily, and spent a great deal of time complaining about the lack of fundamental skills with modern-day players.<ref name=NGECobb/>  Cobb was known to help out young players.  He was instrumental in helping [[Joe DiMaggio]] negotiate his rookie contract with the New York Yankees, but ended his friendship with [[Ted Williams]] when the latter suggested to him that [[Rogers Hornsby]] was a greater hitter than Cobb.',\n",
       " '',\n",
       " 'Another bittersweet moment in Cobb\\'s life reportedly came in the late 1940s when he and sportswriter Grantland Rice were returning from the [[The Masters Tournament|Masters]] golf tournament.  Stopping at a South Carolina liquor store, Cobb noticed that the man behind the counter was \"Shoeless\" Joe Jackson, who had been banned from baseball almost 30 years earlier following the [[Black Sox Scandal]].  But Jackson did not appear to recognize him, and finally Cobb asked, \"Don\\'t you know me, Joe?\"  “Sure I know you, Ty,” replied Jackson, “but I wasn’t sure you wanted to speak to me. A lot of them don’t.”<ref name=Frommer>',\n",
       " '{{cite book |last=Frommer |first=Harvey |authorlink= |coauthors= |editor= |others= |title=Joe Jackson and Ragtime Baseball |origdate= |origyear= |origmonth= |url=http://www.pde.state.pa.us/a_and_t/lib/a_and_t/JoeJacksonOregon.pdf |format= |accessdate=2007-01-30 |accessyear= |accessmonth= |edition= |publisher= |location= |language= |isbn= |pages= |chapter= |chapterurl= }}</ref><!-- Leaving other flags in this ref in case anyone with access to this book can provide info -->',\n",
       " '',\n",
       " '===Later life===',\n",
       " 'At 62, Cobb remarried to 40-year-old Frances Fairbairn Cass.<ref name=TimeCobb>{{cite web | date=[[September 26]], [[1949]] | url=http://www.time.com/time/magazine/article/0,9171,800761-1,00.html |title=The Old Gang |publisher= [[Time]]||accessdate=2007-02-10}}</ref>  This childless marriage also failed, and they divorced in 1956.<ref name=Time05211956>{{cite web | date=[[May 21]], [[1956]] |url=http://www.time.com/time/magazine/article/0,9171,808526,00.html |title=Milestones|publisher= [[Time]]||accessdate=2007-02-10}}</ref>',\n",
       " '',\n",
       " \"When two of his three sons died young, Cobb was alone, with few friends left.  He therefore began to be generous with his wealth, donating $100,000 in his parents' name for his hometown of Royston to build a modern 24 bed hospital now called the [[Cobb Memorial Hospital]].  He also established the [[Cobb Educational Fund]], which awarded scholarships to needy Georgia students bound for college, by endowing it with a $100,000 donation in 1953.<ref name=TyCobbMuseumPhilanthropy/>\",\n",
       " '',\n",
       " \"Cobb knew that another way he could share his wealth was by having biographies written that would set the record straight and teach young players how to play.  [[John McCallum (author)|John McCallum]] spent some time with Cobb to write a combination how-to and biography entitled ''The Tiger Wore Spikes: An Informal Biography of Ty Cobb'' that was published in 1956.<ref name=TigerWoreSpikes>{{cite book |first=John |last=McCallum |authorlink= John McCallum |title=The Tiger Wore Spikes: An Informal Biography of Ty Cobb |pages=240 pages |publisher=A. S. Barnes |location=New York |year=1956 }} </ref><ref name=BaseballWithBrains>{{cite news |first=Arthur |last=Daley  |title=Baseball with Brains|page=231 |publisher=New York Times Book Review |date=[[June 17]], [[1956]] }} </ref>\",\n",
       " '',\n",
       " \"After McCallum completed his research for the book, Cobb was again alone and had a longing to return to Georgia.  In December of 1959, Cobb was diagnosed with [[prostate cancer]], [[Diabetes mellitus|diabetes]], [[Hypertension|high blood pressure]] and [[Bright's disease]], a degenerative kidney disorder.<ref name=NGECobb/><ref name=TyCobbMuseumDYK>{{cite web | url=http://www.tycobbmuseum.org/didyouknow.shtml.htm |title=Did You Know? |publisher= The Ty Cobb Museum |accessdate=2007-02-26}}</ref> He did not trust his initial diagnosis, however, so he went to Georgia to seek advice from doctors he knew, and they found his prostate to be cancerous.  They removed it at [[Emory University|Emory University Hospital]] in Atlanta, but that did little to help Cobb.  From this point until the end of his life, Cobb criss-crossed the country, going from his lodge in Tahoe to the hospital in Georgia.\",\n",
       " '',\n",
       " \"It was also during his final years that Cobb began work on his autobiography, ''My Life in Baseball: The True Record,'' with writer [[Al Stump]].  Their collaboration was contentious, and after Cobb's death, was described by Stump in other works, including the film ''[[Cobb (film)|Cobb]]''.\",\n",
       " '',\n",
       " '===Death===',\n",
       " 'In his last days Cobb spent some time with the old movie comedian [[Joe E. Brown (comedian)|Joe E. Brown]], talking about the choices Cobb had made in his life.  He told Brown that he felt that he had made mistakes, and that he would do things differently if he could.  He had played hard and lived hard all his life, and had no friends to show for it at the end, and he regretted it.  Publicly, however, Cobb claimed not to have any regrets: \"I\\'ve been lucky. I have no right to be regretful of what I did\".<ref name=NewsweekJuly1961>{{cite journal |quotes= |last= |first= |authorlink= |coauthors= |year= 1961|month= July 31 |title= |journal=[[Newsweek]] |volume= |issue= |pages=p.54 |id= |url= |accessdate= }}</ref>',\n",
       " '',\n",
       " 'He checked into Emory Hospital for the last time in June 1961, bringing with him a paper bag with over $1 million in [[Bond (finance)|negotiable bonds]] and his [[pistol]].<ref name=Zacharias/>  This time his first wife, Charlie, his son Jimmy and other family members came to be with him for his final days.  He died a month later, on [[July 17]], [[1961]], at Emory University Hospital.<ref name=NGECobb/>',\n",
       " '{{Quote box|',\n",
       " 'width=40%',\n",
       " '|align=left',\n",
       " '|quote=..the most sensational player of all the players I have seen in all my life...',\n",
       " \"|source=[[Casey Stengel]], [[New York Times]], July 18, 1961  <ref name=NYT07181961>{{cite news |title=Cobb, Hailed as Greatest Player in History, Mourned by Baseball World: Passing of Area is Noted by Frick |publisher= [[New York Times]]|page=21  (Food Fashions Family Furnishings section) |date=[[July 18]], [[1961]] }},</ref> regarding Ty Cobb shortly after Cobb's death\",\n",
       " '|}}',\n",
       " '',\n",
       " \"Approximately 150 friends and relatives attended a brief service in [[Cornelia, Georgia]], and drove to the Cobb Family mausoleum in Royston for the burial. Baseball's only representatives at his funeral were three old players, [[Ray Schalk]], [[Mickey Cochrane]], and [[Nap Rucker]], along with [[Sid Keener]], the director of the Baseball Hall of Fame; however, messages of condolences numbered in the hundreds.<ref name=KossuthDeath>{{cite web |last=Kossuth |first=James | url=http://wso.williams.edu/~jkossuth/cobb/death.htm |title=Cobb's Illness and Death |accessdate=2007-01-30}}</ref><ref name=NYTFuneral>{{cite news |title=Funeral Service Held for Ty Cobb |publisher= [[New York Times]]|page=20 |date=[[July 20]], [[1961]] }} </ref>  Family in attendance included Cobb's former wife, Charlie, his two daughters, his surviving son, Jimmy, his two sons-in-law, his daughter-in-law, Mary Dunn Cobb, and her two children.\",\n",
       " '',\n",
       " \"At the time of his death. Cobb's estate was reported to be worth at least US$11,780,000 - $10 million worth of [[General Electric]] stock and $1.78 million in [[The Coca-Cola Company|Coke]] stock.<ref name=NYT09031951>{{cite news | |title=Cobb Said to Have Left At Least $11,780,000 |publisher= [[New York Times]]|page=S3 (Sports section) |date=[[September 3]], [[1951]] }} </ref> Cobb's [[Will (law)|will]] left a quarter of his estate to the Cobb Educational Fund, and the rest of his reputed $11 million he distributed among his children and grandchildren.  Cobb is interred in the Royston, Georgia, town cemetery. As of 2005 the Ty Cobb Educational Foundation has distributed nearly $11 million in [[scholarship]]s to needy Georgians.<ref name=TyCobbEdFound>{{cite web | url=http://www.tycobbfoundation.com |title=Ty Cobb Educational Foundation |accessdate=2007-01-30}}</ref>\",\n",
       " '',\n",
       " '===Legacy===',\n",
       " '{{Quote box|',\n",
       " 'width=40%',\n",
       " '|align=right',\n",
       " '|quote=The greatness of Ty Cobb was something that had to be seen, and to see him was to remember him forever.',\n",
       " '|source=[[George Sisler]]<ref name=\"BaseballHOF\">{{cite web |url=http://www.baseballhalloffame.org/hofers_and_honorees/hofer_bios/cobb_ty.htm |title=Ty Cobb|accessdate=2007-01-30 |publisher=National Baseball Hall of Fame and Museum, Inc. }}</ref>',\n",
       " '|}}',\n",
       " \"Efforts to create a Ty Cobb Memorial in Royston initially failed, primarily because most of the artifacts from his life were sent to the Baseball Hall of Fame in [[Cooperstown, New York]], and the Georgia town was viewed as too remote to make a memorial worthwhile.  However, on [[July 17]], [[1998]], the 37th anniversary of Cobb's death, the [[Ty Cobb Museum]] opened its doors in Royston.  On [[August 30]], [[2005]], his hometown hosted a 1905 baseball game to commemorate the 100th anniversary of Cobb's first major league game.  Players in the game included many of Cobb's descendants as well as many citizens from his hometown of Royston.  Another early-1900s baseball game was played in his hometown at Cobb Field on [[September 30]], [[2006]], with Cobb's descendants and Roystonians again playing. Cobb's personal bat boy from his major league years was also in attendance and threw out the [[ceremonial first pitch|first pitch]].\",\n",
       " '',\n",
       " '==Regular season stats==',\n",
       " '{| border=\"1\" cellpadding=\"2\"',\n",
       " '|-',\n",
       " '| [[Games played|G]]',\n",
       " '| [[At bat|AB]]',\n",
       " '| [[Run (baseball)|R]]',\n",
       " '| [[Hit (baseball)|H]]',\n",
       " '| [[Double (baseball)|2B]]',\n",
       " '| [[Triple (baseball)|3B]]',\n",
       " '| [[Home run|HR]]',\n",
       " '| [[Run batted in|RBI]]',\n",
       " '| [[Stolen base|SB]]',\n",
       " '| [[Caught stealing|CS]]',\n",
       " '| [[Base on balls|BB]]',\n",
       " '| [[Strikeout|SO]]',\n",
       " '| [[Batting average|BA]]',\n",
       " '| [[On base percentage|OBP]]',\n",
       " '| [[Slugging average|SLG]]',\n",
       " '| [[Total bases|TB]]',\n",
       " '| [[Sacrifice hit|SH]]',\n",
       " '| [[Hit by pitch|HBP]]',\n",
       " '|-',\n",
       " '| 3,035',\n",
       " '| 11,434',\n",
       " '| 2,246',\n",
       " '| 4,189',\n",
       " '| 724',\n",
       " '| 295',\n",
       " '| 117',\n",
       " '| 1,937',\n",
       " '| 892',\n",
       " '| 178',\n",
       " '| 1,249',\n",
       " '| 357',\n",
       " '| .366',\n",
       " '| .433',\n",
       " '| .512',\n",
       " '| 5,854',\n",
       " '| 295',\n",
       " '| 94',\n",
       " '|}',\n",
       " '',\n",
       " '==See also==',\n",
       " '* [[Al Stump]]',\n",
       " \"* [[Charles M. Conlon#The Cobb photo|Ty Cobb's Conlon Photo]]\",\n",
       " '* [[3000 hit club]]',\n",
       " '* [[4000 hit club]]',\n",
       " '* [[List of Major League Baseball individual streaks]]',\n",
       " '* [[Ty Cobb Museum]]',\n",
       " '',\n",
       " '==Notes==',\n",
       " '',\n",
       " '{{reflist|2}}',\n",
       " '',\n",
       " '==References==',\n",
       " \"* Charles Alexander, ''Ty Cobb'' (New York: Oxford University Press, 1984).\",\n",
       " \"* Richard Bak, ''Ty Cobb: His Tumultuous Life and Times'' (Dallas, Tex.: Taylor, 1994).\",\n",
       " '* David Pietrusza, Matthew Silverman & Michael Gershman, ed. (2000). Baseball: The Biographical Encyclopedia. Total/Sports Illustrated. ',\n",
       " \"* Al Stump, ''Cobb: A Biography'' (Chapel Hill, N.C.: Algonquin, 1994).\",\n",
       " '* {{imdb title | id = 0109450 | name = Cobb}}',\n",
       " '',\n",
       " '==External links==',\n",
       " '{{wikiquote}}',\n",
       " '{{commons}}',\n",
       " '* {{baseball-reference|id=c/cobbty01}}',\n",
       " '* [http://www.baseballhalloffame.org/hofers_and_honorees/hofer_bios/cobb_ty.htm baseballhalloffame.org/ Baseball Hall of Fame]',\n",
       " '* [http://www.cmgworldwide.com/baseball/cobb/index.html Official site]',\n",
       " '* [http://www.findagrave.com/cgi-bin/fg.cgi?page=gr&GRid=210 Find-A-Grave]',\n",
       " '* [http://ngeorgia.com/people/cobbt.html ngeorgia.com] - Biography page',\n",
       " '* [http://www.thebaseballpage.com/past/pp/cobbty/default.htm The Baseball Page]',\n",
       " '* [http://www.tycobbmuseum.org/ Ty Cobb Museum]',\n",
       " '',\n",
       " '{{start box}}',\n",
       " '{{succession box | title=[[List of Major League Baseball batting champions |American League Batting Champion]] | before=[[George Stone (baseball outfielder)|George Stone]] | years=1907 - 1909 | after= [[Nap Lajoie]]}}',\n",
       " '{{succession box | title=[[List of Major League Baseball RBI champions|American League RBI Champion]] | before=[[Harry Davis (baseball player)|Harry Davis]] | years=1907 - 1909| after= [[Sam Crawford]]}}',\n",
       " '{{succession box | title=[[List of Major League Baseball home run champions|American League Home Run Champion]] | before=[[Sam Crawford]] | years=1909| after= [[Jake Stahl]]}}',\n",
       " '{{succession box | before = [[Nap Lajoie]]|title = American League [[Triple crown (baseball)|Triple Crown]]| years = 1909 | after = [[Jimmie Foxx]]}}',\n",
       " '{{succession box | before = First AL MVP | title = [[Major League Baseball Most Valuable Player Award|American League Most Valuable Player]]| years = 1911 | after = [[Tris Speaker]]}}',\n",
       " '{{succession box | title=[[List of Major League Baseball RBI champions|American League RBI Champion]] | before=[[Sam Crawford]] | years=1911| after= [[Frank Baker]]}}',\n",
       " '{{succession box | title=[[List of Major League Baseball batting champions|American League Batting Champion]] | before=[[Nap Lajoie]] | years=1911 - 1915 | after= [[Tris Speaker]]',\n",
       " '}}',\n",
       " '{{succession box | title=[[List of Major League Baseball batting champions|American League Batting Champion]] | before=[[Tris Speaker]] | years=1917 - 1919 | after= [[George Sisler]]',\n",
       " '}}',\n",
       " '{{succession box | before = [[Hughie Jennings]] | title = [[Managers and ownership of the Detroit Tigers |Detroit Tigers Manager]] | years = 1921 - 1926 |after = [[George Moriarty]] }}',\n",
       " '{{end box}}',\n",
       " '{{MLBACT}}',\n",
       " '',\n",
       " '<!-- Metadata: see [[Wikipedia:Persondata]] -->',\n",
       " '{{Persondata',\n",
       " '|NAME=Tyrus Raymond Cobb',\n",
       " '|ALTERNATIVE NAMES=Cobb, Ty ;Peach, Georgia (nickname) ;Peach, The Georgia (nickname)',\n",
       " '|SHORT DESCRIPTION= Hall of Fame Major League Baseball (MLB) player',\n",
       " '|DATE OF BIRTH=[[December 18]], [[1886]]',\n",
       " '|PLACE OF BIRTH=[[Narrows, Georgia]], [[Georgia (U.S. state)]], [[United States]]',\n",
       " '|DATE OF DEATH=[[July 17]], [[1961]]',\n",
       " '|PLACE OF DEATH=[[Atlanta, Georgia]], [[Georgia (U.S. state)]], [[United States]]',\n",
       " '}}',\n",
       " '',\n",
       " '[[Category:1886 births|Cobb, Ty]]',\n",
       " '[[Category:1961 deaths|Cobb, Ty]]',\n",
       " '[[Category:Baseball Hall of Fame|Cobb, Ty]]',\n",
       " '[[Category:Major league center fielders|Cobb, Ty]]',\n",
       " '[[Category:Detroit Tigers players|Cobb, Ty]]',\n",
       " '[[Category:Philadelphia Athletics players|Cobb, Ty]]',\n",
       " '[[Category:Major league players from Georgia|Cobb, Ty]]',\n",
       " '[[Category:3000 hit club|Cobb, Ty]]',\n",
       " '[[Category:American League batting champions|Cobb, Ty]]',\n",
       " '[[Category:American League home run champions|Cobb, Ty]]',\n",
       " '[[Category:American League RBI champions|Cobb, Ty]]',\n",
       " '[[Category:Detroit Tigers managers|Cobb, Ty]]',\n",
       " '[[Category:Baseball player-managers|Cobb, Ty]]',\n",
       " '[[Category:United States Army officers|Cobb, Ty]]',\n",
       " '[[Category:American military personnel of World War I|Cobb, Ty]]',\n",
       " '[[Category:American Episcopalians|Cobb, Ty]]',\n",
       " '[[Category:American Freemasons|Cobb, Ty]]',\n",
       " '[[Category:Prostate cancer deaths|Cobb, Ty]]',\n",
       " '',\n",
       " '[[de:Ty Cobb]]',\n",
       " '[[es:Ty Cobb]]',\n",
       " '[[fr:Ty Cobb]]',\n",
       " '[[ja:タイ・カッブ]]',\n",
       " '[[sv:Ty Cobb]]',\n",
       " '[[zh:泰·柯布]]']"
      ]
     },
     "execution_count": 19,
     "metadata": {},
     "output_type": "execute_result"
    }
   ],
   "source": [
    "p.split('\\n')"
   ]
  },
  {
   "cell_type": "markdown",
   "metadata": {
    "ExecuteTime": {
     "end_time": "2018-08-18T22:06:03.276330Z",
     "start_time": "2018-08-18T22:06:03.217775Z"
    }
   },
   "source": [
    "# Random Forest Test"
   ]
  },
  {
   "cell_type": "code",
   "execution_count": 131,
   "metadata": {
    "ExecuteTime": {
     "end_time": "2018-08-20T01:34:36.247924Z",
     "start_time": "2018-08-20T01:34:36.204663Z"
    }
   },
   "outputs": [],
   "source": [
    "def clean_wiki_markup(raw_article):\n",
    "    semi_cleaned_article = wikicorpus.filter_wiki(raw_article)\n",
    "    cleaned_article = semi_cleaned_article.replace(\"\\n\", \"\").replace(\"\\'\", \"\").replace(\"()\", \"\").replace(\"=\", \"\").replace(\"|alt\",\"\").replace(\"\\xa0\",\"\")\n",
    "    return cleaned_article\n",
    "\n",
    "def find_num_categories(raw_article):\n",
    "    return raw_article.count(\"[[Category:\")\n",
    "\n",
    "def find_num_images(raw_article):\n",
    "    return raw_article.count(\"[[Image:\")\n",
    "\n",
    "def find_num_ISBN(raw_article):\n",
    "    return raw_article.count(\"ISBN\")\n",
    "\n",
    "def find_num_references(raw_article):\n",
    "    return raw_article.count(\"</ref>\")\n",
    "\n",
    "def find_article_length(cleaned_article):\n",
    "    return len(cleaned_article)\n",
    "\n",
    "def find_num_difficult_words(cleaned_article):\n",
    "    return textstat.difficult_words(cleaned_article)\n",
    "\n",
    "def find_dale_chall_readability_score(cleaned_article):\n",
    "    return textstat.dale_chall_readability_score(cleaned_article)\n",
    "\n",
    "def find_automated_readability_index(cleaned_article):\n",
    "    return textstat.automated_readability_index(cleaned_article)\n",
    "\n",
    "def find_linsear_write_formula(cleaned_article):\n",
    "    return textstat.linsear_write_formula(cleaned_article)\n",
    "\n",
    "def find_gunning_fog_index(cleaned_article):\n",
    "    return textstat.gunning_fog(cleaned_article)\n",
    "\n",
    "def find_syllable_count(cleaned_article):\n",
    "    return textstat.syllable_count(cleaned_article)\n",
    "\n",
    "def find_lexicon_count(cleaned_article):\n",
    "    return textstat.lexicon_count(cleaned_article, removepunct=True)\n",
    "\n",
    "def find_sentence_count(cleaned_article):\n",
    "    return textstat.sentence_count(cleaned_article)\n",
    "\n",
    "def find_smog_index(cleaned_article):\n",
    "    return textstat.smog_index(cleaned_article)\n",
    "\n",
    "def find_num_web_citations(raw_article):\n",
    "    return raw_article.count(\"{{cite web\")\n",
    "\n",
    "def find_num_book_citations(raw_article):\n",
    "    return raw_article.count(\"{{cite book\")\n",
    "\n",
    "def find_num_news_citations(raw_article):\n",
    "    return raw_article.count(\"{{cite news\")\n",
    "\n",
    "def find_num_quotes(raw_article):\n",
    "    return raw_article.count(\"quote=\")\n",
    "\n",
    "def find_num_h3_headers(raw_article):\n",
    "    return raw_article.count(\"\\n===\")\n",
    "\n",
    "def find_num_internal_links(raw_article):\n",
    "    return (raw_article.count(\"[[\") // 2)\n",
    "\n",
    "def find_num_h2_headers(raw_article):\n",
    "    return (raw_article.count(\"\\n==\") - find_num_h3_headers(raw_article))"
   ]
  },
  {
   "cell_type": "code",
   "execution_count": 132,
   "metadata": {
    "ExecuteTime": {
     "end_time": "2018-08-20T01:43:44.679407Z",
     "start_time": "2018-08-20T01:34:39.613946Z"
    }
   },
   "outputs": [
    {
     "name": "stderr",
     "output_type": "stream",
     "text": [
      "/Users/austin/anaconda3/lib/python3.6/site-packages/ipykernel_launcher.py:1: SettingWithCopyWarning: \n",
      "A value is trying to be set on a copy of a slice from a DataFrame.\n",
      "Try using .loc[row_indexer,col_indexer] = value instead\n",
      "\n",
      "See the caveats in the documentation: http://pandas.pydata.org/pandas-docs/stable/indexing.html#indexing-view-versus-copy\n",
      "  \"\"\"Entry point for launching an IPython kernel.\n",
      "/Users/austin/anaconda3/lib/python3.6/site-packages/ipykernel_launcher.py:2: SettingWithCopyWarning: \n",
      "A value is trying to be set on a copy of a slice from a DataFrame.\n",
      "Try using .loc[row_indexer,col_indexer] = value instead\n",
      "\n",
      "See the caveats in the documentation: http://pandas.pydata.org/pandas-docs/stable/indexing.html#indexing-view-versus-copy\n",
      "  \n",
      "/Users/austin/anaconda3/lib/python3.6/site-packages/ipykernel_launcher.py:3: SettingWithCopyWarning: \n",
      "A value is trying to be set on a copy of a slice from a DataFrame.\n",
      "Try using .loc[row_indexer,col_indexer] = value instead\n",
      "\n",
      "See the caveats in the documentation: http://pandas.pydata.org/pandas-docs/stable/indexing.html#indexing-view-versus-copy\n",
      "  This is separate from the ipykernel package so we can avoid doing imports until\n",
      "/Users/austin/anaconda3/lib/python3.6/site-packages/ipykernel_launcher.py:4: SettingWithCopyWarning: \n",
      "A value is trying to be set on a copy of a slice from a DataFrame.\n",
      "Try using .loc[row_indexer,col_indexer] = value instead\n",
      "\n",
      "See the caveats in the documentation: http://pandas.pydata.org/pandas-docs/stable/indexing.html#indexing-view-versus-copy\n",
      "  after removing the cwd from sys.path.\n",
      "/Users/austin/anaconda3/lib/python3.6/site-packages/ipykernel_launcher.py:5: SettingWithCopyWarning: \n",
      "A value is trying to be set on a copy of a slice from a DataFrame.\n",
      "Try using .loc[row_indexer,col_indexer] = value instead\n",
      "\n",
      "See the caveats in the documentation: http://pandas.pydata.org/pandas-docs/stable/indexing.html#indexing-view-versus-copy\n",
      "  \"\"\"\n",
      "/Users/austin/anaconda3/lib/python3.6/site-packages/ipykernel_launcher.py:6: SettingWithCopyWarning: \n",
      "A value is trying to be set on a copy of a slice from a DataFrame.\n",
      "Try using .loc[row_indexer,col_indexer] = value instead\n",
      "\n",
      "See the caveats in the documentation: http://pandas.pydata.org/pandas-docs/stable/indexing.html#indexing-view-versus-copy\n",
      "  \n",
      "/Users/austin/anaconda3/lib/python3.6/site-packages/ipykernel_launcher.py:7: SettingWithCopyWarning: \n",
      "A value is trying to be set on a copy of a slice from a DataFrame.\n",
      "Try using .loc[row_indexer,col_indexer] = value instead\n",
      "\n",
      "See the caveats in the documentation: http://pandas.pydata.org/pandas-docs/stable/indexing.html#indexing-view-versus-copy\n",
      "  import sys\n",
      "/Users/austin/anaconda3/lib/python3.6/site-packages/ipykernel_launcher.py:8: SettingWithCopyWarning: \n",
      "A value is trying to be set on a copy of a slice from a DataFrame.\n",
      "Try using .loc[row_indexer,col_indexer] = value instead\n",
      "\n",
      "See the caveats in the documentation: http://pandas.pydata.org/pandas-docs/stable/indexing.html#indexing-view-versus-copy\n",
      "  \n",
      "/Users/austin/anaconda3/lib/python3.6/site-packages/ipykernel_launcher.py:9: SettingWithCopyWarning: \n",
      "A value is trying to be set on a copy of a slice from a DataFrame.\n",
      "Try using .loc[row_indexer,col_indexer] = value instead\n",
      "\n",
      "See the caveats in the documentation: http://pandas.pydata.org/pandas-docs/stable/indexing.html#indexing-view-versus-copy\n",
      "  if __name__ == '__main__':\n",
      "/Users/austin/anaconda3/lib/python3.6/site-packages/ipykernel_launcher.py:10: SettingWithCopyWarning: \n",
      "A value is trying to be set on a copy of a slice from a DataFrame.\n",
      "Try using .loc[row_indexer,col_indexer] = value instead\n",
      "\n",
      "See the caveats in the documentation: http://pandas.pydata.org/pandas-docs/stable/indexing.html#indexing-view-versus-copy\n",
      "  # Remove the CWD from sys.path while we load stuff.\n",
      "/Users/austin/anaconda3/lib/python3.6/site-packages/ipykernel_launcher.py:11: SettingWithCopyWarning: \n",
      "A value is trying to be set on a copy of a slice from a DataFrame.\n",
      "Try using .loc[row_indexer,col_indexer] = value instead\n",
      "\n",
      "See the caveats in the documentation: http://pandas.pydata.org/pandas-docs/stable/indexing.html#indexing-view-versus-copy\n",
      "  # This is added back by InteractiveShellApp.init_path()\n",
      "/Users/austin/anaconda3/lib/python3.6/site-packages/ipykernel_launcher.py:12: SettingWithCopyWarning: \n",
      "A value is trying to be set on a copy of a slice from a DataFrame.\n",
      "Try using .loc[row_indexer,col_indexer] = value instead\n",
      "\n",
      "See the caveats in the documentation: http://pandas.pydata.org/pandas-docs/stable/indexing.html#indexing-view-versus-copy\n",
      "  if sys.path[0] == '':\n",
      "/Users/austin/anaconda3/lib/python3.6/site-packages/ipykernel_launcher.py:13: SettingWithCopyWarning: \n",
      "A value is trying to be set on a copy of a slice from a DataFrame.\n",
      "Try using .loc[row_indexer,col_indexer] = value instead\n",
      "\n",
      "See the caveats in the documentation: http://pandas.pydata.org/pandas-docs/stable/indexing.html#indexing-view-versus-copy\n",
      "  del sys.path[0]\n",
      "/Users/austin/anaconda3/lib/python3.6/site-packages/ipykernel_launcher.py:14: SettingWithCopyWarning: \n",
      "A value is trying to be set on a copy of a slice from a DataFrame.\n",
      "Try using .loc[row_indexer,col_indexer] = value instead\n",
      "\n",
      "See the caveats in the documentation: http://pandas.pydata.org/pandas-docs/stable/indexing.html#indexing-view-versus-copy\n",
      "  \n",
      "/Users/austin/anaconda3/lib/python3.6/site-packages/ipykernel_launcher.py:15: SettingWithCopyWarning: \n",
      "A value is trying to be set on a copy of a slice from a DataFrame.\n",
      "Try using .loc[row_indexer,col_indexer] = value instead\n",
      "\n",
      "See the caveats in the documentation: http://pandas.pydata.org/pandas-docs/stable/indexing.html#indexing-view-versus-copy\n",
      "  from ipykernel import kernelapp as app\n"
     ]
    },
    {
     "name": "stdout",
     "output_type": "stream",
     "text": [
      "Error(DCRS): Word Count is zero cannot divide\n"
     ]
    },
    {
     "name": "stderr",
     "output_type": "stream",
     "text": [
      "/Users/austin/anaconda3/lib/python3.6/site-packages/ipykernel_launcher.py:16: SettingWithCopyWarning: \n",
      "A value is trying to be set on a copy of a slice from a DataFrame.\n",
      "Try using .loc[row_indexer,col_indexer] = value instead\n",
      "\n",
      "See the caveats in the documentation: http://pandas.pydata.org/pandas-docs/stable/indexing.html#indexing-view-versus-copy\n",
      "  app.launch_new_instance()\n"
     ]
    },
    {
     "name": "stdout",
     "output_type": "stream",
     "text": [
      "Error(ARI) : Sentence count is zero, cannot divide\n"
     ]
    },
    {
     "name": "stderr",
     "output_type": "stream",
     "text": [
      "/Users/austin/anaconda3/lib/python3.6/site-packages/ipykernel_launcher.py:17: SettingWithCopyWarning: \n",
      "A value is trying to be set on a copy of a slice from a DataFrame.\n",
      "Try using .loc[row_indexer,col_indexer] = value instead\n",
      "\n",
      "See the caveats in the documentation: http://pandas.pydata.org/pandas-docs/stable/indexing.html#indexing-view-versus-copy\n",
      "/Users/austin/anaconda3/lib/python3.6/site-packages/ipykernel_launcher.py:18: SettingWithCopyWarning: \n",
      "A value is trying to be set on a copy of a slice from a DataFrame.\n",
      "Try using .loc[row_indexer,col_indexer] = value instead\n",
      "\n",
      "See the caveats in the documentation: http://pandas.pydata.org/pandas-docs/stable/indexing.html#indexing-view-versus-copy\n"
     ]
    },
    {
     "name": "stdout",
     "output_type": "stream",
     "text": [
      "Error(GF): Word Count is Zero, cannot divide\n"
     ]
    },
    {
     "name": "stderr",
     "output_type": "stream",
     "text": [
      "/Users/austin/anaconda3/lib/python3.6/site-packages/ipykernel_launcher.py:19: SettingWithCopyWarning: \n",
      "A value is trying to be set on a copy of a slice from a DataFrame.\n",
      "Try using .loc[row_indexer,col_indexer] = value instead\n",
      "\n",
      "See the caveats in the documentation: http://pandas.pydata.org/pandas-docs/stable/indexing.html#indexing-view-versus-copy\n",
      "/Users/austin/anaconda3/lib/python3.6/site-packages/ipykernel_launcher.py:20: SettingWithCopyWarning: \n",
      "A value is trying to be set on a copy of a slice from a DataFrame.\n",
      "Try using .loc[row_indexer,col_indexer] = value instead\n",
      "\n",
      "See the caveats in the documentation: http://pandas.pydata.org/pandas-docs/stable/indexing.html#indexing-view-versus-copy\n",
      "/Users/austin/anaconda3/lib/python3.6/site-packages/ipykernel_launcher.py:21: SettingWithCopyWarning: \n",
      "A value is trying to be set on a copy of a slice from a DataFrame.\n",
      "Try using .loc[row_indexer,col_indexer] = value instead\n",
      "\n",
      "See the caveats in the documentation: http://pandas.pydata.org/pandas-docs/stable/indexing.html#indexing-view-versus-copy\n",
      "/Users/austin/anaconda3/lib/python3.6/site-packages/ipykernel_launcher.py:22: SettingWithCopyWarning: \n",
      "A value is trying to be set on a copy of a slice from a DataFrame.\n",
      "Try using .loc[row_indexer,col_indexer] = value instead\n",
      "\n",
      "See the caveats in the documentation: http://pandas.pydata.org/pandas-docs/stable/indexing.html#indexing-view-versus-copy\n",
      "/Users/austin/anaconda3/lib/python3.6/site-packages/ipykernel_launcher.py:23: SettingWithCopyWarning: \n",
      "A value is trying to be set on a copy of a slice from a DataFrame.\n",
      "Try using .loc[row_indexer,col_indexer] = value instead\n",
      "\n",
      "See the caveats in the documentation: http://pandas.pydata.org/pandas-docs/stable/indexing.html#indexing-view-versus-copy\n"
     ]
    }
   ],
   "source": [
    "data1000['num_web_citations'] = data1000['text'].apply(find_num_web_citations)\n",
    "data1000['num_book_citations'] = data1000['text'].apply(find_num_book_citations)\n",
    "data1000['num_news_citations'] = data1000['text'].apply(find_num_news_citations)\n",
    "data1000['num_quotes'] = data1000['text'].apply(find_num_quotes)\n",
    "data1000['num_h3_headers'] = data1000['text'].apply(find_num_h3_headers)\n",
    "data1000['num_internal_links'] = data1000['text'].apply(find_num_internal_links)\n",
    "data1000['num_h2_headers'] = data1000['text'].apply(find_num_h2_headers)\n",
    "data1000['cleaned_text'] = data1000['text'].apply(clean_wiki_markup)\n",
    "data1000['has_infobox'] = data1000['text'].str.contains('{{Infobox').astype(int)\n",
    "data1000['num_categories'] = data1000['text'].apply(find_num_categories)\n",
    "data1000['num_images'] = data1000['text'].apply(find_num_images)\n",
    "data1000['num_ISBN'] = data1000['text'].apply(find_num_ISBN)\n",
    "data1000['num_references'] = data1000['text'].apply(find_num_references)\n",
    "data1000['article_length'] = data1000['text'].apply(find_article_length)\n",
    "data1000['num_difficult_words'] = data1000['cleaned_text'].apply(find_num_difficult_words)\n",
    "data1000['dale_chall_readability_score'] = data1000['cleaned_text'].apply(find_dale_chall_readability_score)\n",
    "data1000['readability_index'] = data1000['cleaned_text'].apply(find_automated_readability_index)\n",
    "data1000['linsear_write_formula'] = data1000['cleaned_text'].apply(find_linsear_write_formula)\n",
    "data1000['gunning_fog_index'] = data1000['cleaned_text'].apply(find_gunning_fog_index)\n",
    "data1000['smog_index'] = data1000['cleaned_text'].apply(find_smog_index)\n",
    "data1000['syllable_count'] = data1000['cleaned_text'].apply(find_syllable_count)\n",
    "data1000['lexicon_count'] = data1000['cleaned_text'].apply(find_lexicon_count)\n",
    "data1000['sentence_count'] = data1000['cleaned_text'].apply(find_sentence_count)"
   ]
  },
  {
   "cell_type": "code",
   "execution_count": 133,
   "metadata": {
    "ExecuteTime": {
     "end_time": "2018-08-20T01:43:44.967415Z",
     "start_time": "2018-08-20T01:43:44.682148Z"
    }
   },
   "outputs": [
    {
     "name": "stderr",
     "output_type": "stream",
     "text": [
      "/Users/austin/anaconda3/lib/python3.6/site-packages/ipykernel_launcher.py:1: SettingWithCopyWarning: \n",
      "A value is trying to be set on a copy of a slice from a DataFrame\n",
      "\n",
      "See the caveats in the documentation: http://pandas.pydata.org/pandas-docs/stable/indexing.html#indexing-view-versus-copy\n",
      "  \"\"\"Entry point for launching an IPython kernel.\n"
     ]
    }
   ],
   "source": [
    "data1000.dropna(inplace=True)"
   ]
  },
  {
   "cell_type": "code",
   "execution_count": 49,
   "metadata": {
    "ExecuteTime": {
     "end_time": "2018-08-19T12:32:30.456344Z",
     "start_time": "2018-08-19T12:32:24.619774Z"
    }
   },
   "outputs": [],
   "source": [
    "# TfidfVectorizer\n",
    "\n",
    "import nltk\n",
    "from sklearn.feature_extraction.text import TfidfVectorizer\n",
    "\n",
    "vectorizer = TfidfVectorizer()\n",
    "\n",
    "## Fit Vectorizer\n",
    "\n",
    "vectorizer.fit(data1000['cleaned_text'])\n",
    "\n",
    "## Transform Vectorizer\n",
    "\n",
    "X_transformed = vectorizer.transform(data1000['cleaned_text'])\n",
    "\n",
    "tfidf_df = pd.DataFrame(X_transformed.todense())\n",
    "\n",
    "df1 = data1000.loc[:, ['has_infobox','num_categories','num_images','num_ISBN','num_references','article_length',\n",
    "                 'num_difficult_words','dale_chall_readability_score','readability_index','linsear_write_formula',\n",
    "                 'gunning_fog_index']]\n",
    "\n",
    "X = pd.concat([df1, tfidf_df], axis=1)\n",
    "\n",
    "y = data1000.label.values"
   ]
  },
  {
   "cell_type": "markdown",
   "metadata": {},
   "source": [
    "# Test/Train Split"
   ]
  },
  {
   "cell_type": "code",
   "execution_count": 143,
   "metadata": {
    "ExecuteTime": {
     "end_time": "2018-08-20T01:47:17.437134Z",
     "start_time": "2018-08-20T01:47:17.390075Z"
    }
   },
   "outputs": [],
   "source": [
    "df1 = data1000.loc[data1000['label'].isin(['fa','b','stub'])]\n",
    "y = df1.label.values\n",
    "df1 = df1.loc[:, ['has_infobox','num_categories','num_images','num_ISBN','num_references','article_length',\n",
    "                 'num_difficult_words','dale_chall_readability_score','readability_index','linsear_write_formula',\n",
    "                 'gunning_fog_index', 'num_web_citations','num_book_citations','num_news_citations',\n",
    "                'num_quotes','num_h3_headers','num_internal_links', 'num_h2_headers', 'syllable_count',\n",
    "                 'lexicon_count', 'sentence_count']]"
   ]
  },
  {
   "cell_type": "code",
   "execution_count": 144,
   "metadata": {
    "ExecuteTime": {
     "end_time": "2018-08-20T01:47:19.454869Z",
     "start_time": "2018-08-20T01:47:19.410689Z"
    }
   },
   "outputs": [],
   "source": [
    "X_train, X_test, y_train, y_test = train_test_split(df1.values, y, test_size=0.20, random_state=910)"
   ]
  },
  {
   "cell_type": "markdown",
   "metadata": {
    "ExecuteTime": {
     "end_time": "2018-08-19T00:05:36.406433Z",
     "start_time": "2018-08-19T00:05:36.367017Z"
    }
   },
   "source": [
    "# Random Forrest"
   ]
  },
  {
   "cell_type": "code",
   "execution_count": 145,
   "metadata": {
    "ExecuteTime": {
     "end_time": "2018-08-20T01:47:23.632056Z",
     "start_time": "2018-08-20T01:47:23.592966Z"
    }
   },
   "outputs": [],
   "source": [
    "clf = RandomForestClassifier(n_estimators=2000, random_state=910, )"
   ]
  },
  {
   "cell_type": "code",
   "execution_count": 146,
   "metadata": {
    "ExecuteTime": {
     "end_time": "2018-08-20T01:47:29.418646Z",
     "start_time": "2018-08-20T01:47:24.507317Z"
    }
   },
   "outputs": [
    {
     "data": {
      "text/plain": [
       "RandomForestClassifier(bootstrap=True, class_weight=None, criterion='gini',\n",
       "            max_depth=None, max_features='auto', max_leaf_nodes=None,\n",
       "            min_impurity_decrease=0.0, min_impurity_split=None,\n",
       "            min_samples_leaf=1, min_samples_split=2,\n",
       "            min_weight_fraction_leaf=0.0, n_estimators=2000, n_jobs=1,\n",
       "            oob_score=False, random_state=910, verbose=0, warm_start=False)"
      ]
     },
     "execution_count": 146,
     "metadata": {},
     "output_type": "execute_result"
    }
   ],
   "source": [
    "clf.fit(X_train, y_train)"
   ]
  },
  {
   "cell_type": "code",
   "execution_count": 147,
   "metadata": {
    "ExecuteTime": {
     "end_time": "2018-08-20T01:47:34.293012Z",
     "start_time": "2018-08-20T01:47:34.074778Z"
    }
   },
   "outputs": [],
   "source": [
    "predictions = clf.predict(X_test)"
   ]
  },
  {
   "cell_type": "code",
   "execution_count": 148,
   "metadata": {
    "ExecuteTime": {
     "end_time": "2018-08-20T01:47:36.342169Z",
     "start_time": "2018-08-20T01:47:36.297921Z"
    }
   },
   "outputs": [
    {
     "data": {
      "text/plain": [
       "0.8504983388704319"
      ]
     },
     "execution_count": 148,
     "metadata": {},
     "output_type": "execute_result"
    }
   ],
   "source": [
    "accuracy_score(y_test, predictions)"
   ]
  },
  {
   "cell_type": "code",
   "execution_count": 29,
   "metadata": {
    "ExecuteTime": {
     "end_time": "2018-08-19T02:57:54.639034Z",
     "start_time": "2018-08-19T02:57:46.643322Z"
    }
   },
   "outputs": [],
   "source": [
    "# TfidfVectorizer\n",
    "\n",
    "import nltk\n",
    "from sklearn.feature_extraction.text import TfidfVectorizer\n",
    "\n",
    "vectorizer = TfidfVectorizer()\n",
    "\n",
    "## Fit Vectorizer\n",
    "\n",
    "vectorizer.fit(data1000['text'])\n",
    "\n",
    "## Transform Vectorizer\n",
    "\n",
    "X_transformed = vectorizer.transform(data1000['text'])\n",
    "\n",
    "tfidf_df = X_transformed.todense()\n",
    "\n",
    "y = data1000.label.values"
   ]
  },
  {
   "cell_type": "code",
   "execution_count": 60,
   "metadata": {
    "ExecuteTime": {
     "end_time": "2018-08-19T12:37:27.973109Z",
     "start_time": "2018-08-19T12:37:26.831464Z"
    }
   },
   "outputs": [],
   "source": [
    "feature_importances = pd.DataFrame(clf.feature_importances_,\n",
    "                                   index = X.columns,\n",
    "                                    columns=['importance']).sort_values('importance',                                                                 ascending=False)"
   ]
  },
  {
   "cell_type": "code",
   "execution_count": null,
   "metadata": {},
   "outputs": [],
   "source": [
    "feature_importances"
   ]
  },
  {
   "cell_type": "markdown",
   "metadata": {},
   "source": [
    "# Random Forest Model for full data"
   ]
  },
  {
   "cell_type": "markdown",
   "metadata": {},
   "source": [
    "## Read & transform original data"
   ]
  },
  {
   "cell_type": "code",
   "execution_count": 73,
   "metadata": {
    "ExecuteTime": {
     "end_time": "2018-08-19T13:16:04.792613Z",
     "start_time": "2018-08-19T13:15:47.744651Z"
    }
   },
   "outputs": [],
   "source": [
    "file = '../data/enwiki.observations.text_wp10.30k.tsv'\n",
    "data = pd.read_csv(file, sep='\\t', header=None)\n",
    "data = pd.DataFrame(data=list(data[0].apply(literal_eval)))"
   ]
  },
  {
   "cell_type": "markdown",
   "metadata": {},
   "source": [
    "## Change y to ints"
   ]
  },
  {
   "cell_type": "code",
   "execution_count": 5,
   "metadata": {
    "ExecuteTime": {
     "end_time": "2018-08-19T14:54:08.174640Z",
     "start_time": "2018-08-19T14:54:08.123218Z"
    }
   },
   "outputs": [],
   "source": [
    "classes = {\"stub\": 0, \"start\": 1, \"c\": 2, \"b\": 3, \"ga\": 4, \"fa\": 5} \n",
    "data[\"label\"] = data['label'].map(classes)"
   ]
  },
  {
   "cell_type": "markdown",
   "metadata": {},
   "source": [
    "## Feature Engineer Data"
   ]
  },
  {
   "cell_type": "code",
   "execution_count": null,
   "metadata": {
    "ExecuteTime": {
     "end_time": "2018-08-19T16:11:26.265549Z",
     "start_time": "2018-08-19T14:55:55.196183Z"
    }
   },
   "outputs": [],
   "source": [
    "data['cleaned_text'] = data['text'].apply(clean_wiki_markup)\n",
    "data['has_infobox'] = data['text'].str.contains('{{Infobox').astype(int)\n",
    "data['num_categories'] = data['text'].apply(find_num_categories)\n",
    "data['num_images'] = data['text'].apply(find_num_images)\n",
    "data['num_ISBN'] = data['text'].apply(find_num_ISBN)\n",
    "data['num_references'] = data['text'].apply(find_num_references)\n",
    "data['article_length'] = data['text'].apply(find_article_length)\n",
    "data['num_difficult_words'] = data['cleaned_text'].apply(find_num_difficult_words)\n",
    "data['dale_chall_readability_score'] = data['cleaned_text'].apply(find_dale_chall_readability_score)\n",
    "data['readability_index'] = data['cleaned_text'].apply(find_automated_readability_index)\n",
    "data['linsear_write_formula'] = data['cleaned_text'].apply(find_linsear_write_formula)\n",
    "data['gunning_fog_index'] = data['cleaned_text'].apply(find_gunning_fog_index)\n",
    "data['smog_index'] = data['cleaned_text'].apply(find_smog_index)"
   ]
  },
  {
   "cell_type": "markdown",
   "metadata": {
    "ExecuteTime": {
     "end_time": "2018-08-19T13:16:37.997901Z",
     "start_time": "2018-08-19T13:16:37.927684Z"
    }
   },
   "source": [
    "## Fill NaNs"
   ]
  },
  {
   "cell_type": "code",
   "execution_count": 16,
   "metadata": {
    "ExecuteTime": {
     "end_time": "2018-08-19T16:24:20.917968Z",
     "start_time": "2018-08-19T16:24:20.588553Z"
    }
   },
   "outputs": [],
   "source": [
    "data.fillna(value=0, inplace=True)"
   ]
  },
  {
   "cell_type": "code",
   "execution_count": 3,
   "metadata": {
    "ExecuteTime": {
     "end_time": "2018-08-19T17:03:22.996174Z",
     "start_time": "2018-08-19T17:03:10.072296Z"
    }
   },
   "outputs": [],
   "source": [
    "data = pd.read_csv('../data/wiki_transformed_data.csv')\n",
    "data.dropna(axis=0, inplace=True)"
   ]
  },
  {
   "cell_type": "markdown",
   "metadata": {},
   "source": [
    "## TFIDF Vectorize Cleaned Text And Concatenate Hand-Selected Features"
   ]
  },
  {
   "cell_type": "code",
   "execution_count": 3,
   "metadata": {
    "ExecuteTime": {
     "end_time": "2018-08-19T16:50:52.522506Z",
     "start_time": "2018-08-19T16:50:51.865443Z"
    }
   },
   "outputs": [],
   "source": [
    "import nltk\n",
    "from sklearn.feature_extraction.text import TfidfVectorizer\n",
    "\n",
    "vectorizer = TfidfVectorizer()\n",
    "\n",
    "## Fit Vectorizer"
   ]
  },
  {
   "cell_type": "code",
   "execution_count": 4,
   "metadata": {
    "ExecuteTime": {
     "end_time": "2018-08-19T16:51:41.001578Z",
     "start_time": "2018-08-19T16:50:52.524826Z"
    }
   },
   "outputs": [
    {
     "data": {
      "text/plain": [
       "TfidfVectorizer(analyzer='word', binary=False, decode_error='strict',\n",
       "        dtype=<class 'numpy.int64'>, encoding='utf-8', input='content',\n",
       "        lowercase=True, max_df=1.0, max_features=None, min_df=1,\n",
       "        ngram_range=(1, 1), norm='l2', preprocessor=None, smooth_idf=True,\n",
       "        stop_words=None, strip_accents=None, sublinear_tf=False,\n",
       "        token_pattern='(?u)\\\\b\\\\w\\\\w+\\\\b', tokenizer=None, use_idf=True,\n",
       "        vocabulary=None)"
      ]
     },
     "execution_count": 4,
     "metadata": {},
     "output_type": "execute_result"
    }
   ],
   "source": [
    "vectorizer.fit(data['cleaned_text'])"
   ]
  },
  {
   "cell_type": "code",
   "execution_count": 5,
   "metadata": {
    "ExecuteTime": {
     "end_time": "2018-08-19T16:52:31.346044Z",
     "start_time": "2018-08-19T16:51:41.004066Z"
    }
   },
   "outputs": [],
   "source": [
    "## Transform Vectorizer\n",
    "X_transformed = vectorizer.transform(data['cleaned_text'])"
   ]
  },
  {
   "cell_type": "code",
   "execution_count": 6,
   "metadata": {
    "ExecuteTime": {
     "end_time": "2018-08-19T16:53:10.949179Z",
     "start_time": "2018-08-19T16:52:31.348554Z"
    }
   },
   "outputs": [],
   "source": [
    "tfidf_df = pd.DataFrame(X_transformed.todense())"
   ]
  },
  {
   "cell_type": "code",
   "execution_count": 7,
   "metadata": {
    "ExecuteTime": {
     "end_time": "2018-08-19T16:53:11.161971Z",
     "start_time": "2018-08-19T16:53:10.951721Z"
    }
   },
   "outputs": [],
   "source": [
    "df1 = data.loc[:, ['has_infobox','num_categories','num_images','num_ISBN','num_references','article_length',\n",
    "                 'num_difficult_words','dale_chall_readability_score','readability_index','linsear_write_formula',\n",
    "                 'gunning_fog_index', 'smog_index']]"
   ]
  },
  {
   "cell_type": "code",
   "execution_count": null,
   "metadata": {
    "ExecuteTime": {
     "start_time": "2018-08-19T16:47:08.110Z"
    }
   },
   "outputs": [],
   "source": [
    "X = pd.concat([df1, tfidf_df], axis=1)"
   ]
  },
  {
   "cell_type": "code",
   "execution_count": 104,
   "metadata": {
    "ExecuteTime": {
     "end_time": "2018-08-20T00:18:30.750954Z",
     "start_time": "2018-08-20T00:18:30.700903Z"
    }
   },
   "outputs": [],
   "source": [
    "y = data.label.values"
   ]
  },
  {
   "cell_type": "markdown",
   "metadata": {},
   "source": [
    "## Test/Train Split"
   ]
  },
  {
   "cell_type": "code",
   "execution_count": null,
   "metadata": {
    "ExecuteTime": {
     "start_time": "2018-08-19T16:56:34.910Z"
    }
   },
   "outputs": [],
   "source": [
    "X_train, X_test, y_train, y_test = train_test_split(X.values, y, test_size=0.20, random_state=910)"
   ]
  },
  {
   "cell_type": "markdown",
   "metadata": {},
   "source": [
    "## Random Forest"
   ]
  },
  {
   "cell_type": "code",
   "execution_count": 14,
   "metadata": {
    "ExecuteTime": {
     "end_time": "2018-08-19T16:55:06.481939Z",
     "start_time": "2018-08-19T16:54:21.159489Z"
    }
   },
   "outputs": [
    {
     "data": {
      "text/plain": [
       "RandomForestClassifier(bootstrap=True, class_weight=None, criterion='gini',\n",
       "            max_depth=None, max_features='auto', max_leaf_nodes=None,\n",
       "            min_impurity_decrease=0.0, min_impurity_split=None,\n",
       "            min_samples_leaf=1, min_samples_split=2,\n",
       "            min_weight_fraction_leaf=0.0, n_estimators=1000, n_jobs=1,\n",
       "            oob_score=False, random_state=910, verbose=0, warm_start=False)"
      ]
     },
     "execution_count": 14,
     "metadata": {},
     "output_type": "execute_result"
    }
   ],
   "source": [
    "clf = RandomForestClassifier(n_estimators=1000, random_state=910)\n",
    "clf.fit(X_train, y_train)"
   ]
  },
  {
   "cell_type": "code",
   "execution_count": 15,
   "metadata": {
    "ExecuteTime": {
     "end_time": "2018-08-19T16:55:59.709791Z",
     "start_time": "2018-08-19T16:55:56.387289Z"
    }
   },
   "outputs": [],
   "source": [
    "predictions = clf.predict(X_test)"
   ]
  },
  {
   "cell_type": "code",
   "execution_count": 16,
   "metadata": {
    "ExecuteTime": {
     "end_time": "2018-08-19T16:56:01.216689Z",
     "start_time": "2018-08-19T16:56:01.175383Z"
    }
   },
   "outputs": [
    {
     "data": {
      "text/plain": [
       "0.5633276740237692"
      ]
     },
     "execution_count": 16,
     "metadata": {},
     "output_type": "execute_result"
    }
   ],
   "source": [
    "accuracy_score(y_test, predictions)"
   ]
  },
  {
   "cell_type": "code",
   "execution_count": null,
   "metadata": {
    "ExecuteTime": {
     "end_time": "2018-08-19T14:52:57.101605Z",
     "start_time": "2018-08-19T14:52:56.996748Z"
    }
   },
   "outputs": [],
   "source": []
  },
  {
   "cell_type": "code",
   "execution_count": 15,
   "metadata": {
    "ExecuteTime": {
     "end_time": "2018-08-19T16:23:47.776829Z",
     "start_time": "2018-08-19T16:23:10.649279Z"
    }
   },
   "outputs": [],
   "source": [
    "with open('wiki_transformed_data.csv', 'w', encoding='utf8', errors='replace') as f:\n",
    "    data.to_csv(f)"
   ]
  },
  {
   "cell_type": "code",
   "execution_count": 126,
   "metadata": {
    "ExecuteTime": {
     "end_time": "2018-08-20T01:26:09.518860Z",
     "start_time": "2018-08-20T01:26:09.482385Z"
    }
   },
   "outputs": [
    {
     "data": {
      "text/plain": [
       "(1201, 18)"
      ]
     },
     "execution_count": 126,
     "metadata": {},
     "output_type": "execute_result"
    }
   ],
   "source": [
    "X_train.shape"
   ]
  },
  {
   "cell_type": "code",
   "execution_count": 151,
   "metadata": {
    "ExecuteTime": {
     "end_time": "2018-08-20T02:32:44.206694Z",
     "start_time": "2018-08-20T02:32:44.165221Z"
    }
   },
   "outputs": [
    {
     "data": {
      "text/plain": [
       "label                            object\n",
       "page_title                       object\n",
       "project                          object\n",
       "text                             object\n",
       "timestamp                        object\n",
       "num_web_citations                 int64\n",
       "num_book_citations                int64\n",
       "num_news_citations                int64\n",
       "num_quotes                        int64\n",
       "num_h3_headers                    int64\n",
       "num_internal_links                int64\n",
       "num_h2_headers                    int64\n",
       "cleaned_text                     object\n",
       "has_infobox                       int64\n",
       "num_categories                    int64\n",
       "num_images                        int64\n",
       "num_ISBN                          int64\n",
       "num_references                    int64\n",
       "article_length                    int64\n",
       "num_difficult_words               int64\n",
       "dale_chall_readability_score    float64\n",
       "readability_index               float64\n",
       "linsear_write_formula           float64\n",
       "gunning_fog_index               float64\n",
       "smog_index                      float64\n",
       "syllable_count                  float64\n",
       "lexicon_count                     int64\n",
       "sentence_count                    int64\n",
       "dtype: object"
      ]
     },
     "execution_count": 151,
     "metadata": {},
     "output_type": "execute_result"
    }
   ],
   "source": [
    "data1000.dtypes"
   ]
  },
  {
   "cell_type": "code",
   "execution_count": null,
   "metadata": {},
   "outputs": [],
   "source": []
  }
 ],
 "metadata": {
  "kernelspec": {
   "display_name": "Python 3",
   "language": "python",
   "name": "python3"
  },
  "language_info": {
   "codemirror_mode": {
    "name": "ipython",
    "version": 3
   },
   "file_extension": ".py",
   "mimetype": "text/x-python",
   "name": "python",
   "nbconvert_exporter": "python",
   "pygments_lexer": "ipython3",
   "version": "3.6.5"
  }
 },
 "nbformat": 4,
 "nbformat_minor": 2
}
