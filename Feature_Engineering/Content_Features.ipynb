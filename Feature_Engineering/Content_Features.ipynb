{
 "cells": [
  {
   "cell_type": "markdown",
   "metadata": {},
   "source": [
    "# Imports"
   ]
  },
  {
   "cell_type": "code",
   "execution_count": 370,
   "metadata": {
    "ExecuteTime": {
     "end_time": "2018-08-19T00:08:06.612881Z",
     "start_time": "2018-08-19T00:08:05.946972Z"
    }
   },
   "outputs": [
    {
     "name": "stderr",
     "output_type": "stream",
     "text": [
      "/Users/austin/anaconda3/lib/python3.6/site-packages/sklearn/ensemble/weight_boosting.py:29: DeprecationWarning: numpy.core.umath_tests is an internal NumPy module and should not be imported. It will be removed in a future NumPy release.\n",
      "  from numpy.core.umath_tests import inner1d\n"
     ]
    }
   ],
   "source": [
    "import pandas as pd\n",
    "import numpy as np\n",
    "import json\n",
    "from ast import literal_eval\n",
    "import matplotlib.pyplot as plt\n",
    "from textstat.textstat import textstat\n",
    "from gensim.corpora import wikicorpus\n",
    "from gensim.models.doc2vec import Doc2Vec, TaggedDocument\n",
    "from sklearn.ensemble import RandomForestClassifier\n",
    "%matplotlib inline\n",
    "# Make it pretty\n",
    "plt.style.use('ggplot')"
   ]
  },
  {
   "cell_type": "markdown",
   "metadata": {},
   "source": [
    "# Read in data"
   ]
  },
  {
   "cell_type": "code",
   "execution_count": 283,
   "metadata": {
    "ExecuteTime": {
     "end_time": "2018-08-18T22:39:15.941600Z",
     "start_time": "2018-08-18T22:39:07.234977Z"
    }
   },
   "outputs": [],
   "source": [
    "file = '../data/enwiki.observations.text_wp10.30k.tsv'\n",
    "data = pd.read_csv(file, sep='\\t', header=None)"
   ]
  },
  {
   "cell_type": "code",
   "execution_count": 284,
   "metadata": {
    "ExecuteTime": {
     "end_time": "2018-08-18T22:39:24.129977Z",
     "start_time": "2018-08-18T22:39:15.946587Z"
    }
   },
   "outputs": [],
   "source": [
    "data = pd.DataFrame(data=list(data[0].apply(literal_eval)))"
   ]
  },
  {
   "cell_type": "markdown",
   "metadata": {
    "ExecuteTime": {
     "end_time": "2018-08-17T21:29:02.288443Z",
     "start_time": "2018-08-17T21:29:01.876660Z"
    }
   },
   "source": [
    "# Practice pipeline with part of data"
   ]
  },
  {
   "cell_type": "code",
   "execution_count": 258,
   "metadata": {
    "ExecuteTime": {
     "end_time": "2018-08-18T22:05:57.988135Z",
     "start_time": "2018-08-18T22:05:57.946431Z"
    }
   },
   "outputs": [],
   "source": [
    "data1000 = data[:1000]"
   ]
  },
  {
   "cell_type": "code",
   "execution_count": 26,
   "metadata": {
    "ExecuteTime": {
     "end_time": "2018-08-18T17:08:53.407790Z",
     "start_time": "2018-08-18T17:08:53.371988Z"
    }
   },
   "outputs": [],
   "source": [
    "def remove_wiki_markup(article):\n",
    "    return wikicorpus.filter_wiki(article)"
   ]
  },
  {
   "cell_type": "code",
   "execution_count": 30,
   "metadata": {
    "ExecuteTime": {
     "end_time": "2018-08-18T17:10:23.807947Z",
     "start_time": "2018-08-18T17:10:23.774774Z"
    }
   },
   "outputs": [],
   "source": [
    "def tokenize(article):\n",
    "    return wikicorpus.tokenize(article)"
   ]
  },
  {
   "cell_type": "code",
   "execution_count": 56,
   "metadata": {
    "ExecuteTime": {
     "end_time": "2018-08-18T17:43:59.667664Z",
     "start_time": "2018-08-18T17:43:59.132867Z"
    }
   },
   "outputs": [
    {
     "data": {
      "text/plain": [
       "(5413, 5)"
      ]
     },
     "execution_count": 56,
     "metadata": {},
     "output_type": "execute_result"
    }
   ],
   "source": [
    "data[data['text'].str.contains('==Notes')].shape"
   ]
  },
  {
   "cell_type": "code",
   "execution_count": 60,
   "metadata": {
    "ExecuteTime": {
     "end_time": "2018-08-18T17:45:00.306601Z",
     "start_time": "2018-08-18T17:44:59.784838Z"
    }
   },
   "outputs": [
    {
     "data": {
      "text/plain": [
       "(19443, 5)"
      ]
     },
     "execution_count": 60,
     "metadata": {},
     "output_type": "execute_result"
    }
   ],
   "source": [
    "data[data['text'].str.contains('==References')].shape"
   ]
  },
  {
   "cell_type": "code",
   "execution_count": 64,
   "metadata": {
    "ExecuteTime": {
     "end_time": "2018-08-18T17:48:28.391682Z",
     "start_time": "2018-08-18T17:48:27.782830Z"
    }
   },
   "outputs": [
    {
     "data": {
      "text/plain": [
       "(4223, 5)"
      ]
     },
     "execution_count": 64,
     "metadata": {},
     "output_type": "execute_result"
    }
   ],
   "source": [
    "data[data['text'].str.contains('== References')].shape"
   ]
  },
  {
   "cell_type": "markdown",
   "metadata": {},
   "source": [
    "# Feature Engineering"
   ]
  },
  {
   "cell_type": "markdown",
   "metadata": {},
   "source": [
    "## Has infobox or not"
   ]
  },
  {
   "cell_type": "code",
   "execution_count": 76,
   "metadata": {
    "ExecuteTime": {
     "end_time": "2018-08-18T17:58:16.647464Z",
     "start_time": "2018-08-18T17:58:15.889712Z"
    }
   },
   "outputs": [
    {
     "data": {
      "text/plain": [
       "(17181, 5)"
      ]
     },
     "execution_count": 76,
     "metadata": {},
     "output_type": "execute_result"
    }
   ],
   "source": [
    "data[data['text'].str.contains('{{Infobox')].shape"
   ]
  },
  {
   "cell_type": "markdown",
   "metadata": {},
   "source": [
    "## Number of level{n} headings\n",
    "https://en.wikibooks.org/wiki/Editing_Wikitext/Headings"
   ]
  },
  {
   "cell_type": "code",
   "execution_count": 91,
   "metadata": {
    "ExecuteTime": {
     "end_time": "2018-08-18T18:10:21.359111Z",
     "start_time": "2018-08-18T18:10:21.276949Z"
    }
   },
   "outputs": [
    {
     "data": {
      "text/plain": [
       "3"
      ]
     },
     "execution_count": 91,
     "metadata": {},
     "output_type": "execute_result"
    }
   ],
   "source": [
    "data['text'][0].count(\"\\n===\")"
   ]
  },
  {
   "cell_type": "code",
   "execution_count": null,
   "metadata": {
    "ExecuteTime": {
     "end_time": "2018-08-18T18:02:30.222412Z",
     "start_time": "2018-08-18T18:02:30.186000Z"
    }
   },
   "outputs": [],
   "source": [
    "data['text'][0]"
   ]
  },
  {
   "cell_type": "markdown",
   "metadata": {},
   "source": [
    "## Article length\n",
    "Here I am finding the article length of the parsed raw text. This include references but appears to get rid of infoboxes and images."
   ]
  },
  {
   "cell_type": "code",
   "execution_count": 92,
   "metadata": {
    "ExecuteTime": {
     "end_time": "2018-08-18T18:12:34.268588Z",
     "start_time": "2018-08-18T18:12:34.184983Z"
    }
   },
   "outputs": [],
   "source": [
    "def find_article_length(raw_article):\n",
    "    return len(wikicorpus.filter_wiki(article))"
   ]
  },
  {
   "cell_type": "code",
   "execution_count": 102,
   "metadata": {
    "ExecuteTime": {
     "end_time": "2018-08-18T18:17:34.078121Z",
     "start_time": "2018-08-18T18:17:34.037360Z"
    }
   },
   "outputs": [
    {
     "data": {
      "text/plain": [
       "23717"
      ]
     },
     "execution_count": 102,
     "metadata": {},
     "output_type": "execute_result"
    }
   ],
   "source": [
    "art = data['text'][1]\n",
    "find_article_length(art)"
   ]
  },
  {
   "cell_type": "code",
   "execution_count": 101,
   "metadata": {
    "ExecuteTime": {
     "end_time": "2018-08-18T18:17:26.736382Z",
     "start_time": "2018-08-18T18:17:26.692888Z"
    }
   },
   "outputs": [
    {
     "data": {
      "text/plain": [
       "23717"
      ]
     },
     "execution_count": 101,
     "metadata": {},
     "output_type": "execute_result"
    }
   ],
   "source": [
    "len(wikicorpus.filter_wiki(data['text'][1]))"
   ]
  },
  {
   "cell_type": "code",
   "execution_count": 103,
   "metadata": {
    "ExecuteTime": {
     "end_time": "2018-08-18T18:17:39.408935Z",
     "start_time": "2018-08-18T18:17:39.371484Z"
    }
   },
   "outputs": [
    {
     "data": {
      "text/plain": [
       "34682"
      ]
     },
     "execution_count": 103,
     "metadata": {},
     "output_type": "execute_result"
    }
   ],
   "source": [
    "len(data['text'][1])"
   ]
  },
  {
   "cell_type": "markdown",
   "metadata": {},
   "source": [
    "## Number of Categories\n",
    "They seem to by denoted by the wikipedia notation ```[[Category:```"
   ]
  },
  {
   "cell_type": "code",
   "execution_count": 120,
   "metadata": {
    "ExecuteTime": {
     "end_time": "2018-08-18T18:32:08.464810Z",
     "start_time": "2018-08-18T18:32:08.431782Z"
    }
   },
   "outputs": [],
   "source": [
    "def find_num_categories(raw_article):\n",
    "    return raw_article.count(\"[[Category:\")"
   ]
  },
  {
   "cell_type": "code",
   "execution_count": 121,
   "metadata": {
    "ExecuteTime": {
     "end_time": "2018-08-18T18:32:09.411478Z",
     "start_time": "2018-08-18T18:32:09.368532Z"
    }
   },
   "outputs": [
    {
     "data": {
      "text/plain": [
       "4"
      ]
     },
     "execution_count": 121,
     "metadata": {},
     "output_type": "execute_result"
    }
   ],
   "source": [
    "find_num_categories(data['text'][1])"
   ]
  },
  {
   "cell_type": "markdown",
   "metadata": {},
   "source": [
    "## Number of Images\n",
    "They seem to by denoted by the wikipedia notation ```[[Image:```"
   ]
  },
  {
   "cell_type": "code",
   "execution_count": 125,
   "metadata": {
    "ExecuteTime": {
     "end_time": "2018-08-18T19:01:14.701162Z",
     "start_time": "2018-08-18T19:01:14.669418Z"
    }
   },
   "outputs": [],
   "source": [
    "def find_num_images(raw_article):\n",
    "    return raw_article.count(\"[[Image:\")"
   ]
  },
  {
   "cell_type": "code",
   "execution_count": 200,
   "metadata": {
    "ExecuteTime": {
     "end_time": "2018-08-18T21:16:17.745457Z",
     "start_time": "2018-08-18T21:16:17.709249Z"
    }
   },
   "outputs": [
    {
     "data": {
      "text/plain": [
       "7"
      ]
     },
     "execution_count": 200,
     "metadata": {},
     "output_type": "execute_result"
    }
   ],
   "source": [
    "find_num_images(data['text'][5])"
   ]
  },
  {
   "cell_type": "markdown",
   "metadata": {},
   "source": [
    "## Number of ISBN References\n",
    "Number of times ```ISBN``` appears"
   ]
  },
  {
   "cell_type": "code",
   "execution_count": 202,
   "metadata": {
    "ExecuteTime": {
     "end_time": "2018-08-18T21:48:57.718119Z",
     "start_time": "2018-08-18T21:48:57.425183Z"
    }
   },
   "outputs": [],
   "source": [
    "def find_num_ISBN(raw_article):\n",
    "    return raw_article.count(\"ISBN\")"
   ]
  },
  {
   "cell_type": "code",
   "execution_count": 218,
   "metadata": {
    "ExecuteTime": {
     "end_time": "2018-08-18T21:50:29.689958Z",
     "start_time": "2018-08-18T21:50:29.652077Z"
    }
   },
   "outputs": [
    {
     "data": {
      "text/plain": [
       "29"
      ]
     },
     "execution_count": 218,
     "metadata": {},
     "output_type": "execute_result"
    }
   ],
   "source": [
    "find_num_ISBN(data['text'][29444])"
   ]
  },
  {
   "cell_type": "markdown",
   "metadata": {
    "ExecuteTime": {
     "end_time": "2018-08-18T18:29:54.729192Z",
     "start_time": "2018-08-18T18:29:54.696702Z"
    }
   },
   "source": [
    "## Number of references\n",
    "They seem to by denoted with the wikipedia **end** notation ```</ref>```"
   ]
  },
  {
   "cell_type": "code",
   "execution_count": 127,
   "metadata": {
    "ExecuteTime": {
     "end_time": "2018-08-18T19:01:25.115739Z",
     "start_time": "2018-08-18T19:01:25.082909Z"
    }
   },
   "outputs": [],
   "source": [
    "def find_num_references(raw_article):\n",
    "    return raw_article.count(\"</ref>\")"
   ]
  },
  {
   "cell_type": "code",
   "execution_count": 199,
   "metadata": {
    "ExecuteTime": {
     "end_time": "2018-08-18T21:15:39.852711Z",
     "start_time": "2018-08-18T21:15:39.815491Z"
    }
   },
   "outputs": [
    {
     "data": {
      "text/plain": [
       "1"
      ]
     },
     "execution_count": 199,
     "metadata": {},
     "output_type": "execute_result"
    }
   ],
   "source": [
    "find_num_references(data['text'][5])"
   ]
  },
  {
   "cell_type": "markdown",
   "metadata": {},
   "source": [
    "## Number of Difficult Words\n",
    "The difficult words score is calculated based on how many difficult words appear in text. A word is considered difficult if it does not appear in a list of 3000 common English words that groups of fourth-grade American students could reliably understand"
   ]
  },
  {
   "cell_type": "code",
   "execution_count": 295,
   "metadata": {
    "ExecuteTime": {
     "end_time": "2018-08-18T22:45:54.460534Z",
     "start_time": "2018-08-18T22:45:54.420071Z"
    }
   },
   "outputs": [],
   "source": [
    "def find_num_difficult_words(raw_article):\n",
    "    text = un_mark_wikis(raw_article)\n",
    "    return textstat.difficult_words(text)"
   ]
  },
  {
   "cell_type": "code",
   "execution_count": 296,
   "metadata": {
    "ExecuteTime": {
     "end_time": "2018-08-18T22:45:55.934773Z",
     "start_time": "2018-08-18T22:45:55.876038Z"
    }
   },
   "outputs": [
    {
     "data": {
      "text/plain": [
       "693"
      ]
     },
     "execution_count": 296,
     "metadata": {},
     "output_type": "execute_result"
    }
   ],
   "source": [
    "find_num_difficult_words(data['text'][4])"
   ]
  },
  {
   "cell_type": "markdown",
   "metadata": {
    "ExecuteTime": {
     "end_time": "2018-08-18T19:17:04.062279Z",
     "start_time": "2018-08-18T19:17:04.020313Z"
    }
   },
   "source": [
    "## Dale-Chall Readability Score\n",
    "Another measure for comprehension\n",
    "difficulty when reading a text. This score takes into\n",
    "account the percentage of difficult words in the text as well\n",
    "as the ratio between the number of words and the number of\n",
    "sentences."
   ]
  },
  {
   "cell_type": "code",
   "execution_count": 309,
   "metadata": {
    "ExecuteTime": {
     "end_time": "2018-08-18T22:53:55.563981Z",
     "start_time": "2018-08-18T22:53:55.526948Z"
    }
   },
   "outputs": [],
   "source": [
    "def find_dale_chall_readability_score(cleaned_article):\n",
    "    return textstat.dale_chall_readability_score(cleaned_article)"
   ]
  },
  {
   "cell_type": "code",
   "execution_count": 310,
   "metadata": {
    "ExecuteTime": {
     "end_time": "2018-08-18T22:53:55.950888Z",
     "start_time": "2018-08-18T22:53:55.835207Z"
    }
   },
   "outputs": [
    {
     "data": {
      "text/plain": [
       "8.87"
      ]
     },
     "execution_count": 310,
     "metadata": {},
     "output_type": "execute_result"
    }
   ],
   "source": [
    "find_dale_chall_readability_score(data['text'][1])"
   ]
  },
  {
   "cell_type": "markdown",
   "metadata": {},
   "source": [
    "## Automated Readability Index\n",
    "Another measure for comprehension\n",
    "difficulty when reading a text. This score takes into\n",
    "account the percentage of difficult words in the text as well\n",
    "as the ratio between the number of words and the number of\n",
    "sentences."
   ]
  },
  {
   "cell_type": "code",
   "execution_count": 314,
   "metadata": {
    "ExecuteTime": {
     "end_time": "2018-08-18T22:57:25.253058Z",
     "start_time": "2018-08-18T22:57:25.202110Z"
    }
   },
   "outputs": [],
   "source": [
    "def find_automated_readability_index(cleaned_article):\n",
    "    return textstat.automated_readability_index(cleaned_article)"
   ]
  },
  {
   "cell_type": "code",
   "execution_count": 315,
   "metadata": {
    "ExecuteTime": {
     "end_time": "2018-08-18T22:57:27.269777Z",
     "start_time": "2018-08-18T22:57:27.184148Z"
    }
   },
   "outputs": [
    {
     "data": {
      "text/plain": [
       "19.8"
      ]
     },
     "execution_count": 315,
     "metadata": {},
     "output_type": "execute_result"
    }
   ],
   "source": [
    "find_automated_readability_index(data['text'][1])"
   ]
  },
  {
   "cell_type": "markdown",
   "metadata": {
    "ExecuteTime": {
     "end_time": "2018-08-18T19:24:10.716542Z",
     "start_time": "2018-08-18T19:24:10.682345Z"
    }
   },
   "source": [
    "## Linsear Write Formula\n",
    "Score initially designed\n",
    "for the United States Air Force to compute the readability of\n",
    "their technical manuals. This score corresponds to the US\n",
    "grade level of a text sample based on sentence length and the\n",
    "number of words used that have three or more syllables"
   ]
  },
  {
   "cell_type": "code",
   "execution_count": 318,
   "metadata": {
    "ExecuteTime": {
     "end_time": "2018-08-18T23:00:34.820506Z",
     "start_time": "2018-08-18T23:00:34.778739Z"
    }
   },
   "outputs": [],
   "source": [
    "def find_linsear_write_formula(cleaned_article):\n",
    "    return textstat.linsear_write_formula(cleaned_article)"
   ]
  },
  {
   "cell_type": "code",
   "execution_count": 144,
   "metadata": {
    "ExecuteTime": {
     "end_time": "2018-08-18T19:25:45.933016Z",
     "start_time": "2018-08-18T19:25:45.860433Z"
    }
   },
   "outputs": [
    {
     "data": {
      "text/plain": [
       "19.0"
      ]
     },
     "execution_count": 144,
     "metadata": {},
     "output_type": "execute_result"
    }
   ],
   "source": [
    "find_linsear_write_formula(data['text'][1])"
   ]
  },
  {
   "cell_type": "markdown",
   "metadata": {},
   "source": [
    "## Gunning-Fog index\n",
    "Readability score to measure the difficulty of a\n",
    "given text in terms of the years of formal education needed to\n",
    "understand the text on a first reading. "
   ]
  },
  {
   "cell_type": "code",
   "execution_count": null,
   "metadata": {
    "ExecuteTime": {
     "end_time": "2018-08-19T00:00:07.426268Z",
     "start_time": "2018-08-19T00:00:07.392573Z"
    }
   },
   "outputs": [],
   "source": [
    "def find_gunning_fog_index(cleaned_article):\n",
    "    return textstat.gunning_fog(cleaned_article)\n",
    "\n",
    "find_gunning_fog_index(data['text'][1])"
   ]
  },
  {
   "cell_type": "markdown",
   "metadata": {},
   "source": [
    "## Turn y labels into ints"
   ]
  },
  {
   "cell_type": "code",
   "execution_count": 250,
   "metadata": {
    "ExecuteTime": {
     "end_time": "2018-08-18T22:01:09.259633Z",
     "start_time": "2018-08-18T22:01:09.208754Z"
    }
   },
   "outputs": [],
   "source": [
    "classes = {\"stub\": 0, \"start\": 1, \"c\": 2, \"b\": 3, \"ga\": 4, \"fa\": 5} \n",
    "data[\"label\"] = data['label'].map(classes)"
   ]
  },
  {
   "cell_type": "markdown",
   "metadata": {
    "ExecuteTime": {
     "end_time": "2018-08-18T22:06:03.276330Z",
     "start_time": "2018-08-18T22:06:03.217775Z"
    }
   },
   "source": [
    "# Random Forest Test"
   ]
  },
  {
   "cell_type": "code",
   "execution_count": null,
   "metadata": {},
   "outputs": [],
   "source": [
    "def clean_wiki_markup(raw_article):\n",
    "    semi_cleaned_article = wikicorpus.filter_wiki(raw_article)\n",
    "    cleaned_article = semi_cleaned_article.replace(\"\\n\", \"\").replace(\"\\'\", \"\").replace(\"()\", \"\").replace(\"=\", \"\").replace(\"|alt\",\"\").replace(\"\\xa0\",\"\")\n",
    "    return cleaned_article\n",
    "\n",
    "def find_num_categories(raw_article):\n",
    "    return raw_article.count(\"[[Category:\")\n",
    "\n",
    "def find_num_images(raw_article):\n",
    "    return raw_article.count(\"[[Image:\")\n",
    "\n",
    "def find_num_ISBN(raw_article):\n",
    "    return raw_article.count(\"ISBN\")\n",
    "\n",
    "def find_num_references(raw_article):\n",
    "    return raw_article.count(\"</ref>\")\n",
    "\n",
    "def find_article_length(cleaned_article):\n",
    "    return len(article)\n",
    "\n",
    "def find_num_difficult_words(cleaned_article):\n",
    "    return textstat.difficult_words(cleaned_article)\n",
    "\n",
    "def find_dale_chall_readability_score(cleaned_article):\n",
    "    return textstat.dale_chall_readability_score(cleaned_article)\n",
    "\n",
    "def find_automated_readability_index(cleaned_article):\n",
    "    return textstat.automated_readability_index(cleaned_article)\n",
    "\n",
    "def find_linsear_write_formula(cleaned_article):\n",
    "    return textstat.linsear_write_formula(cleaned_article)\n",
    "\n",
    "def find_gunning_fog_index(cleaned_article):\n",
    "    return textstat.gunning_fog(cleaned_article)\n",
    "\n",
    "def transform_dataframe(raw_dataframe):\n",
    "    raw_dataframe['has_infobox'] = raw_dataframe['text'].str.contains('{{Infobox').astype(int)\n",
    "    raw_dataframe['num_categories'] = raw_dataframe['text'].apply(find_num_categories)\n",
    "    raw_dataframe['num_images'] = raw_dataframe['text'].apply(find_num_images)\n",
    "    raw_dataframe['num_references'] = raw_dataframe['text'].apply(find_num_references)\n",
    "    raw_dataframe['cleaned_text'] = raw_dataframe['text'].apply(clean_wiki_markup)\n",
    "    raw_dataframe['article_length'] = raw_dataframe['cleaned_text'].apply(find_article_length)\n",
    "    raw_dataframe['num_difficult_words'] = raw_dataframe['cleaned_text'].apply(find_num_difficult_words)\n",
    "    raw_dataframe['readability_index'] = raw_dataframe['cleaned_text'].apply(find_automated_readability_index)\n",
    "    raw_dataframe['dale_chall_readability_score'] = raw_dataframe['cleaned_text'].apply(find_dale_chall_readability_score)\n",
    "    raw_dataframe['linsear_write_formula'] = raw_dataframe['cleaned_text'].apply(find_linsear_write_formula)\n",
    "    raw_dataframe['gunning_fog_index'] = raw_dataframe['cleaned_text'].apply(find_gunning_fog_index)\n",
    "    "
   ]
  },
  {
   "cell_type": "code",
   "execution_count": 358,
   "metadata": {
    "ExecuteTime": {
     "end_time": "2018-08-19T00:02:23.915458Z",
     "start_time": "2018-08-19T00:02:23.766801Z"
    }
   },
   "outputs": [],
   "source": [
    "#data['has_infobox'] = data['text'].str.contains('{{Infobox').astype(int)\n",
    "#data['num_categories'] = data['text'].apply(find_num_categories)\n",
    "#data['num_images'] = data['text'].apply(find_num_images)\n",
    "#data['num_ISBN'] = data['text'].apply(find_num_ISBN)\n",
    "#data['num_references'] = data['text'].apply(find_num_references)\n",
    "#data1000['article_length'] = data1000['text'].apply(find_article_length)\n",
    "#data1000['num_difficult_words'] = data1000['cleaned_text'].apply(find_num_difficult_words)\n",
    "#data1000['cleaned_text'] = data1000['text'].apply(clean_wiki_markup)\n",
    "#data1000['dale_chall_readability_score'] = data1000['cleaned_text'].apply(find_dale_chall_readability_score)\n",
    "#data1000['readability_index'] = data1000['cleaned_text'].apply(find_automated_readability_index)\n",
    "#data1000['linsear_write_formula'] = data1000['cleaned_text'].apply(find_linsear_write_formula)\n",
    "#data1000['gunning_fog_index'] = data1000['cleaned_text'].apply(find_gunning_fog_index)"
   ]
  },
  {
   "cell_type": "code",
   "execution_count": null,
   "metadata": {},
   "outputs": [],
   "source": [
    "# TfidfVectorizer\n",
    "\n",
    "import nltk\n",
    "from sklearn.feature_extraction.text import TfidfVectorizer\n",
    "\n",
    "vectorizer = TfidfVectorizer()\n",
    "\n",
    "## Fit Vectorizer\n",
    "\n",
    "vectorizer.fit(data1000['cleaned_text'])\n",
    "\n",
    "## Transform Vectorizer\n",
    "\n",
    "X_transformed = vectorizer.transform(data1000['cleaned_text'])\n",
    "\n",
    "tfidf_df = pd.DataFrame(X_transformed.todense())\n",
    "\n",
    "df1 = data1000.loc[:, ['has_infobox','num_categories','num_images','num_ISBN','num_references','article_length',\n",
    "                 'num_difficult_words','dale_chall_readability_score','readability_index','linsear_write_formula',\n",
    "                 'gunning_fog_index']]\n",
    "\n",
    "X = pd.concat([df1, tfidf_df], axis=1)\n",
    "\n",
    "y = data1000.label.values"
   ]
  },
  {
   "cell_type": "markdown",
   "metadata": {},
   "source": [
    "# Test/Train Split"
   ]
  },
  {
   "cell_type": "code",
   "execution_count": 359,
   "metadata": {
    "ExecuteTime": {
     "end_time": "2018-08-19T00:03:24.219802Z",
     "start_time": "2018-08-19T00:03:24.172708Z"
    }
   },
   "outputs": [],
   "source": [
    "from sklearn.model_selection import train_test_split"
   ]
  },
  {
   "cell_type": "code",
   "execution_count": 389,
   "metadata": {
    "ExecuteTime": {
     "end_time": "2018-08-19T00:22:40.504786Z",
     "start_time": "2018-08-19T00:22:34.802394Z"
    }
   },
   "outputs": [],
   "source": [
    "X_train, X_test, y_train, y_test = train_test_split(X.values, y, test_size=0.20, random_state=910)"
   ]
  },
  {
   "cell_type": "markdown",
   "metadata": {
    "ExecuteTime": {
     "end_time": "2018-08-19T00:05:36.406433Z",
     "start_time": "2018-08-19T00:05:36.367017Z"
    }
   },
   "source": [
    "# Random Forrest"
   ]
  },
  {
   "cell_type": "code",
   "execution_count": 373,
   "metadata": {
    "ExecuteTime": {
     "end_time": "2018-08-19T00:18:40.186060Z",
     "start_time": "2018-08-19T00:18:40.010995Z"
    }
   },
   "outputs": [],
   "source": [
    "clf = RandomForestClassifier(n_estimators=1000, random_state=910)"
   ]
  },
  {
   "cell_type": "code",
   "execution_count": 390,
   "metadata": {
    "ExecuteTime": {
     "end_time": "2018-08-19T00:23:35.753397Z",
     "start_time": "2018-08-19T00:22:43.601988Z"
    }
   },
   "outputs": [
    {
     "data": {
      "text/plain": [
       "RandomForestClassifier(bootstrap=True, class_weight=None, criterion='gini',\n",
       "            max_depth=None, max_features='auto', max_leaf_nodes=None,\n",
       "            min_impurity_decrease=0.0, min_impurity_split=None,\n",
       "            min_samples_leaf=1, min_samples_split=2,\n",
       "            min_weight_fraction_leaf=0.0, n_estimators=1000, n_jobs=1,\n",
       "            oob_score=False, random_state=910, verbose=0, warm_start=False)"
      ]
     },
     "execution_count": 390,
     "metadata": {},
     "output_type": "execute_result"
    }
   ],
   "source": [
    "clf.fit(X_train, y_train)"
   ]
  },
  {
   "cell_type": "code",
   "execution_count": 391,
   "metadata": {
    "ExecuteTime": {
     "end_time": "2018-08-19T00:25:53.461933Z",
     "start_time": "2018-08-19T00:25:53.191531Z"
    }
   },
   "outputs": [],
   "source": [
    "predictions = clf.predict(X_test)"
   ]
  },
  {
   "cell_type": "code",
   "execution_count": 392,
   "metadata": {
    "ExecuteTime": {
     "end_time": "2018-08-19T00:27:44.349751Z",
     "start_time": "2018-08-19T00:27:44.189373Z"
    }
   },
   "outputs": [],
   "source": [
    "from sklearn.metrics import accuracy_score"
   ]
  },
  {
   "cell_type": "code",
   "execution_count": 393,
   "metadata": {
    "ExecuteTime": {
     "end_time": "2018-08-19T00:28:03.654926Z",
     "start_time": "2018-08-19T00:28:03.589258Z"
    }
   },
   "outputs": [
    {
     "data": {
      "text/plain": [
       "0.48"
      ]
     },
     "execution_count": 393,
     "metadata": {},
     "output_type": "execute_result"
    }
   ],
   "source": [
    "accuracy_score(y_test, predictions)"
   ]
  },
  {
   "cell_type": "code",
   "execution_count": 394,
   "metadata": {
    "ExecuteTime": {
     "end_time": "2018-08-19T00:29:12.205435Z",
     "start_time": "2018-08-19T00:29:03.617936Z"
    }
   },
   "outputs": [
    {
     "name": "stderr",
     "output_type": "stream",
     "text": [
      "/Users/austin/anaconda3/lib/python3.6/importlib/_bootstrap.py:219: RuntimeWarning: numpy.dtype size changed, may indicate binary incompatibility. Expected 96, got 88\n",
      "  return f(*args, **kwds)\n",
      "/Users/austin/anaconda3/lib/python3.6/site-packages/h5py/__init__.py:36: FutureWarning: Conversion of the second argument of issubdtype from `float` to `np.floating` is deprecated. In future, it will be treated as `np.float64 == np.dtype(float).type`.\n",
      "  from ._conv import register_converters as _register_converters\n",
      "Using TensorFlow backend.\n"
     ]
    }
   ],
   "source": [
    "from keras.models import Sequential\n",
    "from keras.layers import Dense"
   ]
  },
  {
   "cell_type": "code",
   "execution_count": 396,
   "metadata": {
    "ExecuteTime": {
     "end_time": "2018-08-19T00:34:13.557964Z",
     "start_time": "2018-08-19T00:34:13.273423Z"
    }
   },
   "outputs": [],
   "source": [
    "model = Sequential()\n",
    "model.add(Dense(2000, input_dim=96669, activation='relu'))\n",
    "model.add(Dense(1000, activation='relu'))\n",
    "model.add(Dense(500, activation='relu'))\n",
    "model.add(Dense(200, activation='relu'))\n",
    "model.add(Dense(1, activation='sigmoid'))"
   ]
  },
  {
   "cell_type": "code",
   "execution_count": 397,
   "metadata": {
    "ExecuteTime": {
     "end_time": "2018-08-19T00:34:16.406028Z",
     "start_time": "2018-08-19T00:34:16.305755Z"
    }
   },
   "outputs": [],
   "source": [
    "model.compile(loss='binary_crossentropy', optimizer='adam', metrics=['accuracy'])"
   ]
  },
  {
   "cell_type": "code",
   "execution_count": null,
   "metadata": {
    "ExecuteTime": {
     "start_time": "2018-08-19T00:35:05.657Z"
    }
   },
   "outputs": [
    {
     "name": "stdout",
     "output_type": "stream",
     "text": [
      "Epoch 1/10\n",
      "370/800 [============>.................] - ETA: 4:05 - loss: 38.9179 - acc: 0.1784"
     ]
    }
   ],
   "source": [
    "model.fit(X_train, y_train, epochs=10, batch_size=10)"
   ]
  },
  {
   "cell_type": "code",
   "execution_count": null,
   "metadata": {},
   "outputs": [],
   "source": []
  }
 ],
 "metadata": {
  "kernelspec": {
   "display_name": "Python 3",
   "language": "python",
   "name": "python3"
  },
  "language_info": {
   "codemirror_mode": {
    "name": "ipython",
    "version": 3
   },
   "file_extension": ".py",
   "mimetype": "text/x-python",
   "name": "python",
   "nbconvert_exporter": "python",
   "pygments_lexer": "ipython3",
   "version": "3.6.5"
  }
 },
 "nbformat": 4,
 "nbformat_minor": 2
}
