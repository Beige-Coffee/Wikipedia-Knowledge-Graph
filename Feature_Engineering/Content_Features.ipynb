{
 "cells": [
  {
   "cell_type": "markdown",
   "metadata": {},
   "source": [
    "# Imports"
   ]
  },
  {
   "cell_type": "code",
   "execution_count": 3,
   "metadata": {
    "ExecuteTime": {
     "end_time": "2018-08-18T16:53:55.060560Z",
     "start_time": "2018-08-18T16:53:54.008580Z"
    }
   },
   "outputs": [],
   "source": [
    "import pandas as pd\n",
    "import numpy as np\n",
    "import json\n",
    "from ast import literal_eval\n",
    "import matplotlib.pyplot as plt\n",
    "from textstat.textstat import textstat\n",
    "from gensim.corpora import wikicorpus\n",
    "from gensim.models.doc2vec import Doc2Vec, TaggedDocument\n",
    "%matplotlib inline\n",
    "# Make it pretty\n",
    "plt.style.use('ggplot')"
   ]
  },
  {
   "cell_type": "markdown",
   "metadata": {},
   "source": [
    "# Read in data"
   ]
  },
  {
   "cell_type": "code",
   "execution_count": 5,
   "metadata": {
    "ExecuteTime": {
     "end_time": "2018-08-18T16:57:27.655606Z",
     "start_time": "2018-08-18T16:57:20.195224Z"
    }
   },
   "outputs": [],
   "source": [
    "file = '../data/enwiki.observations.text_wp10.30k.tsv'\n",
    "data = pd.read_csv(file, sep='\\t', header=None)"
   ]
  },
  {
   "cell_type": "code",
   "execution_count": 6,
   "metadata": {
    "ExecuteTime": {
     "end_time": "2018-08-18T16:57:35.251841Z",
     "start_time": "2018-08-18T16:57:27.658100Z"
    }
   },
   "outputs": [],
   "source": [
    "data = pd.DataFrame(data=list(data[0].apply(literal_eval)))"
   ]
  },
  {
   "cell_type": "markdown",
   "metadata": {
    "ExecuteTime": {
     "end_time": "2018-08-17T21:29:02.288443Z",
     "start_time": "2018-08-17T21:29:01.876660Z"
    }
   },
   "source": [
    "# Practice pipeline with part of data"
   ]
  },
  {
   "cell_type": "code",
   "execution_count": 154,
   "metadata": {
    "ExecuteTime": {
     "end_time": "2018-08-18T19:47:22.563438Z",
     "start_time": "2018-08-18T19:47:22.527412Z"
    }
   },
   "outputs": [],
   "source": [
    "data1000 = data[:1000]"
   ]
  },
  {
   "cell_type": "code",
   "execution_count": 26,
   "metadata": {
    "ExecuteTime": {
     "end_time": "2018-08-18T17:08:53.407790Z",
     "start_time": "2018-08-18T17:08:53.371988Z"
    }
   },
   "outputs": [],
   "source": [
    "def remove_wiki_markup(article):\n",
    "    return wikicorpus.filter_wiki(article)"
   ]
  },
  {
   "cell_type": "code",
   "execution_count": 30,
   "metadata": {
    "ExecuteTime": {
     "end_time": "2018-08-18T17:10:23.807947Z",
     "start_time": "2018-08-18T17:10:23.774774Z"
    }
   },
   "outputs": [],
   "source": [
    "def tokenize(article):\n",
    "    return wikicorpus.tokenize(article)"
   ]
  },
  {
   "cell_type": "code",
   "execution_count": 56,
   "metadata": {
    "ExecuteTime": {
     "end_time": "2018-08-18T17:43:59.667664Z",
     "start_time": "2018-08-18T17:43:59.132867Z"
    }
   },
   "outputs": [
    {
     "data": {
      "text/plain": [
       "(5413, 5)"
      ]
     },
     "execution_count": 56,
     "metadata": {},
     "output_type": "execute_result"
    }
   ],
   "source": [
    "data[data['text'].str.contains('==Notes')].shape"
   ]
  },
  {
   "cell_type": "code",
   "execution_count": 60,
   "metadata": {
    "ExecuteTime": {
     "end_time": "2018-08-18T17:45:00.306601Z",
     "start_time": "2018-08-18T17:44:59.784838Z"
    }
   },
   "outputs": [
    {
     "data": {
      "text/plain": [
       "(19443, 5)"
      ]
     },
     "execution_count": 60,
     "metadata": {},
     "output_type": "execute_result"
    }
   ],
   "source": [
    "data[data['text'].str.contains('==References')].shape"
   ]
  },
  {
   "cell_type": "code",
   "execution_count": 64,
   "metadata": {
    "ExecuteTime": {
     "end_time": "2018-08-18T17:48:28.391682Z",
     "start_time": "2018-08-18T17:48:27.782830Z"
    }
   },
   "outputs": [
    {
     "data": {
      "text/plain": [
       "(4223, 5)"
      ]
     },
     "execution_count": 64,
     "metadata": {},
     "output_type": "execute_result"
    }
   ],
   "source": [
    "data[data['text'].str.contains('== References')].shape"
   ]
  },
  {
   "cell_type": "markdown",
   "metadata": {},
   "source": [
    "# Feature Engineering"
   ]
  },
  {
   "cell_type": "markdown",
   "metadata": {},
   "source": [
    "## Has infobox or not"
   ]
  },
  {
   "cell_type": "code",
   "execution_count": 76,
   "metadata": {
    "ExecuteTime": {
     "end_time": "2018-08-18T17:58:16.647464Z",
     "start_time": "2018-08-18T17:58:15.889712Z"
    }
   },
   "outputs": [
    {
     "data": {
      "text/plain": [
       "(17181, 5)"
      ]
     },
     "execution_count": 76,
     "metadata": {},
     "output_type": "execute_result"
    }
   ],
   "source": [
    "data[data['text'].str.contains('{{Infobox')].shape"
   ]
  },
  {
   "cell_type": "markdown",
   "metadata": {},
   "source": [
    "## Number of level{n} headings\n",
    "https://en.wikibooks.org/wiki/Editing_Wikitext/Headings"
   ]
  },
  {
   "cell_type": "code",
   "execution_count": 91,
   "metadata": {
    "ExecuteTime": {
     "end_time": "2018-08-18T18:10:21.359111Z",
     "start_time": "2018-08-18T18:10:21.276949Z"
    }
   },
   "outputs": [
    {
     "data": {
      "text/plain": [
       "3"
      ]
     },
     "execution_count": 91,
     "metadata": {},
     "output_type": "execute_result"
    }
   ],
   "source": [
    "data['text'][0].count(\"\\n===\")"
   ]
  },
  {
   "cell_type": "code",
   "execution_count": null,
   "metadata": {
    "ExecuteTime": {
     "end_time": "2018-08-18T18:02:30.222412Z",
     "start_time": "2018-08-18T18:02:30.186000Z"
    }
   },
   "outputs": [],
   "source": [
    "data['text'][0]"
   ]
  },
  {
   "cell_type": "markdown",
   "metadata": {},
   "source": [
    "## Article length\n",
    "Here I am finding the article length of the parsed raw text. This include references but appears to get rid of infoboxes and images."
   ]
  },
  {
   "cell_type": "code",
   "execution_count": 92,
   "metadata": {
    "ExecuteTime": {
     "end_time": "2018-08-18T18:12:34.268588Z",
     "start_time": "2018-08-18T18:12:34.184983Z"
    }
   },
   "outputs": [],
   "source": [
    "def find_article_length(raw_article):\n",
    "    return len(wikicorpus.filter_wiki(article))"
   ]
  },
  {
   "cell_type": "code",
   "execution_count": 102,
   "metadata": {
    "ExecuteTime": {
     "end_time": "2018-08-18T18:17:34.078121Z",
     "start_time": "2018-08-18T18:17:34.037360Z"
    }
   },
   "outputs": [
    {
     "data": {
      "text/plain": [
       "23717"
      ]
     },
     "execution_count": 102,
     "metadata": {},
     "output_type": "execute_result"
    }
   ],
   "source": [
    "art = data['text'][1]\n",
    "find_article_length(art)"
   ]
  },
  {
   "cell_type": "code",
   "execution_count": 101,
   "metadata": {
    "ExecuteTime": {
     "end_time": "2018-08-18T18:17:26.736382Z",
     "start_time": "2018-08-18T18:17:26.692888Z"
    }
   },
   "outputs": [
    {
     "data": {
      "text/plain": [
       "23717"
      ]
     },
     "execution_count": 101,
     "metadata": {},
     "output_type": "execute_result"
    }
   ],
   "source": [
    "len(wikicorpus.filter_wiki(data['text'][1]))"
   ]
  },
  {
   "cell_type": "code",
   "execution_count": 103,
   "metadata": {
    "ExecuteTime": {
     "end_time": "2018-08-18T18:17:39.408935Z",
     "start_time": "2018-08-18T18:17:39.371484Z"
    }
   },
   "outputs": [
    {
     "data": {
      "text/plain": [
       "34682"
      ]
     },
     "execution_count": 103,
     "metadata": {},
     "output_type": "execute_result"
    }
   ],
   "source": [
    "len(data['text'][1])"
   ]
  },
  {
   "cell_type": "markdown",
   "metadata": {
    "ExecuteTime": {
     "end_time": "2018-08-18T18:14:42.505684Z",
     "start_time": "2018-08-18T18:14:42.273132Z"
    }
   },
   "source": [
    "## Number of References\n",
    "There doesn't seem to be an algorithimic way to find only the reference section for each article because they do not all start the refernce section the same way."
   ]
  },
  {
   "cell_type": "code",
   "execution_count": null,
   "metadata": {
    "ExecuteTime": {
     "end_time": "2018-08-18T18:18:22.690010Z",
     "start_time": "2018-08-18T18:18:22.656341Z"
    }
   },
   "outputs": [],
   "source": [
    "data['text'][1]"
   ]
  },
  {
   "cell_type": "code",
   "execution_count": null,
   "metadata": {
    "ExecuteTime": {
     "end_time": "2018-08-18T18:19:25.778241Z",
     "start_time": "2018-08-18T18:19:25.225559Z"
    }
   },
   "outputs": [],
   "source": [
    "data['text'].str.contains('{{Reflist')"
   ]
  },
  {
   "cell_type": "markdown",
   "metadata": {},
   "source": [
    "## Number of Categories\n",
    "They seem to by denoted by the wikipedia notation ```[[Category:```"
   ]
  },
  {
   "cell_type": "code",
   "execution_count": 120,
   "metadata": {
    "ExecuteTime": {
     "end_time": "2018-08-18T18:32:08.464810Z",
     "start_time": "2018-08-18T18:32:08.431782Z"
    }
   },
   "outputs": [],
   "source": [
    "def find_num_categories(raw_article):\n",
    "    return raw_article.count(\"[[Category:\")"
   ]
  },
  {
   "cell_type": "code",
   "execution_count": 121,
   "metadata": {
    "ExecuteTime": {
     "end_time": "2018-08-18T18:32:09.411478Z",
     "start_time": "2018-08-18T18:32:09.368532Z"
    }
   },
   "outputs": [
    {
     "data": {
      "text/plain": [
       "4"
      ]
     },
     "execution_count": 121,
     "metadata": {},
     "output_type": "execute_result"
    }
   ],
   "source": [
    "find_num_categories(data['text'][1])"
   ]
  },
  {
   "cell_type": "markdown",
   "metadata": {},
   "source": [
    "## Number of Images\n",
    "They seem to by denoted by the wikipedia notation ```[[Image:```"
   ]
  },
  {
   "cell_type": "code",
   "execution_count": 125,
   "metadata": {
    "ExecuteTime": {
     "end_time": "2018-08-18T19:01:14.701162Z",
     "start_time": "2018-08-18T19:01:14.669418Z"
    }
   },
   "outputs": [],
   "source": [
    "def find_num_images(raw_article):\n",
    "    return raw_article.count(\"[[Image:\")"
   ]
  },
  {
   "cell_type": "code",
   "execution_count": 200,
   "metadata": {
    "ExecuteTime": {
     "end_time": "2018-08-18T21:16:17.745457Z",
     "start_time": "2018-08-18T21:16:17.709249Z"
    }
   },
   "outputs": [
    {
     "data": {
      "text/plain": [
       "7"
      ]
     },
     "execution_count": 200,
     "metadata": {},
     "output_type": "execute_result"
    }
   ],
   "source": [
    "find_num_images(data['text'][5])"
   ]
  },
  {
   "cell_type": "markdown",
   "metadata": {
    "ExecuteTime": {
     "end_time": "2018-08-18T18:29:54.729192Z",
     "start_time": "2018-08-18T18:29:54.696702Z"
    }
   },
   "source": [
    "## Number of references\n",
    "They seem to by denoted with the wikipedia **end** notation ```</ref>```"
   ]
  },
  {
   "cell_type": "code",
   "execution_count": 127,
   "metadata": {
    "ExecuteTime": {
     "end_time": "2018-08-18T19:01:25.115739Z",
     "start_time": "2018-08-18T19:01:25.082909Z"
    }
   },
   "outputs": [],
   "source": [
    "def find_num_references(raw_article):\n",
    "    return raw_article.count(\"</ref>\")"
   ]
  },
  {
   "cell_type": "code",
   "execution_count": 199,
   "metadata": {
    "ExecuteTime": {
     "end_time": "2018-08-18T21:15:39.852711Z",
     "start_time": "2018-08-18T21:15:39.815491Z"
    }
   },
   "outputs": [
    {
     "data": {
      "text/plain": [
       "1"
      ]
     },
     "execution_count": 199,
     "metadata": {},
     "output_type": "execute_result"
    }
   ],
   "source": [
    "find_num_references(data['text'][5])"
   ]
  },
  {
   "cell_type": "markdown",
   "metadata": {},
   "source": [
    "## Number of Difficult Words\n",
    "The difficult words score is calculated based on how many difficult words appear in text. A word is considered difficult if it does not appear in a list of 3000 common English words that groups of fourth-grade American students could reliably understand"
   ]
  },
  {
   "cell_type": "code",
   "execution_count": 136,
   "metadata": {
    "ExecuteTime": {
     "end_time": "2018-08-18T19:22:02.382766Z",
     "start_time": "2018-08-18T19:22:02.348919Z"
    }
   },
   "outputs": [],
   "source": [
    "def find_num_difficult_words(raw_article):\n",
    "    text = wikicorpus.filter_wiki(raw_article)\n",
    "    text = text.replace(\"\\n\", \"\").replace(\"\\'\", \"\")\n",
    "    return textstat.difficult_words(text)"
   ]
  },
  {
   "cell_type": "code",
   "execution_count": 197,
   "metadata": {
    "ExecuteTime": {
     "end_time": "2018-08-18T21:15:28.493592Z",
     "start_time": "2018-08-18T21:15:28.434326Z"
    }
   },
   "outputs": [
    {
     "data": {
      "text/plain": [
       "693"
      ]
     },
     "execution_count": 197,
     "metadata": {},
     "output_type": "execute_result"
    }
   ],
   "source": [
    "find_num_difficult_words(data['text'][4])"
   ]
  },
  {
   "cell_type": "markdown",
   "metadata": {
    "ExecuteTime": {
     "end_time": "2018-08-18T19:17:04.062279Z",
     "start_time": "2018-08-18T19:17:04.020313Z"
    }
   },
   "source": [
    "## Dale-Chall Readability Score\n",
    "Another measure for comprehension\n",
    "difficulty when reading a text. This score takes into\n",
    "account the percentage of difficult words in the text as well\n",
    "as the ratio between the number of words and the number of\n",
    "sentences."
   ]
  },
  {
   "cell_type": "code",
   "execution_count": 138,
   "metadata": {
    "ExecuteTime": {
     "end_time": "2018-08-18T19:22:24.394467Z",
     "start_time": "2018-08-18T19:22:24.345844Z"
    }
   },
   "outputs": [],
   "source": [
    "def find_dale_chall_readability_score(raw_article):\n",
    "    text = wikicorpus.filter_wiki(raw_article)\n",
    "    text = text.replace(\"\\n\", \"\").replace(\"\\'\", \"\")\n",
    "    return textstat.dale_chall_readability_score(text)"
   ]
  },
  {
   "cell_type": "code",
   "execution_count": 139,
   "metadata": {
    "ExecuteTime": {
     "end_time": "2018-08-18T19:22:30.615817Z",
     "start_time": "2018-08-18T19:22:30.508584Z"
    }
   },
   "outputs": [
    {
     "data": {
      "text/plain": [
       "8.88"
      ]
     },
     "execution_count": 139,
     "metadata": {},
     "output_type": "execute_result"
    }
   ],
   "source": [
    "find_dale_chall_readability_score(data['text'][1])"
   ]
  },
  {
   "cell_type": "markdown",
   "metadata": {},
   "source": [
    "## Automated Readability Index\n",
    "Another measure for comprehension\n",
    "difficulty when reading a text. This score takes into\n",
    "account the percentage of difficult words in the text as well\n",
    "as the ratio between the number of words and the number of\n",
    "sentences."
   ]
  },
  {
   "cell_type": "code",
   "execution_count": 140,
   "metadata": {
    "ExecuteTime": {
     "end_time": "2018-08-18T19:22:48.829123Z",
     "start_time": "2018-08-18T19:22:48.795829Z"
    }
   },
   "outputs": [],
   "source": [
    "def find_automated_readability_index(raw_article):\n",
    "    text = wikicorpus.filter_wiki(raw_article)\n",
    "    text = text.replace(\"\\n\", \"\").replace(\"\\'\", \"\")\n",
    "    return textstat.automated_readability_index(text)"
   ]
  },
  {
   "cell_type": "code",
   "execution_count": 141,
   "metadata": {
    "ExecuteTime": {
     "end_time": "2018-08-18T19:22:58.523820Z",
     "start_time": "2018-08-18T19:22:58.459573Z"
    }
   },
   "outputs": [
    {
     "data": {
      "text/plain": [
       "14.3"
      ]
     },
     "execution_count": 141,
     "metadata": {},
     "output_type": "execute_result"
    }
   ],
   "source": [
    "find_automated_readability_index(data['text'][1])"
   ]
  },
  {
   "cell_type": "markdown",
   "metadata": {
    "ExecuteTime": {
     "end_time": "2018-08-18T19:24:10.716542Z",
     "start_time": "2018-08-18T19:24:10.682345Z"
    }
   },
   "source": [
    "## Linsear Write Formula\n",
    "Score initially designed\n",
    "for the United States Air Force to compute the readability of\n",
    "their technical manuals. This score corresponds to the US\n",
    "grade level of a text sample based on sentence length and the\n",
    "number of words used that have three or more syllables"
   ]
  },
  {
   "cell_type": "code",
   "execution_count": 143,
   "metadata": {
    "ExecuteTime": {
     "end_time": "2018-08-18T19:25:33.695894Z",
     "start_time": "2018-08-18T19:25:33.664073Z"
    }
   },
   "outputs": [],
   "source": [
    "def find_linsear_write_formula(raw_article):\n",
    "    text = wikicorpus.filter_wiki(raw_article)\n",
    "    text = text.replace(\"\\n\", \"\").replace(\"\\'\", \"\")\n",
    "    return textstat.linsear_write_formula(text)"
   ]
  },
  {
   "cell_type": "code",
   "execution_count": 144,
   "metadata": {
    "ExecuteTime": {
     "end_time": "2018-08-18T19:25:45.933016Z",
     "start_time": "2018-08-18T19:25:45.860433Z"
    }
   },
   "outputs": [
    {
     "data": {
      "text/plain": [
       "19.0"
      ]
     },
     "execution_count": 144,
     "metadata": {},
     "output_type": "execute_result"
    }
   ],
   "source": [
    "find_linsear_write_formula(data['text'][1])"
   ]
  },
  {
   "cell_type": "markdown",
   "metadata": {},
   "source": [
    "## Gunning-Fog index\n",
    "Readability score to measure the difficulty of a\n",
    "given text in terms of the years of formal education needed to\n",
    "understand the text on a first reading. "
   ]
  },
  {
   "cell_type": "code",
   "execution_count": 145,
   "metadata": {
    "ExecuteTime": {
     "end_time": "2018-08-18T19:27:16.329910Z",
     "start_time": "2018-08-18T19:27:16.299128Z"
    }
   },
   "outputs": [],
   "source": [
    "def find_gunning_fog_index(raw_article):\n",
    "    text = wikicorpus.filter_wiki(raw_article)\n",
    "    text = text.replace(\"\\n\", \"\").replace(\"\\'\", \"\")\n",
    "    return textstat.gunning_fog(text)"
   ]
  },
  {
   "cell_type": "code",
   "execution_count": 146,
   "metadata": {
    "ExecuteTime": {
     "end_time": "2018-08-18T19:27:31.347840Z",
     "start_time": "2018-08-18T19:27:31.252045Z"
    }
   },
   "outputs": [
    {
     "data": {
      "text/plain": [
       "21.01217391304348"
      ]
     },
     "execution_count": 146,
     "metadata": {},
     "output_type": "execute_result"
    }
   ],
   "source": [
    "find_gunning_fog_index(data['text'][1])"
   ]
  },
  {
   "cell_type": "markdown",
   "metadata": {},
   "source": [
    "## TfidfVectorizer"
   ]
  },
  {
   "cell_type": "code",
   "execution_count": 150,
   "metadata": {
    "ExecuteTime": {
     "end_time": "2018-08-18T19:46:20.626447Z",
     "start_time": "2018-08-18T19:46:20.587775Z"
    }
   },
   "outputs": [],
   "source": [
    "import nltk\n",
    "from sklearn.feature_extraction.text import TfidfVectorizer"
   ]
  },
  {
   "cell_type": "code",
   "execution_count": 151,
   "metadata": {
    "ExecuteTime": {
     "end_time": "2018-08-18T19:46:30.187877Z",
     "start_time": "2018-08-18T19:46:30.154588Z"
    }
   },
   "outputs": [],
   "source": [
    "vectorizer = TfidfVectorizer()"
   ]
  },
  {
   "cell_type": "code",
   "execution_count": 163,
   "metadata": {
    "ExecuteTime": {
     "end_time": "2018-08-18T19:50:26.310613Z",
     "start_time": "2018-08-18T19:50:26.275598Z"
    }
   },
   "outputs": [],
   "source": [
    "def un_mark_wikis(raw_article):\n",
    "    text = wikicorpus.filter_wiki(raw_article)\n",
    "    text = text.replace(\"\\n\", \"\").replace(\"\\'\", \"\").replace(\"()\", \"\").replace(\"==\", \"\")\n",
    "    return text"
   ]
  },
  {
   "cell_type": "code",
   "execution_count": 167,
   "metadata": {
    "ExecuteTime": {
     "end_time": "2018-08-18T19:51:29.379022Z",
     "start_time": "2018-08-18T19:51:25.705393Z"
    }
   },
   "outputs": [],
   "source": [
    "X = data1000['text'].apply(un_mark_wikis)"
   ]
  },
  {
   "cell_type": "markdown",
   "metadata": {},
   "source": [
    "## Fit Vectorizer"
   ]
  },
  {
   "cell_type": "code",
   "execution_count": 172,
   "metadata": {
    "ExecuteTime": {
     "end_time": "2018-08-18T19:55:56.670046Z",
     "start_time": "2018-08-18T19:55:54.980192Z"
    }
   },
   "outputs": [
    {
     "data": {
      "text/plain": [
       "TfidfVectorizer(analyzer='word', binary=False, decode_error='strict',\n",
       "        dtype=<class 'numpy.int64'>, encoding='utf-8', input='content',\n",
       "        lowercase=True, max_df=1.0, max_features=None, min_df=1,\n",
       "        ngram_range=(1, 1), norm='l2', preprocessor=None, smooth_idf=True,\n",
       "        stop_words=None, strip_accents=None, sublinear_tf=False,\n",
       "        token_pattern='(?u)\\\\b\\\\w\\\\w+\\\\b', tokenizer=None, use_idf=True,\n",
       "        vocabulary=None)"
      ]
     },
     "execution_count": 172,
     "metadata": {},
     "output_type": "execute_result"
    }
   ],
   "source": [
    "vectorizer.fit(X[:,])"
   ]
  },
  {
   "cell_type": "markdown",
   "metadata": {},
   "source": [
    "## Transform Vectorizer"
   ]
  },
  {
   "cell_type": "code",
   "execution_count": 173,
   "metadata": {
    "ExecuteTime": {
     "end_time": "2018-08-18T19:57:08.318757Z",
     "start_time": "2018-08-18T19:57:06.801873Z"
    }
   },
   "outputs": [],
   "source": [
    "X_transformed = vectorizer.transform(X[:,])"
   ]
  },
  {
   "cell_type": "code",
   "execution_count": null,
   "metadata": {
    "ExecuteTime": {
     "end_time": "2018-08-18T19:57:11.491893Z",
     "start_time": "2018-08-18T19:57:11.455798Z"
    }
   },
   "outputs": [],
   "source": []
  },
  {
   "cell_type": "code",
   "execution_count": 186,
   "metadata": {
    "ExecuteTime": {
     "end_time": "2018-08-18T21:12:29.701957Z",
     "start_time": "2018-08-18T21:12:29.658591Z"
    }
   },
   "outputs": [],
   "source": [
    "def un_mark_wikis(raw_article):\n",
    "    text = wikicorpus.filter_wiki(raw_article)\n",
    "    text = text.replace(\"\\n\", \"\").replace(\"\\'\", \"\").replace(\"()\", \"\").replace(\"=\", \"\").replace(\"\\xa0\",'').replace(\"|altA\",\"\")\n",
    "    return text"
   ]
  },
  {
   "cell_type": "code",
   "execution_count": 189,
   "metadata": {
    "ExecuteTime": {
     "end_time": "2018-08-18T21:13:59.607603Z",
     "start_time": "2018-08-18T21:13:59.566326Z"
    }
   },
   "outputs": [
    {
     "data": {
      "text/plain": [
       "'Admiral of the Blue Sir Henry Digby GCB (20 January 1770– 19 August 1842) was a senior British naval officer, who served in the French Revolutionary and Napoleonic Wars in the Royal Navy. Born into a long established naval family, his uncle was the famous Admiral Robert Digby, Henry went to sea at the end of the American Revolutionary War aged fourteen.As a Lieutenant aboard HMS Pallas, he received a commendation for rescuing the crew of a burning ship. Promoted to Commander in August 1795 and Captain in December 1796, Digby established a reputation as an aggressive prize taker, capturing 57 ships in less than twenty months. His richest capture came in October 1799 when he assisted in the taking of the treasure ship, the Santa Brigida. He commanded HMS Africa at the Battle of Trafalgar, manoeuvering her into the French and Spanish fleet against orders, having been instructed by Nelson to avoid battle, fearing Digbys small ship of the line would be overwhelmed.In 1806 Digby married Lady Jane Elizabeth Coke, daughter of Thomas Coke, 1st Earl of Leicester with whom he had three children. They moved to the estate in Dorset inherited from his uncle where the prize money amassed by Digby paid for a comfortable life. He continued to serve in the navy, was appointed Commander in Chief, Sheerness and attained the rank of Admiral in 1841. Early lifeThe nephew of Robert Digby, Henry was born in Bath on the 20 January 1770. His father, the Hon. Rev. William Digby, was the younger brother of the sixth Baron Digby and later became Dean of Durham and Chaplain Ordinary to King George III. Henry was one of ten children and the oldest of four boys; two of whom, Charles George (1780) and Joseph (1786), also served in the Royal Navy. The younger, Joseph, later becoming a Vice-Admiral.  On the 2nd April 1783, Henry was entered onto the muster roll of HMS Jason then HMS Vestal from the 1st May till the 6th March 1784 as a captains servant. After a six week break, on the 16th April he was entered into the books of HMS Royal Charlotte until the end of the year when he finally went to sea aboard the 50-gun HMS Europa and sailed for the West Indies.Naval careerDigby was to spend the next two and half years aboard the Europa. He was almost immediately promoted from Captains servant to Able Seaman and shortly after, to Midshipman. On the 4th July 1787, after a brief return to England, he was appointed, first to the Janus and then the Salisbury on the North American station. Digbys father died in November 1788 and he returned home but by December he was aboard the sloop Racehorse trying to stop the smuggling trade in the North Sea. He returned to England once more on the 22nd September 1789 and did not go to sea again until the following August during which time he passed his lieutenants exam. After a short probationary period aboard HMS Bellerophon, he was confirmed as Fourth Lieutenant of the Lion in October 1790.  Returning from the West Indies in September 1791, Digby spent a year and eight months in England dealing with family affairs, following the death of his mother.On the 5th May 1793, Digby was appointed First Lieutenant of HMS Eurydice serving in the Channel Squadron, and from there to the Proserpine on the 16th February 1794. Appointed Second Lieutenant to the 5th rate HMS Pallas on the 25th March, he received a commendation for saving hundreds of lives when, on the 1st May 1795, the first-rate HMS Boyne caught fire and exploded in Spithead. Digby took a small boat close into the blazing ship to rescue men struggling in the water despite the risk of instant annihilation should the ammunition store catch alight, as happened later that day. Shortly after, on the 20th May 1795, Digby joined HMS Dictator as First Lieutenant and stayed with her until he was promoted in August that year.First commandsIn August 1795, Digby was promoted to commander of the 16 gun fireship, HMS Incendiary, operating in Quiberon Bay and the Channel. On the 16 December 1796 he made Post Captain and was appointed to the 6th rate, 28 gun, Aurora, escorting convoys in the waters around Portugal and Spain and damaging the enemys commercial interests wherever possible. In these first two commands, Digby took 57 enemy vessels before transferring to HMS Leviathan under Commodore John Duckworth and was present at the capture of Minorca in November 1798. In 1799 he was given a lucrative independent cruise in the frigate HMS Alcmene. Patrolling the waters in and around Portugal and the Azores, Digby captured dozens of small merchant ships and a 28 gun French privateer, Courageux.Digbys habit of using his own funds to pay prize money to his crew straight away, rather than have to wait for a judgement from an Admiralty court; coupled with his aggressive, near record breaking prize taking; made him extremely popular with seamen and officers alike and he was never short of volunteers to sail with him. One particular capture, that of the Santa Brigida, contained such wealth that even an Ordinary Seaman received £182.Capture of the Santa BrigidaDigby claimed that a dream caused him to change course and as a result, at dawn on the 16 October 1799, the Alcmene encountered two British frigates. HMS Naiad and HMS Ethalion were chasing two 34 gun Spanish frigates, Santa Brigida and Thetis. Digbys ship joined the pursuit and soon after a fourth frigate arrived. At 7.00am the two Spaniards parted company so Naiad followed one frigate, together with  and the newly arrived , while Ethalion, set after the other frigate. By 11.30am, Ethalion had caught up with her quarry and after a short engagement the Spanish vessel struck her colours. Ethalion had no casualties though the Spaniard had one man killed and nine wounded. Triton, the fastest of the three British frigates, led the chase of the second frigate. The next morning Triton struck some rocks off Muros as she tried to prevent her quarry from reaching port. Triton got off the rocks and resumed the chase despite taking on water. She and Alcmene then exchanged fire with the Spanish frigate, which surrendered before Naiad could catch up.The Santa Brigidas cargo included 1,400,000 Pieces of Eight and Digbys share of the prize fund came to £40,731, not including the ship itself which wasnt purchased. This was more than twice the total prize money Digby had thus far accrued in his career (around £20,000).PeaceDigby returned to England in early 1801 and spent 10 weeks without a ship. In May he took command of HMS Resistance, on the North American station, in which he captured the French privateer Elizabeth, the last capture before the Peace of Amiens.  Digby spent the next three years on half pay before being given HMS Africa in July 1805. An old, small battleship, Africa possessed just 64 guns and was considered by many as much too small to serve in the line of battle in a major fleet engagement. Ordered to join Nelsons fleet off Cadiz, Digby arrived just days before the Battle of Trafalgar on the 21st October.TrafalgarAfrica, off station, complies with Nelsons order to rejoin the fleet by setting a course parallel to the enemy van.The Africa was also a poor sailor, and on the morning of the battle, as a result of bad weather and a missed signal during the night, Digby found his ship far off station to the north and was thus very isolated. Nelson saw the predicament and sent a signal instructing Digby to \"Make all sail\", intending him to pull back from the enemy rather than risk being overwhelmed as there were ten enemy ships between Africa and the British fleet, all larger than Africa in size.Digby indignantly received the order and then deliberately misinterpreted it as an instruction to close with the British fleet to the south, and so weaved between the advancing enemy, engaging each in turn with both broadsides before reaching the melee surrounding the enormous Spanish flagship, the 130 gun Santissima Trinidad.  Believing that she had surrendered, Digby dispatched his first lieutenant, John Smith, on board to take the surrender. Smith and his party actually reached the Spanish quarterdeck unmolested before realising that the ship was still fighting. Fortunately in that chivalrous age the Spanish admiral allowed Smiths party to return to their boat unharmed.  Sailing south from the battle, Africa encountered the Intrépide and fought her continuously for 40 minutes until HMS Orion arrived and the French ship surrendered as she was outnumbered.  In this fight Africa was very badly damaged and lost 62 men killed or wounded, including most of her officers.The damage suffered by the Africa was highlighted in March 2006 when the BBC television programme Antiques Roadshow examined a book that was extensively damaged by a cannonball.  Digbys inscription inside read ... this book was shivered in this manner by a whole shot, knocking to pieces the bookcase ... off Cape Trafalgar on 21st October 1805 ... on board the Africa (64 guns). signed Henry Digby.Some 10 years after the battle, Digby received some criticisms for his actions. On hearing a rumour that Nelson had disapproved of Digbys behaviour at Trafalgar, Hardy wrote: \".....I beg to assure you that Lord Nelson expressed great satisfaction at the gallant manner in which you passed the enemys line; and I assure you he appeared most fully satisfied with the conduct of the Africa. I shall be most happy personally to contradict the report, if you will inform me of the Captains name who conveyed it to you\".Later lifeOn the 17th April 1806, he married Lady Jane Elizabeth Coke, a renowned beauty, and daughter of Thomas Coke, 1st Earl of Leicester. They had three children, the eldest son, Edward St Vincent, born 1806, became the 9th Baron Digby in 1856. Their daughter, born in 1807, was the scandalous adventuress, Jane Digby.For his role at Trafalgar, Digby received a further £973 prize money and a proportion of a government grant amounting £2389 7s 6d, which together with the money accumulated from earlier successes paid for a large manor and a very comfortable life. In 1815 his uncle, Admiral Robert Digby, died leaving Henry the estate in Minterne Magna to which he retired with his family. Digby did not leave the Royal Navy however, and continued to serve for many years, advancing by seniority through the ranks; making Rear Admiral in 1819 and Vice Admiral in 1830.He received the Order of the Bath in 1815 and served as High Sheriff of Dorset in 1835. Digby was appointed Commander-in-Chief, The Nore in 1840.  He died in 1842 and was buried in the local churchyard with many of his family, where his tombstone can still be seen. At the time of his death he was a full Admiral of the Blue  and had become a Knight Grand Cross of the Order of the BathHenrys great great granddaughter was the 20th century socialite and diplomat Pamela Harriman who grew up on the family estate in Dorset.Notesa  Rear Admiral of the Blue 12 August 1819, of the Red 27 May 1825 b  2 January 1815c  Vice Admiral of the Blue 22 July 1830, of the White 10 January 1837d  22 July 1830e  23 November 1841  \\u200eReferencesBibliography****The Trafalgar Captains, Colin White and the 1805 Club, Chatham Publishing, London, 2005, ISBN 1-86176-247-XExternal links* Animation of the Battle of Trafalgar'"
      ]
     },
     "execution_count": 189,
     "metadata": {},
     "output_type": "execute_result"
    }
   ],
   "source": [
    "un_mark_wikis(data['text'][2])"
   ]
  },
  {
   "cell_type": "code",
   "execution_count": null,
   "metadata": {
    "ExecuteTime": {
     "end_time": "2018-08-18T21:22:33.697074Z",
     "start_time": "2018-08-18T21:22:33.402678Z"
    }
   },
   "outputs": [],
   "source": []
  },
  {
   "cell_type": "code",
   "execution_count": null,
   "metadata": {},
   "outputs": [],
   "source": []
  }
 ],
 "metadata": {
  "kernelspec": {
   "display_name": "Python 3",
   "language": "python",
   "name": "python3"
  },
  "language_info": {
   "codemirror_mode": {
    "name": "ipython",
    "version": 3
   },
   "file_extension": ".py",
   "mimetype": "text/x-python",
   "name": "python",
   "nbconvert_exporter": "python",
   "pygments_lexer": "ipython3",
   "version": "3.6.5"
  }
 },
 "nbformat": 4,
 "nbformat_minor": 2
}
