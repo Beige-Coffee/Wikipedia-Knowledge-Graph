{
 "cells": [
  {
   "cell_type": "code",
   "execution_count": 1,
   "metadata": {
    "ExecuteTime": {
     "end_time": "2018-08-18T13:44:15.040718Z",
     "start_time": "2018-08-18T13:44:13.997918Z"
    }
   },
   "outputs": [],
   "source": [
    "import pandas as pd\n",
    "import numpy as np\n",
    "import json\n",
    "from ast import literal_eval\n",
    "import matplotlib.pyplot as plt\n",
    "%matplotlib inline\n",
    "# Make it pretty\n",
    "plt.style.use('ggplot')"
   ]
  },
  {
   "cell_type": "code",
   "execution_count": null,
   "metadata": {
    "ExecuteTime": {
     "end_time": "2018-08-18T13:39:42.827988Z",
     "start_time": "2018-08-18T13:39:35.844025Z"
    }
   },
   "outputs": [],
   "source": [
    "file = '../data/enwiki.observations.text_wp10.30k.tsv'\n",
    "data = pd.read_csv(file, sep='\\t', header=None)"
   ]
  },
  {
   "cell_type": "code",
   "execution_count": null,
   "metadata": {
    "ExecuteTime": {
     "end_time": "2018-08-18T13:40:01.234695Z",
     "start_time": "2018-08-18T13:39:54.749044Z"
    }
   },
   "outputs": [],
   "source": [
    "data = pd.DataFrame(data=list(data[0].apply(literal_eval)))"
   ]
  },
  {
   "cell_type": "code",
   "execution_count": null,
   "metadata": {
    "ExecuteTime": {
     "end_time": "2018-08-18T13:40:02.235643Z",
     "start_time": "2018-08-18T13:40:02.211831Z"
    }
   },
   "outputs": [],
   "source": [
    "p = data['text'][0]"
   ]
  },
  {
   "cell_type": "code",
   "execution_count": null,
   "metadata": {
    "ExecuteTime": {
     "end_time": "2018-08-18T13:40:03.776070Z",
     "start_time": "2018-08-18T13:40:03.752081Z"
    }
   },
   "outputs": [],
   "source": [
    "p.count('ISBN')"
   ]
  },
  {
   "cell_type": "code",
   "execution_count": null,
   "metadata": {
    "ExecuteTime": {
     "end_time": "2018-08-18T12:32:21.384776Z",
     "start_time": "2018-08-18T12:32:21.361105Z"
    }
   },
   "outputs": [],
   "source": [
    "p.count('.jpg')"
   ]
  },
  {
   "cell_type": "code",
   "execution_count": null,
   "metadata": {
    "ExecuteTime": {
     "end_time": "2018-08-18T13:04:47.056808Z",
     "start_time": "2018-08-18T13:04:46.932210Z"
    }
   },
   "outputs": [],
   "source": [
    "p.count('</ref>')"
   ]
  },
  {
   "cell_type": "code",
   "execution_count": null,
   "metadata": {
    "ExecuteTime": {
     "end_time": "2018-08-18T13:04:49.575368Z",
     "start_time": "2018-08-18T13:04:49.551104Z"
    }
   },
   "outputs": [],
   "source": [
    "p.count('<ref>')"
   ]
  },
  {
   "cell_type": "code",
   "execution_count": null,
   "metadata": {
    "ExecuteTime": {
     "end_time": "2018-08-18T12:32:33.303267Z",
     "start_time": "2018-08-18T12:32:33.271317Z"
    }
   },
   "outputs": [],
   "source": [
    "p"
   ]
  },
  {
   "cell_type": "code",
   "execution_count": null,
   "metadata": {
    "ExecuteTime": {
     "end_time": "2018-08-18T00:32:30.754938Z",
     "start_time": "2018-08-18T00:32:30.724270Z"
    }
   },
   "outputs": [],
   "source": [
    "p1 = data['text'][1]"
   ]
  },
  {
   "cell_type": "code",
   "execution_count": null,
   "metadata": {
    "ExecuteTime": {
     "end_time": "2018-08-17T22:12:03.878084Z",
     "start_time": "2018-08-17T22:12:03.854248Z"
    }
   },
   "outputs": [],
   "source": [
    "p1"
   ]
  },
  {
   "cell_type": "code",
   "execution_count": null,
   "metadata": {
    "ExecuteTime": {
     "end_time": "2018-08-17T22:22:08.950695Z",
     "start_time": "2018-08-17T22:22:08.762509Z"
    }
   },
   "outputs": [],
   "source": [
    "pn = \"\"\"\n",
    "n{{Reflist|colwidth=25em}}\\n\\n==Bibliography==\\n{{refbegin|2}}\\n\\n* Atiya, Farid & El-Shahawy, Abeer. \\'\\'The Egyptian Museum in Cairo: A Walk Through the Alleys of Ancient Egypt\\'\\'. American University in Cairo Press, 2005. ISBN 9771721836\\n* Bagliani, Agostino Paravicini. \\'\\'[http://books.google.co.uk/books?id=YrmHbBoO-a0C&pg=RA1-PA158&dq=Castrum+doloris&lr=&as_brr=3&ei=7fHaS5-sHoq2yQTbjpi-CQ&cd=9#v=onepage&q=Castrum%20doloris&f=false The Pope\\'s Body]\\'\\' University of Chicago Press, 2000, ISBN 0226034372, 9780226034379A \\n* Benton, Charlotte (ed). [http://books.google.co.uk/books?id=QjtehV6dFZ4C&pg=PA193&dq=%22!Henry+Moore%22+War+Memorial&as_brr=3&ei=I-bdS9qkBISuzASYhNX6Cw&cd=6#v=onepage&q=%22!Henry%20Moore%22%20War%20Memorial&f=false \\'\\'Figuration/Abstraction: Strategies for Public Sculpture in Europe, 1945–1968\\'\\'], Ashgate Publishing, Ltd., 2004, ISBN 0754606937, 9780754606932\\n* Berresford, Sandra, et al. [http://books.google.co.uk/books?id=QRMRKyDdNccC&pg=PA34&dq=Italian+cemetaries&as_brr=3&ei=77bYS97nCqe6yQTH2ZDQCQ&cd=3#v=onepage&q&f=false \\'\\'Italian Memorial Sculpture, 1820–1940: a Legacy of Love\\'\\'], Frances Lincoln Ltd, 2004, ISBN 071122384X, 9780711223844\\n* Board of Trustees for The Hofkirche in Innsbruck. \"[http://business.chello.at/hofkirche/english/max.htm The Memorial Tomb for Maximilian I]\", 2005.  Accessed March 22, 2010.\\n* [[John Boardman (art historian)|Boardman, John]], ed. \\'\\'The Oxford History of Classical Art\\'\\', 1993. Oxford University Press. ISBN 0-1981-4386-9\\n* Boardman, John; Edwards,  I. E. S.; Sollberger,  E. & N. G. L. Hammond, eds.  \\'\\'The Cambridge Ancient History, Volume 3, Part 2: The Assyrian and Babylonian Empires and Other States of the Near East, from the Eighth to the Sixth Centuries BC.\\'\\' Cambridge University Press; 2nd ed., 1992. ISBN 0521227178\\n* Bogucki, Peter I. [http://books.google.co.uk/books?id=E_2ZHVg5-3QC&pg=PA65&dq=neanderthal+burial+customs&as_brr=3&ei=KY_cS_idFIjUzATNn82hCQ&cd=1#v=onepage&q&f=false \\'\\'The origins of human society\\'\\'], Wiley-Blackwell, 1999, ISBN 1577181123, 9781577181125\\n*Bonnefoy, Yves. \\'\\'American, African, and Old European mythologies\\'\\', University of Chicago Press, 1993, ISBN 0226064573, 9780226064574\\n* \"[http://www.archive.org/stream/encyclopaediabri04chisrich#page/434/mode/2up/search/brasses Brasses, Monumental]\". \\'\\'Encyclopædia Britannica\\'\\'. Volume IV (11th ed.). New York: Encyclopædia Britannica, 1911,  434.\\n* Brown, Miranda. \\'\\'The Politics of Mourning in Early China\\'\\'. State University of New York Press, 2007. ISBN 0-7914-7157-8\\n* Carrier, Peter. [http://books.google.co.uk/books?id=bRshMk5sBxUC&pg=PA142&dq=war+memorial+controversy&lr=&as_brr=3&ei=-L3dS7yGNYTcygSPl-y4CQ&cd=16#v=onepage&q=war%20memorial%20controversy&f=false \\'\\'Holocaust monuments and national memory cultures in France and Germany since 1989: the origins and political function of the Vél\\' d\\'Hiv\\' in Paris and the Holocaust Monument in Berlin\\'\\'], Berghahn Books, 2006, ISBN 184545295X, 9781845452957\\n* \"Cemetery\". \\'\\'Merriam-Webster\\'s Encyclopedia of World Religions\\'\\'. Merriam-Webster, 1999, 191–2\\n* Chase, Diane Z. & Chase, Arlen F., [http://books.google.co.uk/books?id=kwxl5jjQ-dUC&pg=PA38&dq=Mesoamerican+tombs&lr=&as_brr=3&ei=aKHcS8CoJpeuywSK2LySCQ&cd=1#v=onepage&q=Mesoamerican%20tombs&f=false \\'\\'Mesoamerican Elites: An Archaeological Assessment\\'\\'], University of Oklahoma Press, 2003, ISBN 0806135425, 9780806135427\\n* [[Michael D. Coe|Coe, Michael]], Snow, Dean and [[Elizabeth P. Benson|Benson, Elizabeth P]]. \\'\\'Atlas of Ancient America\\'\\'; Facts on File, New York, 1986. ISBN 0816011990\\n* Coe, Michael. \\'\\'Mexico, from the Olmecs to the Aztecs\\'\\'. Thames and Hudson, 1994. ISBN 0-500-27722-2\\n* Cohen, Kathleen. [http://books.google.co.uk/books?id=s9FPVKYPirYC&pg=PA4&dq=memento+mori+black+death&as_brr=3&ei=xarYS6W_GaruzQTlz93tCA&cd=2#v=onepage&q=memento%20mori%20black%20death&f=false \\'\\'Metamorphosis of a death symbol: the transi tomb in the late Middle Ages and the Renaissance\\'\\'], University of California Press, 1973, ISBN 0520018443, 9780520018440\\n* Davies, Glenys. \"The Significance of the Handshake Motif in Classical Funerary Art\". \\'\\'American Journal of Archaeology\\'\\', Volume 89, No. 4, 1985. 627–640\\n* de&nbsp;Grummond, Nancy Thomson. \\'\\'Etruscan Italy today\\'\\'. In Hall, John Franklin (ed.) \\'\\'Etruscan Italy: Etruscan Influences on the Civilizations of Italy from Antiquity to the Modern Era\\'\\'. Indiana University Press, 1997. ISBN 0-8425-2334-0\\n* de&nbsp;Grummond, Nancy Thomson. \\'\\'Etruscan Myth, Sacred History, And Legend\\'\\'. University of Pennsylvania Museum Publication, 2006. ISBN 1931-7078-63\\n* Dien, Albert E. \\'\\'Six dynasties civilization\\'\\'. Early Chinese civilization series. Yale University Press, 2007. ISBN 0300074042\\n* Dowman, [http://books.google.co.uk/books?id=5AwOAAAAQAAJ&pg=PA54&dq=jangchub+chorten&lr=&as_brr=3&ei=WmDYS42-JoXkzAT-wsnLBQ&cd=2#v=onepage&q=jangchub%20chorten&f=false \\'\\'The power-places of Central Tibet: the pilgrim\\'s guide\\'\\'], Routledge, 1988, ISBN\\t0710213700, 9780710213709\\n* Downey, Glanville. \"[http://www.jstor.org/stable/627920 The Tombs of the Byzantine Emperors at the Church of the Holy Apostles in Constantinople]\". \\'\\'The Journal of Hellenic Studies\\'\\', Volume 79, 1959. 27–51.\\n* El-Shahawy, Abeer.  \\'\\'Funerary Art of Ancient Egypt\\'\\'. American University in Cairo Press, 2005. ISBN 9771723537\\n* Evasdottir, Erica E. S. [http://books.google.co.uk/books?id=H3is2aQpzl8C&pg=PA158&dq=Ding+Ling+tomb&lr=&as_brr=3&ei=-n_fS4ilB4SuzASYhNX6Cw&cd=18#v=onepage&q=Ding%20Ling%20tomb&f=false \\'\\'Obedient Autonomy: Chinese Intellectuals And The Achievement Of Orderly Life\\'\\'], UBC Press, 2005, ISBN 0774809302, 9780774809306\\n* Fletcher, Banister & Cruickshank, Dan. \\'\\'Sir Banister Fletcher\\'s a history of architecture\\'\\'. 20th ed. Oxford: Architectural Press, 1996. ISBN 0-7506-2267-9\\n* Gäbler, Ulrich. \\'\\'Huldrych Zwingli: His Life and Work\\'\\'. Philadelphia: Fortress Press, 1986. ISBN 0-8006-0761-9 \\n* Gargett, Robert H. \"[http://www.freewebs.com/gargett/Gargett1999.pdf Middle Palaeolithic burial is not a dead issue: the view from Qafzeh, Saint-Césaire, Kebara, Amud, and Dederiyeh]\". \\'\\'Journal of Human Evolution\\'\\', Volume 37, 1999. 27–90 (accessed, April 6, 2010)\\n* Giammattei, Victor Michael & Reichert, Nanci Greer. \\'\\'Art of a Vanished Race: The Mimbres Classic Black-On-White\\'\\'. Silver City NM: High Lonesome Books, 1998. ISBN 0-9443-8321-1\\n* Goldin, Paul R. \"The Motif of the Woman in the Doorway and Related Imagery in Traditional Chinese Funerary Art.\" \\'\\'Journal of the American Oriental Society\\'\\', Volume 121, No. 4, 2001.\\n* Groenewegen-Frankfort, H. A.  \\'\\'Arrest and Movement: An Essay on Space and Time in the Representational Art of the Ancient Near East\\'\\'. Belknap Press / Harvard University Press, 1987. ISBN 0674046560\\n* Groseclose, Barbara. \\'\\'British Sculpture and the Company Raj: Church Monuments and Public Statuary in Madras, Calcutta, and Bombay to 1858\\'\\', University of Delaware Press, 1995. ISBN 0874134064.\\n* Hall, James.  \\'\\'A History of Ideas and Images in Italian Art\\'\\'. London: John Murray, 1983. ISBN 0-7195-3971-4\\n* Hall, John Whitney ed. \\'\\'The Cambridge History of Japan: Early modern Japan\\'\\', Cambridge University Press, 1991. ISBN 0521223555\\n* [[Norman Hammond|Hammond, Norman]]. \\'\\'[http://www.doaks.org/publications/doaks_online_publications/Social/social03.pdf Social Patterns in Pre-Classic Mesoamerica]\\'\\'. Washington DC: [[Dumbarton Oaks Research Library and Collection]], 1999. 49–66. ISBN 0-8840-2252-8. Accessed March 22, 2010.\\n* Henderson, Jeffrey. \"The Lekythos and Frogs 1200–1248\". \\'\\'Harvard Studies in Classical Philology\\'\\', Volume 76, 1972. 133–143\\n* Holiday, Peter J. \"Processional Imagery in Late Etruscan Funerary Art.\" \\'\\'American Journal of Archaeology\\'\\', Volume 94, No. 1, 1990. 73–93\\n* Insoll Timothy. \\'\\'The Archaeology of Islam\\'\\'. Wiley-Blackwell, 1999. ISBN 0631201157\\n* James, T.G.H., \\'\\'The British Museum Concise Introduction to Ancient Egypt\\'\\'.  University of Michigan Press, 2005. ISBN 0-472-03137-6 \\n* Johnston, Sarah Iles. \\'\\'Religions of the Ancient World: A Guide\\'\\'.  Belknap Press (Harvard University Press Reference Library), 2004. ISBN 0-6740-1517-7.\\n* Kampen, Nathalie Boymel; Bergman, Bettina; Cohen, Ada & Eva Steh. \\'\\'Sexuality in Ancient Art\\'\\'. London: Cambridge University Press, 1996. ISBN 0-5214-7683-6\\n* Kipfer, Barbara Ann. \\'\\'Encyclopedic dictionary of Archaeology\\'\\', Springer, 2000. ISBN\\t0306461587, 9780306461583\\n*[[George Kubler|Kubler, George]]. \\'\\'The Art and Architecture of Ancient America: The Mexican, Maya and Andean Peoples\\'\\', Pelican History of Art, Yale University Press, 1984. ISBN 0-3000-5325-8\\n* Lee, Ki-Baik \\'\\'A New History of Korea\\'\\'. Harvard University Press, 1984. ISBN 067461576X\\n* [[Michael Levey|Levey, Michael]]. \\'\\'The World of Ottoman Art\\'\\'. Thames & Hudson, 1975. ISBN 0500270651\\n* Levey, Michael. \\'\\'Early Renaissance\\'\\'. Penguin Books Ltd. 1991. ISBN 0140137564\\n* [[J. Alden Mason|Mason, J. Alden]]. \"Zapotec Funerary Urns from Mexico\", \\'\\'The Museum Journal\\'\\', University of Pennsylvania, Volume 20, 1929. 176–201\\n* [[Gaston Maspero|Maspero, Gaston]]. [http://books.google.co.uk/books?id=bir-2r24i5wC&pg=PA124&dq=serdab&hl=en&ei=piHfS_KtAYmQOIit1K8H&sa=X&oi=book_result&ct=result&resnum=1&ved=0CDQQ6AEwAA#v=onepage&q=serdab&f=false \\'\\'Manual of Egyptian Archaeology: A Guide to the Studies of Antiquities in Egypt\\'\\'], first published 1887: 2009 reprint of later edition, ISBN 3861950960, 9783861950967\\n* Merriman, Nick. \\'\\'Public Archaeology\\'\\'. London: Routledge, 2004. ISBN 0-4152-5889-8\\n* Michalski, Sergiusz. \\'\\'The Reformation and the Visual Arts: The Protestant Image Question in Western and Eastern Europe\\'\\'. London: Routledge, 1993. ISBN 0-4150-6512-7\\n* Mohen, Jean-Pierre. \\'\\'The World of Megalites\\'\\'.  New York: Facts on File, 1990. ISBN 0-8610-2251-8\\n* Mosse, \\'\\'Fallen Soldiers: Reshaping the Memory of the World Wars\\'\\'. Oxford University Press US, 1991. ISBN 0195071395, 9780195071399\\n* Muren, Gladys \"[http://umfa.verite.com/index.php?id=NDg1 Jaina Standing Lady]\", Utah Museum of Fine Arts. Accessed April 22, 2010.\\n* Oakes, Lorna & Gahlin, Lucia. \\'\\'Ancient Egypt: An Illustrated Reference to the Myths, Religions, Pyramids and Temples of the Land of the Pharaohs\\'\\'. Hermes House, 2002. ISBN 1-84477-008-7 \\n* Oxenham, Marc F.; Tom Knight and Michael Westaway. \"Identification of Australian Aboriginal Mortuary Remains\". in Marc Oxenham. \\'\\'Forensic Approaches to Death, Disaster and Abuse\\'\\'. Bowen Hills QLD: Australian Academic Press, 2008, pp. 37–54. ISBN 9781875378906\\n* Paine, Robert Treat, and Soper Alexander. \"The Art and Architecture of Japan\", \\'\\'Pelican History of Art\\'\\'. Penguin (now Yale History of Art), 3rd ed 1981. ISBN 0140561080\\n* Park, Changbom. \\'\\'Astronomy: Traditional Korean Science\\'\\'. Ewha Womans University Press, 2008. ISBN 8973007793\\n* Petersen, Lauren Hackworth. [http://books.google.co.uk/books?id=rVoOq6k1ENwC&pg=PA99&dq=Funerary+art&lr=&as_brr=3&ei=IhreS83ZEJzayQTR6qCMCQ&cd=31#v=onepage&q=Funerary%20art&f=false \\'\\'The Freedman in Roman art and art history\\'\\'], Cambridge University Press, 2006, ISBN 0521858895, 9780521858892\\n* Pettitt, Paul. [http://www.britarch.ac.uk/ba/ba66/feat1.shtml \\'\\'When Burial Begins\\'\\'], British Archaeology, Issue 66, August 2002.\\n* Phuoc, Le Huu  \\'\\'[http://books.google.co.uk/books?id=9jb364g4BvoC&pg=PA136&dq=Buddhist+tombs&hl=en&ei=vVjQS47SDJHe-QaO8Z0O&sa=X&oi=book_result&ct=result&resnum=4&ved=0CEkQ6AEwAw#v=onepage&q=Buddhist%20tombs&f=false Buddhist Architecture], Grafikol, 2010, ISBN 0984404309, 9780984404308\\n* Piponnier, Françoise & Mane, Perrine. \\'\\'Dress in the Middle Ages\\'\\'; 151, Yale UP, 1997. ISBN 0-3000-6906-5\\n* Potter, G. R. \\'\\'Zwingli\\'\\'. Cambridge: Cambridge University Press, 1976. ISBN 0-521-20939-0\\n* Richardson, E. P. \"Zapotec Pottery Sculpture\". \\'\\'Parnassus\\'\\', Volume 4, No. 3, 1932. 48–49\\n* Richter, Gisela M. A. \"A Newly Acquired Loutrophoros\". \\'\\'The Metropolitan Museum of Art Bulletin\\'\\', Volume 23, No. 2, Part 1, 1928. 54–57\\n* Robins, Gay. \\'\\'The Art of Ancient Egypt.\\'\\' Harvard University Press, 2000. ISBN 0-674-00376-4 \\n* Ruggles, D. Fairchild. [http://books.google.co.uk/books?id=PgbjhGwfXBEC&pg=PA108&dq=Islamic+Mosque+tomb+complex&hl=en&ei=hqrUS7eQIIyoOOX8wdUN&sa=X&oi=book_result&ct=result&resnum=5&ved=0CE4Q6AEwBA#v=onepage&q=Islamic%20Mosque%20tomb%20complex&f=false \\'\\'Islamic gardens and landscapes\\'\\'], University of Pennsylvania Press, 2008, ISBN 0812240251, 9780812240252\\n* Sickman, Laurence & Soper Alexander. \"The Art and Architecture of China\", Pelican History of Art, 3rd ed 1971, Penguin (now Yale History of Art), ISBN 0140561102\\n* Smithsonian National Museum of the American Indian. \\'\\'Born of Clay: Ceramics from the National museum of the American Indian\\'\\'. NMAI Editions, 2005. ISBN 1-9335-6501-2.\\n* Spanel, Donald B. \\'\\'Through Ancient Eyes: Egyptian Portraiture\\'\\'. 2nd. Birmingham, Alabama: Birmingham Museum of Art, 1988.\\n* Stone, K. \\'\\'Image and Spirit: Finding Meaning in Visual Art\\'\\'. Minneapolis, MN: Augsburg Books, 2003.\\n* Stuart, Jan & Rawski, Evelyn Sakakida. [http://books.google.co.uk/books?id=W2aaAAAAIAAJ&printsec=frontcover&dq=Chinese+Ancestor+portraits&ei=HgjVS-eMJ5G2yASY9dCACQ&cd=1#v=onepage&q=Chinese%20Ancestor%20portraits&f=false \\'\\'Worshiping the ancestors: Chinese commemorative portraits\\'\\'], Stanford University Press, 2001, ISBN 0804742634, 9780804742634\\n*Syndicus, Eduard; \\'\\'Early Christian Art\\'\\'; Burns & Oates, London, 1962\\n* Taylor, R. E. \"The Shaft Tombs of Western Mexico: Problems in the Interpretation of Religious Function in Nonhistoric Archaeological Contexts.\" \\'\\'American Antiquity\\'\\', Volume 35, No. 2, 1970. 160–169  \\n* Thorp, Robert L. & Vinograd, Richard Ellis. \\'\\'Chinese Art and Culture\\'\\'. Prentice Hall, 2003. ISBN 0-1318-3364-2\\n* Toynbee, Jocelyn M. C. [http://books.google.co.uk/books?id=rHd1MDlV-eUC&pg=PA14&dq=Funerary+art&lr=&as_brr=3&ei=mfHeS-XqKYniywT0nb3_CA&cd=21#v=onepage&q=Funerary%20art&f=false \\'\\'Death and Burial in the Roman World\\'\\'], JHU Press. 1996. ISBN 0801855071\\n* [[UNESCO]], \\'\\'[http://whc.unesco.org/uploads/activities/documents/activity-275-1.pdf Preservation of the Koguryo Kingdom Tombs]\\'\\', 2005. (PDF)\\n* Welch, Evelyn. \\'\\'Art in Renaissance Italy, 1350–1500\\'\\'. Oxford: Oxford University Press, 2000. ISBN 0-1928-4279-X\\n* Wright, John Henry. \"Unpublished White Lekythoi from Attika.\" \\'\\'The American Journal of Archaeology and of the History of the Fine Arts\\'\\', Volume 2, No. 4, 1886. 385–407\\n{{refend}}\\n\\n==External links==\\n*[http://www.usna.edu/Users/humss/bwheeler/index_tombs.html Islamic tombs and shrines, from the United States Naval academy]\\n*[http://www.minervaconservation.com/articles/monument_handbook.pdf Handbook for identification and repair of monuments]\\n\\n{{DEFAULTSORT:Funerary Art}}\\n{{featured article}}\\n[[Category:Death customs]]\\n[[Category:Art genres]]\\n[[Category:Burial monuments and structures]]\\n\\n[[fr:Art funéraire]]\\n[[pt:Arte tumular]]\\n[[th:ศิลปะเกี่ยวกับความตาย]]'\n",
    "\"\"\""
   ]
  },
  {
   "cell_type": "code",
   "execution_count": null,
   "metadata": {
    "ExecuteTime": {
     "end_time": "2018-08-17T22:24:35.146668Z",
     "start_time": "2018-08-17T22:24:35.041967Z"
    }
   },
   "outputs": [],
   "source": [
    "pn.count('\\n')"
   ]
  },
  {
   "cell_type": "code",
   "execution_count": null,
   "metadata": {
    "ExecuteTime": {
     "end_time": "2018-08-17T22:28:10.566983Z",
     "start_time": "2018-08-17T22:28:09.622179Z"
    }
   },
   "outputs": [],
   "source": [
    "from bs4 import BeautifulSoup\n",
    "\n",
    "def strip_html_tags(html):\n",
    "    return BeautifulSoup(html, 'html.parser').text"
   ]
  },
  {
   "cell_type": "code",
   "execution_count": null,
   "metadata": {
    "ExecuteTime": {
     "end_time": "2018-08-17T23:31:51.122240Z",
     "start_time": "2018-08-17T23:31:50.637755Z"
    }
   },
   "outputs": [],
   "source": [
    "import wikipedia"
   ]
  },
  {
   "cell_type": "code",
   "execution_count": null,
   "metadata": {
    "ExecuteTime": {
     "end_time": "2018-08-17T23:32:46.567391Z",
     "start_time": "2018-08-17T23:32:45.486420Z"
    }
   },
   "outputs": [],
   "source": [
    "w = wikipedia.page(\"Funerary art\")\n",
    "content = w.content "
   ]
  },
  {
   "cell_type": "code",
   "execution_count": null,
   "metadata": {
    "ExecuteTime": {
     "end_time": "2018-08-17T23:34:42.389094Z",
     "start_time": "2018-08-17T23:34:42.357091Z"
    }
   },
   "outputs": [],
   "source": [
    "len(w.images)"
   ]
  },
  {
   "cell_type": "code",
   "execution_count": null,
   "metadata": {
    "ExecuteTime": {
     "end_time": "2018-08-17T23:34:49.390145Z",
     "start_time": "2018-08-17T23:34:49.361262Z"
    }
   },
   "outputs": [],
   "source": [
    "content"
   ]
  },
  {
   "cell_type": "code",
   "execution_count": null,
   "metadata": {
    "ExecuteTime": {
     "end_time": "2018-08-17T23:37:48.718784Z",
     "start_time": "2018-08-17T23:37:48.687083Z"
    }
   },
   "outputs": [],
   "source": []
  },
  {
   "cell_type": "code",
   "execution_count": null,
   "metadata": {
    "ExecuteTime": {
     "end_time": "2018-08-18T12:55:25.884106Z",
     "start_time": "2018-08-18T12:55:25.829511Z"
    }
   },
   "outputs": [],
   "source": [
    "data"
   ]
  },
  {
   "cell_type": "code",
   "execution_count": 1,
   "metadata": {
    "ExecuteTime": {
     "end_time": "2018-08-18T13:47:59.736875Z",
     "start_time": "2018-08-18T13:47:59.706858Z"
    }
   },
   "outputs": [],
   "source": []
  },
  {
   "cell_type": "code",
   "execution_count": null,
   "metadata": {
    "ExecuteTime": {
     "end_time": "2018-08-18T13:43:19.840423Z",
     "start_time": "2018-08-18T13:43:19.692272Z"
    }
   },
   "outputs": [],
   "source": []
  },
  {
   "cell_type": "code",
   "execution_count": null,
   "metadata": {},
   "outputs": [],
   "source": []
  }
 ],
 "metadata": {
  "kernelspec": {
   "display_name": "Python 3",
   "language": "python",
   "name": "python3"
  },
  "language_info": {
   "codemirror_mode": {
    "name": "ipython",
    "version": 3
   },
   "file_extension": ".py",
   "mimetype": "text/x-python",
   "name": "python",
   "nbconvert_exporter": "python",
   "pygments_lexer": "ipython3",
   "version": "3.6.5"
  }
 },
 "nbformat": 4,
 "nbformat_minor": 2
}
