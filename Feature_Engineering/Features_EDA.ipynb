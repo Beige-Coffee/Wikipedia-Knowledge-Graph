{
 "cells": [
  {
   "cell_type": "markdown",
   "metadata": {},
   "source": [
    "# Imports"
   ]
  },
  {
   "cell_type": "code",
   "execution_count": 127,
   "metadata": {
    "ExecuteTime": {
     "end_time": "2018-08-20T01:34:14.849063Z",
     "start_time": "2018-08-20T01:34:14.625378Z"
    }
   },
   "outputs": [],
   "source": [
    "import pandas as pd\n",
    "import numpy as np\n",
    "from ast import literal_eval\n",
    "import matplotlib.pyplot as plt\n",
    "from textstat.textstat import textstat\n",
    "from gensim.corpora import wikicorpus\n",
    "from gensim.models.doc2vec import Doc2Vec, TaggedDocument\n",
    "from sklearn.ensemble import RandomForestClassifier\n",
    "from sklearn.metrics import accuracy_score\n",
    "from sklearn.model_selection import train_test_split\n",
    "%matplotlib inline\n",
    "# Make it pretty\n",
    "plt.style.use('ggplot')"
   ]
  },
  {
   "cell_type": "markdown",
   "metadata": {},
   "source": [
    "# Read in data"
   ]
  },
  {
   "cell_type": "code",
   "execution_count": 301,
   "metadata": {
    "ExecuteTime": {
     "end_time": "2018-08-20T18:03:21.323271Z",
     "start_time": "2018-08-20T18:03:13.090683Z"
    }
   },
   "outputs": [],
   "source": [
    "file = '../data/enwiki.observations.text_wp10.30k.tsv'\n",
    "raw_data = pd.read_csv(file, sep='\\t', header=None)"
   ]
  },
  {
   "cell_type": "code",
   "execution_count": 302,
   "metadata": {
    "ExecuteTime": {
     "end_time": "2018-08-20T18:03:42.441611Z",
     "start_time": "2018-08-20T18:03:22.087525Z"
    }
   },
   "outputs": [],
   "source": [
    "data = pd.DataFrame(data=list(raw_data[0].apply(literal_eval)))\n",
    "data = data[data['text'] != \"\"]\n",
    "data = data[data['text'].str.contains(\"#redirect\") == False]\n",
    "data = data[data['text'].str.contains(\"may refer to:\\n\\n*\") == False]\n",
    "data = data[data['text'].str.contains(\"can refer to:\\n\") == False]\n",
    "data = data[data['text'].str.contains(\"could refer to:\\n\") == False]\n",
    "data = data[data['text'].str.contains(\"#REDIRECT\") == False]\n",
    "data = data[data['text'].str.contains(\"== Matches ==\\n:\") == False]\n",
    "data = data[data['text'].str.contains(\"{{underconstruction\") == False]"
   ]
  },
  {
   "cell_type": "code",
   "execution_count": 303,
   "metadata": {
    "ExecuteTime": {
     "end_time": "2018-08-20T18:03:42.536810Z",
     "start_time": "2018-08-20T18:03:42.447100Z"
    }
   },
   "outputs": [
    {
     "data": {
      "text/plain": [
       "(29353, 5)"
      ]
     },
     "execution_count": 303,
     "metadata": {},
     "output_type": "execute_result"
    }
   ],
   "source": [
    "data.shape"
   ]
  },
  {
   "cell_type": "markdown",
   "metadata": {
    "ExecuteTime": {
     "end_time": "2018-08-17T21:29:02.288443Z",
     "start_time": "2018-08-17T21:29:01.876660Z"
    }
   },
   "source": [
    "# Practice pipeline with part of data"
   ]
  },
  {
   "cell_type": "code",
   "execution_count": 304,
   "metadata": {
    "ExecuteTime": {
     "end_time": "2018-08-20T18:05:19.269181Z",
     "start_time": "2018-08-20T18:05:19.222385Z"
    }
   },
   "outputs": [],
   "source": [
    "data1000 = data[:3000]"
   ]
  },
  {
   "cell_type": "code",
   "execution_count": 305,
   "metadata": {
    "ExecuteTime": {
     "end_time": "2018-08-20T18:05:24.739729Z",
     "start_time": "2018-08-20T18:05:21.698347Z"
    }
   },
   "outputs": [
    {
     "name": "stderr",
     "output_type": "stream",
     "text": [
      "/Users/austin/anaconda3/lib/python3.6/site-packages/ipykernel_launcher.py:2: SettingWithCopyWarning: \n",
      "A value is trying to be set on a copy of a slice from a DataFrame.\n",
      "Try using .loc[row_indexer,col_indexer] = value instead\n",
      "\n",
      "See the caveats in the documentation: http://pandas.pydata.org/pandas-docs/stable/indexing.html#indexing-view-versus-copy\n",
      "  \n"
     ]
    },
    {
     "data": {
      "text/html": [
       "<div>\n",
       "<style scoped>\n",
       "    .dataframe tbody tr th:only-of-type {\n",
       "        vertical-align: middle;\n",
       "    }\n",
       "\n",
       "    .dataframe tbody tr th {\n",
       "        vertical-align: top;\n",
       "    }\n",
       "\n",
       "    .dataframe thead th {\n",
       "        text-align: right;\n",
       "    }\n",
       "</style>\n",
       "<table border=\"1\" class=\"dataframe\">\n",
       "  <thead>\n",
       "    <tr style=\"text-align: right;\">\n",
       "      <th></th>\n",
       "      <th>label</th>\n",
       "      <th>page_title</th>\n",
       "      <th>project</th>\n",
       "      <th>text</th>\n",
       "      <th>timestamp</th>\n",
       "    </tr>\n",
       "  </thead>\n",
       "  <tbody>\n",
       "    <tr>\n",
       "      <th>0</th>\n",
       "      <td>5</td>\n",
       "      <td>Funerary art</td>\n",
       "      <td>visual arts</td>\n",
       "      <td>[[Image:GD-FR-Paris-Louvre-Sculptures034.JPG|3...</td>\n",
       "      <td>20100504203659</td>\n",
       "    </tr>\n",
       "    <tr>\n",
       "      <th>1</th>\n",
       "      <td>5</td>\n",
       "      <td>Battle of Warsaw (1920)</td>\n",
       "      <td>russia</td>\n",
       "      <td>{{Infobox Military Conflict\\n|conflict=Battle ...</td>\n",
       "      <td>20070111175847</td>\n",
       "    </tr>\n",
       "    <tr>\n",
       "      <th>2</th>\n",
       "      <td>2</td>\n",
       "      <td>Henry Digby (Royal Navy officer)</td>\n",
       "      <td>biography</td>\n",
       "      <td>{{Use British English|date=August 2011}}\\n{{Us...</td>\n",
       "      <td>20111205102850</td>\n",
       "    </tr>\n",
       "    <tr>\n",
       "      <th>3</th>\n",
       "      <td>2</td>\n",
       "      <td>Ottawa Redblacks</td>\n",
       "      <td>canadian football</td>\n",
       "      <td>{{Use mdy dates|date=May 2013}}\\n{{Infobox CFL...</td>\n",
       "      <td>20140513220942</td>\n",
       "    </tr>\n",
       "    <tr>\n",
       "      <th>4</th>\n",
       "      <td>2</td>\n",
       "      <td>Qimonda</td>\n",
       "      <td>germany</td>\n",
       "      <td>{{Infobox_Company |\\n  company_name   = Qimond...</td>\n",
       "      <td>20090315202104</td>\n",
       "    </tr>\n",
       "    <tr>\n",
       "      <th>5</th>\n",
       "      <td>1</td>\n",
       "      <td>Ocracoke, North Carolina</td>\n",
       "      <td>project north carolina</td>\n",
       "      <td>{{Infobox Settlement\\n|official_name          ...</td>\n",
       "      <td>20080911150022</td>\n",
       "    </tr>\n",
       "    <tr>\n",
       "      <th>6</th>\n",
       "      <td>2</td>\n",
       "      <td>Erik Wilhelm</td>\n",
       "      <td>biography</td>\n",
       "      <td>{{construction}}\\n\\n{{Infobox NFL player\\n| im...</td>\n",
       "      <td>20141125183748</td>\n",
       "    </tr>\n",
       "    <tr>\n",
       "      <th>7</th>\n",
       "      <td>0</td>\n",
       "      <td>Kolibite</td>\n",
       "      <td>bulgaria</td>\n",
       "      <td>{{Infobox settlement \\n|official_name =Kolibit...</td>\n",
       "      <td>20120524063028</td>\n",
       "    </tr>\n",
       "    <tr>\n",
       "      <th>8</th>\n",
       "      <td>3</td>\n",
       "      <td>Edouard Borovansky</td>\n",
       "      <td>ballet</td>\n",
       "      <td>{{Infobox Person\\n| name   = Edouard Borovansk...</td>\n",
       "      <td>20110208153146</td>\n",
       "    </tr>\n",
       "    <tr>\n",
       "      <th>9</th>\n",
       "      <td>0</td>\n",
       "      <td>Jacek Wiśniewski</td>\n",
       "      <td>poland</td>\n",
       "      <td>{{Football player infobox\\n| playername= Jacek...</td>\n",
       "      <td>20090105062145</td>\n",
       "    </tr>\n",
       "    <tr>\n",
       "      <th>10</th>\n",
       "      <td>4</td>\n",
       "      <td>Ty Cobb</td>\n",
       "      <td>baseball-wikiproject</td>\n",
       "      <td>{{Infobox baseball player \\n| name=Cobb, Tyrus...</td>\n",
       "      <td>20070301084412</td>\n",
       "    </tr>\n",
       "    <tr>\n",
       "      <th>11</th>\n",
       "      <td>3</td>\n",
       "      <td>Balian of Ibelin</td>\n",
       "      <td>biography</td>\n",
       "      <td>[[Image:Balian of Ibelin seal.jpg|frame|Drawin...</td>\n",
       "      <td>20070227140745</td>\n",
       "    </tr>\n",
       "    <tr>\n",
       "      <th>12</th>\n",
       "      <td>1</td>\n",
       "      <td>Ian Keith Harris</td>\n",
       "      <td>composers</td>\n",
       "      <td>{{orphan|date=January 2010}}\\n\\n[[Image:Ian.Ha...</td>\n",
       "      <td>20100118120602</td>\n",
       "    </tr>\n",
       "    <tr>\n",
       "      <th>13</th>\n",
       "      <td>2</td>\n",
       "      <td>Hajnal Ban</td>\n",
       "      <td>australia</td>\n",
       "      <td>{{Use dmy dates|date=May 2011}}\\n{{Use Austral...</td>\n",
       "      <td>20121024020410</td>\n",
       "    </tr>\n",
       "    <tr>\n",
       "      <th>14</th>\n",
       "      <td>3</td>\n",
       "      <td>Rudra</td>\n",
       "      <td>india</td>\n",
       "      <td>{{otheruses}}\\n\\n{{For|the later development o...</td>\n",
       "      <td>20081220061041</td>\n",
       "    </tr>\n",
       "    <tr>\n",
       "      <th>15</th>\n",
       "      <td>4</td>\n",
       "      <td>John Woodland Hastings</td>\n",
       "      <td>articles for creation</td>\n",
       "      <td>=='''Woody Hastings'''==\\n\\n{{Infobox_Scientis...</td>\n",
       "      <td>20100711161213</td>\n",
       "    </tr>\n",
       "    <tr>\n",
       "      <th>16</th>\n",
       "      <td>2</td>\n",
       "      <td>Naukabout Music Festival</td>\n",
       "      <td>massachusetts</td>\n",
       "      <td>{{Infobox music festival\\n| music_festival_nam...</td>\n",
       "      <td>20101105194510</td>\n",
       "    </tr>\n",
       "    <tr>\n",
       "      <th>17</th>\n",
       "      <td>4</td>\n",
       "      <td>Amanita nothofagi</td>\n",
       "      <td>new zealand</td>\n",
       "      <td>{{Good article}}\\n{{fixBunching|beg}}\\n{{Taxob...</td>\n",
       "      <td>20110215033013</td>\n",
       "    </tr>\n",
       "    <tr>\n",
       "      <th>18</th>\n",
       "      <td>3</td>\n",
       "      <td>Taoist sexual practices</td>\n",
       "      <td>taoism</td>\n",
       "      <td>&lt;div class=\"floatright\"&gt;[[Image:Heqi.JPG|300px...</td>\n",
       "      <td>20061218195633</td>\n",
       "    </tr>\n",
       "    <tr>\n",
       "      <th>19</th>\n",
       "      <td>0</td>\n",
       "      <td>Margarete Steiff</td>\n",
       "      <td>toys</td>\n",
       "      <td>[[Image:Steiffmargarete.jpg|thumb|Margarete St...</td>\n",
       "      <td>20120510192213</td>\n",
       "    </tr>\n",
       "    <tr>\n",
       "      <th>20</th>\n",
       "      <td>1</td>\n",
       "      <td>Adikavi Pampa</td>\n",
       "      <td>jainism</td>\n",
       "      <td>'''Pampa''' ([[Kannada]]: ಪಂಪ) born in [[902]]...</td>\n",
       "      <td>20070811185553</td>\n",
       "    </tr>\n",
       "    <tr>\n",
       "      <th>21</th>\n",
       "      <td>4</td>\n",
       "      <td>Walden–Wallkill Rail Trail</td>\n",
       "      <td>hikingproject</td>\n",
       "      <td>{{good article}}{{Coord|41.57434|-74.1811|form...</td>\n",
       "      <td>20110107063719</td>\n",
       "    </tr>\n",
       "    <tr>\n",
       "      <th>22</th>\n",
       "      <td>0</td>\n",
       "      <td>Agis I</td>\n",
       "      <td>biography</td>\n",
       "      <td>'''Agis I''' was a son of [[Eurysthenes]], fou...</td>\n",
       "      <td>20060818170515</td>\n",
       "    </tr>\n",
       "    <tr>\n",
       "      <th>23</th>\n",
       "      <td>3</td>\n",
       "      <td>Glucocorticoid receptor</td>\n",
       "      <td>mcb</td>\n",
       "      <td>&lt;!-- The PBB_Controls template provides contro...</td>\n",
       "      <td>20080318041107</td>\n",
       "    </tr>\n",
       "    <tr>\n",
       "      <th>24</th>\n",
       "      <td>2</td>\n",
       "      <td>Martha Christina Tiahahu</td>\n",
       "      <td>indonesia</td>\n",
       "      <td>{{Infobox person\\n| honorific_prefix          ...</td>\n",
       "      <td>20111227102907</td>\n",
       "    </tr>\n",
       "    <tr>\n",
       "      <th>25</th>\n",
       "      <td>2</td>\n",
       "      <td>St Peter's Church, Barton-upon-Humber</td>\n",
       "      <td>anglicanism</td>\n",
       "      <td>{{Infobox church\\n| name                   = S...</td>\n",
       "      <td>20110815093201</td>\n",
       "    </tr>\n",
       "    <tr>\n",
       "      <th>26</th>\n",
       "      <td>3</td>\n",
       "      <td>Line 4 Sheppard</td>\n",
       "      <td>trainswikiproject</td>\n",
       "      <td>{{Toronto_Subway_Lines}}\\nThe '''Sheppard Line...</td>\n",
       "      <td>20061004191702</td>\n",
       "    </tr>\n",
       "    <tr>\n",
       "      <th>27</th>\n",
       "      <td>2</td>\n",
       "      <td>Dukes of Acerenza</td>\n",
       "      <td>spain</td>\n",
       "      <td>{{one source|date=March 2010}}\\n{{Cleanup|date...</td>\n",
       "      <td>20100331013935</td>\n",
       "    </tr>\n",
       "    <tr>\n",
       "      <th>28</th>\n",
       "      <td>2</td>\n",
       "      <td>Morgellons</td>\n",
       "      <td>med</td>\n",
       "      <td>{{Infobox Disease\\n | Name           = Morgell...</td>\n",
       "      <td>20110106222845</td>\n",
       "    </tr>\n",
       "    <tr>\n",
       "      <th>29</th>\n",
       "      <td>0</td>\n",
       "      <td>Deh Tang</td>\n",
       "      <td>geography</td>\n",
       "      <td>{{Infobox settlement\\n|official_name =Deh Tang...</td>\n",
       "      <td>20121214015812</td>\n",
       "    </tr>\n",
       "    <tr>\n",
       "      <th>...</th>\n",
       "      <td>...</td>\n",
       "      <td>...</td>\n",
       "      <td>...</td>\n",
       "      <td>...</td>\n",
       "      <td>...</td>\n",
       "    </tr>\n",
       "    <tr>\n",
       "      <th>2984</th>\n",
       "      <td>0</td>\n",
       "      <td>Annick Thoumazeau</td>\n",
       "      <td>bio</td>\n",
       "      <td>'''Annick Thoumazeau''' (born in [[Fréjus]] in...</td>\n",
       "      <td>20131212160426</td>\n",
       "    </tr>\n",
       "    <tr>\n",
       "      <th>2985</th>\n",
       "      <td>1</td>\n",
       "      <td>Ferdinand von Richthofen</td>\n",
       "      <td>germany</td>\n",
       "      <td>{{Infobox Scientist\\n|name              = Ferd...</td>\n",
       "      <td>20100130005046</td>\n",
       "    </tr>\n",
       "    <tr>\n",
       "      <th>2986</th>\n",
       "      <td>4</td>\n",
       "      <td>Spotlight (Madonna song)</td>\n",
       "      <td>songs</td>\n",
       "      <td>{{Infobox Single |\\n| Name           = Spotlig...</td>\n",
       "      <td>20100609063809</td>\n",
       "    </tr>\n",
       "    <tr>\n",
       "      <th>2987</th>\n",
       "      <td>1</td>\n",
       "      <td>Theodor Leutwein</td>\n",
       "      <td>biography</td>\n",
       "      <td>[[Image:Leutwein.png|right|thumb|350px|Theodor...</td>\n",
       "      <td>20080201230951</td>\n",
       "    </tr>\n",
       "    <tr>\n",
       "      <th>2988</th>\n",
       "      <td>2</td>\n",
       "      <td>Nutbourne Windmill</td>\n",
       "      <td>mills</td>\n",
       "      <td>{{Infobox Windmill\\n|name               = Nutb...</td>\n",
       "      <td>20090624212403</td>\n",
       "    </tr>\n",
       "    <tr>\n",
       "      <th>2989</th>\n",
       "      <td>1</td>\n",
       "      <td>SkyCable</td>\n",
       "      <td>philippines</td>\n",
       "      <td>{{Copyedit|date=December 2007}}\\n\\n{{Infobox C...</td>\n",
       "      <td>20071208151701</td>\n",
       "    </tr>\n",
       "    <tr>\n",
       "      <th>2990</th>\n",
       "      <td>5</td>\n",
       "      <td>Howie Morenz</td>\n",
       "      <td>chicagowikiproject</td>\n",
       "      <td>{{Infobox Ice Hockey Player\\n| image= Morenz19...</td>\n",
       "      <td>20091028024300</td>\n",
       "    </tr>\n",
       "    <tr>\n",
       "      <th>2991</th>\n",
       "      <td>0</td>\n",
       "      <td>Room Service (song)</td>\n",
       "      <td>rock</td>\n",
       "      <td>{{Infobox Single &lt;!-- See Wikipedia:WikiProjec...</td>\n",
       "      <td>20081019100604</td>\n",
       "    </tr>\n",
       "    <tr>\n",
       "      <th>2992</th>\n",
       "      <td>0</td>\n",
       "      <td>Kataharamachi Station (Toyama)</td>\n",
       "      <td>japan</td>\n",
       "      <td>The {{nihongo|'''Katahara-machi Station'''|片原町...</td>\n",
       "      <td>20070921213823</td>\n",
       "    </tr>\n",
       "    <tr>\n",
       "      <th>2993</th>\n",
       "      <td>3</td>\n",
       "      <td>Gene Taylor (Mississippi politician)</td>\n",
       "      <td>mississippi</td>\n",
       "      <td>{{otheruses|Gene Taylor (disambiguation)}}\\n{{...</td>\n",
       "      <td>20090602075038</td>\n",
       "    </tr>\n",
       "    <tr>\n",
       "      <th>2994</th>\n",
       "      <td>5</td>\n",
       "      <td>Hurricane Kate (1985)</td>\n",
       "      <td>hurricane</td>\n",
       "      <td>{{featured article}}\\n{{Infobox Hurricane\\n| n...</td>\n",
       "      <td>20140624175001</td>\n",
       "    </tr>\n",
       "    <tr>\n",
       "      <th>2995</th>\n",
       "      <td>5</td>\n",
       "      <td>William Garrow</td>\n",
       "      <td>biography</td>\n",
       "      <td>{{Infobox Judge\\n|image =  Urn-3 HLS.LIBR 9699...</td>\n",
       "      <td>20100113041036</td>\n",
       "    </tr>\n",
       "    <tr>\n",
       "      <th>2996</th>\n",
       "      <td>2</td>\n",
       "      <td>Anuradhapura</td>\n",
       "      <td>sinhalese monarchy</td>\n",
       "      <td>{{About|the city in Sri Lanka|the administrati...</td>\n",
       "      <td>20140904100840</td>\n",
       "    </tr>\n",
       "    <tr>\n",
       "      <th>2997</th>\n",
       "      <td>3</td>\n",
       "      <td>Al Costello</td>\n",
       "      <td>pro-wrestling</td>\n",
       "      <td>{{Infobox Wrestler\\n|name=Giacamo Costa {{flag...</td>\n",
       "      <td>20070805202412</td>\n",
       "    </tr>\n",
       "    <tr>\n",
       "      <th>2998</th>\n",
       "      <td>2</td>\n",
       "      <td>Dreams Come True (CANT album)</td>\n",
       "      <td>album</td>\n",
       "      <td>{{Infobox album\\n| Name = Dreams Come True\\n| ...</td>\n",
       "      <td>20141125200616</td>\n",
       "    </tr>\n",
       "    <tr>\n",
       "      <th>2999</th>\n",
       "      <td>1</td>\n",
       "      <td>On Your Way, Riley</td>\n",
       "      <td>television</td>\n",
       "      <td>[[Image:murphy-lucan-riley.jpg|thumb|right|[[B...</td>\n",
       "      <td>20130608052638</td>\n",
       "    </tr>\n",
       "    <tr>\n",
       "      <th>3000</th>\n",
       "      <td>1</td>\n",
       "      <td>494th Fighter Squadron</td>\n",
       "      <td>aviation</td>\n",
       "      <td>{{Infobox Military Unit\\n|unit_name= 494th Fig...</td>\n",
       "      <td>20091217000652</td>\n",
       "    </tr>\n",
       "    <tr>\n",
       "      <th>3001</th>\n",
       "      <td>3</td>\n",
       "      <td>Claude Shannon</td>\n",
       "      <td>sys rating</td>\n",
       "      <td>{{Infobox_Scientist \\n|name = Claude Shannon\\n...</td>\n",
       "      <td>20080629211958</td>\n",
       "    </tr>\n",
       "    <tr>\n",
       "      <th>3002</th>\n",
       "      <td>1</td>\n",
       "      <td>Mark Watson (Canadian soccer)</td>\n",
       "      <td>united states</td>\n",
       "      <td>{{for|the English football (soccer) player|Mar...</td>\n",
       "      <td>20101214163430</td>\n",
       "    </tr>\n",
       "    <tr>\n",
       "      <th>3003</th>\n",
       "      <td>3</td>\n",
       "      <td>List of Sakura Wars media</td>\n",
       "      <td>vgproj</td>\n",
       "      <td>This is a list of titles relating to the {{nih...</td>\n",
       "      <td>20080105191311</td>\n",
       "    </tr>\n",
       "    <tr>\n",
       "      <th>3004</th>\n",
       "      <td>1</td>\n",
       "      <td>Edward Bodkin</td>\n",
       "      <td>indiana</td>\n",
       "      <td>{{Refimprove|date=July 2009}}{{Orphan|date=Feb...</td>\n",
       "      <td>20090804125833</td>\n",
       "    </tr>\n",
       "    <tr>\n",
       "      <th>3005</th>\n",
       "      <td>3</td>\n",
       "      <td>Fishing industry in Russia</td>\n",
       "      <td>russia</td>\n",
       "      <td>{|{{Infobox Fishery Begin}}\\n{{Infobox Fishery...</td>\n",
       "      <td>20090206183154</td>\n",
       "    </tr>\n",
       "    <tr>\n",
       "      <th>3006</th>\n",
       "      <td>3</td>\n",
       "      <td>Requiem</td>\n",
       "      <td>science fiction project</td>\n",
       "      <td>{{otheruses}}\\n\\n{{Split-apart|date=February 2...</td>\n",
       "      <td>20090723091908</td>\n",
       "    </tr>\n",
       "    <tr>\n",
       "      <th>3007</th>\n",
       "      <td>1</td>\n",
       "      <td>Harpoon Brewery</td>\n",
       "      <td>food and drink</td>\n",
       "      <td>{{Unreferenced|date=March 2008}}\\n\\n{{Infobox ...</td>\n",
       "      <td>20100425164520</td>\n",
       "    </tr>\n",
       "    <tr>\n",
       "      <th>3008</th>\n",
       "      <td>5</td>\n",
       "      <td>List of Ashes series</td>\n",
       "      <td>cricket</td>\n",
       "      <td>[[Image:Ashes Urn.jpg|right|thumb|The Ashes [[...</td>\n",
       "      <td>20070619061040</td>\n",
       "    </tr>\n",
       "    <tr>\n",
       "      <th>3009</th>\n",
       "      <td>2</td>\n",
       "      <td>When Björk Met Attenborough</td>\n",
       "      <td>björk</td>\n",
       "      <td>{{Infobox television\\n| show_name            =...</td>\n",
       "      <td>20140401111903</td>\n",
       "    </tr>\n",
       "    <tr>\n",
       "      <th>3010</th>\n",
       "      <td>0</td>\n",
       "      <td>Britannia Points Halt railway station</td>\n",
       "      <td>:kent</td>\n",
       "      <td>{{Infobox UK station|                    \\nnam...</td>\n",
       "      <td>20070814200437</td>\n",
       "    </tr>\n",
       "    <tr>\n",
       "      <th>3011</th>\n",
       "      <td>3</td>\n",
       "      <td>SS Empire Morn</td>\n",
       "      <td>ships</td>\n",
       "      <td>{|{{Infobox Ship Begin}}\\n{{Infobox Ship Image...</td>\n",
       "      <td>20090425200020</td>\n",
       "    </tr>\n",
       "    <tr>\n",
       "      <th>3012</th>\n",
       "      <td>2</td>\n",
       "      <td>Maria Bartiromo</td>\n",
       "      <td>new york</td>\n",
       "      <td>{{Infobox journalist\\n| name        = Maria Ba...</td>\n",
       "      <td>20090302093251</td>\n",
       "    </tr>\n",
       "    <tr>\n",
       "      <th>3013</th>\n",
       "      <td>3</td>\n",
       "      <td>Medium Tank M7</td>\n",
       "      <td>milhist</td>\n",
       "      <td>{{Infobox Weapon\\n|name=Medium Tank M7\\n|image...</td>\n",
       "      <td>20150314231356</td>\n",
       "    </tr>\n",
       "  </tbody>\n",
       "</table>\n",
       "<p>3000 rows × 5 columns</p>\n",
       "</div>"
      ],
      "text/plain": [
       "      label                             page_title                  project  \\\n",
       "0         5                           Funerary art              visual arts   \n",
       "1         5                Battle of Warsaw (1920)                   russia   \n",
       "2         2       Henry Digby (Royal Navy officer)                biography   \n",
       "3         2                       Ottawa Redblacks        canadian football   \n",
       "4         2                                Qimonda                  germany   \n",
       "5         1               Ocracoke, North Carolina   project north carolina   \n",
       "6         2                           Erik Wilhelm                biography   \n",
       "7         0                               Kolibite                 bulgaria   \n",
       "8         3                     Edouard Borovansky                   ballet   \n",
       "9         0                       Jacek Wiśniewski                   poland   \n",
       "10        4                                Ty Cobb     baseball-wikiproject   \n",
       "11        3                       Balian of Ibelin                biography   \n",
       "12        1                       Ian Keith Harris                composers   \n",
       "13        2                             Hajnal Ban                australia   \n",
       "14        3                                  Rudra                    india   \n",
       "15        4                 John Woodland Hastings    articles for creation   \n",
       "16        2               Naukabout Music Festival            massachusetts   \n",
       "17        4                      Amanita nothofagi              new zealand   \n",
       "18        3                Taoist sexual practices                   taoism   \n",
       "19        0                       Margarete Steiff                     toys   \n",
       "20        1                          Adikavi Pampa                  jainism   \n",
       "21        4             Walden–Wallkill Rail Trail            hikingproject   \n",
       "22        0                                 Agis I                biography   \n",
       "23        3                Glucocorticoid receptor                      mcb   \n",
       "24        2               Martha Christina Tiahahu                indonesia   \n",
       "25        2  St Peter's Church, Barton-upon-Humber              anglicanism   \n",
       "26        3                        Line 4 Sheppard        trainswikiproject   \n",
       "27        2                      Dukes of Acerenza                    spain   \n",
       "28        2                             Morgellons                      med   \n",
       "29        0                               Deh Tang                geography   \n",
       "...     ...                                    ...                      ...   \n",
       "2984      0                      Annick Thoumazeau                      bio   \n",
       "2985      1               Ferdinand von Richthofen                  germany   \n",
       "2986      4               Spotlight (Madonna song)                    songs   \n",
       "2987      1                       Theodor Leutwein                biography   \n",
       "2988      2                     Nutbourne Windmill                    mills   \n",
       "2989      1                               SkyCable              philippines   \n",
       "2990      5                           Howie Morenz       chicagowikiproject   \n",
       "2991      0                    Room Service (song)                     rock   \n",
       "2992      0         Kataharamachi Station (Toyama)                    japan   \n",
       "2993      3   Gene Taylor (Mississippi politician)              mississippi   \n",
       "2994      5                  Hurricane Kate (1985)                hurricane   \n",
       "2995      5                         William Garrow                biography   \n",
       "2996      2                           Anuradhapura       sinhalese monarchy   \n",
       "2997      3                            Al Costello            pro-wrestling   \n",
       "2998      2          Dreams Come True (CANT album)                    album   \n",
       "2999      1                     On Your Way, Riley               television   \n",
       "3000      1                 494th Fighter Squadron                 aviation   \n",
       "3001      3                         Claude Shannon               sys rating   \n",
       "3002      1          Mark Watson (Canadian soccer)            united states   \n",
       "3003      3              List of Sakura Wars media                   vgproj   \n",
       "3004      1                          Edward Bodkin                  indiana   \n",
       "3005      3             Fishing industry in Russia                   russia   \n",
       "3006      3                                Requiem  science fiction project   \n",
       "3007      1                        Harpoon Brewery           food and drink   \n",
       "3008      5                   List of Ashes series                  cricket   \n",
       "3009      2            When Björk Met Attenborough                    björk   \n",
       "3010      0  Britannia Points Halt railway station                    :kent   \n",
       "3011      3                         SS Empire Morn                    ships   \n",
       "3012      2                        Maria Bartiromo                 new york   \n",
       "3013      3                         Medium Tank M7                  milhist   \n",
       "\n",
       "                                                   text       timestamp  \n",
       "0     [[Image:GD-FR-Paris-Louvre-Sculptures034.JPG|3...  20100504203659  \n",
       "1     {{Infobox Military Conflict\\n|conflict=Battle ...  20070111175847  \n",
       "2     {{Use British English|date=August 2011}}\\n{{Us...  20111205102850  \n",
       "3     {{Use mdy dates|date=May 2013}}\\n{{Infobox CFL...  20140513220942  \n",
       "4     {{Infobox_Company |\\n  company_name   = Qimond...  20090315202104  \n",
       "5     {{Infobox Settlement\\n|official_name          ...  20080911150022  \n",
       "6     {{construction}}\\n\\n{{Infobox NFL player\\n| im...  20141125183748  \n",
       "7     {{Infobox settlement \\n|official_name =Kolibit...  20120524063028  \n",
       "8     {{Infobox Person\\n| name   = Edouard Borovansk...  20110208153146  \n",
       "9     {{Football player infobox\\n| playername= Jacek...  20090105062145  \n",
       "10    {{Infobox baseball player \\n| name=Cobb, Tyrus...  20070301084412  \n",
       "11    [[Image:Balian of Ibelin seal.jpg|frame|Drawin...  20070227140745  \n",
       "12    {{orphan|date=January 2010}}\\n\\n[[Image:Ian.Ha...  20100118120602  \n",
       "13    {{Use dmy dates|date=May 2011}}\\n{{Use Austral...  20121024020410  \n",
       "14    {{otheruses}}\\n\\n{{For|the later development o...  20081220061041  \n",
       "15    =='''Woody Hastings'''==\\n\\n{{Infobox_Scientis...  20100711161213  \n",
       "16    {{Infobox music festival\\n| music_festival_nam...  20101105194510  \n",
       "17    {{Good article}}\\n{{fixBunching|beg}}\\n{{Taxob...  20110215033013  \n",
       "18    <div class=\"floatright\">[[Image:Heqi.JPG|300px...  20061218195633  \n",
       "19    [[Image:Steiffmargarete.jpg|thumb|Margarete St...  20120510192213  \n",
       "20    '''Pampa''' ([[Kannada]]: ಪಂಪ) born in [[902]]...  20070811185553  \n",
       "21    {{good article}}{{Coord|41.57434|-74.1811|form...  20110107063719  \n",
       "22    '''Agis I''' was a son of [[Eurysthenes]], fou...  20060818170515  \n",
       "23    <!-- The PBB_Controls template provides contro...  20080318041107  \n",
       "24    {{Infobox person\\n| honorific_prefix          ...  20111227102907  \n",
       "25    {{Infobox church\\n| name                   = S...  20110815093201  \n",
       "26    {{Toronto_Subway_Lines}}\\nThe '''Sheppard Line...  20061004191702  \n",
       "27    {{one source|date=March 2010}}\\n{{Cleanup|date...  20100331013935  \n",
       "28    {{Infobox Disease\\n | Name           = Morgell...  20110106222845  \n",
       "29    {{Infobox settlement\\n|official_name =Deh Tang...  20121214015812  \n",
       "...                                                 ...             ...  \n",
       "2984  '''Annick Thoumazeau''' (born in [[Fréjus]] in...  20131212160426  \n",
       "2985  {{Infobox Scientist\\n|name              = Ferd...  20100130005046  \n",
       "2986  {{Infobox Single |\\n| Name           = Spotlig...  20100609063809  \n",
       "2987  [[Image:Leutwein.png|right|thumb|350px|Theodor...  20080201230951  \n",
       "2988  {{Infobox Windmill\\n|name               = Nutb...  20090624212403  \n",
       "2989  {{Copyedit|date=December 2007}}\\n\\n{{Infobox C...  20071208151701  \n",
       "2990  {{Infobox Ice Hockey Player\\n| image= Morenz19...  20091028024300  \n",
       "2991  {{Infobox Single <!-- See Wikipedia:WikiProjec...  20081019100604  \n",
       "2992  The {{nihongo|'''Katahara-machi Station'''|片原町...  20070921213823  \n",
       "2993  {{otheruses|Gene Taylor (disambiguation)}}\\n{{...  20090602075038  \n",
       "2994  {{featured article}}\\n{{Infobox Hurricane\\n| n...  20140624175001  \n",
       "2995  {{Infobox Judge\\n|image =  Urn-3 HLS.LIBR 9699...  20100113041036  \n",
       "2996  {{About|the city in Sri Lanka|the administrati...  20140904100840  \n",
       "2997  {{Infobox Wrestler\\n|name=Giacamo Costa {{flag...  20070805202412  \n",
       "2998  {{Infobox album\\n| Name = Dreams Come True\\n| ...  20141125200616  \n",
       "2999  [[Image:murphy-lucan-riley.jpg|thumb|right|[[B...  20130608052638  \n",
       "3000  {{Infobox Military Unit\\n|unit_name= 494th Fig...  20091217000652  \n",
       "3001  {{Infobox_Scientist \\n|name = Claude Shannon\\n...  20080629211958  \n",
       "3002  {{for|the English football (soccer) player|Mar...  20101214163430  \n",
       "3003  This is a list of titles relating to the {{nih...  20080105191311  \n",
       "3004  {{Refimprove|date=July 2009}}{{Orphan|date=Feb...  20090804125833  \n",
       "3005  {|{{Infobox Fishery Begin}}\\n{{Infobox Fishery...  20090206183154  \n",
       "3006  {{otheruses}}\\n\\n{{Split-apart|date=February 2...  20090723091908  \n",
       "3007  {{Unreferenced|date=March 2008}}\\n\\n{{Infobox ...  20100425164520  \n",
       "3008  [[Image:Ashes Urn.jpg|right|thumb|The Ashes [[...  20070619061040  \n",
       "3009  {{Infobox television\\n| show_name            =...  20140401111903  \n",
       "3010  {{Infobox UK station|                    \\nnam...  20070814200437  \n",
       "3011  {|{{Infobox Ship Begin}}\\n{{Infobox Ship Image...  20090425200020  \n",
       "3012  {{Infobox journalist\\n| name        = Maria Ba...  20090302093251  \n",
       "3013  {{Infobox Weapon\\n|name=Medium Tank M7\\n|image...  20150314231356  \n",
       "\n",
       "[3000 rows x 5 columns]"
      ]
     },
     "execution_count": 305,
     "metadata": {},
     "output_type": "execute_result"
    }
   ],
   "source": [
    "classes = {\"stub\": 0, \"start\": 1, \"c\": 2, \"b\": 3, \"ga\": 4, \"fa\": 5} \n",
    "data1000[\"label\"] = data1000['label'].map(classes)\n",
    "data1000"
   ]
  },
  {
   "cell_type": "markdown",
   "metadata": {
    "ExecuteTime": {
     "end_time": "2018-08-18T22:06:03.276330Z",
     "start_time": "2018-08-18T22:06:03.217775Z"
    }
   },
   "source": [
    "# Random Forest Test"
   ]
  },
  {
   "cell_type": "code",
   "execution_count": 306,
   "metadata": {
    "ExecuteTime": {
     "end_time": "2018-08-20T18:05:40.220120Z",
     "start_time": "2018-08-20T18:05:40.128093Z"
    }
   },
   "outputs": [],
   "source": [
    "def clean_wiki_markup(raw_article):\n",
    "    semi_cleaned_article = wikicorpus.filter_wiki(raw_article)\n",
    "    cleaned_article = semi_cleaned_article.replace(\"\\n\", \"\").replace(\"\\'\", \"\").replace(\"()\", \"\").replace(\"=\", \"\").replace(\"|alt\",\"\").replace(\"\\xa0\",\"\")\n",
    "    return cleaned_article\n",
    "\n",
    "def find_num_categories(raw_article):\n",
    "    return raw_article.count(\"[[Category:\")\n",
    "\n",
    "def find_num_images(raw_article):\n",
    "    return raw_article.count(\"[[Image:\")\n",
    "\n",
    "def find_num_ISBN(raw_article):\n",
    "    return raw_article.count(\"ISBN\")\n",
    "\n",
    "def find_num_references(raw_article):\n",
    "    return raw_article.count(\"</ref>\")\n",
    "\n",
    "def find_article_length(cleaned_article):\n",
    "    return len(cleaned_article)\n",
    "\n",
    "def find_num_difficult_words(cleaned_article):\n",
    "    return textstat.difficult_words(cleaned_article)\n",
    "\n",
    "def find_dale_chall_readability_score(cleaned_article):\n",
    "    return textstat.dale_chall_readability_score(cleaned_article)\n",
    "\n",
    "def find_automated_readability_index(cleaned_article):\n",
    "    return textstat.automated_readability_index(cleaned_article)\n",
    "\n",
    "def find_linsear_write_formula(cleaned_article):\n",
    "    return textstat.linsear_write_formula(cleaned_article)\n",
    "\n",
    "def find_gunning_fog_index(cleaned_article):\n",
    "    return textstat.gunning_fog(cleaned_article)\n",
    "\n",
    "def find_syllable_count(cleaned_article):\n",
    "    return textstat.syllable_count(cleaned_article)\n",
    "\n",
    "def find_lexicon_count(cleaned_article):\n",
    "    return textstat.lexicon_count(cleaned_article, removepunct=True)\n",
    "\n",
    "def find_sentence_count(cleaned_article):\n",
    "    return textstat.sentence_count(cleaned_article)\n",
    "\n",
    "def find_smog_index(cleaned_article):\n",
    "    return textstat.smog_index(cleaned_article)\n",
    "\n",
    "def find_num_web_citations(raw_article):\n",
    "    return raw_article.count(\"{{cite web\")\n",
    "\n",
    "def find_num_book_citations(raw_article):\n",
    "    return raw_article.count(\"{{cite book\")\n",
    "\n",
    "def find_num_news_citations(raw_article):\n",
    "    return raw_article.count(\"{{cite news\")\n",
    "\n",
    "def find_num_quotes(raw_article):\n",
    "    return raw_article.count(\"quote=\")\n",
    "\n",
    "def find_num_h3_headers(raw_article):\n",
    "    return raw_article.count(\"\\n===\")\n",
    "\n",
    "def find_num_internal_links(raw_article):\n",
    "    return (raw_article.count(\"[[\") // 2)\n",
    "\n",
    "def find_num_h2_headers(raw_article):\n",
    "    return (raw_article.count(\"\\n==\") - find_num_h3_headers(raw_article))"
   ]
  },
  {
   "cell_type": "code",
   "execution_count": null,
   "metadata": {
    "ExecuteTime": {
     "start_time": "2018-08-20T18:05:55.992Z"
    }
   },
   "outputs": [
    {
     "name": "stderr",
     "output_type": "stream",
     "text": [
      "/Users/austin/anaconda3/lib/python3.6/site-packages/ipykernel_launcher.py:1: SettingWithCopyWarning: \n",
      "A value is trying to be set on a copy of a slice from a DataFrame.\n",
      "Try using .loc[row_indexer,col_indexer] = value instead\n",
      "\n",
      "See the caveats in the documentation: http://pandas.pydata.org/pandas-docs/stable/indexing.html#indexing-view-versus-copy\n",
      "  \"\"\"Entry point for launching an IPython kernel.\n",
      "/Users/austin/anaconda3/lib/python3.6/site-packages/ipykernel_launcher.py:2: SettingWithCopyWarning: \n",
      "A value is trying to be set on a copy of a slice from a DataFrame.\n",
      "Try using .loc[row_indexer,col_indexer] = value instead\n",
      "\n",
      "See the caveats in the documentation: http://pandas.pydata.org/pandas-docs/stable/indexing.html#indexing-view-versus-copy\n",
      "  \n",
      "/Users/austin/anaconda3/lib/python3.6/site-packages/ipykernel_launcher.py:3: SettingWithCopyWarning: \n",
      "A value is trying to be set on a copy of a slice from a DataFrame.\n",
      "Try using .loc[row_indexer,col_indexer] = value instead\n",
      "\n",
      "See the caveats in the documentation: http://pandas.pydata.org/pandas-docs/stable/indexing.html#indexing-view-versus-copy\n",
      "  This is separate from the ipykernel package so we can avoid doing imports until\n",
      "/Users/austin/anaconda3/lib/python3.6/site-packages/ipykernel_launcher.py:4: SettingWithCopyWarning: \n",
      "A value is trying to be set on a copy of a slice from a DataFrame.\n",
      "Try using .loc[row_indexer,col_indexer] = value instead\n",
      "\n",
      "See the caveats in the documentation: http://pandas.pydata.org/pandas-docs/stable/indexing.html#indexing-view-versus-copy\n",
      "  after removing the cwd from sys.path.\n",
      "/Users/austin/anaconda3/lib/python3.6/site-packages/ipykernel_launcher.py:5: SettingWithCopyWarning: \n",
      "A value is trying to be set on a copy of a slice from a DataFrame.\n",
      "Try using .loc[row_indexer,col_indexer] = value instead\n",
      "\n",
      "See the caveats in the documentation: http://pandas.pydata.org/pandas-docs/stable/indexing.html#indexing-view-versus-copy\n",
      "  \"\"\"\n",
      "/Users/austin/anaconda3/lib/python3.6/site-packages/ipykernel_launcher.py:6: SettingWithCopyWarning: \n",
      "A value is trying to be set on a copy of a slice from a DataFrame.\n",
      "Try using .loc[row_indexer,col_indexer] = value instead\n",
      "\n",
      "See the caveats in the documentation: http://pandas.pydata.org/pandas-docs/stable/indexing.html#indexing-view-versus-copy\n",
      "  \n",
      "/Users/austin/anaconda3/lib/python3.6/site-packages/ipykernel_launcher.py:7: SettingWithCopyWarning: \n",
      "A value is trying to be set on a copy of a slice from a DataFrame.\n",
      "Try using .loc[row_indexer,col_indexer] = value instead\n",
      "\n",
      "See the caveats in the documentation: http://pandas.pydata.org/pandas-docs/stable/indexing.html#indexing-view-versus-copy\n",
      "  import sys\n",
      "/Users/austin/anaconda3/lib/python3.6/site-packages/ipykernel_launcher.py:8: SettingWithCopyWarning: \n",
      "A value is trying to be set on a copy of a slice from a DataFrame.\n",
      "Try using .loc[row_indexer,col_indexer] = value instead\n",
      "\n",
      "See the caveats in the documentation: http://pandas.pydata.org/pandas-docs/stable/indexing.html#indexing-view-versus-copy\n",
      "  \n",
      "/Users/austin/anaconda3/lib/python3.6/site-packages/ipykernel_launcher.py:9: SettingWithCopyWarning: \n",
      "A value is trying to be set on a copy of a slice from a DataFrame.\n",
      "Try using .loc[row_indexer,col_indexer] = value instead\n",
      "\n",
      "See the caveats in the documentation: http://pandas.pydata.org/pandas-docs/stable/indexing.html#indexing-view-versus-copy\n",
      "  if __name__ == '__main__':\n",
      "/Users/austin/anaconda3/lib/python3.6/site-packages/ipykernel_launcher.py:10: SettingWithCopyWarning: \n",
      "A value is trying to be set on a copy of a slice from a DataFrame.\n",
      "Try using .loc[row_indexer,col_indexer] = value instead\n",
      "\n",
      "See the caveats in the documentation: http://pandas.pydata.org/pandas-docs/stable/indexing.html#indexing-view-versus-copy\n",
      "  # Remove the CWD from sys.path while we load stuff.\n",
      "/Users/austin/anaconda3/lib/python3.6/site-packages/ipykernel_launcher.py:11: SettingWithCopyWarning: \n",
      "A value is trying to be set on a copy of a slice from a DataFrame.\n",
      "Try using .loc[row_indexer,col_indexer] = value instead\n",
      "\n",
      "See the caveats in the documentation: http://pandas.pydata.org/pandas-docs/stable/indexing.html#indexing-view-versus-copy\n",
      "  # This is added back by InteractiveShellApp.init_path()\n",
      "/Users/austin/anaconda3/lib/python3.6/site-packages/ipykernel_launcher.py:12: SettingWithCopyWarning: \n",
      "A value is trying to be set on a copy of a slice from a DataFrame.\n",
      "Try using .loc[row_indexer,col_indexer] = value instead\n",
      "\n",
      "See the caveats in the documentation: http://pandas.pydata.org/pandas-docs/stable/indexing.html#indexing-view-versus-copy\n",
      "  if sys.path[0] == '':\n",
      "/Users/austin/anaconda3/lib/python3.6/site-packages/ipykernel_launcher.py:13: SettingWithCopyWarning: \n",
      "A value is trying to be set on a copy of a slice from a DataFrame.\n",
      "Try using .loc[row_indexer,col_indexer] = value instead\n",
      "\n",
      "See the caveats in the documentation: http://pandas.pydata.org/pandas-docs/stable/indexing.html#indexing-view-versus-copy\n",
      "  del sys.path[0]\n",
      "/Users/austin/anaconda3/lib/python3.6/site-packages/ipykernel_launcher.py:14: SettingWithCopyWarning: \n",
      "A value is trying to be set on a copy of a slice from a DataFrame.\n",
      "Try using .loc[row_indexer,col_indexer] = value instead\n",
      "\n",
      "See the caveats in the documentation: http://pandas.pydata.org/pandas-docs/stable/indexing.html#indexing-view-versus-copy\n",
      "  \n"
     ]
    }
   ],
   "source": [
    "data1000['num_web_citations'] = data1000['text'].apply(find_num_web_citations)\n",
    "data1000['num_book_citations'] = data1000['text'].apply(find_num_book_citations)\n",
    "data1000['num_news_citations'] = data1000['text'].apply(find_num_news_citations)\n",
    "data1000['num_quotes'] = data1000['text'].apply(find_num_quotes)\n",
    "data1000['num_h3_headers'] = data1000['text'].apply(find_num_h3_headers)\n",
    "data1000['num_internal_links'] = data1000['text'].apply(find_num_internal_links)\n",
    "data1000['num_h2_headers'] = data1000['text'].apply(find_num_h2_headers)\n",
    "data1000['cleaned_text'] = data1000['text'].apply(clean_wiki_markup)\n",
    "data1000['has_infobox'] = data1000['text'].str.contains('{{Infobox').astype(int)\n",
    "data1000['num_categories'] = data1000['text'].apply(find_num_categories)\n",
    "data1000['num_images'] = data1000['text'].apply(find_num_images)\n",
    "data1000['num_ISBN'] = data1000['text'].apply(find_num_ISBN)\n",
    "data1000['num_references'] = data1000['text'].apply(find_num_references)\n",
    "data1000['article_length'] = data1000['text'].apply(find_article_length)\n",
    "data1000['num_difficult_words'] = data1000['cleaned_text'].apply(find_num_difficult_words)\n",
    "data1000['dale_chall_readability_score'] = data1000['cleaned_text'].apply(find_dale_chall_readability_score)\n",
    "data1000['readability_index'] = data1000['cleaned_text'].apply(find_automated_readability_index)\n",
    "data1000['linsear_write_formula'] = data1000['cleaned_text'].apply(find_linsear_write_formula)\n",
    "data1000['gunning_fog_index'] = data1000['cleaned_text'].apply(find_gunning_fog_index)\n",
    "data1000['smog_index'] = data1000['cleaned_text'].apply(find_smog_index)\n",
    "data1000['syllable_count'] = data1000['cleaned_text'].apply(find_syllable_count)\n",
    "data1000['lexicon_count'] = data1000['cleaned_text'].apply(find_lexicon_count)\n",
    "data1000['sentence_count'] = data1000['cleaned_text'].apply(find_sentence_count)"
   ]
  },
  {
   "cell_type": "code",
   "execution_count": null,
   "metadata": {
    "ExecuteTime": {
     "start_time": "2018-08-20T18:06:09.106Z"
    }
   },
   "outputs": [],
   "source": [
    "data1000.dropna(inplace=True)"
   ]
  },
  {
   "cell_type": "code",
   "execution_count": 157,
   "metadata": {
    "ExecuteTime": {
     "end_time": "2018-08-20T10:15:19.362905Z",
     "start_time": "2018-08-20T10:14:43.317635Z"
    }
   },
   "outputs": [],
   "source": [
    "# TfidfVectorizer\n",
    "\n",
    "import nltk\n",
    "from sklearn.feature_extraction.text import TfidfVectorizer\n",
    "\n",
    "vectorizer = TfidfVectorizer()\n",
    "\n",
    "## Fit Vectorizer\n",
    "\n",
    "vectorizer.fit(data1000['cleaned_text'])\n",
    "\n",
    "## Transform Vectorizer\n",
    "\n",
    "X_transformed = vectorizer.transform(data1000['cleaned_text'])\n",
    "\n",
    "tfidf_df = pd.DataFrame(X_transformed.todense())\n",
    "\n",
    "df1 = data1000.loc[:, ['has_infobox','num_categories','num_images','num_ISBN','num_references','article_length',\n",
    "                 'num_difficult_words','dale_chall_readability_score','readability_index','linsear_write_formula',\n",
    "                 'gunning_fog_index', 'num_web_citations','num_book_citations','num_news_citations',\n",
    "                'num_quotes','num_h3_headers','num_internal_links', 'num_h2_headers', 'syllable_count',\n",
    "                 'lexicon_count', 'sentence_count']]\n",
    "\n",
    "X = pd.concat([df1, tfidf_df], axis=1)\n",
    "\n",
    "y = data1000.label.values"
   ]
  },
  {
   "cell_type": "markdown",
   "metadata": {},
   "source": [
    "# Test/Train Split"
   ]
  },
  {
   "cell_type": "code",
   "execution_count": 143,
   "metadata": {
    "ExecuteTime": {
     "end_time": "2018-08-20T01:47:17.437134Z",
     "start_time": "2018-08-20T01:47:17.390075Z"
    }
   },
   "outputs": [],
   "source": [
    "df1 = data1000.loc[data1000['label'].isin(['fa','b','stub'])]\n",
    "y = df1.label.values\n",
    "df1 = df1.loc[:, ['has_infobox','num_categories','num_images','num_ISBN','num_references','article_length',\n",
    "                 'num_difficult_words','dale_chall_readability_score','readability_index','linsear_write_formula',\n",
    "                 'gunning_fog_index', 'num_web_citations','num_book_citations','num_news_citations',\n",
    "                'num_quotes','num_h3_headers','num_internal_links', 'num_h2_headers', 'syllable_count',\n",
    "                 'lexicon_count', 'sentence_count']]"
   ]
  },
  {
   "cell_type": "code",
   "execution_count": 158,
   "metadata": {
    "ExecuteTime": {
     "end_time": "2018-08-20T10:15:53.739205Z",
     "start_time": "2018-08-20T10:15:37.594371Z"
    }
   },
   "outputs": [
    {
     "ename": "ValueError",
     "evalue": "Found input variables with inconsistent numbers of samples: [3000, 2999]",
     "output_type": "error",
     "traceback": [
      "\u001b[0;31m---------------------------------------------------------------------------\u001b[0m",
      "\u001b[0;31mValueError\u001b[0m                                Traceback (most recent call last)",
      "\u001b[0;32m<ipython-input-158-4f87a088585a>\u001b[0m in \u001b[0;36m<module>\u001b[0;34m()\u001b[0m\n\u001b[0;32m----> 1\u001b[0;31m \u001b[0mX_train\u001b[0m\u001b[0;34m,\u001b[0m \u001b[0mX_test\u001b[0m\u001b[0;34m,\u001b[0m \u001b[0my_train\u001b[0m\u001b[0;34m,\u001b[0m \u001b[0my_test\u001b[0m \u001b[0;34m=\u001b[0m \u001b[0mtrain_test_split\u001b[0m\u001b[0;34m(\u001b[0m\u001b[0mX\u001b[0m\u001b[0;34m.\u001b[0m\u001b[0mvalues\u001b[0m\u001b[0;34m,\u001b[0m \u001b[0my\u001b[0m\u001b[0;34m,\u001b[0m \u001b[0mtest_size\u001b[0m\u001b[0;34m=\u001b[0m\u001b[0;36m0.20\u001b[0m\u001b[0;34m,\u001b[0m \u001b[0mrandom_state\u001b[0m\u001b[0;34m=\u001b[0m\u001b[0;36m910\u001b[0m\u001b[0;34m)\u001b[0m\u001b[0;34m\u001b[0m\u001b[0m\n\u001b[0m",
      "\u001b[0;32m~/anaconda3/lib/python3.6/site-packages/sklearn/model_selection/_split.py\u001b[0m in \u001b[0;36mtrain_test_split\u001b[0;34m(*arrays, **options)\u001b[0m\n\u001b[1;32m   2029\u001b[0m         \u001b[0mtest_size\u001b[0m \u001b[0;34m=\u001b[0m \u001b[0;36m0.25\u001b[0m\u001b[0;34m\u001b[0m\u001b[0m\n\u001b[1;32m   2030\u001b[0m \u001b[0;34m\u001b[0m\u001b[0m\n\u001b[0;32m-> 2031\u001b[0;31m     \u001b[0marrays\u001b[0m \u001b[0;34m=\u001b[0m \u001b[0mindexable\u001b[0m\u001b[0;34m(\u001b[0m\u001b[0;34m*\u001b[0m\u001b[0marrays\u001b[0m\u001b[0;34m)\u001b[0m\u001b[0;34m\u001b[0m\u001b[0m\n\u001b[0m\u001b[1;32m   2032\u001b[0m \u001b[0;34m\u001b[0m\u001b[0m\n\u001b[1;32m   2033\u001b[0m     \u001b[0;32mif\u001b[0m \u001b[0mshuffle\u001b[0m \u001b[0;32mis\u001b[0m \u001b[0;32mFalse\u001b[0m\u001b[0;34m:\u001b[0m\u001b[0;34m\u001b[0m\u001b[0m\n",
      "\u001b[0;32m~/anaconda3/lib/python3.6/site-packages/sklearn/utils/validation.py\u001b[0m in \u001b[0;36mindexable\u001b[0;34m(*iterables)\u001b[0m\n\u001b[1;32m    227\u001b[0m         \u001b[0;32melse\u001b[0m\u001b[0;34m:\u001b[0m\u001b[0;34m\u001b[0m\u001b[0m\n\u001b[1;32m    228\u001b[0m             \u001b[0mresult\u001b[0m\u001b[0;34m.\u001b[0m\u001b[0mappend\u001b[0m\u001b[0;34m(\u001b[0m\u001b[0mnp\u001b[0m\u001b[0;34m.\u001b[0m\u001b[0marray\u001b[0m\u001b[0;34m(\u001b[0m\u001b[0mX\u001b[0m\u001b[0;34m)\u001b[0m\u001b[0;34m)\u001b[0m\u001b[0;34m\u001b[0m\u001b[0m\n\u001b[0;32m--> 229\u001b[0;31m     \u001b[0mcheck_consistent_length\u001b[0m\u001b[0;34m(\u001b[0m\u001b[0;34m*\u001b[0m\u001b[0mresult\u001b[0m\u001b[0;34m)\u001b[0m\u001b[0;34m\u001b[0m\u001b[0m\n\u001b[0m\u001b[1;32m    230\u001b[0m     \u001b[0;32mreturn\u001b[0m \u001b[0mresult\u001b[0m\u001b[0;34m\u001b[0m\u001b[0m\n\u001b[1;32m    231\u001b[0m \u001b[0;34m\u001b[0m\u001b[0m\n",
      "\u001b[0;32m~/anaconda3/lib/python3.6/site-packages/sklearn/utils/validation.py\u001b[0m in \u001b[0;36mcheck_consistent_length\u001b[0;34m(*arrays)\u001b[0m\n\u001b[1;32m    202\u001b[0m     \u001b[0;32mif\u001b[0m \u001b[0mlen\u001b[0m\u001b[0;34m(\u001b[0m\u001b[0muniques\u001b[0m\u001b[0;34m)\u001b[0m \u001b[0;34m>\u001b[0m \u001b[0;36m1\u001b[0m\u001b[0;34m:\u001b[0m\u001b[0;34m\u001b[0m\u001b[0m\n\u001b[1;32m    203\u001b[0m         raise ValueError(\"Found input variables with inconsistent numbers of\"\n\u001b[0;32m--> 204\u001b[0;31m                          \" samples: %r\" % [int(l) for l in lengths])\n\u001b[0m\u001b[1;32m    205\u001b[0m \u001b[0;34m\u001b[0m\u001b[0m\n\u001b[1;32m    206\u001b[0m \u001b[0;34m\u001b[0m\u001b[0m\n",
      "\u001b[0;31mValueError\u001b[0m: Found input variables with inconsistent numbers of samples: [3000, 2999]"
     ]
    }
   ],
   "source": [
    "X_train, X_test, y_train, y_test = train_test_split(X.values, y, test_size=0.20, random_state=910)"
   ]
  },
  {
   "cell_type": "markdown",
   "metadata": {
    "ExecuteTime": {
     "end_time": "2018-08-19T00:05:36.406433Z",
     "start_time": "2018-08-19T00:05:36.367017Z"
    }
   },
   "source": [
    "# Random Forrest"
   ]
  },
  {
   "cell_type": "code",
   "execution_count": 145,
   "metadata": {
    "ExecuteTime": {
     "end_time": "2018-08-20T01:47:23.632056Z",
     "start_time": "2018-08-20T01:47:23.592966Z"
    }
   },
   "outputs": [],
   "source": [
    "clf = RandomForestClassifier(n_estimators=2000, random_state=910, )"
   ]
  },
  {
   "cell_type": "code",
   "execution_count": 146,
   "metadata": {
    "ExecuteTime": {
     "end_time": "2018-08-20T01:47:29.418646Z",
     "start_time": "2018-08-20T01:47:24.507317Z"
    }
   },
   "outputs": [
    {
     "data": {
      "text/plain": [
       "RandomForestClassifier(bootstrap=True, class_weight=None, criterion='gini',\n",
       "            max_depth=None, max_features='auto', max_leaf_nodes=None,\n",
       "            min_impurity_decrease=0.0, min_impurity_split=None,\n",
       "            min_samples_leaf=1, min_samples_split=2,\n",
       "            min_weight_fraction_leaf=0.0, n_estimators=2000, n_jobs=1,\n",
       "            oob_score=False, random_state=910, verbose=0, warm_start=False)"
      ]
     },
     "execution_count": 146,
     "metadata": {},
     "output_type": "execute_result"
    }
   ],
   "source": [
    "clf.fit(X_train, y_train)"
   ]
  },
  {
   "cell_type": "code",
   "execution_count": 147,
   "metadata": {
    "ExecuteTime": {
     "end_time": "2018-08-20T01:47:34.293012Z",
     "start_time": "2018-08-20T01:47:34.074778Z"
    }
   },
   "outputs": [],
   "source": [
    "predictions = clf.predict(X_test)"
   ]
  },
  {
   "cell_type": "code",
   "execution_count": 148,
   "metadata": {
    "ExecuteTime": {
     "end_time": "2018-08-20T01:47:36.342169Z",
     "start_time": "2018-08-20T01:47:36.297921Z"
    }
   },
   "outputs": [
    {
     "data": {
      "text/plain": [
       "0.8504983388704319"
      ]
     },
     "execution_count": 148,
     "metadata": {},
     "output_type": "execute_result"
    }
   ],
   "source": [
    "accuracy_score(y_test, predictions)"
   ]
  },
  {
   "cell_type": "code",
   "execution_count": 153,
   "metadata": {
    "ExecuteTime": {
     "end_time": "2018-08-20T10:12:06.406417Z",
     "start_time": "2018-08-20T10:12:06.255043Z"
    }
   },
   "outputs": [],
   "source": [
    "feature_importances = pd.DataFrame(clf.feature_importances_,\n",
    "                                   index = df1.columns,\n",
    "                                    columns=['importance']).sort_values('importance',                                                                 ascending=False)"
   ]
  },
  {
   "cell_type": "code",
   "execution_count": 154,
   "metadata": {
    "ExecuteTime": {
     "end_time": "2018-08-20T10:12:07.227855Z",
     "start_time": "2018-08-20T10:12:07.175878Z"
    }
   },
   "outputs": [
    {
     "data": {
      "text/html": [
       "<div>\n",
       "<style scoped>\n",
       "    .dataframe tbody tr th:only-of-type {\n",
       "        vertical-align: middle;\n",
       "    }\n",
       "\n",
       "    .dataframe tbody tr th {\n",
       "        vertical-align: top;\n",
       "    }\n",
       "\n",
       "    .dataframe thead th {\n",
       "        text-align: right;\n",
       "    }\n",
       "</style>\n",
       "<table border=\"1\" class=\"dataframe\">\n",
       "  <thead>\n",
       "    <tr style=\"text-align: right;\">\n",
       "      <th></th>\n",
       "      <th>importance</th>\n",
       "    </tr>\n",
       "  </thead>\n",
       "  <tbody>\n",
       "    <tr>\n",
       "      <th>article_length</th>\n",
       "      <td>0.140706</td>\n",
       "    </tr>\n",
       "    <tr>\n",
       "      <th>syllable_count</th>\n",
       "      <td>0.122803</td>\n",
       "    </tr>\n",
       "    <tr>\n",
       "      <th>lexicon_count</th>\n",
       "      <td>0.121088</td>\n",
       "    </tr>\n",
       "    <tr>\n",
       "      <th>num_difficult_words</th>\n",
       "      <td>0.101117</td>\n",
       "    </tr>\n",
       "    <tr>\n",
       "      <th>sentence_count</th>\n",
       "      <td>0.079604</td>\n",
       "    </tr>\n",
       "    <tr>\n",
       "      <th>num_references</th>\n",
       "      <td>0.078659</td>\n",
       "    </tr>\n",
       "    <tr>\n",
       "      <th>num_internal_links</th>\n",
       "      <td>0.062164</td>\n",
       "    </tr>\n",
       "    <tr>\n",
       "      <th>num_h2_headers</th>\n",
       "      <td>0.047499</td>\n",
       "    </tr>\n",
       "    <tr>\n",
       "      <th>dale_chall_readability_score</th>\n",
       "      <td>0.039493</td>\n",
       "    </tr>\n",
       "    <tr>\n",
       "      <th>gunning_fog_index</th>\n",
       "      <td>0.030601</td>\n",
       "    </tr>\n",
       "    <tr>\n",
       "      <th>linsear_write_formula</th>\n",
       "      <td>0.024507</td>\n",
       "    </tr>\n",
       "    <tr>\n",
       "      <th>num_h3_headers</th>\n",
       "      <td>0.024247</td>\n",
       "    </tr>\n",
       "    <tr>\n",
       "      <th>readability_index</th>\n",
       "      <td>0.023661</td>\n",
       "    </tr>\n",
       "    <tr>\n",
       "      <th>num_book_citations</th>\n",
       "      <td>0.020810</td>\n",
       "    </tr>\n",
       "    <tr>\n",
       "      <th>num_web_citations</th>\n",
       "      <td>0.019467</td>\n",
       "    </tr>\n",
       "    <tr>\n",
       "      <th>num_images</th>\n",
       "      <td>0.017543</td>\n",
       "    </tr>\n",
       "    <tr>\n",
       "      <th>num_categories</th>\n",
       "      <td>0.014821</td>\n",
       "    </tr>\n",
       "    <tr>\n",
       "      <th>num_ISBN</th>\n",
       "      <td>0.013586</td>\n",
       "    </tr>\n",
       "    <tr>\n",
       "      <th>num_news_citations</th>\n",
       "      <td>0.010128</td>\n",
       "    </tr>\n",
       "    <tr>\n",
       "      <th>num_quotes</th>\n",
       "      <td>0.004113</td>\n",
       "    </tr>\n",
       "    <tr>\n",
       "      <th>has_infobox</th>\n",
       "      <td>0.003382</td>\n",
       "    </tr>\n",
       "  </tbody>\n",
       "</table>\n",
       "</div>"
      ],
      "text/plain": [
       "                              importance\n",
       "article_length                  0.140706\n",
       "syllable_count                  0.122803\n",
       "lexicon_count                   0.121088\n",
       "num_difficult_words             0.101117\n",
       "sentence_count                  0.079604\n",
       "num_references                  0.078659\n",
       "num_internal_links              0.062164\n",
       "num_h2_headers                  0.047499\n",
       "dale_chall_readability_score    0.039493\n",
       "gunning_fog_index               0.030601\n",
       "linsear_write_formula           0.024507\n",
       "num_h3_headers                  0.024247\n",
       "readability_index               0.023661\n",
       "num_book_citations              0.020810\n",
       "num_web_citations               0.019467\n",
       "num_images                      0.017543\n",
       "num_categories                  0.014821\n",
       "num_ISBN                        0.013586\n",
       "num_news_citations              0.010128\n",
       "num_quotes                      0.004113\n",
       "has_infobox                     0.003382"
      ]
     },
     "execution_count": 154,
     "metadata": {},
     "output_type": "execute_result"
    }
   ],
   "source": [
    "feature_importances"
   ]
  },
  {
   "cell_type": "code",
   "execution_count": 287,
   "metadata": {
    "ExecuteTime": {
     "end_time": "2018-08-20T16:08:10.091284Z",
     "start_time": "2018-08-20T15:53:56.864312Z"
    }
   },
   "outputs": [],
   "source": [
    "data['cleaned_text'] = data['text'].apply(clean_wiki_markup)\n",
    "data['lexicon_count'] = data['cleaned_text'].apply(find_lexicon_count)\n",
    "data['sentence_count'] = data['cleaned_text'].apply(find_sentence_count)\n",
    "data['article_length'] = data['text'].apply(find_article_length)\n",
    "data['num_difficult_words'] = data['cleaned_text'].apply(find_num_difficult_words)"
   ]
  },
  {
   "cell_type": "code",
   "execution_count": 222,
   "metadata": {
    "ExecuteTime": {
     "end_time": "2018-08-20T12:09:50.222522Z",
     "start_time": "2018-08-20T12:09:49.402818Z"
    }
   },
   "outputs": [
    {
     "data": {
      "text/plain": [
       "(400001, 50)"
      ]
     },
     "execution_count": 222,
     "metadata": {},
     "output_type": "execute_result"
    }
   ],
   "source": [
    "from gensim.scripts.glove2word2vec import glove2word2vec\n",
    "glove_input_file = '../data/glove.6B.50d.txt'\n",
    "word2vec_output_file = 'glove.6B.50d.txt.word2vec'\n",
    "glove2word2vec(glove_input_file, word2vec_output_file)"
   ]
  },
  {
   "cell_type": "code",
   "execution_count": null,
   "metadata": {
    "ExecuteTime": {
     "end_time": "2018-08-20T12:11:18.930146Z",
     "start_time": "2018-08-20T12:10:59.507353Z"
    }
   },
   "outputs": [],
   "source": [
    "from gensim.models import KeyedVectors\n",
    "# load the Stanford GloVe model\n",
    "filename = 'glove.6B.50d.txt.word2vec'\n",
    "model = KeyedVectors.load_word2vec_format(filename, binary=False)"
   ]
  },
  {
   "cell_type": "code",
   "execution_count": 230,
   "metadata": {
    "ExecuteTime": {
     "end_time": "2018-08-20T12:16:11.960264Z",
     "start_time": "2018-08-20T12:16:11.910229Z"
    }
   },
   "outputs": [
    {
     "name": "stdout",
     "output_type": "stream",
     "text": [
      "[('queen', 0.8523603677749634)]\n"
     ]
    }
   ],
   "source": [
    "# calculate: (X - Z) + Y = ?\n",
    "#result = model.most_similar(positive=['Y', 'X'], negative=['Z'], topn=1)\n",
    "result = model.most_similar(positive=['woman', 'king'], negative=['man'], topn=1)\n",
    "print(result)"
   ]
  },
  {
   "cell_type": "code",
   "execution_count": 266,
   "metadata": {
    "ExecuteTime": {
     "end_time": "2018-08-20T12:39:52.852140Z",
     "start_time": "2018-08-20T12:39:52.796574Z"
    }
   },
   "outputs": [],
   "source": [
    "from collections import Counter\n",
    "article = Counter(wikicorpus.tokenize(data1000['cleaned_text'][0]))"
   ]
  },
  {
   "cell_type": "code",
   "execution_count": 263,
   "metadata": {
    "ExecuteTime": {
     "end_time": "2018-08-20T12:39:28.886033Z",
     "start_time": "2018-08-20T12:39:28.844459Z"
    }
   },
   "outputs": [],
   "source": [
    "from itertools import dropwhile\n",
    "for key, count in dropwhile(lambda key_count: key_count[1] >= 20, article.most_common()):\n",
    "    del article[key]"
   ]
  },
  {
   "cell_type": "code",
   "execution_count": 267,
   "metadata": {
    "ExecuteTime": {
     "end_time": "2018-08-20T12:39:57.631304Z",
     "start_time": "2018-08-20T12:39:57.594763Z"
    }
   },
   "outputs": [
    {
     "data": {
      "text/plain": [
       "Counter()"
      ]
     },
     "execution_count": 267,
     "metadata": {},
     "output_type": "execute_result"
    }
   ],
   "source": [
    "article2 - article"
   ]
  },
  {
   "cell_type": "code",
   "execution_count": null,
   "metadata": {},
   "outputs": [],
   "source": []
  }
 ],
 "metadata": {
  "kernelspec": {
   "display_name": "Python 3",
   "language": "python",
   "name": "python3"
  },
  "language_info": {
   "codemirror_mode": {
    "name": "ipython",
    "version": 3
   },
   "file_extension": ".py",
   "mimetype": "text/x-python",
   "name": "python",
   "nbconvert_exporter": "python",
   "pygments_lexer": "ipython3",
   "version": "3.6.5"
  }
 },
 "nbformat": 4,
 "nbformat_minor": 2
}
